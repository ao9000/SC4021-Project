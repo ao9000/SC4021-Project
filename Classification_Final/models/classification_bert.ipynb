{
 "cells": [
  {
   "cell_type": "code",
   "execution_count": 1,
   "metadata": {},
   "outputs": [
    {
     "name": "stderr",
     "output_type": "stream",
     "text": [
      "e:\\Anaconda\\envs\\cuda_test\\lib\\site-packages\\transformers\\utils\\generic.py:311: UserWarning: torch.utils._pytree._register_pytree_node is deprecated. Please use torch.utils._pytree.register_pytree_node instead.\n",
      "  torch.utils._pytree._register_pytree_node(\n",
      "e:\\Anaconda\\envs\\cuda_test\\lib\\site-packages\\transformers\\utils\\generic.py:311: UserWarning: torch.utils._pytree._register_pytree_node is deprecated. Please use torch.utils._pytree.register_pytree_node instead.\n",
      "  torch.utils._pytree._register_pytree_node(\n"
     ]
    }
   ],
   "source": [
    "from transformers import AutoModelForSequenceClassification\n",
    "from transformers import TFAutoModelForSequenceClassification\n",
    "from transformers import AutoTokenizer, AutoConfig\n",
    "import numpy as np\n",
    "import torch\n",
    "import pandas as pd\n",
    "import re\n",
    "import seaborn as sns\n",
    "import matplotlib.pyplot as plt\n",
    "\n",
    "from scipy.special import softmax\n",
    "from sklearn.metrics import precision_score, recall_score, f1_score, accuracy_score\n",
    "from transformers import AutoTokenizer, AutoModelForSequenceClassification\n",
    "from tqdm.auto import tqdm\n",
    "from sklearn.metrics import confusion_matrix\n",
    "from sklearn.metrics import precision_recall_fscore_support, classification_report, accuracy_score\n",
    "from transformers import BertTokenizer, BertForSequenceClassification, TrainingArguments, Trainer\n",
    "from sklearn.linear_model import LogisticRegression\n",
    "from sklearn.ensemble import RandomForestClassifier\n",
    "from sklearn.feature_extraction.text import TfidfVectorizer\n",
    "\n",
    "\n"
   ]
  },
  {
   "cell_type": "code",
   "execution_count": 2,
   "metadata": {},
   "outputs": [],
   "source": [
    "annotateddf = pd.read_csv('popular_comment_Bolt_annotate_Merged.csv')"
   ]
  },
  {
   "cell_type": "code",
   "execution_count": 3,
   "metadata": {},
   "outputs": [],
   "source": [
    "Bolt_predicted = pd.read_csv('popular_comment_Bolt.csv')"
   ]
  },
  {
   "cell_type": "code",
   "execution_count": 4,
   "metadata": {},
   "outputs": [
    {
     "name": "stdout",
     "output_type": "stream",
     "text": [
      "valid count:  1068\n"
     ]
    }
   ],
   "source": [
    "annotateddf['annotator_combined'] = np.where(annotateddf['annotator 1'] == annotateddf['annotator 2'], annotateddf['annotator 1'], np.nan)\n",
    "valid_count = annotateddf['annotator_combined'].count()\n",
    "print(\"valid count: \", valid_count)\n",
    "annotateddf.dropna(subset=['annotator_combined'], inplace=True)\n"
   ]
  },
  {
   "cell_type": "code",
   "execution_count": 5,
   "metadata": {},
   "outputs": [],
   "source": [
    "annotateddf['annotator_combined'] = annotateddf['annotator_combined'].astype(str)\n",
    "sentiment_mapping = {'-1.0': 'negative', '0.0': 'neutral', '1.0': 'positive'}\n",
    "\n",
    "annotateddf['annotator_combined'] = annotateddf['annotator_combined'].replace(sentiment_mapping)"
   ]
  },
  {
   "cell_type": "code",
   "execution_count": 6,
   "metadata": {},
   "outputs": [
    {
     "name": "stdout",
     "output_type": "stream",
     "text": [
      "remove 1: 150\n",
      "remove 2: 150\n"
     ]
    }
   ],
   "source": [
    "remove_count_1 = annotateddf['remove 1'].count()\n",
    "print(\"remove 1:\", remove_count_1)\n",
    "remove_count_2 = annotateddf['remove 2'].count()\n",
    "print(\"remove 2:\", remove_count_1)"
   ]
  },
  {
   "cell_type": "code",
   "execution_count": 7,
   "metadata": {},
   "outputs": [
    {
     "name": "stdout",
     "output_type": "stream",
     "text": [
      "common remove:  34\n"
     ]
    }
   ],
   "source": [
    "count_non_na = annotateddf[['remove 1', 'remove 2']].notna().all(axis=1).sum()\n",
    "print(\"common remove: \", count_non_na)"
   ]
  },
  {
   "cell_type": "code",
   "execution_count": 8,
   "metadata": {},
   "outputs": [
    {
     "name": "stdout",
     "output_type": "stream",
     "text": [
      "1034\n"
     ]
    }
   ],
   "source": [
    "annotateddf = annotateddf[annotateddf['remove 1'].isna() | annotateddf['remove 2'].isna()]\n",
    "print(len(annotateddf))"
   ]
  },
  {
   "cell_type": "code",
   "execution_count": 9,
   "metadata": {},
   "outputs": [],
   "source": [
    "annotation_df = annotateddf[[\"text\",\"annotator_combined\"]]"
   ]
  },
  {
   "cell_type": "code",
   "execution_count": 10,
   "metadata": {},
   "outputs": [
    {
     "data": {
      "text/html": [
       "<div>\n",
       "<style scoped>\n",
       "    .dataframe tbody tr th:only-of-type {\n",
       "        vertical-align: middle;\n",
       "    }\n",
       "\n",
       "    .dataframe tbody tr th {\n",
       "        vertical-align: top;\n",
       "    }\n",
       "\n",
       "    .dataframe thead th {\n",
       "        text-align: right;\n",
       "    }\n",
       "</style>\n",
       "<table border=\"1\" class=\"dataframe\">\n",
       "  <thead>\n",
       "    <tr style=\"text-align: right;\">\n",
       "      <th></th>\n",
       "      <th>text</th>\n",
       "      <th>score</th>\n",
       "      <th>neg_score</th>\n",
       "      <th>neu_score</th>\n",
       "      <th>pos_score</th>\n",
       "      <th>label</th>\n",
       "      <th>annotator 1</th>\n",
       "      <th>irony 1</th>\n",
       "      <th>remove 1</th>\n",
       "      <th>annotator 2</th>\n",
       "      <th>irony 2</th>\n",
       "      <th>remove 2</th>\n",
       "      <th>annotator_combined</th>\n",
       "    </tr>\n",
       "  </thead>\n",
       "  <tbody>\n",
       "    <tr>\n",
       "      <th>0</th>\n",
       "      <td>An Ultium based Bolt with NACS and faster char...</td>\n",
       "      <td>219</td>\n",
       "      <td>0.004940</td>\n",
       "      <td>0.088701</td>\n",
       "      <td>0.906359</td>\n",
       "      <td>positive</td>\n",
       "      <td>NaN</td>\n",
       "      <td>NaN</td>\n",
       "      <td>NaN</td>\n",
       "      <td>NaN</td>\n",
       "      <td>NaN</td>\n",
       "      <td>NaN</td>\n",
       "      <td>neutral</td>\n",
       "    </tr>\n",
       "    <tr>\n",
       "      <th>1</th>\n",
       "      <td>They had to have something smaller than the Eq...</td>\n",
       "      <td>141</td>\n",
       "      <td>0.378837</td>\n",
       "      <td>0.540830</td>\n",
       "      <td>0.080333</td>\n",
       "      <td>neutral</td>\n",
       "      <td>NaN</td>\n",
       "      <td>NaN</td>\n",
       "      <td>NaN</td>\n",
       "      <td>NaN</td>\n",
       "      <td>NaN</td>\n",
       "      <td>NaN</td>\n",
       "      <td>negative</td>\n",
       "    </tr>\n",
       "    <tr>\n",
       "      <th>2</th>\n",
       "      <td>Yes! I just came back to post this very same t...</td>\n",
       "      <td>55</td>\n",
       "      <td>0.003039</td>\n",
       "      <td>0.012690</td>\n",
       "      <td>0.984271</td>\n",
       "      <td>positive</td>\n",
       "      <td>NaN</td>\n",
       "      <td>NaN</td>\n",
       "      <td>NaN</td>\n",
       "      <td>NaN</td>\n",
       "      <td>NaN</td>\n",
       "      <td>NaN</td>\n",
       "      <td>positive</td>\n",
       "    </tr>\n",
       "    <tr>\n",
       "      <th>3</th>\n",
       "      <td>Yes!!! So excited! Was thinking I was going to...</td>\n",
       "      <td>52</td>\n",
       "      <td>0.017278</td>\n",
       "      <td>0.055458</td>\n",
       "      <td>0.927264</td>\n",
       "      <td>positive</td>\n",
       "      <td>NaN</td>\n",
       "      <td>NaN</td>\n",
       "      <td>NaN</td>\n",
       "      <td>NaN</td>\n",
       "      <td>NaN</td>\n",
       "      <td>NaN</td>\n",
       "      <td>positive</td>\n",
       "    </tr>\n",
       "    <tr>\n",
       "      <th>4</th>\n",
       "      <td>Interesting that they dropped the EV/EUV namep...</td>\n",
       "      <td>21</td>\n",
       "      <td>0.032266</td>\n",
       "      <td>0.881413</td>\n",
       "      <td>0.086321</td>\n",
       "      <td>neutral</td>\n",
       "      <td>NaN</td>\n",
       "      <td>NaN</td>\n",
       "      <td>NaN</td>\n",
       "      <td>NaN</td>\n",
       "      <td>NaN</td>\n",
       "      <td>NaN</td>\n",
       "      <td>neutral</td>\n",
       "    </tr>\n",
       "  </tbody>\n",
       "</table>\n",
       "</div>"
      ],
      "text/plain": [
       "                                                text  score  neg_score  \\\n",
       "0  An Ultium based Bolt with NACS and faster char...    219   0.004940   \n",
       "1  They had to have something smaller than the Eq...    141   0.378837   \n",
       "2  Yes! I just came back to post this very same t...     55   0.003039   \n",
       "3  Yes!!! So excited! Was thinking I was going to...     52   0.017278   \n",
       "4  Interesting that they dropped the EV/EUV namep...     21   0.032266   \n",
       "\n",
       "   neu_score  pos_score     label  annotator 1  irony 1  remove 1  \\\n",
       "0   0.088701   0.906359  positive          NaN      NaN       NaN   \n",
       "1   0.540830   0.080333   neutral          NaN      NaN       NaN   \n",
       "2   0.012690   0.984271  positive          NaN      NaN       NaN   \n",
       "3   0.055458   0.927264  positive          NaN      NaN       NaN   \n",
       "4   0.881413   0.086321   neutral          NaN      NaN       NaN   \n",
       "\n",
       "   annotator 2  irony 2  remove 2 annotator_combined  \n",
       "0          NaN      NaN       NaN            neutral  \n",
       "1          NaN      NaN       NaN           negative  \n",
       "2          NaN      NaN       NaN           positive  \n",
       "3          NaN      NaN       NaN           positive  \n",
       "4          NaN      NaN       NaN            neutral  "
      ]
     },
     "execution_count": 10,
     "metadata": {},
     "output_type": "execute_result"
    }
   ],
   "source": [
    "merged_df = pd.merge(Bolt_predicted, annotation_df, on='text', how='inner')\n",
    "merged_df.head()"
   ]
  },
  {
   "cell_type": "code",
   "execution_count": 11,
   "metadata": {},
   "outputs": [
    {
     "name": "stdout",
     "output_type": "stream",
     "text": [
      "Accuracy: 0.8191489361702128\n",
      "Precision: 0.8217577552345009\n",
      "Recall: 0.8191489361702128\n",
      "F1 Score: 0.8198113471835082\n"
     ]
    }
   ],
   "source": [
    "accuracy = accuracy_score(merged_df['annotator_combined'], merged_df['label'])\n",
    "precision = precision_score(merged_df['annotator_combined'], merged_df['label'], average='weighted')\n",
    "recall = recall_score(merged_df['annotator_combined'], merged_df['label'], average='weighted')\n",
    "f1 = f1_score(merged_df['annotator_combined'], merged_df['label'], average='weighted')\n",
    "\n",
    "print(\"Accuracy:\", accuracy)\n",
    "print(\"Precision:\", precision)\n",
    "print(\"Recall:\", recall)\n",
    "print(\"F1 Score:\", f1)"
   ]
  },
  {
   "cell_type": "code",
   "execution_count": 12,
   "metadata": {},
   "outputs": [
    {
     "name": "stdout",
     "output_type": "stream",
     "text": [
      "Accuracy: 0.8191489361702128\n",
      "Precision: 0.8191489361702128\n",
      "Recall: 0.8191489361702128\n",
      "F1 Score: 0.8191489361702128\n"
     ]
    }
   ],
   "source": [
    "accuracy = accuracy_score(merged_df['annotator_combined'], merged_df['label'])\n",
    "precision = precision_score(merged_df['annotator_combined'], merged_df['label'], average='micro')\n",
    "recall = recall_score(merged_df['annotator_combined'], merged_df['label'], average='micro')\n",
    "f1 = f1_score(merged_df['annotator_combined'], merged_df['label'], average='micro')\n",
    "\n",
    "print(\"Accuracy:\", accuracy)\n",
    "print(\"Precision:\", precision)\n",
    "print(\"Recall:\", recall)\n",
    "print(\"F1 Score:\", f1)\n",
    "\n"
   ]
  },
  {
   "cell_type": "code",
   "execution_count": 13,
   "metadata": {},
   "outputs": [],
   "source": [
    "# Load the tokenizer and model from Hugging Face\n",
    "model_name = \"MarieAngeA13/Sentiment-Analysis-BERT\"\n",
    "tokenizer = AutoTokenizer.from_pretrained(model_name)\n",
    "model = AutoModelForSequenceClassification.from_pretrained(model_name)"
   ]
  },
  {
   "cell_type": "code",
   "execution_count": 14,
   "metadata": {},
   "outputs": [],
   "source": [
    "text_list = merged_df['text'].tolist()\n"
   ]
  },
  {
   "cell_type": "code",
   "execution_count": 15,
   "metadata": {},
   "outputs": [
    {
     "data": {
      "text/plain": [
       "1034"
      ]
     },
     "execution_count": 15,
     "metadata": {},
     "output_type": "execute_result"
    }
   ],
   "source": [
    "len(text_list)\n"
   ]
  },
  {
   "cell_type": "code",
   "execution_count": 16,
   "metadata": {},
   "outputs": [
    {
     "name": "stderr",
     "output_type": "stream",
     "text": [
      "Predicting Sentiment: 100%|██████████| 49359/49359 [08:47<00:00, 93.59it/s] \n"
     ]
    },
    {
     "name": "stdout",
     "output_type": "stream",
     "text": [
      "                                                    text sentiment_pred_bert\n",
      "0      My reward for finally finishing my bachelor’s ...            positive\n",
      "1                                             100k miles             neutral\n",
      "2                          Rabbit stowage area on the i3             neutral\n",
      "3       Picked her up straight from the source in Munich             neutral\n",
      "4             Picked up this little gem over the weekend             neutral\n",
      "...                                                  ...                 ...\n",
      "49354                                         Fake Email             neutral\n",
      "49355                                               fake             neutral\n",
      "49356  Looks fake. Why would you have to block Elon’s...            negative\n",
      "49357  That’s an email sent to execs though. It doesn...             neutral\n",
      "49358  If it's real I'm fine with it. Email looks lik...            positive\n",
      "\n",
      "[49359 rows x 2 columns]\n"
     ]
    }
   ],
   "source": [
    "# candidate_labels = ['positive', 'neutral', 'negative']\n",
    "# result = model(text_list, candidate_labels)\n",
    "import torch\n",
    "from tqdm import tqdm\n",
    "\n",
    "all_df = pd.read_csv('cleaned_combined_data.csv')\n",
    "device = torch.device(\"cuda\" if torch.cuda.is_available() else \"cpu\")\n",
    "model.to(device)\n",
    "\n",
    "def sentiment_prediction(df, text_column):\n",
    "    predictions = []\n",
    "\n",
    "    for text in tqdm(df[text_column], desc=\"Predicting Sentiment\", total=len(df)):\n",
    "        # Tokenize and encode the text\n",
    "        encoded_input = tokenizer(text, return_tensors='pt', truncation=True, max_length=512, padding=True)\n",
    "\n",
    "        # Send encoded inputs to the device\n",
    "        encoded_input = {key: value.to(device) for key, value in encoded_input.items()}\n",
    "\n",
    "        # Model inference\n",
    "        with torch.no_grad():\n",
    "            output = model(**encoded_input)\n",
    "\n",
    "        # Move the prediction back to CPU and convert to numpy\n",
    "        prediction = torch.argmax(output.logits, dim=1).cpu().numpy()[0]\n",
    "        predictions.append(prediction)\n",
    "\n",
    "    return predictions\n",
    "\n",
    "# Assuming you have a DataFrame 'merged_df' and a column 'text' that contains the text\n",
    "# Add a new column for sentiment predictions\n",
    "all_df['sentiment_pred_bert'] = sentiment_prediction(all_df, 'text')\n",
    "\n",
    "# Mapping the predicted indexes to actual sentiment labels\n",
    "sentiment_labels = {0: 'negative', 1: 'neutral', 2: 'positive'}  # Replace with the correct mapping\n",
    "all_df['sentiment_pred_bert'] = all_df['sentiment_pred_bert'].map(sentiment_labels)\n",
    "\n",
    "# Now 'merged_df' has a new column 'sentiment_prediction' with the sentiment labels\n",
    "print(all_df[['text', 'sentiment_pred_bert']])"
   ]
  },
  {
   "cell_type": "code",
   "execution_count": 18,
   "metadata": {},
   "outputs": [
    {
     "data": {
      "text/html": [
       "<div>\n",
       "<style scoped>\n",
       "    .dataframe tbody tr th:only-of-type {\n",
       "        vertical-align: middle;\n",
       "    }\n",
       "\n",
       "    .dataframe tbody tr th {\n",
       "        vertical-align: top;\n",
       "    }\n",
       "\n",
       "    .dataframe thead th {\n",
       "        text-align: right;\n",
       "    }\n",
       "</style>\n",
       "<table border=\"1\" class=\"dataframe\">\n",
       "  <thead>\n",
       "    <tr style=\"text-align: right;\">\n",
       "      <th></th>\n",
       "      <th>text</th>\n",
       "      <th>sentiment_pred_bert</th>\n",
       "    </tr>\n",
       "  </thead>\n",
       "  <tbody>\n",
       "    <tr>\n",
       "      <th>0</th>\n",
       "      <td>My reward for finally finishing my bachelor’s ...</td>\n",
       "      <td>positive</td>\n",
       "    </tr>\n",
       "    <tr>\n",
       "      <th>1</th>\n",
       "      <td>100k miles</td>\n",
       "      <td>neutral</td>\n",
       "    </tr>\n",
       "    <tr>\n",
       "      <th>2</th>\n",
       "      <td>Rabbit stowage area on the i3</td>\n",
       "      <td>neutral</td>\n",
       "    </tr>\n",
       "    <tr>\n",
       "      <th>3</th>\n",
       "      <td>Picked her up straight from the source in Munich</td>\n",
       "      <td>neutral</td>\n",
       "    </tr>\n",
       "    <tr>\n",
       "      <th>4</th>\n",
       "      <td>Picked up this little gem over the weekend</td>\n",
       "      <td>neutral</td>\n",
       "    </tr>\n",
       "    <tr>\n",
       "      <th>...</th>\n",
       "      <td>...</td>\n",
       "      <td>...</td>\n",
       "    </tr>\n",
       "    <tr>\n",
       "      <th>49354</th>\n",
       "      <td>Fake Email</td>\n",
       "      <td>neutral</td>\n",
       "    </tr>\n",
       "    <tr>\n",
       "      <th>49355</th>\n",
       "      <td>fake</td>\n",
       "      <td>neutral</td>\n",
       "    </tr>\n",
       "    <tr>\n",
       "      <th>49356</th>\n",
       "      <td>Looks fake. Why would you have to block Elon’s...</td>\n",
       "      <td>negative</td>\n",
       "    </tr>\n",
       "    <tr>\n",
       "      <th>49357</th>\n",
       "      <td>That’s an email sent to execs though. It doesn...</td>\n",
       "      <td>neutral</td>\n",
       "    </tr>\n",
       "    <tr>\n",
       "      <th>49358</th>\n",
       "      <td>If it's real I'm fine with it. Email looks lik...</td>\n",
       "      <td>positive</td>\n",
       "    </tr>\n",
       "  </tbody>\n",
       "</table>\n",
       "<p>49359 rows × 2 columns</p>\n",
       "</div>"
      ],
      "text/plain": [
       "                                                    text sentiment_pred_bert\n",
       "0      My reward for finally finishing my bachelor’s ...            positive\n",
       "1                                             100k miles             neutral\n",
       "2                          Rabbit stowage area on the i3             neutral\n",
       "3       Picked her up straight from the source in Munich             neutral\n",
       "4             Picked up this little gem over the weekend             neutral\n",
       "...                                                  ...                 ...\n",
       "49354                                         Fake Email             neutral\n",
       "49355                                               fake             neutral\n",
       "49356  Looks fake. Why would you have to block Elon’s...            negative\n",
       "49357  That’s an email sent to execs though. It doesn...             neutral\n",
       "49358  If it's real I'm fine with it. Email looks lik...            positive\n",
       "\n",
       "[49359 rows x 2 columns]"
      ]
     },
     "execution_count": 18,
     "metadata": {},
     "output_type": "execute_result"
    }
   ],
   "source": [
    "all_df = all_df[['text','sentiment_pred_bert']]\n",
    "all_df"
   ]
  },
  {
   "cell_type": "code",
   "execution_count": 19,
   "metadata": {},
   "outputs": [],
   "source": [
    "\n",
    "all_df.to_csv(\"sentiment_pred_bert_pretrain_and_annotator_all_comments.csv\",index=False, encoding='utf-8')\n",
    "all_df = pd.merge(annotateddf, all_df, on='text', how='inner')\n",
    "all_df\n",
    "all_df.to_csv(\"sentiment_pred_bert_pretrain_and_annotator.csv\",index=False, encoding='utf-8')"
   ]
  },
  {
   "cell_type": "code",
   "execution_count": 20,
   "metadata": {},
   "outputs": [
    {
     "name": "stdout",
     "output_type": "stream",
     "text": [
      "Accuracy: 0.6334622823984526\n",
      "Precision: 0.653317965273476\n",
      "Recall: 0.6334622823984526\n",
      "F1 Score: 0.6340417897349012\n"
     ]
    },
    {
     "data": {
      "image/png": "[encoded data removed]",
      "text/plain": [
       "<Figure size 1000x700 with 2 Axes>"
      ]
     },
     "metadata": {},
     "output_type": "display_data"
    },
    {
     "name": "stdout",
     "output_type": "stream",
     "text": [
      "              precision    recall  f1-score   support\n",
      "\n",
      "    negative       0.72      0.51      0.60       333\n",
      "     neutral       0.53      0.69      0.60       350\n",
      "    positive       0.72      0.70      0.71       351\n",
      "\n",
      "    accuracy                           0.63      1034\n",
      "   macro avg       0.65      0.63      0.63      1034\n",
      "weighted avg       0.65      0.63      0.63      1034\n",
      "\n"
     ]
    }
   ],
   "source": [
    "merged_df = all_df\n",
    "accuracy = accuracy_score(merged_df['annotator_combined'], merged_df['sentiment_pred_bert'])\n",
    "precision = precision_score(merged_df['annotator_combined'], merged_df['sentiment_pred_bert'], average='weighted')\n",
    "recall = recall_score(merged_df['annotator_combined'], merged_df['sentiment_pred_bert'], average='weighted')\n",
    "f1 = f1_score(merged_df['annotator_combined'], merged_df['sentiment_pred_bert'], average='weighted')\n",
    "\n",
    "print(\"Accuracy:\", accuracy)\n",
    "print(\"Precision:\", precision)\n",
    "print(\"Recall:\", recall)\n",
    "print(\"F1 Score:\", f1)\n",
    "\n",
    "# Calculate the confusion matrix\n",
    "cm = confusion_matrix(merged_df['annotator_combined'], merged_df['sentiment_pred_bert'])\n",
    "\n",
    "# Create a heatmap from the confusion matrix\n",
    "plt.figure(figsize=(10, 7))\n",
    "sns.heatmap(cm, annot=True, fmt='d', cmap='viridis', xticklabels=True, yticklabels=True)\n",
    "plt.title('Heatmap of Actual vs. Predicted Sentiments')\n",
    "plt.xlabel('Predicted')\n",
    "plt.ylabel('Actual')\n",
    "plt.show()\n",
    "\n",
    "sentiment_labels = {0: 'negative', 1: 'neutral', 2: 'positive'}\n",
    "print(classification_report(merged_df['annotator_combined'], merged_df['sentiment_pred_bert'], target_names=sentiment_labels.values()))"
   ]
  },
  {
   "cell_type": "code",
   "execution_count": 21,
   "metadata": {},
   "outputs": [
    {
     "data": {
      "image/png": "[encoded data removed]",
      "text/plain": [
       "<Figure size 640x480 with 1 Axes>"
      ]
     },
     "metadata": {},
     "output_type": "display_data"
    }
   ],
   "source": [
    "\n",
    "from sklearn.metrics import roc_curve, precision_recall_curve\n",
    "from sklearn.preprocessing import label_binarize\n",
    "from sklearn.metrics import auc\n",
    "\n",
    "labels = merged_df['annotator_combined']\n",
    "classes = ['negative', 'neutral', 'positive']\n",
    "y_true = label_binarize(labels, classes=classes)\n",
    "\n",
    "# Assuming 'positive' class is considered as the positive class\n",
    "# Convert sentiment scores to binary predictions\n",
    "predicted_scores = merged_df['sentiment_pred_bert']\n",
    "y_score = label_binarize(predicted_scores, classes=classes)\n",
    "n_classes = len(classes)\n",
    "\n",
    "# Compute ROC curve and ROC area for each class\n",
    "fpr = dict()\n",
    "tpr = dict()\n",
    "roc_auc = dict()\n",
    "for i in range(n_classes):\n",
    "    fpr[i], tpr[i], _ = roc_curve(y_true[:, i], y_score[:, i])\n",
    "    roc_auc[i] = auc(fpr[i], tpr[i])\n",
    "\n",
    "plt.figure()\n",
    "for i, class_name in enumerate(classes):\n",
    "    plt.plot(fpr[i], tpr[i], lw=2, label='%s (AUC = %0.2f)' % (class_name, roc_auc[i]))\n",
    "\n",
    "plt.plot([0, 1], [0, 1], color='navy', lw=2, linestyle='--')\n",
    "plt.xlim([0.0, 1.0])\n",
    "plt.ylim([0.0, 1.05])\n",
    "plt.xlabel('False Positive Rate')\n",
    "plt.ylabel('True Positive Rate')\n",
    "plt.title('Receiver Operating Characteristic (ROC)')\n",
    "plt.legend(loc=\"lower right\")\n",
    "plt.show()"
   ]
  }
 ],
 "metadata": {
  "kernelspec": {
   "display_name": "cuda_test",
   "language": "python",
   "name": "python3"
  },
  "language_info": {
   "codemirror_mode": {
    "name": "ipython",
    "version": 3
   },
   "file_extension": ".py",
   "mimetype": "text/x-python",
   "name": "python",
   "nbconvert_exporter": "python",
   "pygments_lexer": "ipython3",
   "version": "3.8.19"
  }
 },
 "nbformat": 4,
 "nbformat_minor": 2
}
