{
 "cells": [
  {
   "cell_type": "markdown",
   "source": [
    "# Do basic preprocessing & Cleaning before ingesting data into Solr\n",
    "## Load data"
   ],
   "metadata": {
    "collapsed": false
   },
   "id": "4b41efe70f161cf1"
  },
  {
   "cell_type": "code",
   "outputs": [],
   "source": [
    "import pandas as pd\n",
    "\n",
    "# Load all-comments and all-posts csv\n",
    "data_dir = 'data_backup'\n",
    "\n",
    "comments_df = pd.read_csv(f'{data_dir}/all-comments.csv')\n",
    "posts_df = pd.read_csv(f'{data_dir}/all-posts.csv')"
   ],
   "metadata": {
    "collapsed": false,
    "ExecuteTime": {
     "end_time": "2024-03-21T10:10:39.703348Z",
     "start_time": "2024-03-21T10:10:38.693857Z"
    }
   },
   "id": "c4bd956941454872",
   "execution_count": 1
  },
  {
   "cell_type": "code",
   "outputs": [
    {
     "data": {
      "text/plain": "        author author_flair_text  clicked   created_utc distinguished  edited  \\\n0    [deleted]               NaN      NaN  1.648494e+09           NaN     NaN   \n1      nguit98               NaN      NaN  1.708648e+09           NaN     NaN   \n2   labdweller            i3 BEV      NaN  1.678789e+09           NaN     NaN   \n3  toteratte21               NaN      NaN  1.685004e+09           NaN     NaN   \n4     azscram9               NaN      NaN  1.684690e+09           NaN     NaN   \n\n        id  is_original_content is_self link_flair_text  ... over_18  \\\n0   tqghan                  NaN     NaN             NaN  ...     NaN   \n1  1axmm77                  NaN     NaN             NaN  ...     NaN   \n2  11r2bh2                  NaN     NaN             NaN  ...     NaN   \n3  13rc663                  NaN     NaN             NaN  ...     NaN   \n4  13o1009                  NaN     NaN             NaN  ...     NaN   \n\n                                           permalink  saved  score  \\\n0  /r/BMWi3/comments/tqghan/my_reward_for_finally...    NaN  224.0   \n1              /r/BMWi3/comments/1axmm77/100k_miles/    NaN  200.0   \n2  /r/BMWi3/comments/11r2bh2/rabbit_stowage_area_...    NaN  185.0   \n3  /r/BMWi3/comments/13rc663/picked_her_up_straig...    NaN  174.0   \n4  /r/BMWi3/comments/13o1009/picked_up_this_littl...    NaN  167.0   \n\n                                            selftext  spoiler  stickied  \\\n0                                                NaN      NaN       NaN   \n1  I finally passed the 100k mile mark on my 2015...      NaN       NaN   \n2                                                NaN      NaN       NaN   \n3  2020 i3s, dark brown leather and light wood.\\n...      NaN       NaN   \n4  First time owner and first car I’ve owned in 1...      NaN       NaN   \n\n                                               title  upvote_ratio  \\\n0  My reward for finally finishing my bachelor’s ...          0.98   \n1                                         100k miles          0.98   \n2                      Rabbit stowage area on the i3          0.99   \n3   Picked her up straight from the source in Munich          0.99   \n4         Picked up this little gem over the weekend          0.96   \n\n                                    url  \n0   https://i.redd.it/qs3elzcr86q81.jpg  \n1  https://i.redd.it/z4v99nrfb8kc1.jpeg  \n2   https://i.redd.it/yewt745fjona1.jpg  \n3       https://i.imgur.com/7jTu2dR.jpg  \n4   https://i.redd.it/w4ilz2ygh91b1.jpg  \n\n[5 rows x 23 columns]",
      "text/html": "<div>\n<style scoped>\n    .dataframe tbody tr th:only-of-type {\n        vertical-align: middle;\n    }\n\n    .dataframe tbody tr th {\n        vertical-align: top;\n    }\n\n    .dataframe thead th {\n        text-align: right;\n    }\n</style>\n<table border=\"1\" class=\"dataframe\">\n  <thead>\n    <tr style=\"text-align: right;\">\n      <th></th>\n      <th>author</th>\n      <th>author_flair_text</th>\n      <th>clicked</th>\n      <th>created_utc</th>\n      <th>distinguished</th>\n      <th>edited</th>\n      <th>id</th>\n      <th>is_original_content</th>\n      <th>is_self</th>\n      <th>link_flair_text</th>\n      <th>...</th>\n      <th>over_18</th>\n      <th>permalink</th>\n      <th>saved</th>\n      <th>score</th>\n      <th>selftext</th>\n      <th>spoiler</th>\n      <th>stickied</th>\n      <th>title</th>\n      <th>upvote_ratio</th>\n      <th>url</th>\n    </tr>\n  </thead>\n  <tbody>\n    <tr>\n      <th>0</th>\n      <td>[deleted]</td>\n      <td>NaN</td>\n      <td>NaN</td>\n      <td>1.648494e+09</td>\n      <td>NaN</td>\n      <td>NaN</td>\n      <td>tqghan</td>\n      <td>NaN</td>\n      <td>NaN</td>\n      <td>NaN</td>\n      <td>...</td>\n      <td>NaN</td>\n      <td>/r/BMWi3/comments/tqghan/my_reward_for_finally...</td>\n      <td>NaN</td>\n      <td>224.0</td>\n      <td>NaN</td>\n      <td>NaN</td>\n      <td>NaN</td>\n      <td>My reward for finally finishing my bachelor’s ...</td>\n      <td>0.98</td>\n      <td>https://i.redd.it/qs3elzcr86q81.jpg</td>\n    </tr>\n    <tr>\n      <th>1</th>\n      <td>nguit98</td>\n      <td>NaN</td>\n      <td>NaN</td>\n      <td>1.708648e+09</td>\n      <td>NaN</td>\n      <td>NaN</td>\n      <td>1axmm77</td>\n      <td>NaN</td>\n      <td>NaN</td>\n      <td>NaN</td>\n      <td>...</td>\n      <td>NaN</td>\n      <td>/r/BMWi3/comments/1axmm77/100k_miles/</td>\n      <td>NaN</td>\n      <td>200.0</td>\n      <td>I finally passed the 100k mile mark on my 2015...</td>\n      <td>NaN</td>\n      <td>NaN</td>\n      <td>100k miles</td>\n      <td>0.98</td>\n      <td>https://i.redd.it/z4v99nrfb8kc1.jpeg</td>\n    </tr>\n    <tr>\n      <th>2</th>\n      <td>labdweller</td>\n      <td>i3 BEV</td>\n      <td>NaN</td>\n      <td>1.678789e+09</td>\n      <td>NaN</td>\n      <td>NaN</td>\n      <td>11r2bh2</td>\n      <td>NaN</td>\n      <td>NaN</td>\n      <td>NaN</td>\n      <td>...</td>\n      <td>NaN</td>\n      <td>/r/BMWi3/comments/11r2bh2/rabbit_stowage_area_...</td>\n      <td>NaN</td>\n      <td>185.0</td>\n      <td>NaN</td>\n      <td>NaN</td>\n      <td>NaN</td>\n      <td>Rabbit stowage area on the i3</td>\n      <td>0.99</td>\n      <td>https://i.redd.it/yewt745fjona1.jpg</td>\n    </tr>\n    <tr>\n      <th>3</th>\n      <td>toteratte21</td>\n      <td>NaN</td>\n      <td>NaN</td>\n      <td>1.685004e+09</td>\n      <td>NaN</td>\n      <td>NaN</td>\n      <td>13rc663</td>\n      <td>NaN</td>\n      <td>NaN</td>\n      <td>NaN</td>\n      <td>...</td>\n      <td>NaN</td>\n      <td>/r/BMWi3/comments/13rc663/picked_her_up_straig...</td>\n      <td>NaN</td>\n      <td>174.0</td>\n      <td>2020 i3s, dark brown leather and light wood.\\n...</td>\n      <td>NaN</td>\n      <td>NaN</td>\n      <td>Picked her up straight from the source in Munich</td>\n      <td>0.99</td>\n      <td>https://i.imgur.com/7jTu2dR.jpg</td>\n    </tr>\n    <tr>\n      <th>4</th>\n      <td>azscram9</td>\n      <td>NaN</td>\n      <td>NaN</td>\n      <td>1.684690e+09</td>\n      <td>NaN</td>\n      <td>NaN</td>\n      <td>13o1009</td>\n      <td>NaN</td>\n      <td>NaN</td>\n      <td>NaN</td>\n      <td>...</td>\n      <td>NaN</td>\n      <td>/r/BMWi3/comments/13o1009/picked_up_this_littl...</td>\n      <td>NaN</td>\n      <td>167.0</td>\n      <td>First time owner and first car I’ve owned in 1...</td>\n      <td>NaN</td>\n      <td>NaN</td>\n      <td>Picked up this little gem over the weekend</td>\n      <td>0.96</td>\n      <td>https://i.redd.it/w4ilz2ygh91b1.jpg</td>\n    </tr>\n  </tbody>\n</table>\n<p>5 rows × 23 columns</p>\n</div>"
     },
     "execution_count": 2,
     "metadata": {},
     "output_type": "execute_result"
    }
   ],
   "source": [
    "posts_df.head()"
   ],
   "metadata": {
    "collapsed": false,
    "ExecuteTime": {
     "end_time": "2024-03-21T10:10:39.725583Z",
     "start_time": "2024-03-21T10:10:39.704350Z"
    }
   },
   "id": "a271871f633ffb29",
   "execution_count": 2
  },
  {
   "cell_type": "code",
   "outputs": [
    {
     "data": {
      "text/plain": "                                                body  \\\n0  Congrats on both!  Glad I'm not the only who w...   \n1  Congrats! That is one impressive reward! This ...   \n2              Congratulations!!! It’s beautiful !!!   \n3  Congratulations! That's a fantastic car for a ...   \n4           Welcome to the family!  Congratulations.   \n\n                                           body_html   created_utc  \\\n0  <div class=\"md\"><p>Congrats on both!  Glad I&#...  1.648494e+09   \n1  <div class=\"md\"><p>Congrats! That is one impre...  1.648494e+09   \n2  <div class=\"md\"><p>Congratulations!!! It’s bea...  1.648504e+09   \n3  <div class=\"md\"><p>Congratulations! That&#39;s...  1.648504e+09   \n4  <div class=\"md\"><p>Welcome to the family!  Con...  1.648509e+09   \n\n  distinguished  edited       id is_submitter    link_id  parent_id  \\\n0           NaN     NaN  i2h01oy          NaN  t3_tqghan  t3_tqghan   \n1           NaN     NaN  i2h052j          NaN  t3_tqghan  t3_tqghan   \n2           NaN     NaN  i2hnwdm          NaN  t3_tqghan  t3_tqghan   \n3           NaN     NaN  i2hmqoo          NaN  t3_tqghan  t3_tqghan   \n4           NaN     NaN  i2hy1od          NaN  t3_tqghan  t3_tqghan   \n\n                                           permalink  saved  score stickied  \\\n0  /r/BMWi3/comments/tqghan/my_reward_for_finally...    NaN     14      NaN   \n1  /r/BMWi3/comments/tqghan/my_reward_for_finally...    NaN      9      NaN   \n2  /r/BMWi3/comments/tqghan/my_reward_for_finally...    NaN      4      NaN   \n3  /r/BMWi3/comments/tqghan/my_reward_for_finally...    NaN      3      NaN   \n4  /r/BMWi3/comments/tqghan/my_reward_for_finally...    NaN      3      NaN   \n\n  subreddit_id  \n0     t5_2y1ho  \n1     t5_2y1ho  \n2     t5_2y1ho  \n3     t5_2y1ho  \n4     t5_2y1ho  ",
      "text/html": "<div>\n<style scoped>\n    .dataframe tbody tr th:only-of-type {\n        vertical-align: middle;\n    }\n\n    .dataframe tbody tr th {\n        vertical-align: top;\n    }\n\n    .dataframe thead th {\n        text-align: right;\n    }\n</style>\n<table border=\"1\" class=\"dataframe\">\n  <thead>\n    <tr style=\"text-align: right;\">\n      <th></th>\n      <th>body</th>\n      <th>body_html</th>\n      <th>created_utc</th>\n      <th>distinguished</th>\n      <th>edited</th>\n      <th>id</th>\n      <th>is_submitter</th>\n      <th>link_id</th>\n      <th>parent_id</th>\n      <th>permalink</th>\n      <th>saved</th>\n      <th>score</th>\n      <th>stickied</th>\n      <th>subreddit_id</th>\n    </tr>\n  </thead>\n  <tbody>\n    <tr>\n      <th>0</th>\n      <td>Congrats on both!  Glad I'm not the only who w...</td>\n      <td>&lt;div class=\"md\"&gt;&lt;p&gt;Congrats on both!  Glad I&amp;#...</td>\n      <td>1.648494e+09</td>\n      <td>NaN</td>\n      <td>NaN</td>\n      <td>i2h01oy</td>\n      <td>NaN</td>\n      <td>t3_tqghan</td>\n      <td>t3_tqghan</td>\n      <td>/r/BMWi3/comments/tqghan/my_reward_for_finally...</td>\n      <td>NaN</td>\n      <td>14</td>\n      <td>NaN</td>\n      <td>t5_2y1ho</td>\n    </tr>\n    <tr>\n      <th>1</th>\n      <td>Congrats! That is one impressive reward! This ...</td>\n      <td>&lt;div class=\"md\"&gt;&lt;p&gt;Congrats! That is one impre...</td>\n      <td>1.648494e+09</td>\n      <td>NaN</td>\n      <td>NaN</td>\n      <td>i2h052j</td>\n      <td>NaN</td>\n      <td>t3_tqghan</td>\n      <td>t3_tqghan</td>\n      <td>/r/BMWi3/comments/tqghan/my_reward_for_finally...</td>\n      <td>NaN</td>\n      <td>9</td>\n      <td>NaN</td>\n      <td>t5_2y1ho</td>\n    </tr>\n    <tr>\n      <th>2</th>\n      <td>Congratulations!!! It’s beautiful !!!</td>\n      <td>&lt;div class=\"md\"&gt;&lt;p&gt;Congratulations!!! It’s bea...</td>\n      <td>1.648504e+09</td>\n      <td>NaN</td>\n      <td>NaN</td>\n      <td>i2hnwdm</td>\n      <td>NaN</td>\n      <td>t3_tqghan</td>\n      <td>t3_tqghan</td>\n      <td>/r/BMWi3/comments/tqghan/my_reward_for_finally...</td>\n      <td>NaN</td>\n      <td>4</td>\n      <td>NaN</td>\n      <td>t5_2y1ho</td>\n    </tr>\n    <tr>\n      <th>3</th>\n      <td>Congratulations! That's a fantastic car for a ...</td>\n      <td>&lt;div class=\"md\"&gt;&lt;p&gt;Congratulations! That&amp;#39;s...</td>\n      <td>1.648504e+09</td>\n      <td>NaN</td>\n      <td>NaN</td>\n      <td>i2hmqoo</td>\n      <td>NaN</td>\n      <td>t3_tqghan</td>\n      <td>t3_tqghan</td>\n      <td>/r/BMWi3/comments/tqghan/my_reward_for_finally...</td>\n      <td>NaN</td>\n      <td>3</td>\n      <td>NaN</td>\n      <td>t5_2y1ho</td>\n    </tr>\n    <tr>\n      <th>4</th>\n      <td>Welcome to the family!  Congratulations.</td>\n      <td>&lt;div class=\"md\"&gt;&lt;p&gt;Welcome to the family!  Con...</td>\n      <td>1.648509e+09</td>\n      <td>NaN</td>\n      <td>NaN</td>\n      <td>i2hy1od</td>\n      <td>NaN</td>\n      <td>t3_tqghan</td>\n      <td>t3_tqghan</td>\n      <td>/r/BMWi3/comments/tqghan/my_reward_for_finally...</td>\n      <td>NaN</td>\n      <td>3</td>\n      <td>NaN</td>\n      <td>t5_2y1ho</td>\n    </tr>\n  </tbody>\n</table>\n</div>"
     },
     "execution_count": 3,
     "metadata": {},
     "output_type": "execute_result"
    }
   ],
   "source": [
    "comments_df.head()"
   ],
   "metadata": {
    "collapsed": false,
    "ExecuteTime": {
     "end_time": "2024-03-21T10:10:39.737145Z",
     "start_time": "2024-03-21T10:10:39.726585Z"
    }
   },
   "id": "4bd4e5b57f530f66",
   "execution_count": 3
  },
  {
   "cell_type": "markdown",
   "source": [
    "# Check vocab size"
   ],
   "metadata": {
    "collapsed": false
   },
   "id": "399f87b365b2fa61"
  },
  {
   "cell_type": "code",
   "outputs": [],
   "source": [
    "def count_unique_words(df):\n",
    "    # Combine all rows into a single list\n",
    "    corpus = ' '.join(df.tolist())\n",
    "    # Split/tokenize\n",
    "    tokens = corpus.split()\n",
    "    # Lowercase all words\n",
    "    tokens = [word.lower() for word in tokens]\n",
    "    # Remove duplicate values\n",
    "    unique_tokens = set(tokens)\n",
    "    return len(unique_tokens)\n",
    "\n",
    "def count_total_words(df):\n",
    "    # Combine all rows into a single list\n",
    "    corpus = ' '.join(df.tolist())\n",
    "    # Split/tokenize\n",
    "    tokens = corpus.split()\n",
    "    return len(tokens)"
   ],
   "metadata": {
    "collapsed": false,
    "ExecuteTime": {
     "end_time": "2024-03-21T10:10:39.742375Z",
     "start_time": "2024-03-21T10:10:39.738147Z"
    }
   },
   "id": "34985743e5af231b",
   "execution_count": 4
  },
  {
   "cell_type": "code",
   "outputs": [
    {
     "name": "stdout",
     "output_type": "stream",
     "text": [
      "Number of total words: 15147\n",
      "Number of unique words: 4722\n"
     ]
    }
   ],
   "source": [
    "print(f\"Number of total words: {count_total_words(posts_df['title'])}\")\n",
    "print(f\"Number of unique words: {count_unique_words(posts_df['title'])}\")"
   ],
   "metadata": {
    "collapsed": false,
    "ExecuteTime": {
     "end_time": "2024-03-21T10:10:39.761950Z",
     "start_time": "2024-03-21T10:10:39.743378Z"
    }
   },
   "id": "ba41abf0af18938a",
   "execution_count": 5
  },
  {
   "cell_type": "code",
   "outputs": [
    {
     "name": "stdout",
     "output_type": "stream",
     "text": [
      "Number of total words: 1601745\n",
      "Number of unique words: 92203\n"
     ]
    }
   ],
   "source": [
    "print(f\"Number of total words: {count_total_words(comments_df['body'])}\")\n",
    "print(f\"Number of unique words: {count_unique_words(comments_df['body'])}\")"
   ],
   "metadata": {
    "collapsed": false,
    "ExecuteTime": {
     "end_time": "2024-03-21T10:10:46.902184Z",
     "start_time": "2024-03-21T10:10:46.384882Z"
    }
   },
   "id": "c1512177b7606660",
   "execution_count": 7
  },
  {
   "cell_type": "markdown",
   "source": [
    "# Basic data cleaning before indexing\n",
    "\n",
    "## Domain specific abbreviations for Reddit and general internet slangs\n",
    "https://www.reddit.com/r/TheoryOfReddit/wiki/glossary/"
   ],
   "metadata": {
    "collapsed": false
   },
   "id": "4da886480e7e57d3"
  },
  {
   "cell_type": "code",
   "outputs": [],
   "source": [
    "abbr_mapper = {\n",
    "    # Reddit abbreviations & Slangs\n",
    "    'Alt': 'Alternative Reddit account',\n",
    "    'AMA': 'Ask me anything',\n",
    "    'AMAA': 'Ask me almost anything',\n",
    "    'Benned': 'Banned',\n",
    "    'Brony': 'Male fan of My Little Pony',\n",
    "    'Cakeday': 'Birthday',\n",
    "    'Circlejerk': 'Elitist group',\n",
    "    'DAE': 'Does anyone else',\n",
    "    'Ent': 'Pot smoker',\n",
    "    'ETA': 'Edited to add',\n",
    "    'F7U12': 'FU',\n",
    "    'Fap': 'Masturbate',\n",
    "    '[FIXED]': 'Remix of an original post',\n",
    "    'FTA': 'From the article',\n",
    "    'FTFY': 'Fixed That For You',\n",
    "    'GW': 'Gone wild',\n",
    "    'Hivemind': 'Collective',\n",
    "    'IAMA': 'I Am A',\n",
    "    'IMO': 'In My Opinion',\n",
    "    'IMHO': 'In my honest opinion',\n",
    "    'IIRC': 'If i recall correctly',\n",
    "    'ITT': 'In this thread',\n",
    "    'Karma': 'Reddit score',\n",
    "    'Karmawhore': 'Desperate for reddit points',\n",
    "    'Meta-sub': 'Subreddits talking about Reddit',\n",
    "    'Meta-subreddits': 'Subreddits talking about Reddit',\n",
    "    'MIC': 'More in comments',\n",
    "    'Mod': 'Moderator',\n",
    "    'MRA': 'Mens rights activist',\n",
    "    'Neckbeard': 'Dirty reddit user',\n",
    "    'Ninjaedit': 'sneaky edit',\n",
    "    'Novelty account': 'joke account',\n",
    "    'NSFW': 'Not safe for work',\n",
    "    'NSFL': 'Not safe for life',\n",
    "    'OP': 'Original Poster',\n",
    "    'Orangered': 'Unread messages',\n",
    "    'Power user': 'User with high reddit score',\n",
    "    'Pun thread': 'Chain of punny comments',\n",
    "    'Reddiquette': 'Rules of reddit',\n",
    "    'RES': 'Reddit enhancement suite',\n",
    "    'RTFA': 'Read the fucking article',\n",
    "    'Shadow-ban': 'Silent ban',\n",
    "    'Shitpost': 'Trash post',\n",
    "    'Sockpuppet': 'Alternate reddit account',\n",
    "    'SJW': 'Social Justice Warrior',\n",
    "    'SRD': 'Subreddit drama',\n",
    "    'SRS': 'Shit reddit says',\n",
    "    'Sub': 'Subreddit',\n",
    "    'TIL': 'Today I learned',\n",
    "    'TL;DR': 'Too Long Didnt read',\n",
    "    'TLDR': 'Too Long Didnt read',\n",
    "    'WIP': 'Work in progress',\n",
    "    'X-post': 'Crosspost',\n",
    "    'Xpost': 'Crosspost',\n",
    "}\n",
    "\n",
    "# Regex based\n",
    "import re\n",
    "\n",
    "pattern = r'wh[o]+sh'\n",
    "text = \"whoosh whooooosh\"\n",
    "\n",
    "matches = re.findall(pattern, text)\n",
    "print(matches)  # Output: ['whoosh', 'whooooosh']"
   ],
   "metadata": {
    "collapsed": false
   },
   "id": "fa96ede635bf2c4"
  },
  {
   "cell_type": "markdown",
   "source": [],
   "metadata": {
    "collapsed": false
   },
   "id": "869f3c250beeeada"
  },
  {
   "cell_type": "markdown",
   "source": [
    "# Electric car domain specific abbreviations & slangs"
   ],
   "metadata": {
    "collapsed": false
   },
   "id": "90f4dc6146508aa8"
  },
  {
   "cell_type": "code",
   "outputs": [],
   "source": [],
   "metadata": {
    "collapsed": false
   },
   "id": "6dc00820caccbf1f"
  }
 ],
 "metadata": {
  "kernelspec": {
   "display_name": "Python 3",
   "language": "python",
   "name": "python3"
  },
  "language_info": {
   "codemirror_mode": {
    "name": "ipython",
    "version": 2
   },
   "file_extension": ".py",
   "mimetype": "text/x-python",
   "name": "python",
   "nbconvert_exporter": "python",
   "pygments_lexer": "ipython2",
   "version": "2.7.6"
  }
 },
 "nbformat": 4,
 "nbformat_minor": 5
}
