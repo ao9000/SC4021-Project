{
 "cells": [
  {
   "cell_type": "markdown",
   "source": [
    "# Do basic preprocessing & Cleaning before ingesting data into Solr\n",
    "## Load data"
   ],
   "metadata": {
    "collapsed": false
   },
   "id": "4b41efe70f161cf1"
  },
  {
   "cell_type": "code",
   "outputs": [
    {
     "name": "stderr",
     "output_type": "stream",
     "text": [
      "C:\\Users\\Aozy\\AppData\\Local\\Temp\\ipykernel_18836\\2234500308.py:6: DtypeWarning: Columns (13) have mixed types. Specify dtype option on import or set low_memory=False.\n",
      "  comments_df = pd.read_csv(f'{data_dir}/all-comments.csv')\n"
     ]
    }
   ],
   "source": [
    "import pandas as pd\n",
    "\n",
    "# Load all-comments and all-posts csv\n",
    "data_dir = 'data'\n",
    "\n",
    "comments_df = pd.read_csv(f'{data_dir}/all-comments.csv')\n",
    "posts_df = pd.read_csv(f'{data_dir}/all-posts.csv')"
   ],
   "metadata": {
    "collapsed": false,
    "ExecuteTime": {
     "end_time": "2024-04-04T12:04:10.172118Z",
     "start_time": "2024-04-04T12:04:09.304359Z"
    }
   },
   "id": "c4bd956941454872",
   "execution_count": 1
  },
  {
   "cell_type": "code",
   "outputs": [
    {
     "data": {
      "text/plain": "        author author_flair_text  clicked   created_utc distinguished  edited  \\\n0    [deleted]               NaN      NaN  1.648494e+09           NaN     NaN   \n1      nguit98               NaN      NaN  1.708648e+09           NaN     NaN   \n2   labdweller            i3 BEV      NaN  1.678789e+09           NaN     NaN   \n3  toteratte21               NaN      NaN  1.685004e+09           NaN     NaN   \n4     azscram9               NaN      NaN  1.684690e+09           NaN     NaN   \n\n        id  is_original_content is_self link_flair_text  ...  \\\n0   tqghan                  NaN     NaN             NaN  ...   \n1  1axmm77                  NaN     NaN             NaN  ...   \n2  11r2bh2                  NaN     NaN             NaN  ...   \n3  13rc663                  NaN     NaN             NaN  ...   \n4  13o1009                  NaN     NaN             NaN  ...   \n\n                                           permalink saved  score  \\\n0  /r/BMWi3/comments/tqghan/my_reward_for_finally...   NaN    223   \n1              /r/BMWi3/comments/1axmm77/100k_miles/   NaN    201   \n2  /r/BMWi3/comments/11r2bh2/rabbit_stowage_area_...   NaN    192   \n3  /r/BMWi3/comments/13rc663/picked_her_up_straig...   NaN    176   \n4  /r/BMWi3/comments/13o1009/picked_up_this_littl...   NaN    173   \n\n                                            selftext spoiler  stickied  \\\n0                                                NaN     NaN       NaN   \n1  I finally passed the 100k mile mark on my 2015...     NaN       NaN   \n2                                                NaN     NaN       NaN   \n3  2020 i3s, dark brown leather and light wood.\\n...     NaN       NaN   \n4  First time owner and first car I’ve owned in 1...     NaN       NaN   \n\n   subreddit_name                                              title  \\\n0           BMWi3  My reward for finally finishing my bachelor’s ...   \n1           BMWi3                                         100k miles   \n2           BMWi3                      Rabbit stowage area on the i3   \n3           BMWi3   Picked her up straight from the source in Munich   \n4           BMWi3         Picked up this little gem over the weekend   \n\n  upvote_ratio                                   url  \n0         0.98   https://i.redd.it/qs3elzcr86q81.jpg  \n1         0.98  https://i.redd.it/z4v99nrfb8kc1.jpeg  \n2         0.99   https://i.redd.it/yewt745fjona1.jpg  \n3         0.99       https://i.imgur.com/7jTu2dR.jpg  \n4         0.96   https://i.redd.it/w4ilz2ygh91b1.jpg  \n\n[5 rows x 24 columns]",
      "text/html": "<div>\n<style scoped>\n    .dataframe tbody tr th:only-of-type {\n        vertical-align: middle;\n    }\n\n    .dataframe tbody tr th {\n        vertical-align: top;\n    }\n\n    .dataframe thead th {\n        text-align: right;\n    }\n</style>\n<table border=\"1\" class=\"dataframe\">\n  <thead>\n    <tr style=\"text-align: right;\">\n      <th></th>\n      <th>author</th>\n      <th>author_flair_text</th>\n      <th>clicked</th>\n      <th>created_utc</th>\n      <th>distinguished</th>\n      <th>edited</th>\n      <th>id</th>\n      <th>is_original_content</th>\n      <th>is_self</th>\n      <th>link_flair_text</th>\n      <th>...</th>\n      <th>permalink</th>\n      <th>saved</th>\n      <th>score</th>\n      <th>selftext</th>\n      <th>spoiler</th>\n      <th>stickied</th>\n      <th>subreddit_name</th>\n      <th>title</th>\n      <th>upvote_ratio</th>\n      <th>url</th>\n    </tr>\n  </thead>\n  <tbody>\n    <tr>\n      <th>0</th>\n      <td>[deleted]</td>\n      <td>NaN</td>\n      <td>NaN</td>\n      <td>1.648494e+09</td>\n      <td>NaN</td>\n      <td>NaN</td>\n      <td>tqghan</td>\n      <td>NaN</td>\n      <td>NaN</td>\n      <td>NaN</td>\n      <td>...</td>\n      <td>/r/BMWi3/comments/tqghan/my_reward_for_finally...</td>\n      <td>NaN</td>\n      <td>223</td>\n      <td>NaN</td>\n      <td>NaN</td>\n      <td>NaN</td>\n      <td>BMWi3</td>\n      <td>My reward for finally finishing my bachelor’s ...</td>\n      <td>0.98</td>\n      <td>https://i.redd.it/qs3elzcr86q81.jpg</td>\n    </tr>\n    <tr>\n      <th>1</th>\n      <td>nguit98</td>\n      <td>NaN</td>\n      <td>NaN</td>\n      <td>1.708648e+09</td>\n      <td>NaN</td>\n      <td>NaN</td>\n      <td>1axmm77</td>\n      <td>NaN</td>\n      <td>NaN</td>\n      <td>NaN</td>\n      <td>...</td>\n      <td>/r/BMWi3/comments/1axmm77/100k_miles/</td>\n      <td>NaN</td>\n      <td>201</td>\n      <td>I finally passed the 100k mile mark on my 2015...</td>\n      <td>NaN</td>\n      <td>NaN</td>\n      <td>BMWi3</td>\n      <td>100k miles</td>\n      <td>0.98</td>\n      <td>https://i.redd.it/z4v99nrfb8kc1.jpeg</td>\n    </tr>\n    <tr>\n      <th>2</th>\n      <td>labdweller</td>\n      <td>i3 BEV</td>\n      <td>NaN</td>\n      <td>1.678789e+09</td>\n      <td>NaN</td>\n      <td>NaN</td>\n      <td>11r2bh2</td>\n      <td>NaN</td>\n      <td>NaN</td>\n      <td>NaN</td>\n      <td>...</td>\n      <td>/r/BMWi3/comments/11r2bh2/rabbit_stowage_area_...</td>\n      <td>NaN</td>\n      <td>192</td>\n      <td>NaN</td>\n      <td>NaN</td>\n      <td>NaN</td>\n      <td>BMWi3</td>\n      <td>Rabbit stowage area on the i3</td>\n      <td>0.99</td>\n      <td>https://i.redd.it/yewt745fjona1.jpg</td>\n    </tr>\n    <tr>\n      <th>3</th>\n      <td>toteratte21</td>\n      <td>NaN</td>\n      <td>NaN</td>\n      <td>1.685004e+09</td>\n      <td>NaN</td>\n      <td>NaN</td>\n      <td>13rc663</td>\n      <td>NaN</td>\n      <td>NaN</td>\n      <td>NaN</td>\n      <td>...</td>\n      <td>/r/BMWi3/comments/13rc663/picked_her_up_straig...</td>\n      <td>NaN</td>\n      <td>176</td>\n      <td>2020 i3s, dark brown leather and light wood.\\n...</td>\n      <td>NaN</td>\n      <td>NaN</td>\n      <td>BMWi3</td>\n      <td>Picked her up straight from the source in Munich</td>\n      <td>0.99</td>\n      <td>https://i.imgur.com/7jTu2dR.jpg</td>\n    </tr>\n    <tr>\n      <th>4</th>\n      <td>azscram9</td>\n      <td>NaN</td>\n      <td>NaN</td>\n      <td>1.684690e+09</td>\n      <td>NaN</td>\n      <td>NaN</td>\n      <td>13o1009</td>\n      <td>NaN</td>\n      <td>NaN</td>\n      <td>NaN</td>\n      <td>...</td>\n      <td>/r/BMWi3/comments/13o1009/picked_up_this_littl...</td>\n      <td>NaN</td>\n      <td>173</td>\n      <td>First time owner and first car I’ve owned in 1...</td>\n      <td>NaN</td>\n      <td>NaN</td>\n      <td>BMWi3</td>\n      <td>Picked up this little gem over the weekend</td>\n      <td>0.96</td>\n      <td>https://i.redd.it/w4ilz2ygh91b1.jpg</td>\n    </tr>\n  </tbody>\n</table>\n<p>5 rows × 24 columns</p>\n</div>"
     },
     "execution_count": 2,
     "metadata": {},
     "output_type": "execute_result"
    }
   ],
   "source": [
    "posts_df.head()"
   ],
   "metadata": {
    "collapsed": false,
    "ExecuteTime": {
     "end_time": "2024-04-04T12:04:10.191819Z",
     "start_time": "2024-04-04T12:04:10.173114Z"
    }
   },
   "id": "a271871f633ffb29",
   "execution_count": 2
  },
  {
   "cell_type": "code",
   "outputs": [
    {
     "data": {
      "text/plain": "                 author                                               body  \\\n0           McNutWaffle  Congrats on both!  Glad I'm not the only who w...   \n1                pboksz  Congrats! That is one impressive reward! This ...   \n2  JealousPomegranate62              Congratulations!!! It’s beautiful !!!   \n3         MMinthemirror  Congratulations! That's a fantastic car for a ...   \n4        janithemuse488           Welcome to the family!  Congratulations.   \n\n                                           body_html   created_utc  \\\n0  <div class=\"md\"><p>Congrats on both!  Glad I&#...  1.648494e+09   \n1  <div class=\"md\"><p>Congrats! That is one impre...  1.648494e+09   \n2  <div class=\"md\"><p>Congratulations!!! It’s bea...  1.648504e+09   \n3  <div class=\"md\"><p>Congratulations! That&#39;s...  1.648504e+09   \n4  <div class=\"md\"><p>Welcome to the family!  Con...  1.648509e+09   \n\n  distinguished  edited       id is_submitter    link_id  parent_id  \\\n0           NaN     NaN  i2h01oy          NaN  t3_tqghan  t3_tqghan   \n1           NaN     NaN  i2h052j          NaN  t3_tqghan  t3_tqghan   \n2           NaN     NaN  i2hnwdm          NaN  t3_tqghan  t3_tqghan   \n3           NaN     NaN  i2hmqoo          NaN  t3_tqghan  t3_tqghan   \n4           NaN     NaN  i2hy1od          NaN  t3_tqghan  t3_tqghan   \n\n                                           permalink  saved  score stickied  \\\n0  /r/BMWi3/comments/tqghan/my_reward_for_finally...    NaN     13      NaN   \n1  /r/BMWi3/comments/tqghan/my_reward_for_finally...    NaN     10      NaN   \n2  /r/BMWi3/comments/tqghan/my_reward_for_finally...    NaN      4      NaN   \n3  /r/BMWi3/comments/tqghan/my_reward_for_finally...    NaN      3      NaN   \n4  /r/BMWi3/comments/tqghan/my_reward_for_finally...    NaN      3      NaN   \n\n  subreddit_name subreddit_id  \n0          BMWi3     t5_2y1ho  \n1          BMWi3     t5_2y1ho  \n2          BMWi3     t5_2y1ho  \n3          BMWi3     t5_2y1ho  \n4          BMWi3     t5_2y1ho  ",
      "text/html": "<div>\n<style scoped>\n    .dataframe tbody tr th:only-of-type {\n        vertical-align: middle;\n    }\n\n    .dataframe tbody tr th {\n        vertical-align: top;\n    }\n\n    .dataframe thead th {\n        text-align: right;\n    }\n</style>\n<table border=\"1\" class=\"dataframe\">\n  <thead>\n    <tr style=\"text-align: right;\">\n      <th></th>\n      <th>author</th>\n      <th>body</th>\n      <th>body_html</th>\n      <th>created_utc</th>\n      <th>distinguished</th>\n      <th>edited</th>\n      <th>id</th>\n      <th>is_submitter</th>\n      <th>link_id</th>\n      <th>parent_id</th>\n      <th>permalink</th>\n      <th>saved</th>\n      <th>score</th>\n      <th>stickied</th>\n      <th>subreddit_name</th>\n      <th>subreddit_id</th>\n    </tr>\n  </thead>\n  <tbody>\n    <tr>\n      <th>0</th>\n      <td>McNutWaffle</td>\n      <td>Congrats on both!  Glad I'm not the only who w...</td>\n      <td>&lt;div class=\"md\"&gt;&lt;p&gt;Congrats on both!  Glad I&amp;#...</td>\n      <td>1.648494e+09</td>\n      <td>NaN</td>\n      <td>NaN</td>\n      <td>i2h01oy</td>\n      <td>NaN</td>\n      <td>t3_tqghan</td>\n      <td>t3_tqghan</td>\n      <td>/r/BMWi3/comments/tqghan/my_reward_for_finally...</td>\n      <td>NaN</td>\n      <td>13</td>\n      <td>NaN</td>\n      <td>BMWi3</td>\n      <td>t5_2y1ho</td>\n    </tr>\n    <tr>\n      <th>1</th>\n      <td>pboksz</td>\n      <td>Congrats! That is one impressive reward! This ...</td>\n      <td>&lt;div class=\"md\"&gt;&lt;p&gt;Congrats! That is one impre...</td>\n      <td>1.648494e+09</td>\n      <td>NaN</td>\n      <td>NaN</td>\n      <td>i2h052j</td>\n      <td>NaN</td>\n      <td>t3_tqghan</td>\n      <td>t3_tqghan</td>\n      <td>/r/BMWi3/comments/tqghan/my_reward_for_finally...</td>\n      <td>NaN</td>\n      <td>10</td>\n      <td>NaN</td>\n      <td>BMWi3</td>\n      <td>t5_2y1ho</td>\n    </tr>\n    <tr>\n      <th>2</th>\n      <td>JealousPomegranate62</td>\n      <td>Congratulations!!! It’s beautiful !!!</td>\n      <td>&lt;div class=\"md\"&gt;&lt;p&gt;Congratulations!!! It’s bea...</td>\n      <td>1.648504e+09</td>\n      <td>NaN</td>\n      <td>NaN</td>\n      <td>i2hnwdm</td>\n      <td>NaN</td>\n      <td>t3_tqghan</td>\n      <td>t3_tqghan</td>\n      <td>/r/BMWi3/comments/tqghan/my_reward_for_finally...</td>\n      <td>NaN</td>\n      <td>4</td>\n      <td>NaN</td>\n      <td>BMWi3</td>\n      <td>t5_2y1ho</td>\n    </tr>\n    <tr>\n      <th>3</th>\n      <td>MMinthemirror</td>\n      <td>Congratulations! That's a fantastic car for a ...</td>\n      <td>&lt;div class=\"md\"&gt;&lt;p&gt;Congratulations! That&amp;#39;s...</td>\n      <td>1.648504e+09</td>\n      <td>NaN</td>\n      <td>NaN</td>\n      <td>i2hmqoo</td>\n      <td>NaN</td>\n      <td>t3_tqghan</td>\n      <td>t3_tqghan</td>\n      <td>/r/BMWi3/comments/tqghan/my_reward_for_finally...</td>\n      <td>NaN</td>\n      <td>3</td>\n      <td>NaN</td>\n      <td>BMWi3</td>\n      <td>t5_2y1ho</td>\n    </tr>\n    <tr>\n      <th>4</th>\n      <td>janithemuse488</td>\n      <td>Welcome to the family!  Congratulations.</td>\n      <td>&lt;div class=\"md\"&gt;&lt;p&gt;Welcome to the family!  Con...</td>\n      <td>1.648509e+09</td>\n      <td>NaN</td>\n      <td>NaN</td>\n      <td>i2hy1od</td>\n      <td>NaN</td>\n      <td>t3_tqghan</td>\n      <td>t3_tqghan</td>\n      <td>/r/BMWi3/comments/tqghan/my_reward_for_finally...</td>\n      <td>NaN</td>\n      <td>3</td>\n      <td>NaN</td>\n      <td>BMWi3</td>\n      <td>t5_2y1ho</td>\n    </tr>\n  </tbody>\n</table>\n</div>"
     },
     "execution_count": 3,
     "metadata": {},
     "output_type": "execute_result"
    }
   ],
   "source": [
    "comments_df.head()"
   ],
   "metadata": {
    "collapsed": false,
    "ExecuteTime": {
     "end_time": "2024-04-04T12:04:10.203409Z",
     "start_time": "2024-04-04T12:04:10.192821Z"
    }
   },
   "id": "4bd4e5b57f530f66",
   "execution_count": 3
  },
  {
   "cell_type": "markdown",
   "source": [
    "# Drop some unnecessary columns, normalize comments and posts into a single dataframe"
   ],
   "metadata": {
    "collapsed": false
   },
   "id": "1b78ccd96d3d3916"
  },
  {
   "cell_type": "code",
   "outputs": [
    {
     "data": {
      "text/plain": "(1229, 12)"
     },
     "execution_count": 4,
     "metadata": {},
     "output_type": "execute_result"
    }
   ],
   "source": [
    "# Drop unnecessary columns\n",
    "posts_df = posts_df[['author', 'title', 'created_utc', 'edited', 'id', 'num_comments', 'permalink', 'score', 'subreddit_name', 'upvote_ratio', 'url']]\n",
    "posts_df.rename(columns={'title': 'text'}, inplace=True)\n",
    "posts_df['type'] = 'post'\n",
    "posts_df.shape"
   ],
   "metadata": {
    "collapsed": false,
    "ExecuteTime": {
     "end_time": "2024-04-04T12:04:10.210508Z",
     "start_time": "2024-04-04T12:04:10.204411Z"
    }
   },
   "id": "62b164005b8927d",
   "execution_count": 4
  },
  {
   "cell_type": "code",
   "outputs": [
    {
     "data": {
      "text/plain": "(48194, 10)"
     },
     "execution_count": 5,
     "metadata": {},
     "output_type": "execute_result"
    }
   ],
   "source": [
    "# Drop unnecessary columns\n",
    "comments_df = comments_df[['author', 'body', 'created_utc', 'edited', 'id', 'permalink', 'score', 'subreddit_name', 'link_id']]\n",
    "# Rename some columns\n",
    "comments_df.rename(columns={'body': 'text'}, inplace=True)\n",
    "comments_df.rename(columns={'link_id': 'post_id'}, inplace=True)\n",
    "# Add column with static value\n",
    "comments_df['type'] = 'comment'\n",
    "comments_df.shape"
   ],
   "metadata": {
    "collapsed": false,
    "ExecuteTime": {
     "end_time": "2024-04-04T12:04:10.221967Z",
     "start_time": "2024-04-04T12:04:10.211511Z"
    }
   },
   "id": "37baa0c34a2125ac",
   "execution_count": 5
  },
  {
   "cell_type": "code",
   "outputs": [
    {
     "data": {
      "text/plain": "        author                                               text  \\\n0    [deleted]  My reward for finally finishing my bachelor’s ...   \n1      nguit98                                         100k miles   \n2   labdweller                      Rabbit stowage area on the i3   \n3  toteratte21   Picked her up straight from the source in Munich   \n4     azscram9         Picked up this little gem over the weekend   \n\n    created_utc  edited       id  num_comments  \\\n0  1.648494e+09     NaN   tqghan          39.0   \n1  1.708648e+09     NaN  1axmm77          36.0   \n2  1.678789e+09     NaN  11r2bh2          14.0   \n3  1.685004e+09     NaN  13rc663          33.0   \n4  1.684690e+09     NaN  13o1009          45.0   \n\n                                           permalink  score subreddit_name  \\\n0  /r/BMWi3/comments/tqghan/my_reward_for_finally...    223          BMWi3   \n1              /r/BMWi3/comments/1axmm77/100k_miles/    201          BMWi3   \n2  /r/BMWi3/comments/11r2bh2/rabbit_stowage_area_...    192          BMWi3   \n3  /r/BMWi3/comments/13rc663/picked_her_up_straig...    176          BMWi3   \n4  /r/BMWi3/comments/13o1009/picked_up_this_littl...    173          BMWi3   \n\n   upvote_ratio                                   url  type  \n0          0.98   https://i.redd.it/qs3elzcr86q81.jpg  post  \n1          0.98  https://i.redd.it/z4v99nrfb8kc1.jpeg  post  \n2          0.99   https://i.redd.it/yewt745fjona1.jpg  post  \n3          0.99       https://i.imgur.com/7jTu2dR.jpg  post  \n4          0.96   https://i.redd.it/w4ilz2ygh91b1.jpg  post  ",
      "text/html": "<div>\n<style scoped>\n    .dataframe tbody tr th:only-of-type {\n        vertical-align: middle;\n    }\n\n    .dataframe tbody tr th {\n        vertical-align: top;\n    }\n\n    .dataframe thead th {\n        text-align: right;\n    }\n</style>\n<table border=\"1\" class=\"dataframe\">\n  <thead>\n    <tr style=\"text-align: right;\">\n      <th></th>\n      <th>author</th>\n      <th>text</th>\n      <th>created_utc</th>\n      <th>edited</th>\n      <th>id</th>\n      <th>num_comments</th>\n      <th>permalink</th>\n      <th>score</th>\n      <th>subreddit_name</th>\n      <th>upvote_ratio</th>\n      <th>url</th>\n      <th>type</th>\n    </tr>\n  </thead>\n  <tbody>\n    <tr>\n      <th>0</th>\n      <td>[deleted]</td>\n      <td>My reward for finally finishing my bachelor’s ...</td>\n      <td>1.648494e+09</td>\n      <td>NaN</td>\n      <td>tqghan</td>\n      <td>39.0</td>\n      <td>/r/BMWi3/comments/tqghan/my_reward_for_finally...</td>\n      <td>223</td>\n      <td>BMWi3</td>\n      <td>0.98</td>\n      <td>https://i.redd.it/qs3elzcr86q81.jpg</td>\n      <td>post</td>\n    </tr>\n    <tr>\n      <th>1</th>\n      <td>nguit98</td>\n      <td>100k miles</td>\n      <td>1.708648e+09</td>\n      <td>NaN</td>\n      <td>1axmm77</td>\n      <td>36.0</td>\n      <td>/r/BMWi3/comments/1axmm77/100k_miles/</td>\n      <td>201</td>\n      <td>BMWi3</td>\n      <td>0.98</td>\n      <td>https://i.redd.it/z4v99nrfb8kc1.jpeg</td>\n      <td>post</td>\n    </tr>\n    <tr>\n      <th>2</th>\n      <td>labdweller</td>\n      <td>Rabbit stowage area on the i3</td>\n      <td>1.678789e+09</td>\n      <td>NaN</td>\n      <td>11r2bh2</td>\n      <td>14.0</td>\n      <td>/r/BMWi3/comments/11r2bh2/rabbit_stowage_area_...</td>\n      <td>192</td>\n      <td>BMWi3</td>\n      <td>0.99</td>\n      <td>https://i.redd.it/yewt745fjona1.jpg</td>\n      <td>post</td>\n    </tr>\n    <tr>\n      <th>3</th>\n      <td>toteratte21</td>\n      <td>Picked her up straight from the source in Munich</td>\n      <td>1.685004e+09</td>\n      <td>NaN</td>\n      <td>13rc663</td>\n      <td>33.0</td>\n      <td>/r/BMWi3/comments/13rc663/picked_her_up_straig...</td>\n      <td>176</td>\n      <td>BMWi3</td>\n      <td>0.99</td>\n      <td>https://i.imgur.com/7jTu2dR.jpg</td>\n      <td>post</td>\n    </tr>\n    <tr>\n      <th>4</th>\n      <td>azscram9</td>\n      <td>Picked up this little gem over the weekend</td>\n      <td>1.684690e+09</td>\n      <td>NaN</td>\n      <td>13o1009</td>\n      <td>45.0</td>\n      <td>/r/BMWi3/comments/13o1009/picked_up_this_littl...</td>\n      <td>173</td>\n      <td>BMWi3</td>\n      <td>0.96</td>\n      <td>https://i.redd.it/w4ilz2ygh91b1.jpg</td>\n      <td>post</td>\n    </tr>\n  </tbody>\n</table>\n</div>"
     },
     "execution_count": 6,
     "metadata": {},
     "output_type": "execute_result"
    }
   ],
   "source": [
    "posts_df.head()"
   ],
   "metadata": {
    "collapsed": false,
    "ExecuteTime": {
     "end_time": "2024-04-04T12:04:10.233989Z",
     "start_time": "2024-04-04T12:04:10.223968Z"
    }
   },
   "id": "ade51d7716d99103",
   "execution_count": 6
  },
  {
   "cell_type": "code",
   "outputs": [
    {
     "data": {
      "text/plain": "                 author                                               text  \\\n0           McNutWaffle  Congrats on both!  Glad I'm not the only who w...   \n1                pboksz  Congrats! That is one impressive reward! This ...   \n2  JealousPomegranate62              Congratulations!!! It’s beautiful !!!   \n3         MMinthemirror  Congratulations! That's a fantastic car for a ...   \n4        janithemuse488           Welcome to the family!  Congratulations.   \n\n    created_utc  edited       id  \\\n0  1.648494e+09     NaN  i2h01oy   \n1  1.648494e+09     NaN  i2h052j   \n2  1.648504e+09     NaN  i2hnwdm   \n3  1.648504e+09     NaN  i2hmqoo   \n4  1.648509e+09     NaN  i2hy1od   \n\n                                           permalink  score subreddit_name  \\\n0  /r/BMWi3/comments/tqghan/my_reward_for_finally...     13          BMWi3   \n1  /r/BMWi3/comments/tqghan/my_reward_for_finally...     10          BMWi3   \n2  /r/BMWi3/comments/tqghan/my_reward_for_finally...      4          BMWi3   \n3  /r/BMWi3/comments/tqghan/my_reward_for_finally...      3          BMWi3   \n4  /r/BMWi3/comments/tqghan/my_reward_for_finally...      3          BMWi3   \n\n     post_id     type  \n0  t3_tqghan  comment  \n1  t3_tqghan  comment  \n2  t3_tqghan  comment  \n3  t3_tqghan  comment  \n4  t3_tqghan  comment  ",
      "text/html": "<div>\n<style scoped>\n    .dataframe tbody tr th:only-of-type {\n        vertical-align: middle;\n    }\n\n    .dataframe tbody tr th {\n        vertical-align: top;\n    }\n\n    .dataframe thead th {\n        text-align: right;\n    }\n</style>\n<table border=\"1\" class=\"dataframe\">\n  <thead>\n    <tr style=\"text-align: right;\">\n      <th></th>\n      <th>author</th>\n      <th>text</th>\n      <th>created_utc</th>\n      <th>edited</th>\n      <th>id</th>\n      <th>permalink</th>\n      <th>score</th>\n      <th>subreddit_name</th>\n      <th>post_id</th>\n      <th>type</th>\n    </tr>\n  </thead>\n  <tbody>\n    <tr>\n      <th>0</th>\n      <td>McNutWaffle</td>\n      <td>Congrats on both!  Glad I'm not the only who w...</td>\n      <td>1.648494e+09</td>\n      <td>NaN</td>\n      <td>i2h01oy</td>\n      <td>/r/BMWi3/comments/tqghan/my_reward_for_finally...</td>\n      <td>13</td>\n      <td>BMWi3</td>\n      <td>t3_tqghan</td>\n      <td>comment</td>\n    </tr>\n    <tr>\n      <th>1</th>\n      <td>pboksz</td>\n      <td>Congrats! That is one impressive reward! This ...</td>\n      <td>1.648494e+09</td>\n      <td>NaN</td>\n      <td>i2h052j</td>\n      <td>/r/BMWi3/comments/tqghan/my_reward_for_finally...</td>\n      <td>10</td>\n      <td>BMWi3</td>\n      <td>t3_tqghan</td>\n      <td>comment</td>\n    </tr>\n    <tr>\n      <th>2</th>\n      <td>JealousPomegranate62</td>\n      <td>Congratulations!!! It’s beautiful !!!</td>\n      <td>1.648504e+09</td>\n      <td>NaN</td>\n      <td>i2hnwdm</td>\n      <td>/r/BMWi3/comments/tqghan/my_reward_for_finally...</td>\n      <td>4</td>\n      <td>BMWi3</td>\n      <td>t3_tqghan</td>\n      <td>comment</td>\n    </tr>\n    <tr>\n      <th>3</th>\n      <td>MMinthemirror</td>\n      <td>Congratulations! That's a fantastic car for a ...</td>\n      <td>1.648504e+09</td>\n      <td>NaN</td>\n      <td>i2hmqoo</td>\n      <td>/r/BMWi3/comments/tqghan/my_reward_for_finally...</td>\n      <td>3</td>\n      <td>BMWi3</td>\n      <td>t3_tqghan</td>\n      <td>comment</td>\n    </tr>\n    <tr>\n      <th>4</th>\n      <td>janithemuse488</td>\n      <td>Welcome to the family!  Congratulations.</td>\n      <td>1.648509e+09</td>\n      <td>NaN</td>\n      <td>i2hy1od</td>\n      <td>/r/BMWi3/comments/tqghan/my_reward_for_finally...</td>\n      <td>3</td>\n      <td>BMWi3</td>\n      <td>t3_tqghan</td>\n      <td>comment</td>\n    </tr>\n  </tbody>\n</table>\n</div>"
     },
     "execution_count": 7,
     "metadata": {},
     "output_type": "execute_result"
    }
   ],
   "source": [
    "comments_df.head()"
   ],
   "metadata": {
    "collapsed": false,
    "ExecuteTime": {
     "end_time": "2024-04-04T12:04:10.244222Z",
     "start_time": "2024-04-04T12:04:10.234992Z"
    }
   },
   "id": "a270de55d5bd9d1d",
   "execution_count": 7
  },
  {
   "cell_type": "code",
   "outputs": [],
   "source": [
    "# Combine comments and posts into a single dataframe, outer join\n",
    "merged_df = pd.concat([posts_df,comments_df], axis=0, ignore_index=True)"
   ],
   "metadata": {
    "collapsed": false,
    "ExecuteTime": {
     "end_time": "2024-04-04T12:04:10.254652Z",
     "start_time": "2024-04-04T12:04:10.245225Z"
    }
   },
   "id": "10d505dba9d55b25",
   "execution_count": 8
  },
  {
   "cell_type": "code",
   "outputs": [
    {
     "data": {
      "text/plain": "        author                                               text  \\\n0    [deleted]  My reward for finally finishing my bachelor’s ...   \n1      nguit98                                         100k miles   \n2   labdweller                      Rabbit stowage area on the i3   \n3  toteratte21   Picked her up straight from the source in Munich   \n4     azscram9         Picked up this little gem over the weekend   \n\n    created_utc  edited       id  num_comments  \\\n0  1.648494e+09     NaN   tqghan          39.0   \n1  1.708648e+09     NaN  1axmm77          36.0   \n2  1.678789e+09     NaN  11r2bh2          14.0   \n3  1.685004e+09     NaN  13rc663          33.0   \n4  1.684690e+09     NaN  13o1009          45.0   \n\n                                           permalink  score subreddit_name  \\\n0  /r/BMWi3/comments/tqghan/my_reward_for_finally...    223          BMWi3   \n1              /r/BMWi3/comments/1axmm77/100k_miles/    201          BMWi3   \n2  /r/BMWi3/comments/11r2bh2/rabbit_stowage_area_...    192          BMWi3   \n3  /r/BMWi3/comments/13rc663/picked_her_up_straig...    176          BMWi3   \n4  /r/BMWi3/comments/13o1009/picked_up_this_littl...    173          BMWi3   \n\n   upvote_ratio                                   url  type post_id  \n0          0.98   https://i.redd.it/qs3elzcr86q81.jpg  post     NaN  \n1          0.98  https://i.redd.it/z4v99nrfb8kc1.jpeg  post     NaN  \n2          0.99   https://i.redd.it/yewt745fjona1.jpg  post     NaN  \n3          0.99       https://i.imgur.com/7jTu2dR.jpg  post     NaN  \n4          0.96   https://i.redd.it/w4ilz2ygh91b1.jpg  post     NaN  ",
      "text/html": "<div>\n<style scoped>\n    .dataframe tbody tr th:only-of-type {\n        vertical-align: middle;\n    }\n\n    .dataframe tbody tr th {\n        vertical-align: top;\n    }\n\n    .dataframe thead th {\n        text-align: right;\n    }\n</style>\n<table border=\"1\" class=\"dataframe\">\n  <thead>\n    <tr style=\"text-align: right;\">\n      <th></th>\n      <th>author</th>\n      <th>text</th>\n      <th>created_utc</th>\n      <th>edited</th>\n      <th>id</th>\n      <th>num_comments</th>\n      <th>permalink</th>\n      <th>score</th>\n      <th>subreddit_name</th>\n      <th>upvote_ratio</th>\n      <th>url</th>\n      <th>type</th>\n      <th>post_id</th>\n    </tr>\n  </thead>\n  <tbody>\n    <tr>\n      <th>0</th>\n      <td>[deleted]</td>\n      <td>My reward for finally finishing my bachelor’s ...</td>\n      <td>1.648494e+09</td>\n      <td>NaN</td>\n      <td>tqghan</td>\n      <td>39.0</td>\n      <td>/r/BMWi3/comments/tqghan/my_reward_for_finally...</td>\n      <td>223</td>\n      <td>BMWi3</td>\n      <td>0.98</td>\n      <td>https://i.redd.it/qs3elzcr86q81.jpg</td>\n      <td>post</td>\n      <td>NaN</td>\n    </tr>\n    <tr>\n      <th>1</th>\n      <td>nguit98</td>\n      <td>100k miles</td>\n      <td>1.708648e+09</td>\n      <td>NaN</td>\n      <td>1axmm77</td>\n      <td>36.0</td>\n      <td>/r/BMWi3/comments/1axmm77/100k_miles/</td>\n      <td>201</td>\n      <td>BMWi3</td>\n      <td>0.98</td>\n      <td>https://i.redd.it/z4v99nrfb8kc1.jpeg</td>\n      <td>post</td>\n      <td>NaN</td>\n    </tr>\n    <tr>\n      <th>2</th>\n      <td>labdweller</td>\n      <td>Rabbit stowage area on the i3</td>\n      <td>1.678789e+09</td>\n      <td>NaN</td>\n      <td>11r2bh2</td>\n      <td>14.0</td>\n      <td>/r/BMWi3/comments/11r2bh2/rabbit_stowage_area_...</td>\n      <td>192</td>\n      <td>BMWi3</td>\n      <td>0.99</td>\n      <td>https://i.redd.it/yewt745fjona1.jpg</td>\n      <td>post</td>\n      <td>NaN</td>\n    </tr>\n    <tr>\n      <th>3</th>\n      <td>toteratte21</td>\n      <td>Picked her up straight from the source in Munich</td>\n      <td>1.685004e+09</td>\n      <td>NaN</td>\n      <td>13rc663</td>\n      <td>33.0</td>\n      <td>/r/BMWi3/comments/13rc663/picked_her_up_straig...</td>\n      <td>176</td>\n      <td>BMWi3</td>\n      <td>0.99</td>\n      <td>https://i.imgur.com/7jTu2dR.jpg</td>\n      <td>post</td>\n      <td>NaN</td>\n    </tr>\n    <tr>\n      <th>4</th>\n      <td>azscram9</td>\n      <td>Picked up this little gem over the weekend</td>\n      <td>1.684690e+09</td>\n      <td>NaN</td>\n      <td>13o1009</td>\n      <td>45.0</td>\n      <td>/r/BMWi3/comments/13o1009/picked_up_this_littl...</td>\n      <td>173</td>\n      <td>BMWi3</td>\n      <td>0.96</td>\n      <td>https://i.redd.it/w4ilz2ygh91b1.jpg</td>\n      <td>post</td>\n      <td>NaN</td>\n    </tr>\n  </tbody>\n</table>\n</div>"
     },
     "execution_count": 9,
     "metadata": {},
     "output_type": "execute_result"
    }
   ],
   "source": [
    "merged_df.head()"
   ],
   "metadata": {
    "collapsed": false,
    "ExecuteTime": {
     "end_time": "2024-04-04T12:04:10.266355Z",
     "start_time": "2024-04-04T12:04:10.255655Z"
    }
   },
   "id": "3825d3dc16516dfd",
   "execution_count": 9
  },
  {
   "cell_type": "code",
   "outputs": [
    {
     "data": {
      "text/plain": "(49423, 13)"
     },
     "execution_count": 10,
     "metadata": {},
     "output_type": "execute_result"
    }
   ],
   "source": [
    "merged_df.shape"
   ],
   "metadata": {
    "collapsed": false,
    "ExecuteTime": {
     "end_time": "2024-04-04T12:04:10.270831Z",
     "start_time": "2024-04-04T12:04:10.267349Z"
    }
   },
   "id": "55989a9ac3aada39",
   "execution_count": 10
  },
  {
   "cell_type": "markdown",
   "source": [
    "## Drop bot comments\n",
    "\n",
    "- https://github.com/eliassjogreen/Reddit-Bot-List"
   ],
   "metadata": {
    "collapsed": false
   },
   "id": "6d01ea8adb3dd046"
  },
  {
   "cell_type": "code",
   "outputs": [
    {
     "name": "stdout",
     "output_type": "stream",
     "text": [
      "Number of bot comments: 57\n"
     ]
    }
   ],
   "source": [
    "# Get the list of bots comments\n",
    "bot_list = [\n",
    "    'Decronym',\n",
    "    'stabbot',\n",
    "    'stabbot_crop',\n",
    "    'DeepFryBot',\n",
    "    'gifreversingbot',\n",
    "    'vredditshare',\n",
    "    'VredditDownloader',\n",
    "    'morejpeg_auto',\n",
    "    'gifendore',\n",
    "    'r2tg_bot',\n",
    "    'WololoBot',\n",
    "    'tippr',\n",
    "    'RemindMeBot',\n",
    "    'profanitycounter',\n",
    "    'Eminem_Bot'\n",
    "]\n",
    "\n",
    "# Check number of posts is bot author\n",
    "print(f\"Number of bot comments: {merged_df[merged_df['author'].isin(bot_list)].shape[0]}\")"
   ],
   "metadata": {
    "collapsed": false,
    "ExecuteTime": {
     "end_time": "2024-04-04T12:04:10.280828Z",
     "start_time": "2024-04-04T12:04:10.271826Z"
    }
   },
   "id": "70fda411136f69ab",
   "execution_count": 11
  },
  {
   "cell_type": "code",
   "outputs": [],
   "source": [
    "# Drop these rows\n",
    "merged_df = merged_df[~merged_df['author'].isin(bot_list)]"
   ],
   "metadata": {
    "collapsed": false,
    "ExecuteTime": {
     "end_time": "2024-04-04T12:04:10.293770Z",
     "start_time": "2024-04-04T12:04:10.281830Z"
    }
   },
   "id": "aae71418c75662c8",
   "execution_count": 12
  },
  {
   "cell_type": "code",
   "outputs": [
    {
     "data": {
      "text/plain": "(49366, 13)"
     },
     "execution_count": 13,
     "metadata": {},
     "output_type": "execute_result"
    }
   ],
   "source": [
    "merged_df.shape"
   ],
   "metadata": {
    "collapsed": false,
    "ExecuteTime": {
     "end_time": "2024-04-04T12:04:10.298405Z",
     "start_time": "2024-04-04T12:04:10.294773Z"
    }
   },
   "id": "eb6983c91fbe55a0",
   "execution_count": 13
  },
  {
   "cell_type": "markdown",
   "source": [
    "## Drop comments that are not English"
   ],
   "metadata": {
    "collapsed": false
   },
   "id": "cc2af64a9f1cea34"
  },
  {
   "cell_type": "code",
   "outputs": [],
   "source": [
    "from langdetect import detect, DetectorFactory\n",
    "from langdetect.lang_detect_exception import LangDetectException\n",
    "import re\n",
    "# Set seed for reproducibility\n",
    "DetectorFactory.seed = 0\n",
    "\n",
    "# Function\n",
    "def is_english(text):\n",
    "    # Remove links, special characters, numbers\n",
    "    text = re.sub(r'https?:\\/\\/.*[\\r\\n]*', '', text)\n",
    "    text = re.sub(r'\\d+', '', text)\n",
    "    text = re.sub(r'[^\\w\\s]', '', text)\n",
    "    \n",
    "    try:\n",
    "        return detect(text) == 'en'\n",
    "    except LangDetectException:\n",
    "        # No language detected, most of the time are links, numbers, emojis, symbols\n",
    "        # So return true\n",
    "        #v print(f\"No language detected, content: {text}\")\n",
    "        return True\n",
    "\n",
    "# Identify non-english comments in non_english_comments df\n",
    "non_english_comments = merged_df[merged_df['text'].apply(lambda x: is_english(x) == False)]"
   ],
   "metadata": {
    "collapsed": false,
    "ExecuteTime": {
     "end_time": "2024-04-04T12:06:40.990371Z",
     "start_time": "2024-04-04T12:04:10.299408Z"
    }
   },
   "id": "f13f518616e5e1ce",
   "execution_count": 14
  },
  {
   "cell_type": "code",
   "outputs": [
    {
     "name": "stdout",
     "output_type": "stream",
     "text": [
      "(4171, 13)\n"
     ]
    },
    {
     "data": {
      "text/plain": "                     author  \\\n1                   nguit98   \n6                    tgfssk   \n8      PNW-i3S-AC-Schnitzer   \n19                 AgentiMi   \n22           Dr_Gruselglatz   \n...                     ...   \n49365           dadmakefire   \n49382             skellener   \n49395          askacanadian   \n49418            mariscvaco   \n49419             [deleted]   \n\n                                                    text   created_utc  \\\n1                                             100k miles  1.708648e+09   \n6                                                Oh look  1.686750e+09   \n8                “Das Blau Edition” BMW i3S AC Schnitzer  1.637540e+09   \n19                  3G module reverse engineering update  1.640020e+09   \n22                      Sleeping in i3 at 1600m altitude  1.662850e+09   \n...                                                  ...           ...   \n49365  [Original tweet](https://twitter.com/SamNissim...  1.654054e+09   \n49382                                  :man_facepalming:  1.654047e+09   \n49395                                       How backward  1.654051e+09   \n49418                                         Fake Email  1.654051e+09   \n49419                                               fake  1.654056e+09   \n\n             edited       id  num_comments  \\\n1               NaN  1axmm77          36.0   \n6               NaN  1498c8u          24.0   \n8               NaN   qz86xw          22.0   \n19     1.640695e+09   rkrvti          85.0   \n22              NaN   xb2hv0          26.0   \n...             ...      ...           ...   \n49365           NaN  iaqtboe           NaN   \n49382           NaN  iaqgr8p           NaN   \n49395           NaN  iaqnj18           NaN   \n49418           NaN  iaqnmqn           NaN   \n49419           NaN  iaqwyap           NaN   \n\n                                               permalink  score  \\\n1                  /r/BMWi3/comments/1axmm77/100k_miles/    201   \n6                     /r/BMWi3/comments/1498c8u/oh_look/    166   \n8      /r/BMWi3/comments/qz86xw/das_blau_edition_bmw_...    154   \n19     /r/BMWi3/comments/rkrvti/3g_module_reverse_eng...    133   \n22     /r/BMWi3/comments/xb2hv0/sleeping_in_i3_at_160...    130   \n...                                                  ...    ...   \n49365  /r/teslamotors/comments/v25ee0/tesla_is_no_lon...    120   \n49382  /r/teslamotors/comments/v25ee0/tesla_is_no_lon...     70   \n49395  /r/teslamotors/comments/v25ee0/tesla_is_no_lon...     23   \n49418  /r/teslamotors/comments/v25ee0/tesla_is_no_lon...    -23   \n49419  /r/teslamotors/comments/v25ee0/tesla_is_no_lon...    -33   \n\n      subreddit_name  upvote_ratio  \\\n1              BMWi3          0.98   \n6              BMWi3          0.99   \n8              BMWi3          0.99   \n19             BMWi3          1.00   \n22             BMWi3          0.99   \n...              ...           ...   \n49365    teslamotors           NaN   \n49382    teslamotors           NaN   \n49395    teslamotors           NaN   \n49418    teslamotors           NaN   \n49419    teslamotors           NaN   \n\n                                                     url     type    post_id  \n1                   https://i.redd.it/z4v99nrfb8kc1.jpeg     post        NaN  \n6                        https://v.redd.it/3uq3oag1nz5b1     post        NaN  \n8                    https://i.redd.it/tmwwn3d0h1181.jpg     post        NaN  \n19     https://www.reddit.com/r/BMWi3/comments/rkrvti...     post        NaN  \n22                 https://www.reddit.com/gallery/xb2hv0     post        NaN  \n...                                                  ...      ...        ...  \n49365                                                NaN  comment  t3_v25ee0  \n49382                                                NaN  comment  t3_v25ee0  \n49395                                                NaN  comment  t3_v25ee0  \n49418                                                NaN  comment  t3_v25ee0  \n49419                                                NaN  comment  t3_v25ee0  \n\n[4171 rows x 13 columns]",
      "text/html": "<div>\n<style scoped>\n    .dataframe tbody tr th:only-of-type {\n        vertical-align: middle;\n    }\n\n    .dataframe tbody tr th {\n        vertical-align: top;\n    }\n\n    .dataframe thead th {\n        text-align: right;\n    }\n</style>\n<table border=\"1\" class=\"dataframe\">\n  <thead>\n    <tr style=\"text-align: right;\">\n      <th></th>\n      <th>author</th>\n      <th>text</th>\n      <th>created_utc</th>\n      <th>edited</th>\n      <th>id</th>\n      <th>num_comments</th>\n      <th>permalink</th>\n      <th>score</th>\n      <th>subreddit_name</th>\n      <th>upvote_ratio</th>\n      <th>url</th>\n      <th>type</th>\n      <th>post_id</th>\n    </tr>\n  </thead>\n  <tbody>\n    <tr>\n      <th>1</th>\n      <td>nguit98</td>\n      <td>100k miles</td>\n      <td>1.708648e+09</td>\n      <td>NaN</td>\n      <td>1axmm77</td>\n      <td>36.0</td>\n      <td>/r/BMWi3/comments/1axmm77/100k_miles/</td>\n      <td>201</td>\n      <td>BMWi3</td>\n      <td>0.98</td>\n      <td>https://i.redd.it/z4v99nrfb8kc1.jpeg</td>\n      <td>post</td>\n      <td>NaN</td>\n    </tr>\n    <tr>\n      <th>6</th>\n      <td>tgfssk</td>\n      <td>Oh look</td>\n      <td>1.686750e+09</td>\n      <td>NaN</td>\n      <td>1498c8u</td>\n      <td>24.0</td>\n      <td>/r/BMWi3/comments/1498c8u/oh_look/</td>\n      <td>166</td>\n      <td>BMWi3</td>\n      <td>0.99</td>\n      <td>https://v.redd.it/3uq3oag1nz5b1</td>\n      <td>post</td>\n      <td>NaN</td>\n    </tr>\n    <tr>\n      <th>8</th>\n      <td>PNW-i3S-AC-Schnitzer</td>\n      <td>“Das Blau Edition” BMW i3S AC Schnitzer</td>\n      <td>1.637540e+09</td>\n      <td>NaN</td>\n      <td>qz86xw</td>\n      <td>22.0</td>\n      <td>/r/BMWi3/comments/qz86xw/das_blau_edition_bmw_...</td>\n      <td>154</td>\n      <td>BMWi3</td>\n      <td>0.99</td>\n      <td>https://i.redd.it/tmwwn3d0h1181.jpg</td>\n      <td>post</td>\n      <td>NaN</td>\n    </tr>\n    <tr>\n      <th>19</th>\n      <td>AgentiMi</td>\n      <td>3G module reverse engineering update</td>\n      <td>1.640020e+09</td>\n      <td>1.640695e+09</td>\n      <td>rkrvti</td>\n      <td>85.0</td>\n      <td>/r/BMWi3/comments/rkrvti/3g_module_reverse_eng...</td>\n      <td>133</td>\n      <td>BMWi3</td>\n      <td>1.00</td>\n      <td>https://www.reddit.com/r/BMWi3/comments/rkrvti...</td>\n      <td>post</td>\n      <td>NaN</td>\n    </tr>\n    <tr>\n      <th>22</th>\n      <td>Dr_Gruselglatz</td>\n      <td>Sleeping in i3 at 1600m altitude</td>\n      <td>1.662850e+09</td>\n      <td>NaN</td>\n      <td>xb2hv0</td>\n      <td>26.0</td>\n      <td>/r/BMWi3/comments/xb2hv0/sleeping_in_i3_at_160...</td>\n      <td>130</td>\n      <td>BMWi3</td>\n      <td>0.99</td>\n      <td>https://www.reddit.com/gallery/xb2hv0</td>\n      <td>post</td>\n      <td>NaN</td>\n    </tr>\n    <tr>\n      <th>...</th>\n      <td>...</td>\n      <td>...</td>\n      <td>...</td>\n      <td>...</td>\n      <td>...</td>\n      <td>...</td>\n      <td>...</td>\n      <td>...</td>\n      <td>...</td>\n      <td>...</td>\n      <td>...</td>\n      <td>...</td>\n      <td>...</td>\n    </tr>\n    <tr>\n      <th>49365</th>\n      <td>dadmakefire</td>\n      <td>[Original tweet](https://twitter.com/SamNissim...</td>\n      <td>1.654054e+09</td>\n      <td>NaN</td>\n      <td>iaqtboe</td>\n      <td>NaN</td>\n      <td>/r/teslamotors/comments/v25ee0/tesla_is_no_lon...</td>\n      <td>120</td>\n      <td>teslamotors</td>\n      <td>NaN</td>\n      <td>NaN</td>\n      <td>comment</td>\n      <td>t3_v25ee0</td>\n    </tr>\n    <tr>\n      <th>49382</th>\n      <td>skellener</td>\n      <td>:man_facepalming:</td>\n      <td>1.654047e+09</td>\n      <td>NaN</td>\n      <td>iaqgr8p</td>\n      <td>NaN</td>\n      <td>/r/teslamotors/comments/v25ee0/tesla_is_no_lon...</td>\n      <td>70</td>\n      <td>teslamotors</td>\n      <td>NaN</td>\n      <td>NaN</td>\n      <td>comment</td>\n      <td>t3_v25ee0</td>\n    </tr>\n    <tr>\n      <th>49395</th>\n      <td>askacanadian</td>\n      <td>How backward</td>\n      <td>1.654051e+09</td>\n      <td>NaN</td>\n      <td>iaqnj18</td>\n      <td>NaN</td>\n      <td>/r/teslamotors/comments/v25ee0/tesla_is_no_lon...</td>\n      <td>23</td>\n      <td>teslamotors</td>\n      <td>NaN</td>\n      <td>NaN</td>\n      <td>comment</td>\n      <td>t3_v25ee0</td>\n    </tr>\n    <tr>\n      <th>49418</th>\n      <td>mariscvaco</td>\n      <td>Fake Email</td>\n      <td>1.654051e+09</td>\n      <td>NaN</td>\n      <td>iaqnmqn</td>\n      <td>NaN</td>\n      <td>/r/teslamotors/comments/v25ee0/tesla_is_no_lon...</td>\n      <td>-23</td>\n      <td>teslamotors</td>\n      <td>NaN</td>\n      <td>NaN</td>\n      <td>comment</td>\n      <td>t3_v25ee0</td>\n    </tr>\n    <tr>\n      <th>49419</th>\n      <td>[deleted]</td>\n      <td>fake</td>\n      <td>1.654056e+09</td>\n      <td>NaN</td>\n      <td>iaqwyap</td>\n      <td>NaN</td>\n      <td>/r/teslamotors/comments/v25ee0/tesla_is_no_lon...</td>\n      <td>-33</td>\n      <td>teslamotors</td>\n      <td>NaN</td>\n      <td>NaN</td>\n      <td>comment</td>\n      <td>t3_v25ee0</td>\n    </tr>\n  </tbody>\n</table>\n<p>4171 rows × 13 columns</p>\n</div>"
     },
     "execution_count": 15,
     "metadata": {},
     "output_type": "execute_result"
    }
   ],
   "source": [
    "# As accuracy is questionable, we manually check the identified rows\n",
    "print(non_english_comments.shape)\n",
    "non_english_comments"
   ],
   "metadata": {
    "collapsed": false,
    "ExecuteTime": {
     "end_time": "2024-04-04T12:06:41.004479Z",
     "start_time": "2024-04-04T12:06:40.991372Z"
    }
   },
   "id": "4e339cdca9f48453",
   "execution_count": 15
  },
  {
   "cell_type": "code",
   "outputs": [
    {
     "name": "stdout",
     "output_type": "stream",
     "text": [
      "Index: 241, Text: Louis le campagnard\n",
      "Index: 11957, Text: 한국차 진짜야\n",
      "Index: 13467, Text: Visste ikke at de var kommet til norge enda\n",
      "Index: 13490, Text: Gratulerer! Kult å se dem på veien, rå biler\n",
      "Index: 13628, Text: Vilken mack är det?\n",
      "Index: 14686, Text: Tillykke :Denmark:\n",
      "Index: 31678, Text: Das Qualität gespringen macht frei arbeit\n"
     ]
    }
   ],
   "source": [
    "# Manually check the text and identify the non-english comments\n",
    "non_english_identified_ids = [241, 11957, 13467, 13490, 13628, 14686, 31678]\n",
    "# Print the text of these rows\n",
    "for idx in non_english_identified_ids:\n",
    "    print(f\"Index: {idx}, Text: {merged_df.iloc[idx]['text']}\")\n",
    "# Drop these rows\n",
    "merged_df = merged_df.drop(non_english_identified_ids)"
   ],
   "metadata": {
    "collapsed": false,
    "ExecuteTime": {
     "end_time": "2024-04-04T12:06:41.020475Z",
     "start_time": "2024-04-04T12:06:41.005475Z"
    }
   },
   "id": "346e19126190c51a",
   "execution_count": 16
  },
  {
   "cell_type": "markdown",
   "source": [
    "# Basic data cleaning before indexing\n",
    "## Remove multiple spaces into 1 space"
   ],
   "metadata": {
    "collapsed": false
   },
   "id": "4da886480e7e57d3"
  },
  {
   "cell_type": "code",
   "outputs": [
    {
     "name": "stdout",
     "output_type": "stream",
     "text": [
      "Number of changes: 1071882\n"
     ]
    }
   ],
   "source": [
    "import re\n",
    "def remove_multiple_spaces(text):\n",
    "    # Also remove multiple tabs, newlines, whitespaces\n",
    "    # Count\n",
    "    num_substitutions = len(re.findall(r'\\s+', text)) - 1 # Minus 1 because we are replacing with 1 space\n",
    "    # Remove\n",
    "    cleaned_text = re.sub(r'\\s+', ' ', text)\n",
    "    return cleaned_text, num_substitutions\n",
    "\n",
    "merged_df['text'], counts = zip(*merged_df['text'].apply(remove_multiple_spaces))\n",
    "print(f\"Number of changes: {sum(counts)}\")"
   ],
   "metadata": {
    "collapsed": false,
    "ExecuteTime": {
     "end_time": "2024-04-04T12:06:41.628479Z",
     "start_time": "2024-04-04T12:06:41.021470Z"
    }
   },
   "id": "3f794fe5793ab0da",
   "execution_count": 17
  },
  {
   "cell_type": "markdown",
   "source": [
    "## Domain specific abbreviations for Reddit and general internet slangs\n",
    "https://www.reddit.com/r/TheoryOfReddit/wiki/glossary/"
   ],
   "metadata": {
    "collapsed": false
   },
   "id": "147ff6c92d95f6d9"
  },
  {
   "cell_type": "code",
   "outputs": [
    {
     "name": "stdout",
     "output_type": "stream",
     "text": [
      "Number of changes: 5669\n"
     ]
    }
   ],
   "source": [
    "import re\n",
    "\n",
    "\n",
    "def replace_abbr(text):    \n",
    "    abbr_mapper = {\n",
    "        # Reddit abbreviations & Slangs\n",
    "        'Alt': 'Alternative Reddit account',\n",
    "        'AMA': 'Ask me anything',\n",
    "        'AMAA': 'Ask me almost anything',\n",
    "        'Benned': 'Banned',\n",
    "        'Brony': 'Male fan of My Little Pony',\n",
    "        'Cakeday': 'Birthday',\n",
    "        'Circlejerk': 'Elitist group',\n",
    "        'DAE': 'Does anyone else',\n",
    "        'Ent': 'Pot smoker',\n",
    "        'ETA': 'Edited to add',\n",
    "        'F7U12': 'FU',\n",
    "        'Fap': 'Masturbate',\n",
    "        '[FIXED]': 'Remix of an original post',\n",
    "        'FTA': 'From the article',\n",
    "        'FTFY': 'Fixed That For You',\n",
    "        'GW': 'Gone wild',\n",
    "        'Hivemind': 'Collective',\n",
    "        'IAMA': 'I Am A',\n",
    "        'IMO': 'In My Opinion',\n",
    "        'IMHO': 'In my honest opinion',\n",
    "        'IIRC': 'If i recall correctly',\n",
    "        'ITT': 'In this thread',\n",
    "        'Karma': 'Reddit score',\n",
    "        'Karmawhore': 'Desperate for reddit points',\n",
    "        'Meta-sub': 'Subreddits talking about Reddit',\n",
    "        'Meta-subreddits': 'Subreddits talking about Reddit',\n",
    "        'MIC': 'More in comments',\n",
    "        'Mod': 'Moderator',\n",
    "        'MRA': 'Mens rights activist',\n",
    "        'Neckbeard': 'Dirty reddit user',\n",
    "        'Ninjaedit': 'sneaky edit',\n",
    "        'Novelty account': 'joke account',\n",
    "        'NSFW': 'Not safe for work',\n",
    "        'NSFL': 'Not safe for life',\n",
    "        'OP': 'Original Poster',\n",
    "        'Orangered': 'Unread messages',\n",
    "        'Power user': 'User with high reddit score',\n",
    "        'Pun thread': 'Chain of punny comments',\n",
    "        'Reddiquette': 'Rules of reddit',\n",
    "        'RES': 'Reddit enhancement suite',\n",
    "        'RTFA': 'Read the fucking article',\n",
    "        'Shadow-ban': 'Silent ban',\n",
    "        'Shitpost': 'Trash post',\n",
    "        'Sockpuppet': 'Alternate reddit account',\n",
    "        'SJW': 'Social Justice Warrior',\n",
    "        'SRD': 'Subreddit drama',\n",
    "        'SRS': 'Shit reddit says',\n",
    "        'Sub': 'Subreddit',\n",
    "        'TIL': 'Today I learned',\n",
    "        'TL;DR': 'Too Long Didnt read',\n",
    "        'TLDR': 'Too Long Didnt read',\n",
    "        'WIP': 'Work in progress',\n",
    "        'X-post': 'Crosspost',\n",
    "        'Xpost': 'Crosspost',\n",
    "        'wh[o]+sh': 'Dont get the joke',\n",
    "        \n",
    "        # Replace model names with their full brand names as well, Electric car domain specific abbreviations & slangs\n",
    "        'I3': 'BMW I3',\n",
    "        'leaf': 'Nissan Leaf',\n",
    "        'Bolt': 'Chevrolet Bolt',\n",
    "        'F150Lightning': 'Ford F150Lightning',\n",
    "        'F150': 'Ford F150Lightning',\n",
    "        'Lightning': 'Ford F150Lightning',\n",
    "        'Taycan': 'Porsche Taycan',\n",
    "        'EV6': 'Kia EV6',\n",
    "        \n",
    "        # Other common internet abbr & slangs\n",
    "        'LOL': 'Laugh out loud',\n",
    "        'TTYL': 'Talk to you later',\n",
    "        'ASAP': 'As soon as possible',\n",
    "        'FYI': 'For your information',\n",
    "        'JK': 'Just kidding',\n",
    "        'IDC': 'I dont care',\n",
    "        'FTW': 'For the win',\n",
    "        'LMAO': 'Laughing my ass off',\n",
    "        'LMFAO': 'Laughing my fucking ass off',\n",
    "        'BFF': 'Best friend forever',\n",
    "        'MFW': 'My face when',\n",
    "        'TFW': 'That feeling when',\n",
    "        'G2G': 'Got to go',\n",
    "        'MSG': 'Message',\n",
    "    }\n",
    "    \n",
    "    # Standardize all cases in mapper\n",
    "    abbr_mapper =  {key.lower(): val for key, val in abbr_mapper.items()}\n",
    "\n",
    "    # Regex to match every key\n",
    "    # r'\\b' -> Matches from start to finish\n",
    "    # (?:) -> Capturing group\n",
    "    # '|'.join(mapper) -> Loop and form pattern of all keys\n",
    "    pattern = r'\\b(?:' + r'|'.join(re.escape(abbr) for abbr in [k.lower() for k in abbr_mapper.keys()]) + r')\\b'\n",
    "    # Compile and replace\n",
    "    pattern = re.compile(pattern, re.IGNORECASE)\n",
    "    # Count\n",
    "    num_substitutions = len(re.findall(pattern, text))\n",
    "    replaced_text = pattern.sub(lambda match: abbr_mapper[match.group(0).lower()], text)\n",
    "\n",
    "    return replaced_text, num_substitutions\n",
    "\n",
    "\n",
    "# Apply to text field of df\n",
    "merged_df['text'], counts = zip(*merged_df['text'].apply(replace_abbr))\n",
    "print(f\"Number of changes: {sum(counts)}\")"
   ],
   "metadata": {
    "collapsed": false,
    "ExecuteTime": {
     "end_time": "2024-04-04T12:06:49.271812Z",
     "start_time": "2024-04-04T12:06:41.630474Z"
    }
   },
   "id": "fa96ede635bf2c4",
   "execution_count": 18
  },
  {
   "cell_type": "code",
   "outputs": [
    {
     "data": {
      "text/plain": "0    My reward for finally finishing my bachelor’s ...\n1                                           100k miles\n2                    Rabbit stowage area on the BMW I3\n3     Picked her up straight from the source in Munich\n4           Picked up this little gem over the weekend\nName: text, dtype: object"
     },
     "execution_count": 19,
     "metadata": {},
     "output_type": "execute_result"
    }
   ],
   "source": [
    "merged_df['text'].head()"
   ],
   "metadata": {
    "collapsed": false,
    "ExecuteTime": {
     "end_time": "2024-04-04T12:06:49.277178Z",
     "start_time": "2024-04-04T12:06:49.272780Z"
    }
   },
   "id": "e7ea7e8b642a9fa3",
   "execution_count": 19
  },
  {
   "cell_type": "markdown",
   "source": [
    "# Check vocab size"
   ],
   "metadata": {
    "collapsed": false
   },
   "id": "5b33042bcfbb3669"
  },
  {
   "cell_type": "code",
   "outputs": [],
   "source": [
    "def count_unique_words(df):\n",
    "    # Combine all rows into a single list\n",
    "    corpus = ' '.join(df.tolist())\n",
    "    # Split/tokenize\n",
    "    tokens = corpus.split()\n",
    "    # Lowercase all words\n",
    "    tokens = [word.lower() for word in tokens]\n",
    "    # Remove duplicate values\n",
    "    unique_tokens = set(tokens)\n",
    "    return len(unique_tokens)\n",
    "\n",
    "def count_total_words(df):\n",
    "    # Combine all rows into a single list\n",
    "    corpus = ' '.join(df.tolist())\n",
    "    # Split/tokenize\n",
    "    tokens = corpus.split()\n",
    "    return len(tokens)"
   ],
   "metadata": {
    "collapsed": false,
    "ExecuteTime": {
     "end_time": "2024-04-04T12:06:49.281555Z",
     "start_time": "2024-04-04T12:06:49.278174Z"
    }
   },
   "id": "e37af63f88aa06bc",
   "execution_count": 20
  },
  {
   "cell_type": "code",
   "outputs": [
    {
     "name": "stdout",
     "output_type": "stream",
     "text": [
      "Number of total words: 1176272\n",
      "Number of unique words: 74055\n"
     ]
    }
   ],
   "source": [
    "print(f\"Number of total words: {count_total_words(merged_df['text'])}\")\n",
    "print(f\"Number of unique words: {count_unique_words(merged_df['text'])}\")"
   ],
   "metadata": {
    "collapsed": false,
    "ExecuteTime": {
     "end_time": "2024-04-04T12:06:49.614779Z",
     "start_time": "2024-04-04T12:06:49.282551Z"
    }
   },
   "id": "c0f466e340e7a397",
   "execution_count": 21
  },
  {
   "cell_type": "markdown",
   "source": [
    "## Check vocab size after removing stopwords"
   ],
   "metadata": {
    "collapsed": false
   },
   "id": "c3781b991d08547a"
  },
  {
   "cell_type": "code",
   "outputs": [
    {
     "name": "stderr",
     "output_type": "stream",
     "text": [
      "[nltk_data] Downloading package stopwords to\n",
      "[nltk_data]     C:\\Users\\Aozy\\AppData\\Roaming\\nltk_data...\n",
      "[nltk_data]   Package stopwords is already up-to-date!\n"
     ]
    },
    {
     "name": "stdout",
     "output_type": "stream",
     "text": [
      "Number of total words: 662004\n",
      "Number of unique words: 73896\n"
     ]
    }
   ],
   "source": [
    "from nltk.corpus import stopwords\n",
    "import nltk\n",
    "nltk.download('stopwords')\n",
    "\n",
    "def remove_stopwords(text):\n",
    "    # tokenize\n",
    "    tokens = text.split()\n",
    "    # Remove stopwords\n",
    "    tokens = [word for word in tokens if word.lower() not in stopwords.words('english')]\n",
    "    return ' '.join(tokens)\n",
    "\n",
    "# Apply to text field of df\n",
    "merged_df_no_stop = merged_df['text'].apply(remove_stopwords)\n",
    "\n",
    "# Check vocab size\n",
    "print(f\"Number of total words: {count_total_words(merged_df_no_stop)}\")\n",
    "print(f\"Number of unique words: {count_unique_words(merged_df_no_stop)}\")"
   ],
   "metadata": {
    "collapsed": false,
    "ExecuteTime": {
     "end_time": "2024-04-04T12:10:26.743991Z",
     "start_time": "2024-04-04T12:06:49.615778Z"
    }
   },
   "id": "e746e847fbfc26d8",
   "execution_count": 22
  },
  {
   "cell_type": "markdown",
   "source": [
    "## Check vocab size after stemming"
   ],
   "metadata": {
    "collapsed": false
   },
   "id": "303081f2c2839a1c"
  },
  {
   "cell_type": "code",
   "outputs": [
    {
     "name": "stderr",
     "output_type": "stream",
     "text": [
      "[nltk_data] Downloading package punkt to\n",
      "[nltk_data]     C:\\Users\\Aozy\\AppData\\Roaming\\nltk_data...\n",
      "[nltk_data]   Package punkt is already up-to-date!\n"
     ]
    },
    {
     "name": "stdout",
     "output_type": "stream",
     "text": [
      "Number of total words: 1388027\n",
      "Number of unique words: 30773\n"
     ]
    }
   ],
   "source": [
    "# Stemming\n",
    "from nltk.stem import PorterStemmer\n",
    "from nltk.tokenize import word_tokenize\n",
    "import nltk\n",
    "\n",
    "nltk.download('punkt')\n",
    "\n",
    "def stem_text(text):\n",
    "    # Tokenize\n",
    "    tokens = word_tokenize(text)\n",
    "    # Stem\n",
    "    ps = PorterStemmer()\n",
    "    stemmed_tokens = [ps.stem(token) for token in tokens]\n",
    "    return ' '.join(stemmed_tokens)\n",
    "\n",
    "# Apply to text field of df\n",
    "merged_df_stemmed = merged_df['text'].apply(stem_text)\n",
    "\n",
    "# Check vocab size\n",
    "print(f\"Number of total words: {count_total_words(merged_df_stemmed)}\")\n",
    "print(f\"Number of unique words: {count_unique_words(merged_df_stemmed)}\")"
   ],
   "metadata": {
    "collapsed": false,
    "ExecuteTime": {
     "end_time": "2024-04-04T12:10:47.148750Z",
     "start_time": "2024-04-04T12:10:26.744986Z"
    }
   },
   "id": "b5bcb3c1463fce4a",
   "execution_count": 23
  },
  {
   "cell_type": "markdown",
   "source": [
    "# Convert UTC double date into datetime"
   ],
   "metadata": {
    "collapsed": false
   },
   "id": "ea38f58b97b991ce"
  },
  {
   "cell_type": "code",
   "outputs": [],
   "source": [
    "import datetime\n",
    "import pytz\n",
    "from math import isnan\n",
    "\n",
    "def convert_datetime(unix_timestamp):\n",
    "    if not isnan(unix_timestamp):\n",
    "        tz = pytz.timezone('Asia/Singapore')\n",
    "        dt = datetime.datetime.fromtimestamp(unix_timestamp, tz=tz)\n",
    "        # For fractional seconds, not useful since mostly 0s\n",
    "        # return dt.strftime('%Y-%m-%dT%H:%M:%S.%fZ')\n",
    "        return dt.strftime('%Y-%m-%dT%H:%M:%SZ')\n",
    "    return unix_timestamp\n",
    "\n",
    "# Apply to created_utc field\n",
    "merged_df['created_utc'] = merged_df['created_utc'].apply(convert_datetime)\n",
    "# Convert edited field\n",
    "merged_df['edited'] = merged_df['edited'].apply(convert_datetime)"
   ],
   "metadata": {
    "collapsed": false,
    "ExecuteTime": {
     "end_time": "2024-04-04T12:10:47.828167Z",
     "start_time": "2024-04-04T12:10:47.149745Z"
    }
   },
   "id": "f945e3c6b429d56e",
   "execution_count": 24
  },
  {
   "cell_type": "markdown",
   "source": [
    "## Get average post and comment text length"
   ],
   "metadata": {
    "collapsed": false
   },
   "id": "555839aeab368bd"
  },
  {
   "cell_type": "code",
   "outputs": [
    {
     "name": "stdout",
     "output_type": "stream",
     "text": [
      "Average text  length: 23.830952815089447\n"
     ]
    }
   ],
   "source": [
    "def get_avg_text_length(df):\n",
    "    # Combine all rows into a single list\n",
    "    corpus = ' '.join(df.tolist())\n",
    "    # Split/tokenize\n",
    "    tokens = corpus.split()\n",
    "    return len(tokens) / df.shape[0]\n",
    "\n",
    "print(f\"Average text  length: {get_avg_text_length(merged_df['text'])}\")"
   ],
   "metadata": {
    "collapsed": false,
    "ExecuteTime": {
     "end_time": "2024-04-04T12:16:16.810157Z",
     "start_time": "2024-04-04T12:16:16.711135Z"
    }
   },
   "id": "acf625de1c423194",
   "execution_count": 31
  },
  {
   "cell_type": "markdown",
   "source": [
    "# Export cleaned data"
   ],
   "metadata": {
    "collapsed": false
   },
   "id": "869f3c250beeeada"
  },
  {
   "cell_type": "code",
   "outputs": [],
   "source": [
    "# Export to csv\n",
    "merged_df.to_csv(f'{data_dir}/cleaned_combined_data.csv', index=False)"
   ],
   "metadata": {
    "collapsed": false,
    "ExecuteTime": {
     "end_time": "2024-04-04T12:10:48.111999Z",
     "start_time": "2024-04-04T12:10:47.829162Z"
    }
   },
   "id": "446ebca842cf51af",
   "execution_count": 25
  },
  {
   "cell_type": "code",
   "outputs": [],
   "source": [],
   "metadata": {
    "collapsed": false
   },
   "id": "53f991858fbd409e"
  }
 ],
 "metadata": {
  "kernelspec": {
   "display_name": "Python 3",
   "language": "python",
   "name": "python3"
  },
  "language_info": {
   "codemirror_mode": {
    "name": "ipython",
    "version": 2
   },
   "file_extension": ".py",
   "mimetype": "text/x-python",
   "name": "python",
   "nbconvert_exporter": "python",
   "pygments_lexer": "ipython2",
   "version": "2.7.6"
  }
 },
 "nbformat": 4,
 "nbformat_minor": 5
}
