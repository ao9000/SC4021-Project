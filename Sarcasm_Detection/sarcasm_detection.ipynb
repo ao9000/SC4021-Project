{
 "cells": [
  {
   "cell_type": "code",
   "execution_count": 3,
   "id": "2e4a5379-7267-4d33-9e9e-b7233415f450",
   "metadata": {},
   "outputs": [],
   "source": [
    "import pandas as pd\n",
    "\n",
    "# Read the CSV file\n",
    "df = pd.read_csv('popular_comment_Bolt_annotate_Merged.csv')\n",
    "\n",
    "# Create a new column based on irony 1 and irony 2 columns\n",
    "df['true_label'] = df[['irony 1', 'irony 2']].max(axis=1)\n",
    "\n",
    "# Remove rows where either remove 1 or remove 2 contains a '1' or '2'\n",
    "df = df[(df['remove 1'] != 1) & (df['remove 1'] != 2) & (df['remove 2'] != 1) & (df['remove 2'] != 2)]\n",
    "\n",
    "# Write the modified DataFrame to a new CSV file\n",
    "df.to_csv('true_label.csv', index=False)"
   ]
  },
  {
   "cell_type": "code",
   "execution_count": 4,
   "id": "0755d2fd-1962-41b7-bf31-f6a57f93bb4f",
   "metadata": {},
   "outputs": [
    {
     "name": "stderr",
     "output_type": "stream",
     "text": [
      "You are using the default legacy behaviour of the <class 'transformers.models.t5.tokenization_t5.T5Tokenizer'>. This is expected, and simply means that the `legacy` (previous) behavior will be used so nothing changes for you. If you want to use the new behaviour, set `legacy=False`. This should only be set if you understand what it means, and thoroughly read the reason why this was added as explained in https://github.com/huggingface/transformers/pull/24565\n",
      "C:\\Users\\Admin\\anaconda3\\Lib\\site-packages\\transformers\\models\\auto\\modeling_auto.py:1682: FutureWarning: The class `AutoModelWithLMHead` is deprecated and will be removed in a future version. Please use `AutoModelForCausalLM` for causal language models, `AutoModelForMaskedLM` for masked language models and `AutoModelForSeq2SeqLM` for encoder-decoder models.\n",
      "  warnings.warn(\n"
     ]
    },
    {
     "name": "stdout",
     "output_type": "stream",
     "text": [
      "Running data through pre-trained model...\n",
      "Predictions have been added as a new column and saved to predication.csv\n"
     ]
    }
   ],
   "source": [
    "import numpy as np\n",
    "from transformers import AutoTokenizer, AutoModelWithLMHead\n",
    "\n",
    "tokenizer = AutoTokenizer.from_pretrained(\"mrm8488/t5-base-finetuned-sarcasm-twitter\")\n",
    "model = AutoModelWithLMHead.from_pretrained(\"mrm8488/t5-base-finetuned-sarcasm-twitter\")\n",
    "\n",
    "def eval_conversation(text):\n",
    "  input_ids = tokenizer.encode(text + '</s>', return_tensors='pt',  truncation=True)\n",
    "  output = model.generate(input_ids=input_ids, max_length=3)\n",
    "  dec = [tokenizer.decode(ids) for ids in output]\n",
    "  label = dec[0]\n",
    "  return label[6:]\n",
    "\n",
    "# Load CSV data\n",
    "csv_file_path = 'true_label.csv'\n",
    "data = pd.read_csv(csv_file_path)\n",
    "\n",
    "# Assuming 'text' column contains the text data and 'truth_label' column contains the true labels \n",
    "X_test = data['text']\n",
    "y_test = data['true_label']\n",
    "\n",
    "# Initialize an empty list to store predictions\n",
    "predictions = []\n",
    "\n",
    "print('Running data through pre-trained model...')\n",
    "\n",
    "# Iterate through each row (line) in the text column of the DataFrame\n",
    "for text in X_test:\n",
    "    predicted_label = eval_conversation(text)\n",
    "    # print(predicted_label)\n",
    "    if predicted_label == 'derison':\n",
    "        predictions.append(1)\n",
    "    else:\n",
    "        predictions.append(0)\n",
    "    \n",
    "# Add the list of predictions as a new column in the DataFrame\n",
    "data['predicted_label'] = predictions\n",
    "\n",
    "# Save the updated DataFrame to a new CSV file\n",
    "output_csv_file_path = 'predication.csv'\n",
    "data.to_csv(output_csv_file_path, index=False)\n",
    "\n",
    "print(f\"Predictions have been added as a new column and saved to {output_csv_file_path}\")\n"
   ]
  },
  {
   "cell_type": "code",
   "execution_count": 9,
   "id": "32eabeb8-e7bd-4e6f-9518-5855da15b92b",
   "metadata": {},
   "outputs": [
    {
     "name": "stdout",
     "output_type": "stream",
     "text": [
      "Accuracy: 0.5219611848825332\n",
      "Precision: 0.11042944785276074\n",
      "Recall: 0.6206896551724138\n",
      "F1-score: 0.1875\n",
      "\n",
      "Classification Report:\n",
      "              precision    recall  f1-score   support\n",
      "\n",
      "           0       1.00      1.00      1.00       892\n",
      "           1       1.00      1.00      1.00        87\n",
      "\n",
      "    accuracy                           1.00       979\n",
      "   macro avg       1.00      1.00      1.00       979\n",
      "weighted avg       1.00      1.00      1.00       979\n",
      "\n"
     ]
    }
   ],
   "source": [
    "from sklearn.metrics import accuracy_score, precision_score, recall_score, classification_report, f1_score\n",
    "\n",
    "# Load the CSV file that contains the true labels and predicted labels\n",
    "csv_file_path = 'predication.csv'\n",
    "data = pd.read_csv(csv_file_path)\n",
    "\n",
    "# Assuming 'label' column contains the true labels and 'predicted_label' column contains the model's predictions\n",
    "y_true = data['true_label']\n",
    "y_pred = data['predicted_label']\n",
    "\n",
    "# Calculate accuracy\n",
    "accuracy = accuracy_score(y_true, y_pred)\n",
    "print(\"Accuracy:\", accuracy)\n",
    "\n",
    "# Calculate precision and recall for the sarcastic class\n",
    "# Define the positive label as the sarcastic label (usually 'sarcastic' or 1, adjust as needed)\n",
    "positive_label = 1  # Adjust this as per your data\n",
    "\n",
    "# Calculate precision\n",
    "precision = precision_score(y_true, y_pred, pos_label=positive_label)\n",
    "print(\"Precision:\", precision)\n",
    "\n",
    "# Calculate recall\n",
    "recall = recall_score(y_true, y_pred, pos_label=positive_label)\n",
    "print(\"Recall:\", recall)\n",
    "\n",
    "# Calculate F1-score\n",
    "f1 = f1_score(y_true, y_pred, pos_label=positive_label)\n",
    "print(\"F1-score:\", f1)\n",
    "\n",
    "#Print classification report for more detailed evaluation\n",
    "print(\"\\nClassification Report:\")\n",
    "print(classification_report(y_test, y_true))"
   ]
  },
  {
   "cell_type": "code",
   "execution_count": null,
   "id": "83be9c81-24a5-4f45-8a3f-e6e9a06d0ca1",
   "metadata": {},
   "outputs": [],
   "source": []
  }
 ],
 "metadata": {
  "kernelspec": {
   "display_name": "Python 3 (ipykernel)",
   "language": "python",
   "name": "python3"
  },
  "language_info": {
   "codemirror_mode": {
    "name": "ipython",
    "version": 3
   },
   "file_extension": ".py",
   "mimetype": "text/x-python",
   "name": "python",
   "nbconvert_exporter": "python",
   "pygments_lexer": "ipython3",
   "version": "3.11.7"
  }
 },
 "nbformat": 4,
 "nbformat_minor": 5
}
