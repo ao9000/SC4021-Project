{
 "cells": [
  {
   "cell_type": "markdown",
   "source": [
    "# Create Solr Core"
   ],
   "metadata": {
    "collapsed": false
   },
   "id": "89b03a361862001f"
  },
  {
   "cell_type": "code",
   "outputs": [
    {
     "name": "stdout",
     "output_type": "stream",
     "text": [
      "{\n",
      "  \"responseHeader\":{\n",
      "    \"status\":0,\n",
      "    \"QTime\":32\n",
      "  }\n",
      "}\n"
     ]
    },
    {
     "name": "stderr",
     "output_type": "stream",
     "text": [
      "  % Total    % Received % Xferd  Average Speed   Time    Time     Time  Current\n",
      "                                 Dload  Upload   Total   Spent    Left  Speed\n",
      "\n",
      "  0     0    0     0    0     0      0      0 --:--:-- --:--:-- --:--:--     0\n",
      "100    59  100    59    0     0    239      0 --:--:-- --:--:-- --:--:--   239\n"
     ]
    }
   ],
   "source": [
    "# Delete any existing core\n",
    "!curl -X GET \"http://localhost:8983/solr/admin/cores?action=UNLOAD&core=search_reddit&deleteInstanceDir=true&deleteDataDir=true\""
   ],
   "metadata": {
    "collapsed": false,
    "ExecuteTime": {
     "end_time": "2024-03-22T19:47:22.405493Z",
     "start_time": "2024-03-22T19:47:22.130194Z"
    }
   },
   "id": "f076c3ba137ec58e",
   "execution_count": 1
  },
  {
   "cell_type": "code",
   "outputs": [
    {
     "data": {
      "text/plain": "'C:\\\\solr-9.5.0-slim\\\\server\\\\solr\\\\search_reddit'"
     },
     "execution_count": 2,
     "metadata": {},
     "output_type": "execute_result"
    }
   ],
   "source": [
    "import shutil\n",
    "\n",
    "# Create directory\n",
    "shutil.copytree(\"C:\\\\solr-9.5.0-slim\\\\server\\\\solr\\\\configsets\\\\_default\", \"C:\\\\solr-9.5.0-slim\\\\server\\\\solr\\\\search_reddit\")"
   ],
   "metadata": {
    "collapsed": false,
    "ExecuteTime": {
     "end_time": "2024-03-22T19:47:23.783337Z",
     "start_time": "2024-03-22T19:47:23.748679Z"
    }
   },
   "id": "d77a05ff87aff2e9",
   "execution_count": 2
  },
  {
   "cell_type": "code",
   "outputs": [
    {
     "name": "stdout",
     "output_type": "stream",
     "text": [
      "{\n",
      "  \"responseHeader\":{\n",
      "    \"status\":0,\n",
      "    \"QTime\":18185\n",
      "  },\n",
      "  \"core\":\"search_reddit\"\n",
      "}\n"
     ]
    },
    {
     "name": "stderr",
     "output_type": "stream",
     "text": [
      "  % Total    % Received % Xferd  Average Speed   Time    Time     Time  Current\n",
      "                                 Dload  Upload   Total   Spent    Left  Speed\n",
      "\n",
      "  0     0    0     0    0     0      0      0 --:--:-- --:--:-- --:--:--     0\n",
      "  0     0    0     0    0     0      0      0 --:--:--  0:00:01 --:--:--     0\n",
      "  0     0    0     0    0     0      0      0 --:--:--  0:00:02 --:--:--     0\n",
      "  0     0    0     0    0     0      0      0 --:--:--  0:00:03 --:--:--     0\n",
      "  0     0    0     0    0     0      0      0 --:--:--  0:00:04 --:--:--     0\n",
      "  0     0    0     0    0     0      0      0 --:--:--  0:00:05 --:--:--     0\n",
      "  0     0    0     0    0     0      0      0 --:--:--  0:00:06 --:--:--     0\n",
      "  0     0    0     0    0     0      0      0 --:--:--  0:00:07 --:--:--     0\n",
      "  0     0    0     0    0     0      0      0 --:--:--  0:00:08 --:--:--     0\n",
      "  0     0    0     0    0     0      0      0 --:--:--  0:00:09 --:--:--     0\n",
      "  0     0    0     0    0     0      0      0 --:--:--  0:00:10 --:--:--     0\n",
      "  0     0    0     0    0     0      0      0 --:--:--  0:00:11 --:--:--     0\n",
      "  0     0    0     0    0     0      0      0 --:--:--  0:00:12 --:--:--     0\n",
      "  0     0    0     0    0     0      0      0 --:--:--  0:00:13 --:--:--     0\n",
      "  0     0    0     0    0     0      0      0 --:--:--  0:00:14 --:--:--     0\n",
      "  0     0    0     0    0     0      0      0 --:--:--  0:00:15 --:--:--     0\n",
      "  0     0    0     0    0     0      0      0 --:--:--  0:00:16 --:--:--     0\n",
      "  0     0    0     0    0     0      0      0 --:--:--  0:00:17 --:--:--     0\n",
      "  0     0    0     0    0     0      0      0 --:--:--  0:00:18 --:--:--     0\n",
      "100    88  100    88    0     0      4      0  0:00:22  0:00:18  0:00:04    21\n"
     ]
    }
   ],
   "source": [
    "# Create solr core with default settings\n",
    "!curl -X GET \"http://localhost:8983/solr/admin/cores?action=CREATE&name=search_reddit&instanceDir=search_reddit\""
   ],
   "metadata": {
    "collapsed": false,
    "ExecuteTime": {
     "end_time": "2024-03-22T19:47:43.539026Z",
     "start_time": "2024-03-22T19:47:25.118609Z"
    }
   },
   "id": "ea4be026708eee84",
   "execution_count": 3
  },
  {
   "cell_type": "markdown",
   "source": [
    "# Solr recommends we use HTTP requests to edit schema. Because of data integrity issues"
   ],
   "metadata": {
    "collapsed": false
   },
   "id": "63a42fbef6fe8ed8"
  },
  {
   "cell_type": "code",
   "outputs": [
    {
     "name": "stdout",
     "output_type": "stream",
     "text": [
      "{\n",
      "  \"responseHeader\":{\n",
      "    \"status\":0,\n",
      "    \"QTime\":0\n",
      "  },\n",
      "  \"fields\":[{\n",
      "    \"name\":\"_nest_path_\",\n",
      "    \"type\":\"_nest_path_\"\n",
      "  },{\n",
      "    \"name\":\"_root_\",\n",
      "    \"type\":\"string\",\n",
      "    \"indexed\":true,\n",
      "    \"stored\":false,\n",
      "    \"docValues\":false\n",
      "  },{\n",
      "    \"name\":\"_text_\",\n",
      "    \"type\":\"text_general\",\n",
      "    \"multiValued\":true,\n",
      "    \"indexed\":true,\n",
      "    \"stored\":false\n",
      "  },{\n",
      "    \"name\":\"_version_\",\n",
      "    \"type\":\"plong\",\n",
      "    \"indexed\":false,\n",
      "    \"stored\":false\n",
      "  },{\n",
      "    \"name\":\"id\",\n",
      "    \"type\":\"string\",\n",
      "    \"multiValued\":false,\n",
      "    \"indexed\":true,\n",
      "    \"required\":true,\n",
      "    \"stored\":true\n",
      "  }]\n",
      "}\n"
     ]
    },
    {
     "name": "stderr",
     "output_type": "stream",
     "text": [
      "  % Total    % Received % Xferd  Average Speed   Time    Time     Time  Current\n",
      "                                 Dload  Upload   Total   Spent    Left  Speed\n",
      "\n",
      "  0     0    0     0    0     0      0      0 --:--:-- --:--:-- --:--:--     0\n",
      "100   574  100   574    0     0   2634      0 --:--:-- --:--:-- --:--:--  2645\n"
     ]
    }
   ],
   "source": [
    "# Get current schema, should be default/reserved fields\n",
    "!curl -X GET \"http://localhost:8983/solr/search_reddit/schema/fields\""
   ],
   "metadata": {
    "collapsed": false,
    "ExecuteTime": {
     "end_time": "2024-03-22T19:47:43.787766Z",
     "start_time": "2024-03-22T19:47:43.540022Z"
    }
   },
   "id": "b17e8c3257763d3",
   "execution_count": 4
  },
  {
   "cell_type": "markdown",
   "source": [
    "# Add custom schema & index\n",
    "\n",
    "https://solr.apache.org/guide/6_6/field-properties-by-use-case.html#field-properties-by-use-case\n",
    "https://solr.apache.org/guide/6_6/field-type-definitions-and-properties.html#field-type-definitions-and-properties"
   ],
   "metadata": {
    "collapsed": false
   },
   "id": "d4aeb952e90cba9d"
  },
  {
   "cell_type": "markdown",
   "source": [
    "## With only basic cleaning done beforehand, the rest have to be done in Solr. Therefore we define a custom field type for text\n",
    "\n",
    "- https://solr.apache.org/guide/6_6/filter-descriptions.html\n",
    "\n",
    "```\n",
    "  <fieldType name=\"text_reddit\" class=\"solr.TextField\" positionIncrementGap=\"100\" multiValued=\"true\">\n",
    "    <analyzer type=\"index\">\n",
    "      <tokenizer class=\"solr.StandardTokenizerFactory\"/>\n",
    "      <filter class=\"solr.LowerCaseFilterFactory\"/>\n",
    "      <filter class=\"solr.StopFilterFactory\" ignoreCase=\"true\" words=\"stopwords.txt\"/>\n",
    "      <filter class=\"solr.SnowballPorterFilterFactory\" language=\"English\"/>\n",
    "      <filter class=\"solr.NGramFilterFactory\" minGramSize=\"1\" maxGramSize=\"10\"/>\n",
    "    </analyzer>\n",
    "    <analyzer type=\"query\">\n",
    "      <tokenizer class=\"solr.StandardTokenizerFactory\"/>\n",
    "      <filter class=\"solr.LowerCaseFilterFactory\"/>\n",
    "      <filter class=\"solr.StopFilterFactory\" ignoreCase=\"true\" words=\"stopwords.txt\"/>\n",
    "      <filter class=\"solr.SnowballPorterFilterFactory\" language=\"English\"/>\n",
    "      <filter class=\"solr.NGramFilterFactory\" minGramSize=\"1\" maxGramSize=\"10\"/>\n",
    "      <filter class=\"solr.SynonymGraphFilterFactory\" ignoreCase=\"true\" synonyms=\"synonyms.txt\" expand=\"true\"/>\n",
    "    </analyzer>\n",
    "```"
   ],
   "metadata": {
    "collapsed": false
   },
   "id": "8f34e9690f25545d"
  },
  {
   "cell_type": "code",
   "outputs": [
    {
     "name": "stdout",
     "output_type": "stream",
     "text": [
      "{\n",
      "  \"responseHeader\":{\n",
      "    \"status\":0,\n",
      "    \"QTime\":18211\n",
      "  }\n",
      "}\n"
     ]
    },
    {
     "name": "stderr",
     "output_type": "stream",
     "text": [
      "  % Total    % Received % Xferd  Average Speed   Time    Time     Time  Current\n",
      "                                 Dload  Upload   Total   Spent    Left  Speed\n",
      "\n",
      "  0     0    0     0    0     0      0      0 --:--:-- --:--:-- --:--:--     0\n",
      "100   779    0     0  100   779      0    635  0:00:01  0:00:01 --:--:--   635\n",
      "100   779    0     0  100   779      0    347  0:00:02  0:00:02 --:--:--   347\n",
      "100   779    0     0  100   779      0    240  0:00:03  0:00:03 --:--:--   240\n",
      "100   779    0     0  100   779      0    183  0:00:04  0:00:04 --:--:--   183\n",
      "100   779    0     0  100   779      0    148  0:00:05  0:00:05 --:--:--   148\n",
      "100   779    0     0  100   779      0    124  0:00:06  0:00:06 --:--:--     0\n",
      "100   779    0     0  100   779      0    107  0:00:07  0:00:07 --:--:--     0\n",
      "100   779    0     0  100   779      0     94  0:00:08  0:00:08 --:--:--     0\n",
      "100   779    0     0  100   779      0     83  0:00:09  0:00:09 --:--:--     0\n",
      "100   779    0     0  100   779      0     75  0:00:10  0:00:10 --:--:--     0\n",
      "100   779    0     0  100   779      0     68  0:00:11  0:00:11 --:--:--     0\n",
      "100   779    0     0  100   779      0     63  0:00:12  0:00:12 --:--:--     0\n",
      "100   779    0     0  100   779      0     58  0:00:13  0:00:13 --:--:--     0\n",
      "100   779    0     0  100   779      0     54  0:00:14  0:00:14 --:--:--     0\n",
      "100   779    0     0  100   779      0     50  0:00:15  0:00:15 --:--:--     0\n",
      "100   779    0     0  100   779      0     47  0:00:16  0:00:16 --:--:--     0\n",
      "100   779    0     0  100   779      0     44  0:00:17  0:00:17 --:--:--     0\n",
      "100   779    0     0  100   779      0     42  0:00:18  0:00:18 --:--:--     0\n",
      "100   841  100    62  100   779      3     42  0:00:20  0:00:18  0:00:02    15\n"
     ]
    }
   ],
   "source": [
    "# Add specific filtering/analysis operations\n",
    "!curl -X POST -H \"Content-type:application/json\" --data-binary \"{\"add-field-type\":{\"name\":\"text_reddit\",\"class\":\"solr.TextField\",\"positionIncrementGap\":\"100\",\"multiValued\":true,\"indexAnalyzer\":{\"tokenizer\":{\"class\":\"solr.StandardTokenizerFactory\"},\"filters\":[{\"class\":\"solr.LowerCaseFilterFactory\"},{\"class\":\"solr.StopFilterFactory\",\"ignoreCase\":true,\"words\":\"stopwords.txt\"},{\"class\":\"solr.SnowballPorterFilterFactory\",\"language\":\"English\"},{\"class\":\"solr.NGramFilterFactory\",\"minGramSize\":1,\"maxGramSize\":10}]},\"queryAnalyzer\":{\"tokenizer\":{\"class\":\"solr.StandardTokenizerFactory\"},\"filters\":[{\"class\":\"solr.LowerCaseFilterFactory\"},{\"class\":\"solr.StopFilterFactory\",\"ignoreCase\":true,\"words\":\"stopwords.txt\"},{\"class\":\"solr.SnowballPorterFilterFactory\",\"language\":\"English\"},{\"class\":\"solr.NGramFilterFactory\",\"minGramSize\":1,\"maxGramSize\":10},{\"class\":\"solr.SynonymGraphFilterFactory\",\"synonyms\":\"synonyms.txt\",\"expand\":true,\"ignoreCase\":true}]}}}\" http://localhost:8983/api/cores/search_reddit/schema"
   ],
   "metadata": {
    "collapsed": false,
    "ExecuteTime": {
     "end_time": "2024-03-22T19:48:02.255278Z",
     "start_time": "2024-03-22T19:47:43.788763Z"
    }
   },
   "id": "cd611ba23e90e0b0",
   "execution_count": 5
  },
  {
   "cell_type": "markdown",
   "source": [
    "## Field types explained\n",
    "- indexed -> If true, the value of the field can be used in queries to retrieve matching documents.\n",
    "- stored -> If true, the actual value of the field can be retrieved by queries.\n",
    "\n",
    "Our search engine primarily searches by comment & post texts\n",
    "\n",
    "```\n",
    "<field name=\"_nest_path_\" type=\"_nest_path_\"/>\n",
    "<field name=\"_root_\" type=\"string\" indexed=\"true\" stored=\"false\" docValues=\"false\"/>\n",
    "<field name=\"_text_\" type=\"text_general\" multiValued=\"true\" indexed=\"true\" stored=\"false\"/>\n",
    "<field name=\"_version_\" type=\"plong\" indexed=\"false\" stored=\"false\"/>\n",
    "<field name=\"author\" type=\"text_general\"/>\n",
    "<field name=\"created_utc\" type=\"pdates\"/>\n",
    "<field name=\"edited\" type=\"pdates\"/>\n",
    "<field name=\"id\" type=\"string\" multiValued=\"false\" indexed=\"true\" required=\"true\" stored=\"true\"/>\n",
    "<field name=\"num_comments\" type=\"pdoubles\"/>\n",
    "<field name=\"permalink\" type=\"text_general\"/>\n",
    "<field name=\"post_id\" type=\"text_general\"/>\n",
    "<field name=\"score\" type=\"plongs\"/>\n",
    "<field name=\"subreddit_name\" type=\"text_general\"/>\n",
    "<field name=\"text\" type=\"text_general\"/>\n",
    "<field name=\"type\" type=\"text_general\"/>\n",
    "<field name=\"upvote_ratio\" type=\"pdoubles\"/>\n",
    "<field name=\"url\" type=\"text_general\"/>\n",
    "```"
   ],
   "metadata": {
    "collapsed": false
   },
   "id": "9e762b19e1b35c47"
  },
  {
   "cell_type": "code",
   "outputs": [
    {
     "name": "stdout",
     "output_type": "stream",
     "text": [
      "{\n",
      "  \"responseHeader\":{\n",
      "    \"status\":0,\n",
      "    \"QTime\":18188\n",
      "  }\n",
      "}\n"
     ]
    },
    {
     "name": "stderr",
     "output_type": "stream",
     "text": [
      "  % Total    % Received % Xferd  Average Speed   Time    Time     Time  Current\n",
      "                                 Dload  Upload   Total   Spent    Left  Speed\n",
      "\n",
      "  0     0    0     0    0     0      0      0 --:--:-- --:--:-- --:--:--     0\n",
      "  0     0    0     0    0     0      0      0 --:--:-- --:--:-- --:--:--     0\n",
      "100   112    0     0  100   112      0     92  0:00:01  0:00:01 --:--:--    92\n",
      "100   112    0     0  100   112      0     50  0:00:02  0:00:02 --:--:--    50\n",
      "100   112    0     0  100   112      0     34  0:00:03  0:00:03 --:--:--    34\n",
      "100   112    0     0  100   112      0     26  0:00:04  0:00:04 --:--:--    26\n",
      "100   112    0     0  100   112      0     21  0:00:05  0:00:05 --:--:--    22\n",
      "100   112    0     0  100   112      0     17  0:00:06  0:00:06 --:--:--     0\n",
      "100   112    0     0  100   112      0     15  0:00:07  0:00:07 --:--:--     0\n",
      "100   112    0     0  100   112      0     13  0:00:08  0:00:08 --:--:--     0\n",
      "100   112    0     0  100   112      0     12  0:00:09  0:00:09 --:--:--     0\n",
      "100   112    0     0  100   112      0     10  0:00:11  0:00:10  0:00:01     0\n",
      "100   112    0     0  100   112      0      9  0:00:12  0:00:11  0:00:01     0\n",
      "100   112    0     0  100   112      0      9  0:00:12  0:00:12 --:--:--     0\n",
      "100   112    0     0  100   112      0      8  0:00:14  0:00:13  0:00:01     0\n",
      "100   112    0     0  100   112      0      7  0:00:16  0:00:14  0:00:02     0\n",
      "100   112    0     0  100   112      0      7  0:00:16  0:00:15  0:00:01     0\n",
      "100   112    0     0  100   112      0      6  0:00:18  0:00:16  0:00:02     0\n",
      "100   112    0     0  100   112      0      6  0:00:18  0:00:17  0:00:01     0\n",
      "100   112    0     0  100   112      0      6  0:00:18  0:00:18 --:--:--     0\n",
      "100   174  100    62  100   112      3      6  0:00:20  0:00:18  0:00:02    15\n"
     ]
    },
    {
     "name": "stdout",
     "output_type": "stream",
     "text": [
      "{\n",
      "  \"responseHeader\":{\n",
      "    \"status\":0,\n",
      "    \"QTime\":18193\n",
      "  }\n",
      "}\n"
     ]
    },
    {
     "name": "stderr",
     "output_type": "stream",
     "text": [
      "  % Total    % Received % Xferd  Average Speed   Time    Time     Time  Current\n",
      "                                 Dload  Upload   Total   Spent    Left  Speed\n",
      "\n",
      "  0     0    0     0    0     0      0      0 --:--:-- --:--:-- --:--:--     0\n",
      "100    79    0     0  100    79      0     65  0:00:01  0:00:01 --:--:--    65\n",
      "100    79    0     0  100    79      0     35  0:00:02  0:00:02 --:--:--    35\n",
      "100    79    0     0  100    79      0     24  0:00:03  0:00:03 --:--:--    24\n",
      "100    79    0     0  100    79      0     18  0:00:04  0:00:04 --:--:--    18\n",
      "100    79    0     0  100    79      0     15  0:00:05  0:00:05 --:--:--    15\n",
      "100    79    0     0  100    79      0     12  0:00:06  0:00:06 --:--:--     0\n",
      "100    79    0     0  100    79      0     10  0:00:07  0:00:07 --:--:--     0\n",
      "100    79    0     0  100    79      0      9  0:00:08  0:00:08 --:--:--     0\n",
      "100    79    0     0  100    79      0      8  0:00:09  0:00:09 --:--:--     0\n",
      "100    79    0     0  100    79      0      7  0:00:11  0:00:10  0:00:01     0\n",
      "100    79    0     0  100    79      0      7  0:00:11  0:00:11 --:--:--     0\n",
      "100    79    0     0  100    79      0      6  0:00:13  0:00:12  0:00:01     0\n",
      "100    79    0     0  100    79      0      5  0:00:15  0:00:13  0:00:02     0\n",
      "100    79    0     0  100    79      0      5  0:00:15  0:00:14  0:00:01     0\n",
      "100    79    0     0  100    79      0      5  0:00:15  0:00:15 --:--:--     0\n",
      "100    79    0     0  100    79      0      4  0:00:19  0:00:16  0:00:03     0\n",
      "100    79    0     0  100    79      0      4  0:00:19  0:00:17  0:00:02     0\n",
      "100    79    0     0  100    79      0      4  0:00:19  0:00:18  0:00:01     0\n",
      "100   141  100    62  100    79      3      4  0:00:20  0:00:18  0:00:02    14\n"
     ]
    },
    {
     "name": "stdout",
     "output_type": "stream",
     "text": [
      "{\n",
      "  \"responseHeader\":{\n",
      "    \"status\":0,\n",
      "    \"QTime\":18220\n",
      "  }\n",
      "}\n"
     ]
    },
    {
     "name": "stderr",
     "output_type": "stream",
     "text": [
      "  % Total    % Received % Xferd  Average Speed   Time    Time     Time  Current\n",
      "                                 Dload  Upload   Total   Spent    Left  Speed\n",
      "\n",
      "  0     0    0     0    0     0      0      0 --:--:-- --:--:-- --:--:--     0\n",
      "100   117    0     0  100   117      0     95  0:00:01  0:00:01 --:--:--    95\n",
      "100   117    0     0  100   117      0     52  0:00:02  0:00:02 --:--:--    52\n",
      "100   117    0     0  100   117      0     36  0:00:03  0:00:03 --:--:--    36\n",
      "100   117    0     0  100   117      0     27  0:00:04  0:00:04 --:--:--    27\n",
      "100   117    0     0  100   117      0     22  0:00:05  0:00:05 --:--:--    22\n",
      "100   117    0     0  100   117      0     18  0:00:06  0:00:06 --:--:--     0\n",
      "100   117    0     0  100   117      0     16  0:00:07  0:00:07 --:--:--     0\n",
      "100   117    0     0  100   117      0     14  0:00:08  0:00:08 --:--:--     0\n",
      "100   117    0     0  100   117      0     12  0:00:09  0:00:09 --:--:--     0\n",
      "100   117    0     0  100   117      0     11  0:00:10  0:00:10 --:--:--     0\n",
      "100   117    0     0  100   117      0     10  0:00:11  0:00:11 --:--:--     0\n",
      "100   117    0     0  100   117      0      9  0:00:13  0:00:12  0:00:01     0\n",
      "100   117    0     0  100   117      0      8  0:00:14  0:00:13  0:00:01     0\n",
      "100   117    0     0  100   117      0      8  0:00:14  0:00:14 --:--:--     0\n",
      "100   117    0     0  100   117      0      7  0:00:16  0:00:15  0:00:01     0\n",
      "100   117    0     0  100   117      0      7  0:00:16  0:00:16 --:--:--     0\n",
      "100   117    0     0  100   117      0      6  0:00:19  0:00:17  0:00:02     0\n",
      "100   117    0     0  100   117      0      6  0:00:19  0:00:18  0:00:01     0\n",
      "100   179  100    62  100   117      3      6  0:00:20  0:00:18  0:00:02    14\n"
     ]
    },
    {
     "name": "stdout",
     "output_type": "stream",
     "text": [
      "{\n",
      "  \"responseHeader\":{\n",
      "    \"status\":0,\n",
      "    \"QTime\":18227\n",
      "  }\n",
      "}\n"
     ]
    },
    {
     "name": "stderr",
     "output_type": "stream",
     "text": [
      "  % Total    % Received % Xferd  Average Speed   Time    Time     Time  Current\n",
      "                                 Dload  Upload   Total   Spent    Left  Speed\n",
      "\n",
      "  0     0    0     0    0     0      0      0 --:--:-- --:--:-- --:--:--     0\n",
      "100    62    0     0  100    62      0     50  0:00:01  0:00:01 --:--:--    50\n",
      "100    62    0     0  100    62      0     27  0:00:02  0:00:02 --:--:--    27\n",
      "100    62    0     0  100    62      0     19  0:00:03  0:00:03 --:--:--    19\n",
      "100    62    0     0  100    62      0     14  0:00:04  0:00:04 --:--:--    14\n",
      "100    62    0     0  100    62      0     11  0:00:05  0:00:05 --:--:--    11\n",
      "100    62    0     0  100    62      0      9  0:00:06  0:00:06 --:--:--     0\n",
      "100    62    0     0  100    62      0      8  0:00:07  0:00:07 --:--:--     0\n",
      "100    62    0     0  100    62      0      7  0:00:08  0:00:08 --:--:--     0\n",
      "100    62    0     0  100    62      0      6  0:00:10  0:00:09  0:00:01     0\n",
      "100    62    0     0  100    62      0      6  0:00:10  0:00:10 --:--:--     0\n",
      "100    62    0     0  100    62      0      5  0:00:12  0:00:11  0:00:01     0\n",
      "100    62    0     0  100    62      0      5  0:00:12  0:00:12 --:--:--     0\n",
      "100    62    0     0  100    62      0      4  0:00:15  0:00:13  0:00:02     0\n",
      "100    62    0     0  100    62      0      4  0:00:15  0:00:14  0:00:01     0\n",
      "100    62    0     0  100    62      0      4  0:00:15  0:00:15 --:--:--     0\n",
      "100    62    0     0  100    62      0      3  0:00:20  0:00:16  0:00:04     0\n",
      "100    62    0     0  100    62      0      3  0:00:20  0:00:17  0:00:03     0\n",
      "100    62    0     0  100    62      0      3  0:00:20  0:00:18  0:00:02     0\n",
      "100   124  100    62  100    62      3      3  0:00:20  0:00:18  0:00:02    15\n"
     ]
    },
    {
     "name": "stdout",
     "output_type": "stream",
     "text": [
      "{"
     ]
    },
    {
     "name": "stderr",
     "output_type": "stream",
     "text": [
      "  % Total    % Received % Xferd  Average Speed   Time    Time     Time  Current\n",
      "                                 Dload  Upload   Total   Spent    Left  Speed\n",
      "\n",
      "  0     0    0     0    0     0      0      0 --:--:-- --:--:-- --:--:--     0\n",
      "100   786  100   696  100    90   3306    427 --:--:-- --:--:-- --:--:--  3742\n"
     ]
    },
    {
     "name": "stdout",
     "output_type": "stream",
     "text": [
      "\n",
      "  \"responseHeader\":{\n",
      "    \"status\":400,\n",
      "    \"QTime\":0\n",
      "  },\n",
      "  \"error\":{\n",
      "    \"metadata\":[\"error-class\",\"org.apache.solr.api.ApiBag$ExceptionWithErrObject\",\"root-error-class\",\"org.apache.solr.api.ApiBag$ExceptionWithErrObject\"],\n",
      "    \"details\":[{\n",
      "      \"errorMessages\":[\"Field 'id' already exists.\\n\"],\n",
      "      \"add-field\":{\n",
      "        \"name\":\"id\",\n",
      "        \"type\":\"string\",\n",
      "        \"stored\":true,\n",
      "        \"indexed\":true,\n",
      "        \"multiValued\":false,\n",
      "        \"required\":true\n",
      "      }\n",
      "    }],\n",
      "    \"msg\":\"error processing commands, errors: [{errorMessages=[Field 'id' already exists.\\n], add-field={name=id, type=string, stored=true, indexed=true, multiValued=false, required=true}}], \",\n",
      "    \"code\":400\n",
      "  }\n",
      "}\n",
      "{\n",
      "  \"responseHeader\":{\n",
      "    \"status\":0,\n",
      "    \"QTime\":18220\n",
      "  }\n",
      "}\n"
     ]
    },
    {
     "name": "stderr",
     "output_type": "stream",
     "text": [
      "  % Total    % Received % Xferd  Average Speed   Time    Time     Time  Current\n",
      "                                 Dload  Upload   Total   Spent    Left  Speed\n",
      "\n",
      "  0     0    0     0    0     0      0      0 --:--:-- --:--:-- --:--:--     0\n",
      "  0     0    0     0    0     0      0      0 --:--:-- --:--:-- --:--:--     0\n",
      "100   120    0     0  100   120      0     99  0:00:01  0:00:01 --:--:--    99\n",
      "100   120    0     0  100   120      0     53  0:00:02  0:00:02 --:--:--    53\n",
      "100   120    0     0  100   120      0     37  0:00:03  0:00:03 --:--:--    37\n",
      "100   120    0     0  100   120      0     28  0:00:04  0:00:04 --:--:--    28\n",
      "100   120    0     0  100   120      0     22  0:00:05  0:00:05 --:--:--    23\n",
      "100   120    0     0  100   120      0     19  0:00:06  0:00:06 --:--:--     0\n",
      "100   120    0     0  100   120      0     16  0:00:07  0:00:07 --:--:--     0\n",
      "100   120    0     0  100   120      0     14  0:00:08  0:00:08 --:--:--     0\n",
      "100   120    0     0  100   120      0     12  0:00:10  0:00:09  0:00:01     0\n",
      "100   120    0     0  100   120      0     11  0:00:10  0:00:10 --:--:--     0\n",
      "100   120    0     0  100   120      0     10  0:00:12  0:00:11  0:00:01     0\n",
      "100   120    0     0  100   120      0      9  0:00:13  0:00:12  0:00:01     0\n",
      "100   120    0     0  100   120      0      9  0:00:13  0:00:13 --:--:--     0\n",
      "100   120    0     0  100   120      0      8  0:00:15  0:00:14  0:00:01     0\n",
      "100   120    0     0  100   120      0      7  0:00:17  0:00:15  0:00:02     0\n",
      "100   120    0     0  100   120      0      7  0:00:17  0:00:16  0:00:01     0\n",
      "100   120    0     0  100   120      0      6  0:00:20  0:00:17  0:00:03     0\n",
      "100   120    0     0  100   120      0      6  0:00:20  0:00:18  0:00:02     0\n",
      "100   182  100    62  100   120      3      6  0:00:20  0:00:18  0:00:02    15\n"
     ]
    },
    {
     "name": "stdout",
     "output_type": "stream",
     "text": [
      "{\n",
      "  \"responseHeader\":{\n",
      "    \"status\":0,\n",
      "    \"QTime\":18201\n",
      "  }\n",
      "}\n"
     ]
    },
    {
     "name": "stderr",
     "output_type": "stream",
     "text": [
      "  % Total    % Received % Xferd  Average Speed   Time    Time     Time  Current\n",
      "                                 Dload  Upload   Total   Spent    Left  Speed\n",
      "\n",
      "  0     0    0     0    0     0      0      0 --:--:-- --:--:-- --:--:--     0\n",
      "100    70    0     0  100    70      0     57  0:00:01  0:00:01 --:--:--    57\n",
      "100    70    0     0  100    70      0     31  0:00:02  0:00:02 --:--:--    31\n",
      "100    70    0     0  100    70      0     21  0:00:03  0:00:03 --:--:--    21\n",
      "100    70    0     0  100    70      0     16  0:00:04  0:00:04 --:--:--    16\n",
      "100    70    0     0  100    70      0     13  0:00:05  0:00:05 --:--:--    13\n",
      "100    70    0     0  100    70      0     11  0:00:06  0:00:06 --:--:--     0\n",
      "100    70    0     0  100    70      0      9  0:00:07  0:00:07 --:--:--     0\n",
      "100    70    0     0  100    70      0      8  0:00:08  0:00:08 --:--:--     0\n",
      "100    70    0     0  100    70      0      7  0:00:10  0:00:09  0:00:01     0\n",
      "100    70    0     0  100    70      0      6  0:00:11  0:00:10  0:00:01     0\n",
      "100    70    0     0  100    70      0      6  0:00:11  0:00:11 --:--:--     0\n",
      "100    70    0     0  100    70      0      5  0:00:14  0:00:12  0:00:02     0\n",
      "100    70    0     0  100    70      0      5  0:00:14  0:00:13  0:00:01     0\n",
      "100    70    0     0  100    70      0      4  0:00:17  0:00:14  0:00:03     0\n",
      "100    70    0     0  100    70      0      4  0:00:17  0:00:15  0:00:02     0\n",
      "100    70    0     0  100    70      0      4  0:00:17  0:00:16  0:00:01     0\n",
      "100    70    0     0  100    70      0      4  0:00:17  0:00:17 --:--:--     0\n",
      "100    70    0     0  100    70      0      3  0:00:23  0:00:18  0:00:05     0\n",
      "100   132  100    62  100    70      3      3  0:00:23  0:00:18  0:00:05    15\n"
     ]
    },
    {
     "name": "stdout",
     "output_type": "stream",
     "text": [
      "{\n",
      "  \"responseHeader\":{\n",
      "    \"status\":0,\n",
      "    \"QTime\":18208\n",
      "  }\n",
      "}\n"
     ]
    },
    {
     "name": "stderr",
     "output_type": "stream",
     "text": [
      "  % Total    % Received % Xferd  Average Speed   Time    Time     Time  Current\n",
      "                                 Dload  Upload   Total   Spent    Left  Speed\n",
      "\n",
      "  0     0    0     0    0     0      0      0 --:--:-- --:--:-- --:--:--     0\n",
      "100   110    0     0  100   110      0     90  0:00:01  0:00:01 --:--:--    90\n",
      "100   110    0     0  100   110      0     49  0:00:02  0:00:02 --:--:--    49\n",
      "100   110    0     0  100   110      0     34  0:00:03  0:00:03 --:--:--    34\n",
      "100   110    0     0  100   110      0     26  0:00:04  0:00:04 --:--:--    26\n",
      "100   110    0     0  100   110      0     20  0:00:05  0:00:05 --:--:--    20\n",
      "100   110    0     0  100   110      0     17  0:00:06  0:00:06 --:--:--     0\n",
      "100   110    0     0  100   110      0     15  0:00:07  0:00:07 --:--:--     0\n",
      "100   110    0     0  100   110      0     13  0:00:08  0:00:08 --:--:--     0\n",
      "100   110    0     0  100   110      0     11  0:00:10  0:00:09  0:00:01     0\n",
      "100   110    0     0  100   110      0     10  0:00:11  0:00:10  0:00:01     0\n",
      "100   110    0     0  100   110      0      9  0:00:12  0:00:11  0:00:01     0\n",
      "100   110    0     0  100   110      0      8  0:00:13  0:00:12  0:00:01     0\n",
      "100   110    0     0  100   110      0      8  0:00:13  0:00:13 --:--:--     0\n",
      "100   110    0     0  100   110      0      7  0:00:15  0:00:14  0:00:01     0\n",
      "100   110    0     0  100   110      0      7  0:00:15  0:00:15 --:--:--     0\n",
      "100   110    0     0  100   110      0      6  0:00:18  0:00:16  0:00:02     0\n",
      "100   110    0     0  100   110      0      6  0:00:18  0:00:17  0:00:01     0\n",
      "100   110    0     0  100   110      0      5  0:00:22  0:00:18  0:00:04     0\n",
      "100   172  100    62  100   110      3      5  0:00:22  0:00:18  0:00:04    15\n"
     ]
    },
    {
     "name": "stdout",
     "output_type": "stream",
     "text": [
      "{\n",
      "  \"responseHeader\":{\n",
      "    \"status\":0,\n",
      "    \"QTime\":18201\n",
      "  }\n",
      "}\n"
     ]
    },
    {
     "name": "stderr",
     "output_type": "stream",
     "text": [
      "  % Total    % Received % Xferd  Average Speed   Time    Time     Time  Current\n",
      "                                 Dload  Upload   Total   Spent    Left  Speed\n",
      "\n",
      "  0     0    0     0    0     0      0      0 --:--:-- --:--:-- --:--:--     0\n",
      "100    74    0     0  100    74      0     60  0:00:01  0:00:01 --:--:--    60\n",
      "100    74    0     0  100    74      0     33  0:00:02  0:00:02 --:--:--    33\n",
      "100    74    0     0  100    74      0     22  0:00:03  0:00:03 --:--:--    22\n",
      "100    74    0     0  100    74      0     17  0:00:04  0:00:04 --:--:--    17\n",
      "100    74    0     0  100    74      0     14  0:00:05  0:00:05 --:--:--    14\n",
      "100    74    0     0  100    74      0     11  0:00:06  0:00:06 --:--:--     0\n",
      "100    74    0     0  100    74      0     10  0:00:07  0:00:07 --:--:--     0\n",
      "100    74    0     0  100    74      0      8  0:00:09  0:00:08  0:00:01     0\n",
      "100    74    0     0  100    74      0      7  0:00:10  0:00:09  0:00:01     0\n",
      "100    74    0     0  100    74      0      7  0:00:10  0:00:10 --:--:--     0\n",
      "100    74    0     0  100    74      0      6  0:00:12  0:00:11  0:00:01     0\n",
      "100    74    0     0  100    74      0      6  0:00:12  0:00:12 --:--:--     0\n",
      "100    74    0     0  100    74      0      5  0:00:14  0:00:13  0:00:01     0\n",
      "100    74    0     0  100    74      0      5  0:00:14  0:00:14 --:--:--     0\n",
      "100    74    0     0  100    74      0      4  0:00:18  0:00:15  0:00:03     0\n",
      "100    74    0     0  100    74      0      4  0:00:18  0:00:16  0:00:02     0\n",
      "100    74    0     0  100    74      0      4  0:00:18  0:00:17  0:00:01     0\n",
      "100    74    0     0  100    74      0      4  0:00:18  0:00:18 --:--:--     0\n",
      "100   136  100    62  100    74      3      4  0:00:20  0:00:18  0:00:02    15\n"
     ]
    },
    {
     "name": "stdout",
     "output_type": "stream",
     "text": [
      "{\n",
      "  \"responseHeader\":{\n",
      "    \"status\":0,\n",
      "    \"QTime\":18222\n",
      "  }\n",
      "}\n"
     ]
    },
    {
     "name": "stderr",
     "output_type": "stream",
     "text": [
      "  % Total    % Received % Xferd  Average Speed   Time    Time     Time  Current\n",
      "                                 Dload  Upload   Total   Spent    Left  Speed\n",
      "\n",
      "  0     0    0     0    0     0      0      0 --:--:-- --:--:-- --:--:--     0\n",
      "100   120    0     0  100   120      0     99  0:00:01  0:00:01 --:--:--    99\n",
      "100   120    0     0  100   120      0     54  0:00:02  0:00:02 --:--:--    54\n",
      "100   120    0     0  100   120      0     37  0:00:03  0:00:03 --:--:--    37\n",
      "100   120    0     0  100   120      0     28  0:00:04  0:00:04 --:--:--    28\n",
      "100   120    0     0  100   120      0     22  0:00:05  0:00:05 --:--:--    22\n",
      "100   120    0     0  100   120      0     19  0:00:06  0:00:06 --:--:--     0\n",
      "100   120    0     0  100   120      0     16  0:00:07  0:00:07 --:--:--     0\n",
      "100   120    0     0  100   120      0     14  0:00:08  0:00:08 --:--:--     0\n",
      "100   120    0     0  100   120      0     12  0:00:10  0:00:09  0:00:01     0\n",
      "100   120    0     0  100   120      0     11  0:00:10  0:00:10 --:--:--     0\n",
      "100   120    0     0  100   120      0     10  0:00:12  0:00:11  0:00:01     0\n",
      "100   120    0     0  100   120      0      9  0:00:13  0:00:12  0:00:01     0\n",
      "100   120    0     0  100   120      0      9  0:00:13  0:00:13 --:--:--     0\n",
      "100   120    0     0  100   120      0      8  0:00:15  0:00:14  0:00:01     0\n",
      "100   120    0     0  100   120      0      7  0:00:17  0:00:15  0:00:02     0\n",
      "100   120    0     0  100   120      0      7  0:00:17  0:00:16  0:00:01     0\n",
      "100   120    0     0  100   120      0      6  0:00:20  0:00:17  0:00:03     0\n",
      "100   120    0     0  100   120      0      6  0:00:20  0:00:18  0:00:02     0\n",
      "100   182  100    62  100   120      3      6  0:00:20  0:00:18  0:00:02    15\n",
      "100   182  100    62  100   120      3      6  0:00:20  0:00:18  0:00:02    19\n"
     ]
    },
    {
     "name": "stdout",
     "output_type": "stream",
     "text": [
      "{\n",
      "  \"responseHeader\":{\n",
      "    \"status\":0,\n",
      "    \"QTime\":18225\n",
      "  }\n",
      "}\n"
     ]
    },
    {
     "name": "stderr",
     "output_type": "stream",
     "text": [
      "  % Total    % Received % Xferd  Average Speed   Time    Time     Time  Current\n",
      "                                 Dload  Upload   Total   Spent    Left  Speed\n",
      "\n",
      "  0     0    0     0    0     0      0      0 --:--:-- --:--:-- --:--:--     0\n",
      "100    64    0     0  100    64      0     52  0:00:01  0:00:01 --:--:--    52\n",
      "100    64    0     0  100    64      0     28  0:00:02  0:00:02 --:--:--    28\n",
      "100    64    0     0  100    64      0     19  0:00:03  0:00:03 --:--:--    19\n",
      "100    64    0     0  100    64      0     15  0:00:04  0:00:04 --:--:--    15\n",
      "100    64    0     0  100    64      0     12  0:00:05  0:00:05 --:--:--    12\n",
      "100    64    0     0  100    64      0     10  0:00:06  0:00:06 --:--:--     0\n",
      "100    64    0     0  100    64      0      8  0:00:08  0:00:07  0:00:01     0\n",
      "100    64    0     0  100    64      0      7  0:00:09  0:00:08  0:00:01     0\n",
      "100    64    0     0  100    64      0      6  0:00:10  0:00:09  0:00:01     0\n",
      "100    64    0     0  100    64      0      6  0:00:10  0:00:10 --:--:--     0\n",
      "100    64    0     0  100    64      0      5  0:00:12  0:00:11  0:00:01     0\n",
      "100    64    0     0  100    64      0      5  0:00:12  0:00:12 --:--:--     0\n",
      "100    64    0     0  100    64      0      4  0:00:16  0:00:13  0:00:03     0\n",
      "100    64    0     0  100    64      0      4  0:00:16  0:00:14  0:00:02     0\n",
      "100    64    0     0  100    64      0      4  0:00:16  0:00:15  0:00:01     0\n",
      "100    64    0     0  100    64      0      3  0:00:21  0:00:16  0:00:05     0\n",
      "100    64    0     0  100    64      0      3  0:00:21  0:00:17  0:00:04     0\n",
      "100    64    0     0  100    64      0      3  0:00:21  0:00:18  0:00:03     0\n",
      "100   126  100    62  100    64      3      3  0:00:21  0:00:18  0:00:03    15\n"
     ]
    },
    {
     "name": "stdout",
     "output_type": "stream",
     "text": [
      "{\n",
      "  \"responseHeader\":{\n",
      "    \"status\":0,\n",
      "    \"QTime\":18193\n",
      "  }\n",
      "}\n"
     ]
    },
    {
     "name": "stderr",
     "output_type": "stream",
     "text": [
      "  % Total    % Received % Xferd  Average Speed   Time    Time     Time  Current\n",
      "                                 Dload  Upload   Total   Spent    Left  Speed\n",
      "\n",
      "  0     0    0     0    0     0      0      0 --:--:-- --:--:-- --:--:--     0\n",
      "100    64    0     0  100    64      0     52  0:00:01  0:00:01 --:--:--    52\n",
      "100    64    0     0  100    64      0     28  0:00:02  0:00:02 --:--:--    28\n",
      "100    64    0     0  100    64      0     19  0:00:03  0:00:03 --:--:--    19\n",
      "100    64    0     0  100    64      0     15  0:00:04  0:00:04 --:--:--    15\n",
      "100    64    0     0  100    64      0     12  0:00:05  0:00:05 --:--:--    12\n",
      "100    64    0     0  100    64      0     10  0:00:06  0:00:06 --:--:--     0\n",
      "100    64    0     0  100    64      0      8  0:00:08  0:00:07  0:00:01     0\n",
      "100    64    0     0  100    64      0      7  0:00:09  0:00:08  0:00:01     0\n",
      "100    64    0     0  100    64      0      6  0:00:10  0:00:09  0:00:01     0\n",
      "100    64    0     0  100    64      0      6  0:00:10  0:00:10 --:--:--     0\n",
      "100    64    0     0  100    64      0      5  0:00:12  0:00:11  0:00:01     0\n",
      "100    64    0     0  100    64      0      5  0:00:12  0:00:12 --:--:--     0\n",
      "100    64    0     0  100    64      0      4  0:00:16  0:00:13  0:00:03     0\n",
      "100    64    0     0  100    64      0      4  0:00:16  0:00:14  0:00:02     0\n",
      "100    64    0     0  100    64      0      4  0:00:16  0:00:15  0:00:01     0\n",
      "100    64    0     0  100    64      0      3  0:00:21  0:00:16  0:00:05     0\n",
      "100    64    0     0  100    64      0      3  0:00:21  0:00:17  0:00:04     0\n",
      "100    64    0     0  100    64      0      3  0:00:21  0:00:18  0:00:03     0\n",
      "100   126  100    62  100    64      3      3  0:00:21  0:00:18  0:00:03    15\n"
     ]
    },
    {
     "name": "stdout",
     "output_type": "stream",
     "text": [
      "{\n",
      "  \"responseHeader\":{\n",
      "    \"status\":0,\n",
      "    \"QTime\":18224\n",
      "  }\n",
      "}\n"
     ]
    },
    {
     "name": "stderr",
     "output_type": "stream",
     "text": [
      "  % Total    % Received % Xferd  Average Speed   Time    Time     Time  Current\n",
      "                                 Dload  Upload   Total   Spent    Left  Speed\n",
      "\n",
      "  0     0    0     0    0     0      0      0 --:--:-- --:--:-- --:--:--     0\n",
      "100    67    0     0  100    67      0     55  0:00:01  0:00:01 --:--:--    55\n",
      "100    67    0     0  100    67      0     30  0:00:02  0:00:02 --:--:--    30\n",
      "100    67    0     0  100    67      0     20  0:00:03  0:00:03 --:--:--    20\n",
      "100    67    0     0  100    67      0     15  0:00:04  0:00:04 --:--:--    15\n",
      "100    67    0     0  100    67      0     12  0:00:05  0:00:05 --:--:--    12\n",
      "100    67    0     0  100    67      0     10  0:00:06  0:00:06 --:--:--     0\n",
      "100    67    0     0  100    67      0      9  0:00:07  0:00:07 --:--:--     0\n",
      "100    67    0     0  100    67      0      8  0:00:08  0:00:08 --:--:--     0\n",
      "100    67    0     0  100    67      0      7  0:00:09  0:00:09 --:--:--     0\n",
      "100    67    0     0  100    67      0      6  0:00:11  0:00:10  0:00:01     0\n",
      "100    67    0     0  100    67      0      5  0:00:13  0:00:11  0:00:02     0\n",
      "100    67    0     0  100    67      0      5  0:00:13  0:00:12  0:00:01     0\n",
      "100    67    0     0  100    67      0      5  0:00:13  0:00:13 --:--:--     0\n",
      "100    67    0     0  100    67      0      4  0:00:16  0:00:14  0:00:02     0\n",
      "100    67    0     0  100    67      0      4  0:00:16  0:00:15  0:00:01     0\n",
      "100    67    0     0  100    67      0      4  0:00:16  0:00:16 --:--:--     0\n",
      "100    67    0     0  100    67      0      3  0:00:22  0:00:17  0:00:05     0\n",
      "100    67    0     0  100    67      0      3  0:00:22  0:00:18  0:00:04     0\n",
      "100   129  100    62  100    67      3      3  0:00:22  0:00:18  0:00:04    15\n"
     ]
    }
   ],
   "source": [
    "# Author, retrieved, sorted by\n",
    "!curl -X POST -H \"Content-type:application/json\" --data-binary \"{\"add-field\":{\"name\":\"author\",\"type\":\"string\",\"stored\":true,\"indexed\":true, \"multiValued\":false, \"omitNorms\":true,\"docValues\":true}}\" http://localhost:8983/api/cores/search_reddit/schema\n",
    "\n",
    "# Text, searched and retrieved\n",
    "!curl -X POST -H \"Content-type:application/json\" --data-binary \"{\"add-field\":{\"name\":\"text\",\"type\":\"text_reddit\",\"stored\":true,\"indexed\":true,\"required\":true}}\" http://localhost:8983/api/cores/search_reddit/schema\n",
    "\n",
    "# created_utc, retrieved, sorted by\n",
    "!curl -X POST -H \"Content-type:application/json\" --data-binary \"{\"add-field\":{\"name\":\"created_utc\",\"type\":\"pdates\",\"stored\":true,\"indexed\":true, \"multiValued\":false, \"omitNorms\":true,\"docValues\":true}}\" http://localhost:8983/api/cores/search_reddit/schema\n",
    "\n",
    "# edited, retrieved\n",
    "!curl -X POST -H \"Content-type:application/json\" --data-binary \"{\"add-field\":{\"name\":\"edited\",\"type\":\"pdates\",\"stored\":true,\"indexed\":true}}\" http://localhost:8983/api/cores/search_reddit/schema\n",
    "\n",
    "# id, retrieved, unique key\n",
    "!curl -X POST -H \"Content-type:application/json\" --data-binary \"{\"add-field\":{\"name\":\"id\",\"type\":\"string\",\"stored\":true,\"indexed\":true,\"multiValued\":false,\"required\":true}}\" http://localhost:8983/api/cores/search_reddit/schema\n",
    "\n",
    "# num_comments, retrieved, sorted by\n",
    "!curl -X POST -H \"Content-type:application/json\" --data-binary \"{\"add-field\":{\"name\":\"num_comments\",\"type\":\"pdoubles\",\"stored\":true,\"indexed\":true, \"multiValued\":false, \"omitNorms\":true,\"docValues\":true}}\" http://localhost:8983/api/cores/search_reddit/schema\n",
    "\n",
    "# permalink, retrieved\n",
    "!curl -X POST -H \"Content-type:application/json\" --data-binary \"{\"add-field\":{\"name\":\"permalink\",\"type\":\"string\",\"stored\":true,\"multiValued\":false}}\" http://localhost:8983/api/cores/search_reddit/schema\n",
    "\n",
    "# score, retrieved, sorted by\n",
    "!curl -X POST -H \"Content-type:application/json\" --data-binary \"{\"add-field\":{\"name\":\"score\",\"type\":\"plong\",\"stored\":true,\"indexed\":true, \"multiValued\":false, \"omitNorms\":true,\"docValues\":true}}\" http://localhost:8983/api/cores/search_reddit/schema\n",
    "\n",
    "# subreddit_name, retrieved\n",
    "!curl -X POST -H \"Content-type:application/json\" --data-binary \"{\"add-field\":{\"name\":\"subreddit_name\",\"type\":\"string\",\"stored\":true,\"multiValued\":true}}\" http://localhost:8983/api/cores/search_reddit/schema\n",
    "\n",
    "# upvote_ratio, retrieved, sorted by\n",
    "!curl -X POST -H \"Content-type:application/json\" --data-binary \"{\"add-field\":{\"name\":\"upvote_ratio\",\"type\":\"pdoubles\",\"stored\":true,\"indexed\":true, \"multiValued\":false, \"omitNorms\":true,\"docValues\":true}}\" http://localhost:8983/api/cores/search_reddit/schema\n",
    "\n",
    "# url, retrieved\n",
    "!curl -X POST -H \"Content-type:application/json\" --data-binary \"{\"add-field\":{\"name\":\"url\",\"type\":\"string\",\"stored\":true,\"multiValued\":false}}\" http://localhost:8983/api/cores/search_reddit/schema\n",
    "\n",
    "# type, retrieved, have duplicates\n",
    "!curl -X POST -H \"Content-type:application/json\" --data-binary \"{\"add-field\":{\"name\":\"type\",\"type\":\"string\",\"stored\":true,\"multiValued\":true}}\" http://localhost:8983/api/cores/search_reddit/schema\n",
    "\n",
    "# post_id, retrieved, have duplicates\n",
    "!curl -X POST -H \"Content-type:application/json\" --data-binary \"{\"add-field\":{\"name\":\"post_id\",\"type\":\"string\",\"stored\":true,\"multiValued\":true}}\" http://localhost:8983/api/cores/search_reddit/schema"
   ],
   "metadata": {
    "collapsed": false,
    "ExecuteTime": {
     "end_time": "2024-03-22T19:51:43.944167Z",
     "start_time": "2024-03-22T19:48:02.256274Z"
    }
   },
   "id": "4f506cf97ce563cc",
   "execution_count": 6
  },
  {
   "cell_type": "code",
   "outputs": [
    {
     "name": "stdout",
     "output_type": "stream",
     "text": [
      "{\n",
      "  \"responseHeader\":{\n",
      "    \"status\":0,\n",
      "    \"QTime\":0\n",
      "  },\n",
      "  \"fields\":[{\n",
      "    \"name\":\"_nest_path_\",\n",
      "    \"type\":\"_nest_path_\"\n",
      "  },{\n",
      "    \"name\":\"_root_\",\n",
      "    \"type\":\"string\",\n",
      "    \"indexed\":true,\n",
      "    \"stored\":false,\n",
      "    \"docValues\":false\n",
      "  },{\n",
      "    \"name\":\"_text_\",\n",
      "    \"type\":\"text_general\",\n",
      "    \"multiValued\":true,\n",
      "    \"indexed\":true,\n",
      "    \"stored\":false\n",
      "  },{\n",
      "    \"name\":\"_version_\",\n",
      "    \"type\":\"plong\",\n",
      "    \"indexed\":false,\n",
      "    \"stored\":false\n",
      "  },{\n",
      "    \"name\":\"author\",\n",
      "    \"type\":\"string\",\n",
      "    \"omitNorms\":true,\n",
      "    \"docValues\":true,\n",
      "    \"multiValued\":false,\n",
      "    \"indexed\":true,\n",
      "    \"stored\":true\n",
      "  },{\n",
      "    \"name\":\"created_utc\",\n",
      "    \"type\":\"pdates\",\n",
      "    \"omitNorms\":true,\n",
      "    \"docValues\":true,\n",
      "    \"multiValued\":false,\n",
      "    \"indexed\":true,\n",
      "    \"stored\":true\n",
      "  },{\n",
      "    \"name\":\"edited\",\n",
      "    \"type\":\"pdates\",\n",
      "    \"indexed\":true,\n",
      "    \"stored\":true\n",
      "  },{\n",
      "    \"name\":\"id\",\n",
      "    \"type\":\"string\",\n",
      "    \"multiValued\":false,\n",
      "    \"indexed\":true,\n",
      "    \"required\":true,\n",
      "    \"stored\":true\n",
      "  },{\n",
      "    \"name\":\"num_comments\",\n",
      "    \"type\":\"pdoubles\",\n",
      "    \"omitNorms\":true,\n",
      "    \"docValues\":true,\n",
      "    \"multiValued\":false,\n",
      "    \"indexed\":true,\n",
      "    \"stored\":true\n",
      "  },{\n",
      "    \"name\":\"permalink\",\n",
      "    \"type\":\"string\",\n",
      "    \"multiValued\":false,\n",
      "    \"stored\":true\n",
      "  },{\n",
      "    \"name\":\"post_id\",\n",
      "    \"type\":\"string\",\n",
      "    \"multiValued\":true,\n",
      "    \"stored\":true\n",
      "  },{\n",
      "    \"name\":\"score\",\n",
      "    \"type\":\"plong\",\n",
      "    \"omitNorms\":true,\n",
      "    \"docValues\":true,\n",
      "    \"multiValued\":false,\n",
      "    \"indexed\":true,\n",
      "    \"stored\":true\n",
      "  },{\n",
      "    \"name\":\"subreddit_name\",\n",
      "    \"type\":\"string\",\n",
      "    \"multiValued\":true,\n",
      "    \"stored\":true\n",
      "  },{\n",
      "    \"name\":\"text\",\n",
      "    \"type\":\"text_reddit\",\n",
      "    \"indexed\":true,\n",
      "    \"required\":true,\n",
      "    \"stored\":true\n",
      "  },{\n",
      "    \"name\":\"type\",\n",
      "    \"type\":\"string\",\n",
      "    \"multiValued\":true,\n",
      "    \"stored\":true\n",
      "  },{\n",
      "    \"name\":\"upvote_ratio\",\n",
      "    \"type\":\"pdoubles\",\n",
      "    \"omitNorms\":true,\n",
      "    \"docValues\":true,\n",
      "    \"multiValued\":false,\n",
      "    \"indexed\":true,\n",
      "    \"stored\":true\n",
      "  },{\n",
      "    \"name\":\"url\",\n",
      "    \"type\":\"string\",\n",
      "    \"multiValued\":false,\n",
      "    \"stored\":true\n",
      "  }]\n",
      "}\n"
     ]
    },
    {
     "name": "stderr",
     "output_type": "stream",
     "text": [
      "  % Total    % Received % Xferd  Average Speed   Time    Time     Time  Current\n",
      "                                 Dload  Upload   Total   Spent    Left  Speed\n",
      "\n",
      "  0     0    0     0    0     0      0      0 --:--:-- --:--:-- --:--:--     0\n",
      "100  2023  100  2023    0     0   9522      0 --:--:-- --:--:-- --:--:--  9542\n"
     ]
    }
   ],
   "source": [
    "# Get current schema, should be default/reserved fields\n",
    "!curl -X GET \"http://localhost:8983/solr/search_reddit/schema/fields\""
   ],
   "metadata": {
    "collapsed": false,
    "ExecuteTime": {
     "end_time": "2024-03-22T19:51:44.184164Z",
     "start_time": "2024-03-22T19:51:43.945163Z"
    }
   },
   "id": "68efd4c2712b4755",
   "execution_count": 7
  },
  {
   "cell_type": "markdown",
   "source": [
    "# Ingest data"
   ],
   "metadata": {
    "collapsed": false
   },
   "id": "2b76fbe89421d19"
  },
  {
   "cell_type": "code",
   "outputs": [
    {
     "name": "stdout",
     "output_type": "stream",
     "text": [
      "{\n",
      "  \"responseHeader\":{\n",
      "    \"status\":0,\n",
      "    \"QTime\":4982\n",
      "  }\n",
      "}\n"
     ]
    },
    {
     "name": "stderr",
     "output_type": "stream",
     "text": [
      "  % Total    % Received % Xferd  Average Speed   Time    Time     Time  Current\n",
      "                                 Dload  Upload   Total   Spent    Left  Speed\n",
      "\n",
      "  0     0    0     0    0     0      0      0 --:--:-- --:--:-- --:--:--     0\n",
      " 37 13.8M    0     0   37 5312k      0  5636k  0:00:02 --:--:--  0:00:02 5633k\n",
      " 55 13.8M    0     0   55 7808k      0  4598k  0:00:03  0:00:01  0:00:02 4598k\n",
      " 75 13.8M    0     0   75 10.4M      0  4269k  0:00:03  0:00:02  0:00:01 4268k\n",
      " 93 13.8M    0     0   93 12.8M      0  3917k  0:00:03  0:00:03 --:--:-- 3916k\n",
      "100 13.8M    0     0  100 13.8M      0  3242k  0:00:04  0:00:04 --:--:-- 3242k\n",
      "100 13.8M  100    61  100 13.8M     11  2732k  0:00:05  0:00:05 --:--:-- 2088k\n"
     ]
    }
   ],
   "source": [
    "# add document to solr\n",
    "!curl \"http://localhost:8983/solr/search_reddit/update?commit=true\" --data-binary @data/cleaned_combined_data.csv -H \"Content-type:application/csv\""
   ],
   "metadata": {
    "collapsed": false,
    "ExecuteTime": {
     "end_time": "2024-03-22T19:51:49.417599Z",
     "start_time": "2024-03-22T19:51:44.185159Z"
    }
   },
   "id": "f475d8ff0be7ebec",
   "execution_count": 8
  },
  {
   "cell_type": "markdown",
   "source": [
    "# Test query data\n",
    "\n",
    "- https://solr.apache.org/guide/6_6/the-standard-query-parser.html"
   ],
   "metadata": {
    "collapsed": false
   },
   "id": "239e6c7a6bae26d6"
  },
  {
   "cell_type": "markdown",
   "source": [
    "## Select with keyword search"
   ],
   "metadata": {
    "collapsed": false
   },
   "id": "51f266ce47295f"
  },
  {
   "cell_type": "code",
   "outputs": [
    {
     "name": "stdout",
     "output_type": "stream",
     "text": [
      "{\n",
      "  \"responseHeader\":{\n",
      "    \"status\":0,\n",
      "    \"QTime\":1,\n",
      "    \"params\":{\n",
      "      \"q\":\"text:congrats*\",\n",
      "      \"rows\":\"10\"\n",
      "    }\n",
      "  },\n",
      "  \"response\":{\n",
      "    \"numFound\":0,\n",
      "    \"start\":0,\n",
      "    \"numFoundExact\":true,\n",
      "    \"docs\":[ ]\n",
      "  }\n",
      "}\n"
     ]
    },
    {
     "name": "stderr",
     "output_type": "stream",
     "text": [
      "  % Total    % Received % Xferd  Average Speed   Time    Time     Time  Current\n",
      "                                 Dload  Upload   Total   Spent    Left  Speed\n",
      "\n",
      "  0     0    0     0    0     0      0      0 --:--:-- --:--:-- --:--:--     0\n",
      "  0     0    0     0    0     0      0      0 --:--:-- --:--:-- --:--:--     0\n",
      "100   244  100   220  100    24   1015    110 --:--:-- --:--:-- --:--:--  1124\n"
     ]
    }
   ],
   "source": [
    "!curl -X GET http://localhost:8983/solr/search_reddit/query -d \"q=text:congrats*&rows=10\""
   ],
   "metadata": {
    "collapsed": false,
    "ExecuteTime": {
     "end_time": "2024-03-22T19:51:49.667073Z",
     "start_time": "2024-03-22T19:51:49.418597Z"
    }
   },
   "id": "2a3ae0e55f5445ae",
   "execution_count": 9
  },
  {
   "cell_type": "markdown",
   "source": [
    "## Search with timeframe range filter"
   ],
   "metadata": {
    "collapsed": false
   },
   "id": "24cc3e08c5ae2a7d"
  },
  {
   "cell_type": "code",
   "outputs": [
    {
     "name": "stdout",
     "output_type": "stream",
     "text": [
      "{\n",
      "  \"responseHeader\":{\n",
      "    \"status\":0,\n",
      "    \"QTime\":1,\n",
      "    \"params\":{\n",
      "      \"q\":\"created_utc:[2017-01-01T00:00:00Z TO 2018-01-31T23:59:59Z]\",\n",
      "      \"rows\":\"10\"\n",
      "    }\n",
      "  },\n",
      "  \"response\":{\n",
      "    \"numFound\":1935,\n",
      "    \"start\":0,\n",
      "    \"numFoundExact\":true,\n",
      "    \"docs\":[{\n",
      "      \"author\":\"billbucket\",\n",
      "      \"text\":[\"Tesla's Summon feature was very useful today...\"],\n",
      "      \"created_utc\":\"2018-01-25T07:13:35Z\",\n",
      "      \"id\":\"7srdiw\",\n",
      "      \"num_comments\":1050.0,\n",
      "      \"permalink\":\"/r/teslamotors/comments/7srdiw/teslas_summon_feature_was_very_useful_today/\",\n",
      "      \"score\":49182,\n",
      "      \"subreddit_name\":[\"teslamotors\"],\n",
      "      \"upvote_ratio\":0.9,\n",
      "      \"url\":\"https://gfycat.com/ReliableSecretJunebug\",\n",
      "      \"type\":[\"post\"],\n",
      "      \"_version_\":1794257300475609103\n",
      "    },{\n",
      "      \"author\":\"TheMightyCraken\",\n",
      "      \"text\":[\"Elon Musk confirms secret Tesla â€˜Carless Driverâ€™ project\"],\n",
      "      \"created_utc\":\"2018-01-30T05:20:51Z\",\n",
      "      \"id\":\"7tvnx6\",\n",
      "      \"num_comments\":394.0,\n",
      "      \"permalink\":\"/r/teslamotors/comments/7tvnx6/elon_musk_confirms_secret_tesla_carless_driver/\",\n",
      "      \"score\":45635,\n",
      "      \"subreddit_name\":[\"teslamotors\"],\n",
      "      \"upvote_ratio\":0.89,\n",
      "      \"url\":\"https://i.imgur.com/5tcF25Y.jpg\",\n",
      "      \"type\":[\"post\"],\n",
      "      \"_version_\":1794257300475609104\n",
      "    },{\n",
      "      \"author\":\"BasharK\",\n",
      "      \"text\":[\"Tesla vs Bugatti\"],\n",
      "      \"created_utc\":\"2017-11-20T03:53:56Z\",\n",
      "      \"id\":\"7e2ze2\",\n",
      "      \"num_comments\":2321.0,\n",
      "      \"permalink\":\"/r/teslamotors/comments/7e2ze2/tesla_vs_bugatti/\",\n",
      "      \"score\":44315,\n",
      "      \"subreddit_name\":[\"teslamotors\"],\n",
      "      \"upvote_ratio\":0.8,\n",
      "      \"url\":\"https://i.redd.it/a3ar6o7rlzyz.jpg\",\n",
      "      \"type\":[\"post\"],\n",
      "      \"_version_\":1794257300475609105\n",
      "    },{\n",
      "      \"author\":\"thehandsomebog\",\n",
      "      \"text\":[\"Update to the previous post\"],\n",
      "      \"created_utc\":\"2018-01-09T21:09:52Z\",\n",
      "      \"id\":\"7p6z9u\",\n",
      "      \"num_comments\":850.0,\n",
      "      \"permalink\":\"/r/teslamotors/comments/7p6z9u/update_to_the_previous_post/\",\n",
      "      \"score\":33437,\n",
      "      \"subreddit_name\":[\"teslamotors\"],\n",
      "      \"upvote_ratio\":0.92,\n",
      "      \"url\":\"https://i.redd.it/ob0dxon5k1901.jpg\",\n",
      "      \"type\":[\"post\"],\n",
      "      \"_version_\":1794257300475609108\n",
      "    },{\n",
      "      \"author\":\"Scourgiman\",\n",
      "      \"text\":[\"UPS Pre-Orders 125 Tesla Electric Trucks\"],\n",
      "      \"created_utc\":\"2017-12-19T22:06:58Z\",\n",
      "      \"id\":\"7ktg18\",\n",
      "      \"num_comments\":958.0,\n",
      "      \"permalink\":\"/r/teslamotors/comments/7ktg18/ups_preorders_125_tesla_electric_trucks/\",\n",
      "      \"score\":22822,\n",
      "      \"subreddit_name\":[\"teslamotors\"],\n",
      "      \"upvote_ratio\":0.91,\n",
      "      \"url\":\"https://pressroom.ups.com/pressroom/ContentDetailsViewer.page?ConceptType=PressReleases&id=1513688472411-396\",\n",
      "      \"type\":[\"post\"],\n",
      "      \"_version_\":1794257300476657674\n",
      "    },{\n",
      "      \"author\":\"deplorablecalifornia\",\n",
      "      \"text\":[\"This Elon Tweet Makes Way More Sense Now\"],\n",
      "      \"created_utc\":\"2017-11-18T02:26:14Z\",\n",
      "      \"id\":\"7dmwuk\",\n",
      "      \"num_comments\":836.0,\n",
      "      \"permalink\":\"/r/teslamotors/comments/7dmwuk/this_elon_tweet_makes_way_more_sense_now/\",\n",
      "      \"score\":22148,\n",
      "      \"subreddit_name\":[\"teslamotors\"],\n",
      "      \"upvote_ratio\":0.92,\n",
      "      \"url\":\"https://i.redd.it/v19xqn69wkyz.png\",\n",
      "      \"type\":[\"post\"],\n",
      "      \"_version_\":1794257300476657677\n",
      "    },{\n",
      "      \"author\":\"Geek4lyf\",\n",
      "      \"text\":[\"The Race is on!\"],\n",
      "      \"created_utc\":\"2017-12-24T17:07:12Z\",\n",
      "      \"id\":\"7luapl\",\n",
      "      \"num_comments\":292.0,\n",
      "      \"permalink\":\"/r/teslamotors/comments/7luapl/the_race_is_on/\",\n",
      "      \"score\":21996,\n",
      "      \"subreddit_name\":[\"teslamotors\"],\n",
      "      \"upvote_ratio\":0.92,\n",
      "      \"url\":\"https://i.redd.it/refw1hz96u501.jpg\",\n",
      "      \"type\":[\"post\"],\n",
      "      \"_version_\":1794257300476657678\n",
      "    },{\n",
      "      \"author\":\"beepboy\",\n",
      "      \"text\":[\"Elon's letter about factory working conditions - he cares a lot!\"],\n",
      "      \"created_utc\":\"2017-06-02T10:07:38Z\",\n",
      "      \"id\":\"6erjqi\",\n",
      "      \"num_comments\":946.0,\n",
      "      \"permalink\":\"/r/teslamotors/comments/6erjqi/elons_letter_about_factory_working_conditions_he/\",\n",
      "      \"score\":21199,\n",
      "      \"subreddit_name\":[\"teslamotors\"],\n",
      "      \"upvote_ratio\":0.82,\n",
      "      \"url\":\"http://imgur.com/F8HjUa0\",\n",
      "      \"type\":[\"post\"],\n",
      "      \"_version_\":1794257300476657680\n",
      "    },{\n",
      "      \"author\":\"Intro24\",\n",
      "      \"text\":[\"Tesla perks\"],\n",
      "      \"created_utc\":\"2017-08-07T04:34:41Z\",\n",
      "      \"id\":\"6s0rvf\",\n",
      "      \"num_comments\":457.0,\n",
      "      \"permalink\":\"/r/teslamotors/comments/6s0rvf/tesla_perks/\",\n",
      "      \"score\":20821,\n",
      "      \"subreddit_name\":[\"teslamotors\"],\n",
      "      \"upvote_ratio\":0.91,\n",
      "      \"url\":\"https://i.redd.it/rzy4nsjah6ez.jpg\",\n",
      "      \"type\":[\"post\"],\n",
      "      \"_version_\":1794257300476657682\n",
      "    },{\n",
      "      \"author\":\"2050project\",\n",
      "      \"text\":[\"PepsiCo makes biggest public pre-order of Tesla Semis: 100 trucks\"],\n",
      "      \"created_utc\":\"2017-12-12T20:08:03Z\",\n",
      "      \"id\":\"7jabhr\",\n",
      "      \"num_comments\":901.0,\n",
      "      \"permalink\":\"/r/teslamotors/comments/7jabhr/pepsico_makes_biggest_public_preorder_of_tesla/\",\n",
      "      \"score\":17810,\n",
      "      \"subreddit_name\":[\"teslamotors\"],\n",
      "      \"upvote_ratio\":0.93,\n",
      "      \"url\":\"https://www.reuters.com/article/pepsico-tesla-orders/pepsico-makes-biggest-public-pre-order-of-tesla-semis-100-trucks-idUSL1N1OB1YR\",\n",
      "      \"type\":[\"post\"],\n",
      "      \"_version_\":1794257300477706245\n",
      "    }]\n",
      "  }\n",
      "}\n"
     ]
    },
    {
     "name": "stderr",
     "output_type": "stream",
     "text": [
      "  % Total    % Received % Xferd  Average Speed   Time    Time     Time  Current\n",
      "                                 Dload  Upload   Total   Spent    Left  Speed\n",
      "\n",
      "  0     0    0     0    0     0      0      0 --:--:-- --:--:-- --:--:--     0\n",
      "100  5243  100  5175  100    68  25114    330 --:--:-- --:--:-- --:--:-- 25451\n"
     ]
    }
   ],
   "source": [
    "!curl -X GET http://localhost:8983/solr/search_reddit/query -d \"q=created_utc:[2017-01-01T00:00:00Z TO 2018-01-31T23:59:59Z]&rows=10\""
   ],
   "metadata": {
    "collapsed": false,
    "ExecuteTime": {
     "end_time": "2024-03-22T19:51:49.905406Z",
     "start_time": "2024-03-22T19:51:49.668069Z"
    }
   },
   "id": "d9ba2d9c16a35ef4",
   "execution_count": 10
  },
  {
   "cell_type": "markdown",
   "source": [
    "## Combination of conditions"
   ],
   "metadata": {
    "collapsed": false
   },
   "id": "dcd0dc68a7936cfc"
  },
  {
   "cell_type": "code",
   "outputs": [
    {
     "name": "stdout",
     "output_type": "stream",
     "text": [
      "{\n",
      "  \"responseHeader\":{\n",
      "    \"status\":0,\n",
      "    \"QTime\":1,\n",
      "    \"params\":{\n",
      "      \"q\":\"text:congrats* AND created_utc:[2017-01-01T00:00:00Z TO 2018-01-31T23:59:59Z]\",\n",
      "      \"rows\":\"10\"\n",
      "    }\n",
      "  },\n",
      "  \"response\":{\n",
      "    \"numFound\":0,\n",
      "    \"start\":0,\n",
      "    \"numFoundExact\":true,\n",
      "    \"docs\":[ ]\n",
      "  }\n",
      "}\n"
     ]
    },
    {
     "name": "stderr",
     "output_type": "stream",
     "text": [
      "  % Total    % Received % Xferd  Average Speed   Time    Time     Time  Current\n",
      "                                 Dload  Upload   Total   Spent    Left  Speed\n",
      "\n",
      "  0     0    0     0    0     0      0      0 --:--:-- --:--:-- --:--:--     0\n",
      "100   370  100   283  100    87   1295    398 --:--:-- --:--:-- --:--:--  1697\n"
     ]
    }
   ],
   "source": [
    "!curl -X GET http://localhost:8983/solr/search_reddit/query -d \"q=text:congrats* AND created_utc:[2017-01-01T00:00:00Z TO 2018-01-31T23:59:59Z]&rows=10\""
   ],
   "metadata": {
    "collapsed": false,
    "ExecuteTime": {
     "end_time": "2024-03-22T19:51:50.154339Z",
     "start_time": "2024-03-22T19:51:49.906352Z"
    }
   },
   "id": "a860d4a9866df725",
   "execution_count": 11
  }
 ],
 "metadata": {
  "kernelspec": {
   "display_name": "Python 3",
   "language": "python",
   "name": "python3"
  },
  "language_info": {
   "codemirror_mode": {
    "name": "ipython",
    "version": 2
   },
   "file_extension": ".py",
   "mimetype": "text/x-python",
   "name": "python",
   "nbconvert_exporter": "python",
   "pygments_lexer": "ipython2",
   "version": "2.7.6"
  }
 },
 "nbformat": 4,
 "nbformat_minor": 5
}
