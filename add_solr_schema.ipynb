{
 "cells": [
  {
   "cell_type": "markdown",
   "source": [
    "# Create Solr Core"
   ],
   "metadata": {
    "collapsed": false
   },
   "id": "89b03a361862001f"
  },
  {
   "cell_type": "code",
   "outputs": [
    {
     "name": "stdout",
     "output_type": "stream",
     "text": [
      "{\n",
      "  \"responseHeader\":{\n",
      "    \"status\":0,\n",
      "    \"QTime\":67\n",
      "  }\n",
      "}\n"
     ]
    },
    {
     "name": "stderr",
     "output_type": "stream",
     "text": [
      "  % Total    % Received % Xferd  Average Speed   Time    Time     Time  Current\n",
      "                                 Dload  Upload   Total   Spent    Left  Speed\n",
      "\n",
      "  0     0    0     0    0     0      0      0 --:--:-- --:--:-- --:--:--     0\n",
      "100    59  100    59    0     0    217      0 --:--:-- --:--:-- --:--:--   216\n",
      "100    59  100    59    0     0    217      0 --:--:-- --:--:-- --:--:--   216\n"
     ]
    }
   ],
   "source": [
    "# Delete any existing core\n",
    "!curl -X GET \"http://localhost:8983/solr/admin/cores?action=UNLOAD&core=search_reddit&deleteInstanceDir=true&deleteDataDir=true\""
   ],
   "metadata": {
    "collapsed": false,
    "ExecuteTime": {
     "end_time": "2024-03-23T19:05:06.151048Z",
     "start_time": "2024-03-23T19:05:05.848440Z"
    }
   },
   "id": "f076c3ba137ec58e",
   "execution_count": 123
  },
  {
   "cell_type": "code",
   "outputs": [
    {
     "data": {
      "text/plain": "'C:\\\\solr-9.5.0-slim\\\\server\\\\solr\\\\search_reddit'"
     },
     "execution_count": 124,
     "metadata": {},
     "output_type": "execute_result"
    }
   ],
   "source": [
    "import shutil\n",
    "\n",
    "# Create directory\n",
    "shutil.copytree(\"C:\\\\solr-9.5.0-slim\\\\server\\\\solr\\\\configsets\\\\_default\", \"C:\\\\solr-9.5.0-slim\\\\server\\\\solr\\\\search_reddit\")"
   ],
   "metadata": {
    "collapsed": false,
    "ExecuteTime": {
     "end_time": "2024-03-23T19:05:06.190868Z",
     "start_time": "2024-03-23T19:05:06.152043Z"
    }
   },
   "id": "d77a05ff87aff2e9",
   "execution_count": 124
  },
  {
   "cell_type": "code",
   "outputs": [
    {
     "name": "stdout",
     "output_type": "stream",
     "text": [
      "{\n",
      "  \"responseHeader\":{\n",
      "    \"status\":0,\n",
      "    \"QTime\":160\n",
      "  },\n",
      "  \"core\":\"search_reddit\"\n",
      "}\n"
     ]
    },
    {
     "name": "stderr",
     "output_type": "stream",
     "text": [
      "  % Total    % Received % Xferd  Average Speed   Time    Time     Time  Current\n",
      "                                 Dload  Upload   Total   Spent    Left  Speed\n",
      "\n",
      "  0     0    0     0    0     0      0      0 --:--:-- --:--:-- --:--:--     0\n",
      "100    86  100    86    0     0    229      0 --:--:-- --:--:-- --:--:--   229\n"
     ]
    }
   ],
   "source": [
    "# Create solr core with default settings\n",
    "!curl -X GET \"http://localhost:8983/solr/admin/cores?action=CREATE&name=search_reddit&instanceDir=search_reddit\""
   ],
   "metadata": {
    "collapsed": false,
    "ExecuteTime": {
     "end_time": "2024-03-23T19:05:06.593410Z",
     "start_time": "2024-03-23T19:05:06.191865Z"
    }
   },
   "id": "ea4be026708eee84",
   "execution_count": 125
  },
  {
   "cell_type": "markdown",
   "source": [
    "# Solr recommends we use HTTP requests to edit schema. Because of data integrity issues"
   ],
   "metadata": {
    "collapsed": false
   },
   "id": "63a42fbef6fe8ed8"
  },
  {
   "cell_type": "code",
   "outputs": [
    {
     "name": "stdout",
     "output_type": "stream",
     "text": [
      "{\n",
      "  \"responseHeader\":{\n",
      "    \"status\":0,\n",
      "    \"QTime\":0\n",
      "  },\n",
      "  \"fields\":[{\n",
      "    \"name\":\"_nest_path_\",\n",
      "    \"type\":\"_nest_path_\"\n",
      "  },{\n",
      "    \"name\":\"_root_\",\n",
      "    \"type\":\"string\",\n",
      "    \"indexed\":true,\n",
      "    \"stored\":false,\n",
      "    \"docValues\":false\n",
      "  },{\n",
      "    \"name\":\"_text_\",\n",
      "    \"type\":\"text_general\",\n",
      "    \"multiValued\":true,\n",
      "    \"indexed\":true,\n",
      "    \"stored\":false\n",
      "  },{\n",
      "    \"name\":\"_version_\",\n",
      "    \"type\":\"plong\",\n",
      "    \"indexed\":false,\n",
      "    \"stored\":false\n",
      "  },{\n",
      "    \"name\":\"id\",\n",
      "    \"type\":\"string\",\n",
      "    \"multiValued\":false,\n",
      "    \"indexed\":true,\n",
      "    \"required\":true,\n",
      "    \"stored\":true\n",
      "  }]\n",
      "}\n"
     ]
    },
    {
     "name": "stderr",
     "output_type": "stream",
     "text": [
      "  % Total    % Received % Xferd  Average Speed   Time    Time     Time  Current\n",
      "                                 Dload  Upload   Total   Spent    Left  Speed\n",
      "\n",
      "  0     0    0     0    0     0      0      0 --:--:-- --:--:-- --:--:--     0\n",
      "100   574  100   574    0     0   2690      0 --:--:-- --:--:-- --:--:--  2694\n"
     ]
    }
   ],
   "source": [
    "# Get current schema, should be default/reserved fields\n",
    "!curl -X GET \"http://localhost:8983/solr/search_reddit/schema/fields\""
   ],
   "metadata": {
    "collapsed": false,
    "ExecuteTime": {
     "end_time": "2024-03-23T19:05:06.833638Z",
     "start_time": "2024-03-23T19:05:06.594405Z"
    }
   },
   "id": "b17e8c3257763d3",
   "execution_count": 126
  },
  {
   "cell_type": "markdown",
   "source": [
    "# Add custom schema & index\n",
    "\n",
    "https://solr.apache.org/guide/6_6/field-properties-by-use-case.html#field-properties-by-use-case\n",
    "https://solr.apache.org/guide/6_6/field-type-definitions-and-properties.html#field-type-definitions-and-properties"
   ],
   "metadata": {
    "collapsed": false
   },
   "id": "d4aeb952e90cba9d"
  },
  {
   "cell_type": "markdown",
   "source": [
    "## With only basic cleaning done beforehand, the rest have to be done in Solr. Therefore we define a custom field type for text\n",
    "\n",
    "- https://solr.apache.org/guide/6_6/filter-descriptions.html\n",
    "\n",
    "text_general for reference\n",
    "```\n",
    "</fieldType>\n",
    "  <fieldType name=\"text_general\" class=\"solr.TextField\" positionIncrementGap=\"100\" multiValued=\"true\">\n",
    "    <analyzer type=\"index\">\n",
    "      <tokenizer name=\"standard\"/>\n",
    "      <filter words=\"stopwords.txt\" name=\"stop\" ignoreCase=\"true\"/>\n",
    "      <filter name=\"lowercase\"/>\n",
    "    </analyzer>\n",
    "    <analyzer type=\"query\">\n",
    "      <tokenizer name=\"standard\"/>\n",
    "      <filter words=\"stopwords.txt\" name=\"stop\" ignoreCase=\"true\"/>\n",
    "      <filter ignoreCase=\"true\" synonyms=\"synonyms.txt\" name=\"synonymGraph\" expand=\"true\"/>\n",
    "      <filter name=\"lowercase\"/>\n",
    "    </analyzer>\n",
    "</fieldType>\n",
    "```\n",
    "\n",
    "text_reddit custom field type\n",
    "- Query and index filters do not need to be the same\n",
    "- Synonyms are used to expand search results for query terms only\n",
    "- NGram filter is used to create n-grams for index terms only\n",
    "- The rest can be the same as text_general\n",
    "```\n",
    "  <fieldType name=\"text_reddit\" class=\"solr.TextField\" positionIncrementGap=\"100\" multiValued=\"true\">\n",
    "    <analyzer type=\"index\">\n",
    "      <tokenizer class=\"solr.WhitespaceTokenizerFactory\"/>\n",
    "      <filter class=\"solr.StopFilterFactory\" words=\"stopwords.txt\" ignoreCase=\"true\"/>\n",
    "      <filter class=\"solr.LowerCaseFilterFactory\"/>\n",
    "      <filter class=\"solr.SnowballPorterFilterFactory\" language=\"English\"/>\n",
    "      <filter class=\"solr.NGramFilterFactory\" maxGramSize=\"20\" minGramSize=\"2\"/>\n",
    "    </analyzer>\n",
    "    <analyzer type=\"query\">\n",
    "      <tokenizer class=\"solr.WhitespaceTokenizerFactory\"/>\n",
    "      <filter class=\"solr.StopFilterFactory\" words=\"stopwords.txt\" ignoreCase=\"true\"/>\n",
    "      <filter class=\"solr.SynonymGraphFilterFactory\" ignoreCase=\"true\" synonyms=\"synonyms.txt\" expand=\"true\"/>\n",
    "      <filter class=\"solr.LowerCaseFilterFactory\"/>\n",
    "      <filter class=\"solr.SnowballPorterFilterFactory\" language=\"English\"/>\n",
    "    </analyzer>\n",
    "```"
   ],
   "metadata": {
    "collapsed": false
   },
   "id": "8f34e9690f25545d"
  },
  {
   "cell_type": "code",
   "outputs": [
    {
     "name": "stdout",
     "output_type": "stream",
     "text": [
      "{\n",
      "  \"responseHeader\":{\n",
      "    \"status\":0,\n",
      "    \"QTime\":138\n",
      "  }\n",
      "}\n"
     ]
    },
    {
     "name": "stderr",
     "output_type": "stream",
     "text": [
      "  % Total    % Received % Xferd  Average Speed   Time    Time     Time  Current\n",
      "                                 Dload  Upload   Total   Spent    Left  Speed\n",
      "\n",
      "  0     0    0     0    0     0      0      0 --:--:-- --:--:-- --:--:--     0\n",
      "100   782  100    60  100   722    171   2058 --:--:-- --:--:-- --:--:--  2227\n",
      "100   782  100    60  100   722    171   2058 --:--:-- --:--:-- --:--:--  2227\n"
     ]
    }
   ],
   "source": [
    "# Tried with General tokenizer but didnt work\n",
    "# !curl -X POST -H \"Content-type:application/json\" --data-binary \"{\"add-field-type\":{\"name\":\"text_reddit\",\"class\":\"solr.TextField\",\"positionIncrementGap\":\"100\",\"multiValued\":true,\"indexAnalyzer\":{\"tokenizer\":{\"class\":\"solr.StandardTokenizerFactory\"},\"filters\":[{\"class\":\"solr.StopFilterFactory\",\"ignoreCase\":true,\"words\":\"stopwords.txt\"},{\"class\":\"solr.LowerCaseFilterFactory\"},{\"class\":\"solr.SnowballPorterFilterFactory\",\"language\":\"English\"},{\"class\":\"solr.NGramFilterFactory\",\"minGramSize\":2,\"maxGramSize\":20}]},\"queryAnalyzer\":{\"tokenizer\":{\"class\":\"solr.StandardTokenizerFactory\"},\"filters\":[{\"class\":\"solr.StopFilterFactory\",\"ignoreCase\":true,\"words\":\"stopwords.txt\"},{\"class\":\"solr.SynonymGraphFilterFactory\",\"ignoreCase\":true,\"synonyms\":\"synonyms.txt\",\"expand\":true},{\"class\":\"solr.LowerCaseFilterFactory\"},{\"class\":\"solr.SnowballPorterFilterFactory\",\"language\":\"English\"}]}}}\" http://localhost:8983/api/cores/search_reddit/schema\n",
    "\n",
    "# Try with Whitespace tokenizer\n",
    "!curl -X POST -H \"Content-type:application/json\" --data-binary \"{\"add-field-type\":{\"name\":\"text_reddit\",\"class\":\"solr.TextField\",\"positionIncrementGap\":\"100\",\"multiValued\":true,\"indexAnalyzer\":{\"tokenizer\":{\"class\":\"solr.WhitespaceTokenizerFactory\"},\"filters\":[{\"class\":\"solr.StopFilterFactory\",\"ignoreCase\":true,\"words\":\"stopwords.txt\"},{\"class\":\"solr.LowerCaseFilterFactory\"},{\"class\":\"solr.SnowballPorterFilterFactory\",\"language\":\"English\"},{\"class\":\"solr.NGramFilterFactory\",\"minGramSize\":2,\"maxGramSize\":20}]},\"queryAnalyzer\":{\"tokenizer\":{\"class\":\"solr.WhitespaceTokenizerFactory\"},\"filters\":[{\"class\":\"solr.StopFilterFactory\",\"ignoreCase\":true,\"words\":\"stopwords.txt\"},{\"class\":\"solr.SynonymGraphFilterFactory\",\"ignoreCase\":true,\"synonyms\":\"synonyms.txt\",\"expand\":true},{\"class\":\"solr.LowerCaseFilterFactory\"},{\"class\":\"solr.SnowballPorterFilterFactory\",\"language\":\"English\"}]}}}\" http://localhost:8983/api/cores/search_reddit/schema"
   ],
   "metadata": {
    "collapsed": false,
    "ExecuteTime": {
     "end_time": "2024-03-23T19:05:07.216011Z",
     "start_time": "2024-03-23T19:05:06.834634Z"
    }
   },
   "id": "cd611ba23e90e0b0",
   "execution_count": 127
  },
  {
   "cell_type": "markdown",
   "source": [
    "## Field types explained\n",
    "- indexed -> If true, the value of the field can be used in queries to retrieve matching documents.\n",
    "- stored -> If true, the actual value of the field can be retrieved by queries.\n",
    "\n",
    "Our search engine primarily searches by comment & post texts\n",
    "\n",
    "```\n",
    "<field name=\"_nest_path_\" type=\"_nest_path_\"/>\n",
    "<field name=\"_root_\" type=\"string\" indexed=\"true\" stored=\"false\" docValues=\"false\"/>\n",
    "<field name=\"_text_\" type=\"text_general\" multiValued=\"true\" indexed=\"true\" stored=\"false\"/>\n",
    "<field name=\"_version_\" type=\"plong\" indexed=\"false\" stored=\"false\"/>\n",
    "<field name=\"author\" type=\"text_general\"/>\n",
    "<field name=\"created_utc\" type=\"pdates\"/>\n",
    "<field name=\"edited\" type=\"pdates\"/>\n",
    "<field name=\"id\" type=\"string\" multiValued=\"false\" indexed=\"true\" required=\"true\" stored=\"true\"/>\n",
    "<field name=\"num_comments\" type=\"pdoubles\"/>\n",
    "<field name=\"permalink\" type=\"text_general\"/>\n",
    "<field name=\"post_id\" type=\"text_general\"/>\n",
    "<field name=\"score\" type=\"plongs\"/>\n",
    "<field name=\"subreddit_name\" type=\"text_general\"/>\n",
    "<field name=\"text\" type=\"text_general\"/>\n",
    "<field name=\"type\" type=\"text_general\"/>\n",
    "<field name=\"upvote_ratio\" type=\"pdoubles\"/>\n",
    "<field name=\"url\" type=\"text_general\"/>\n",
    "```"
   ],
   "metadata": {
    "collapsed": false
   },
   "id": "9e762b19e1b35c47"
  },
  {
   "cell_type": "code",
   "outputs": [
    {
     "name": "stdout",
     "output_type": "stream",
     "text": [
      "{\n",
      "  \"responseHeader\":{\n",
      "    \"status\":0,\n",
      "    \"QTime\":124\n",
      "  }\n",
      "}\n"
     ]
    },
    {
     "name": "stderr",
     "output_type": "stream",
     "text": [
      "  % Total    % Received % Xferd  Average Speed   Time    Time     Time  Current\n",
      "                                 Dload  Upload   Total   Spent    Left  Speed\n",
      "\n",
      "  0     0    0     0    0     0      0      0 --:--:-- --:--:-- --:--:--     0\n",
      "100   172  100    60  100   112    178    333 --:--:-- --:--:-- --:--:--   511\n"
     ]
    },
    {
     "name": "stdout",
     "output_type": "stream",
     "text": [
      "{\n",
      "  \"responseHeader\":{\n",
      "    \"status\":0,\n",
      "    \"QTime\":113\n",
      "  }\n",
      "}\n"
     ]
    },
    {
     "name": "stderr",
     "output_type": "stream",
     "text": [
      "  % Total    % Received % Xferd  Average Speed   Time    Time     Time  Current\n",
      "                                 Dload  Upload   Total   Spent    Left  Speed\n",
      "\n",
      "  0     0    0     0    0     0      0      0 --:--:-- --:--:-- --:--:--     0\n",
      "100   139  100    60  100    79    181    239 --:--:-- --:--:-- --:--:--   421\n"
     ]
    },
    {
     "name": "stdout",
     "output_type": "stream",
     "text": [
      "{\n",
      "  \"responseHeader\":{\n",
      "    \"status\":0,\n",
      "    \"QTime\":108\n",
      "  }\n",
      "}\n"
     ]
    },
    {
     "name": "stderr",
     "output_type": "stream",
     "text": [
      "  % Total    % Received % Xferd  Average Speed   Time    Time     Time  Current\n",
      "                                 Dload  Upload   Total   Spent    Left  Speed\n",
      "\n",
      "  0     0    0     0    0     0      0      0 --:--:-- --:--:-- --:--:--     0\n",
      "  0     0    0     0    0     0      0      0 --:--:-- --:--:-- --:--:--     0\n",
      "100   177  100    60  100   117    182    356 --:--:-- --:--:-- --:--:--   537\n"
     ]
    },
    {
     "name": "stdout",
     "output_type": "stream",
     "text": [
      "{\n",
      "  \"responseHeader\":{\n",
      "    \"status\":0,\n",
      "    \"QTime\":113\n",
      "  }\n",
      "}\n"
     ]
    },
    {
     "name": "stderr",
     "output_type": "stream",
     "text": [
      "  % Total    % Received % Xferd  Average Speed   Time    Time     Time  Current\n",
      "                                 Dload  Upload   Total   Spent    Left  Speed\n",
      "\n",
      "  0     0    0     0    0     0      0      0 --:--:-- --:--:-- --:--:--     0\n",
      "100   122  100    60  100    62    185    191 --:--:-- --:--:-- --:--:--   378\n"
     ]
    },
    {
     "name": "stdout",
     "output_type": "stream",
     "text": [
      "{\n",
      "  \"responseHeader\":{\n",
      "    \"status\":400,\n",
      "    \"QTime\":0\n",
      "  },\n",
      "  \"error\":{\n",
      "    \"metadata\":[\"error-class\",\"org.apache.solr.api.ApiBag$ExceptionWithErrObject\",\"root-error-class\",\"org.apache.solr.api.ApiBag$ExceptionWithErrObject\"],\n",
      "    \"details\":[{\n",
      "      \"errorMessages\":[\"Field 'id' already exists.\\n\"],\n",
      "      \"add-field\":{\n",
      "        \"name\":\"id\",\n",
      "        \"type\":\"string\",\n",
      "        \"stored\":true,\n",
      "        \"indexed\":true,\n",
      "        \"multiValued\":false,\n",
      "        \"required\":true\n",
      "      }\n",
      "    }],\n",
      "    \"msg\":\"error processing commands, errors: [{errorMessages=[Field 'id' already exists.\\n], add-field={name=id, type=string, stored=true, indexed=true, multiValued=false, required=true}}], \",\n",
      "    \"code\":400\n",
      "  }\n",
      "}\n"
     ]
    },
    {
     "name": "stderr",
     "output_type": "stream",
     "text": [
      "  % Total    % Received % Xferd  Average Speed   Time    Time     Time  Current\n",
      "                                 Dload  Upload   Total   Spent    Left  Speed\n",
      "\n",
      "  0     0    0     0    0     0      0      0 --:--:-- --:--:-- --:--:--     0\n",
      "100   786  100   696  100    90   3224    416 --:--:-- --:--:-- --:--:--  3655\n"
     ]
    },
    {
     "name": "stdout",
     "output_type": "stream",
     "text": [
      "{\n",
      "  \"responseHeader\":{\n",
      "    \"status\":0,\n",
      "    \"QTime\":100\n",
      "  }\n",
      "}\n"
     ]
    },
    {
     "name": "stderr",
     "output_type": "stream",
     "text": [
      "  % Total    % Received % Xferd  Average Speed   Time    Time     Time  Current\n",
      "                                 Dload  Upload   Total   Spent    Left  Speed\n",
      "\n",
      "  0     0    0     0    0     0      0      0 --:--:-- --:--:-- --:--:--     0\n",
      "  0     0    0     0    0     0      0      0 --:--:-- --:--:-- --:--:--     0\n",
      "100   180  100    60  100   120    190    380 --:--:-- --:--:-- --:--:--   569\n"
     ]
    },
    {
     "name": "stdout",
     "output_type": "stream",
     "text": [
      "{\n",
      "  \"responseHeader\":{\n",
      "    \"status\":0,\n",
      "    \"QTime\":92\n",
      "  }\n",
      "}\n"
     ]
    },
    {
     "name": "stderr",
     "output_type": "stream",
     "text": [
      "  % Total    % Received % Xferd  Average Speed   Time    Time     Time  Current\n",
      "                                 Dload  Upload   Total   Spent    Left  Speed\n",
      "\n",
      "  0     0    0     0    0     0      0      0 --:--:-- --:--:-- --:--:--     0\n",
      "100   129  100    59  100    70    191    227 --:--:-- --:--:-- --:--:--   420\n"
     ]
    },
    {
     "name": "stdout",
     "output_type": "stream",
     "text": [
      "{\n",
      "  \"responseHeader\":{\n",
      "    \"status\":0,\n",
      "    \"QTime\":87\n",
      "  }\n",
      "}\n"
     ]
    },
    {
     "name": "stderr",
     "output_type": "stream",
     "text": [
      "  % Total    % Received % Xferd  Average Speed   Time    Time     Time  Current\n",
      "                                 Dload  Upload   Total   Spent    Left  Speed\n",
      "\n",
      "  0     0    0     0    0     0      0      0 --:--:-- --:--:-- --:--:--     0\n",
      "100   169  100    59  100   110    194    362 --:--:-- --:--:-- --:--:--   557\n"
     ]
    },
    {
     "name": "stdout",
     "output_type": "stream",
     "text": [
      "{\n",
      "  \"responseHeader\":{\n",
      "    \"status\":0,\n",
      "    \"QTime\":102\n",
      "  }\n",
      "}\n"
     ]
    },
    {
     "name": "stderr",
     "output_type": "stream",
     "text": [
      "  % Total    % Received % Xferd  Average Speed   Time    Time     Time  Current\n",
      "                                 Dload  Upload   Total   Spent    Left  Speed\n",
      "\n",
      "  0     0    0     0    0     0      0      0 --:--:-- --:--:-- --:--:--     0\n",
      "  0     0    0     0    0     0      0      0 --:--:-- --:--:-- --:--:--     0\n",
      "100   134  100    60  100    74    189    233 --:--:-- --:--:-- --:--:--   422\n"
     ]
    },
    {
     "name": "stdout",
     "output_type": "stream",
     "text": [
      "{\n",
      "  \"responseHeader\":{\n",
      "    \"status\":0,\n",
      "    \"QTime\":92\n",
      "  }\n",
      "}\n"
     ]
    },
    {
     "name": "stderr",
     "output_type": "stream",
     "text": [
      "  % Total    % Received % Xferd  Average Speed   Time    Time     Time  Current\n",
      "                                 Dload  Upload   Total   Spent    Left  Speed\n",
      "\n",
      "  0     0    0     0    0     0      0      0 --:--:-- --:--:-- --:--:--     0\n",
      "100   179  100    59  100   120    193    393 --:--:-- --:--:-- --:--:--   588\n"
     ]
    },
    {
     "name": "stdout",
     "output_type": "stream",
     "text": [
      "{\n",
      "  \"responseHeader\":{\n",
      "    \"status\":0,\n",
      "    \"QTime\":96\n",
      "  }\n",
      "}\n"
     ]
    },
    {
     "name": "stderr",
     "output_type": "stream",
     "text": [
      "  % Total    % Received % Xferd  Average Speed   Time    Time     Time  Current\n",
      "                                 Dload  Upload   Total   Spent    Left  Speed\n",
      "\n",
      "  0     0    0     0    0     0      0      0 --:--:-- --:--:-- --:--:--     0\n",
      "100   123  100    59  100    64    192    209 --:--:-- --:--:-- --:--:--   403\n"
     ]
    },
    {
     "name": "stdout",
     "output_type": "stream",
     "text": [
      "{\n",
      "  \"responseHeader\":{\n",
      "    \"status\":0,\n",
      "    \"QTime\":90\n",
      "  }\n",
      "}\n"
     ]
    },
    {
     "name": "stderr",
     "output_type": "stream",
     "text": [
      "  % Total    % Received % Xferd  Average Speed   Time    Time     Time  Current\n",
      "                                 Dload  Upload   Total   Spent    Left  Speed\n",
      "\n",
      "  0     0    0     0    0     0      0      0 --:--:-- --:--:-- --:--:--     0\n",
      "  0     0    0     0    0     0      0      0 --:--:-- --:--:-- --:--:--     0\n",
      "100   123  100    59  100    64    191    207 --:--:-- --:--:-- --:--:--   398\n"
     ]
    },
    {
     "name": "stdout",
     "output_type": "stream",
     "text": [
      "{\n",
      "  \"responseHeader\":{\n",
      "    \"status\":0,\n",
      "    \"QTime\":102\n",
      "  }\n",
      "}\n"
     ]
    },
    {
     "name": "stderr",
     "output_type": "stream",
     "text": [
      "  % Total    % Received % Xferd  Average Speed   Time    Time     Time  Current\n",
      "                                 Dload  Upload   Total   Spent    Left  Speed\n",
      "\n",
      "  0     0    0     0    0     0      0      0 --:--:-- --:--:-- --:--:--     0\n",
      "100   127  100    60  100    67    190    213 --:--:-- --:--:-- --:--:--   404\n"
     ]
    }
   ],
   "source": [
    "# Author, retrieved, sorted by\n",
    "!curl -X POST -H \"Content-type:application/json\" --data-binary \"{\"add-field\":{\"name\":\"author\",\"type\":\"string\",\"stored\":true,\"indexed\":true, \"multiValued\":false, \"omitNorms\":true,\"docValues\":true}}\" http://localhost:8983/api/cores/search_reddit/schema\n",
    "\n",
    "# Text, searched and retrieved\n",
    "!curl -X POST -H \"Content-type:application/json\" --data-binary \"{\"add-field\":{\"name\":\"text\",\"type\":\"text_reddit\",\"stored\":true,\"indexed\":true,\"required\":true}}\" http://localhost:8983/api/cores/search_reddit/schema\n",
    "\n",
    "# created_utc, retrieved, sorted by\n",
    "!curl -X POST -H \"Content-type:application/json\" --data-binary \"{\"add-field\":{\"name\":\"created_utc\",\"type\":\"pdates\",\"stored\":true,\"indexed\":true, \"multiValued\":false, \"omitNorms\":true,\"docValues\":true}}\" http://localhost:8983/api/cores/search_reddit/schema\n",
    "\n",
    "# edited, retrieved\n",
    "!curl -X POST -H \"Content-type:application/json\" --data-binary \"{\"add-field\":{\"name\":\"edited\",\"type\":\"pdates\",\"stored\":true,\"indexed\":true}}\" http://localhost:8983/api/cores/search_reddit/schema\n",
    "\n",
    "# id, retrieved, unique key\n",
    "!curl -X POST -H \"Content-type:application/json\" --data-binary \"{\"add-field\":{\"name\":\"id\",\"type\":\"string\",\"stored\":true,\"indexed\":true,\"multiValued\":false,\"required\":true}}\" http://localhost:8983/api/cores/search_reddit/schema\n",
    "\n",
    "# num_comments, retrieved, sorted by\n",
    "!curl -X POST -H \"Content-type:application/json\" --data-binary \"{\"add-field\":{\"name\":\"num_comments\",\"type\":\"pdoubles\",\"stored\":true,\"indexed\":true, \"multiValued\":false, \"omitNorms\":true,\"docValues\":true}}\" http://localhost:8983/api/cores/search_reddit/schema\n",
    "\n",
    "# permalink, retrieved\n",
    "!curl -X POST -H \"Content-type:application/json\" --data-binary \"{\"add-field\":{\"name\":\"permalink\",\"type\":\"string\",\"stored\":true,\"multiValued\":false}}\" http://localhost:8983/api/cores/search_reddit/schema\n",
    "\n",
    "# score, retrieved, sorted by\n",
    "!curl -X POST -H \"Content-type:application/json\" --data-binary \"{\"add-field\":{\"name\":\"score\",\"type\":\"plong\",\"stored\":true,\"indexed\":true, \"multiValued\":false, \"omitNorms\":true,\"docValues\":true}}\" http://localhost:8983/api/cores/search_reddit/schema\n",
    "\n",
    "# subreddit_name, retrieved\n",
    "!curl -X POST -H \"Content-type:application/json\" --data-binary \"{\"add-field\":{\"name\":\"subreddit_name\",\"type\":\"string\",\"stored\":true,\"multiValued\":true}}\" http://localhost:8983/api/cores/search_reddit/schema\n",
    "\n",
    "# upvote_ratio, retrieved, sorted by\n",
    "!curl -X POST -H \"Content-type:application/json\" --data-binary \"{\"add-field\":{\"name\":\"upvote_ratio\",\"type\":\"pdoubles\",\"stored\":true,\"indexed\":true, \"multiValued\":false, \"omitNorms\":true,\"docValues\":true}}\" http://localhost:8983/api/cores/search_reddit/schema\n",
    "\n",
    "# url, retrieved\n",
    "!curl -X POST -H \"Content-type:application/json\" --data-binary \"{\"add-field\":{\"name\":\"url\",\"type\":\"string\",\"stored\":true,\"multiValued\":false}}\" http://localhost:8983/api/cores/search_reddit/schema\n",
    "\n",
    "# type, retrieved, have duplicates\n",
    "!curl -X POST -H \"Content-type:application/json\" --data-binary \"{\"add-field\":{\"name\":\"type\",\"type\":\"string\",\"stored\":true,\"multiValued\":true}}\" http://localhost:8983/api/cores/search_reddit/schema\n",
    "\n",
    "# post_id, retrieved, have duplicates\n",
    "!curl -X POST -H \"Content-type:application/json\" --data-binary \"{\"add-field\":{\"name\":\"post_id\",\"type\":\"string\",\"stored\":true,\"multiValued\":true}}\" http://localhost:8983/api/cores/search_reddit/schema"
   ],
   "metadata": {
    "collapsed": false,
    "ExecuteTime": {
     "end_time": "2024-03-23T19:05:11.580444Z",
     "start_time": "2024-03-23T19:05:07.217004Z"
    }
   },
   "id": "4f506cf97ce563cc",
   "execution_count": 128
  },
  {
   "cell_type": "code",
   "outputs": [
    {
     "name": "stdout",
     "output_type": "stream",
     "text": [
      "{\n",
      "  \"responseHeader\":{\n",
      "    \"status\":0,\n",
      "    \"QTime\":0\n",
      "  },\n",
      "  \"fields\":[{\n",
      "    \"name\":\"_nest_path_\",\n",
      "    \"type\":\"_nest_path_\"\n",
      "  },{\n",
      "    \"name\":\"_root_\",\n",
      "    \"type\":\"string\",\n",
      "    \"indexed\":true,\n",
      "    \"stored\":false,\n",
      "    \"docValues\":false\n",
      "  },{\n",
      "    \"name\":\"_text_\",\n",
      "    \"type\":\"text_general\",\n",
      "    \"multiValued\":true,\n",
      "    \"indexed\":true,\n",
      "    \"stored\":false\n",
      "  },{\n",
      "    \"name\":\"_version_\",\n",
      "    \"type\":\"plong\",\n",
      "    \"indexed\":false,\n",
      "    \"stored\":false\n",
      "  },{\n",
      "    \"name\":\"author\",\n",
      "    \"type\":\"string\",\n",
      "    \"omitNorms\":true,\n",
      "    \"docValues\":true,\n",
      "    \"multiValued\":false,\n",
      "    \"indexed\":true,\n",
      "    \"stored\":true\n",
      "  },{\n",
      "    \"name\":\"created_utc\",\n",
      "    \"type\":\"pdates\",\n",
      "    \"omitNorms\":true,\n",
      "    \"docValues\":true,\n",
      "    \"multiValued\":false,\n",
      "    \"indexed\":true,\n",
      "    \"stored\":true\n",
      "  },{\n",
      "    \"name\":\"edited\",\n",
      "    \"type\":\"pdates\",\n",
      "    \"indexed\":true,\n",
      "    \"stored\":true\n",
      "  },{\n",
      "    \"name\":\"id\",\n",
      "    \"type\":\"string\",\n",
      "    \"multiValued\":false,\n",
      "    \"indexed\":true,\n",
      "    \"required\":true,\n",
      "    \"stored\":true\n",
      "  },{\n",
      "    \"name\":\"num_comments\",\n",
      "    \"type\":\"pdoubles\",\n",
      "    \"omitNorms\":true,\n",
      "    \"docValues\":true,\n",
      "    \"multiValued\":false,\n",
      "    \"indexed\":true,\n",
      "    \"stored\":true\n",
      "  },{\n",
      "    \"name\":\"permalink\",\n",
      "    \"type\":\"string\",\n",
      "    \"multiValued\":false,\n",
      "    \"stored\":true\n",
      "  },{\n",
      "    \"name\":\"post_id\",\n",
      "    \"type\":\"string\",\n",
      "    \"multiValued\":true,\n",
      "    \"stored\":true\n",
      "  },{\n",
      "    \"name\":\"score\",\n",
      "    \"type\":\"plong\",\n",
      "    \"omitNorms\":true,\n",
      "    \"docValues\":true,\n",
      "    \"multiValued\":false,\n",
      "    \"indexed\":true,\n",
      "    \"stored\":true\n",
      "  },{\n",
      "    \"name\":\"subreddit_name\",\n",
      "    \"type\":\"string\",\n",
      "    \"multiValued\":true,\n",
      "    \"stored\":true\n",
      "  },{\n",
      "    \"name\":\"text\",\n",
      "    \"type\":\"text_reddit\",\n",
      "    \"indexed\":true,\n",
      "    \"required\":true,\n",
      "    \"stored\":true\n",
      "  },{\n",
      "    \"name\":\"type\",\n",
      "    \"type\":\"string\",\n",
      "    \"multiValued\":true,\n",
      "    \"stored\":true\n",
      "  },{\n",
      "    \"name\":\"upvote_ratio\",\n",
      "    \"type\":\"pdoubles\",\n",
      "    \"omitNorms\":true,\n",
      "    \"docValues\":true,\n",
      "    \"multiValued\":false,\n",
      "    \"indexed\":true,\n",
      "    \"stored\":true\n",
      "  },{\n",
      "    \"name\":\"url\",\n",
      "    \"type\":\"string\",\n",
      "    \"multiValued\":false,\n",
      "    \"stored\":true\n",
      "  }]\n",
      "}\n"
     ]
    },
    {
     "name": "stderr",
     "output_type": "stream",
     "text": [
      "  % Total    % Received % Xferd  Average Speed   Time    Time     Time  Current\n",
      "                                 Dload  Upload   Total   Spent    Left  Speed\n",
      "\n",
      "  0     0    0     0    0     0      0      0 --:--:-- --:--:-- --:--:--     0\n",
      "100  2023  100  2023    0     0   9475      0 --:--:-- --:--:-- --:--:--  9497\n"
     ]
    }
   ],
   "source": [
    "# Get current schema, should be default/reserved fields\n",
    "!curl -X GET \"http://localhost:8983/solr/search_reddit/schema/fields\""
   ],
   "metadata": {
    "collapsed": false,
    "ExecuteTime": {
     "end_time": "2024-03-23T19:05:11.821557Z",
     "start_time": "2024-03-23T19:05:11.581441Z"
    }
   },
   "id": "68efd4c2712b4755",
   "execution_count": 129
  },
  {
   "cell_type": "markdown",
   "source": [
    "# Ingest data"
   ],
   "metadata": {
    "collapsed": false
   },
   "id": "2b76fbe89421d19"
  },
  {
   "cell_type": "code",
   "outputs": [
    {
     "name": "stdout",
     "output_type": "stream",
     "text": [
      "{\n",
      "  \"responseHeader\":{\n",
      "    \"status\":0,\n",
      "    \"QTime\":7744\n",
      "  }\n",
      "}\n"
     ]
    },
    {
     "name": "stderr",
     "output_type": "stream",
     "text": [
      "  % Total    % Received % Xferd  Average Speed   Time    Time     Time  Current\n",
      "                                 Dload  Upload   Total   Spent    Left  Speed\n",
      "\n",
      "  0     0    0     0    0     0      0      0 --:--:-- --:--:-- --:--:--     0\n",
      " 20 13.7M    0     0   20 2816k      0  11.9M  0:00:01 --:--:--  0:00:01 11.9M\n",
      " 55 13.7M    0     0   55 7744k      0  3474k  0:00:04  0:00:02  0:00:02 3474k\n",
      " 75 13.7M    0     0   75 10.3M      0  3087k  0:00:04  0:00:03  0:00:01 3087k\n",
      "100 13.7M    0     0  100 13.7M      0  3113k  0:00:04  0:00:04 --:--:-- 3113k\n",
      "100 13.7M    0     0  100 13.7M      0  2547k  0:00:05  0:00:05 --:--:-- 2546k\n",
      "100 13.7M    0     0  100 13.7M      0  2153k  0:00:06  0:00:06 --:--:-- 1784k\n",
      "100 13.7M    0     0  100 13.7M      0  1863k  0:00:07  0:00:07 --:--:-- 1187k\n",
      "100 13.7M  100    61  100 13.7M      7  1767k  0:00:08  0:00:07  0:00:01  759k\n"
     ]
    }
   ],
   "source": [
    "# add document to solr\n",
    "!curl \"http://localhost:8983/solr/search_reddit/update?commit=true\" --data-binary @data/cleaned_combined_data.csv -H \"Content-type:application/csv\""
   ],
   "metadata": {
    "collapsed": false,
    "ExecuteTime": {
     "end_time": "2024-03-23T19:05:19.832427Z",
     "start_time": "2024-03-23T19:05:11.822551Z"
    }
   },
   "id": "f475d8ff0be7ebec",
   "execution_count": 130
  },
  {
   "cell_type": "markdown",
   "source": [
    "# Test query data\n",
    "\n",
    "- https://solr.apache.org/guide/6_6/the-standard-query-parser.html"
   ],
   "metadata": {
    "collapsed": false
   },
   "id": "239e6c7a6bae26d6"
  },
  {
   "cell_type": "markdown",
   "source": [
    "## Select with keyword search"
   ],
   "metadata": {
    "collapsed": false
   },
   "id": "51f266ce47295f"
  },
  {
   "cell_type": "code",
   "outputs": [
    {
     "name": "stdout",
     "output_type": "stream",
     "text": [
      "{\n",
      "  \"responseHeader\":{\n",
      "    \"status\":0,\n",
      "    \"QTime\":3,\n",
      "    \"params\":{\n",
      "      \"q\":\"text:congrats*\",\n",
      "      \"rows\":\"10\"\n",
      "    }\n",
      "  },\n",
      "  \"response\":{\n",
      "    \"numFound\":561,\n",
      "    \"start\":0,\n",
      "    \"numFoundExact\":true,\n",
      "    \"docs\":[{\n",
      "      \"author\":\"pboksz\",\n",
      "      \"text\":[\"Congrats! That is one impressive reward! This is such a fun car and it will be great for hauling the two littles one!\"],\n",
      "      \"created_utc\":\"2022-03-29T03:02:07Z\",\n",
      "      \"id\":\"i2h052j\",\n",
      "      \"permalink\":\"/r/BMWi3/comments/tqghan/my_reward_for_finally_finishing_my_bachelors/i2h052j/\",\n",
      "      \"score\":10,\n",
      "      \"subreddit_name\":[\"BMWi3\"],\n",
      "      \"type\":[\"comment\"],\n",
      "      \"post_id\":[\"t3_tqghan\"],\n",
      "      \"_version_\":1794344969465495558\n",
      "    },{\n",
      "      \"author\":\"jazzcat007\",\n",
      "      \"text\":[\"Youâ€™re gonna love it! Congrats!\"],\n",
      "      \"created_utc\":\"2022-03-29T07:48:17Z\",\n",
      "      \"id\":\"i2i2ebt\",\n",
      "      \"permalink\":\"/r/BMWi3/comments/tqghan/my_reward_for_finally_finishing_my_bachelors/i2i2ebt/\",\n",
      "      \"score\":2,\n",
      "      \"subreddit_name\":[\"BMWi3\"],\n",
      "      \"type\":[\"comment\"],\n",
      "      \"post_id\":[\"t3_tqghan\"],\n",
      "      \"_version_\":1794344969466544128\n",
      "    },{\n",
      "      \"author\":\"[deleted]\",\n",
      "      \"text\":[\"Congrats! Beautiful family. Hereâ€™s wishing you many happy, healthy miles ahead. :sport_utility_vehicle:\"],\n",
      "      \"created_utc\":\"2022-03-29T12:26:04Z\",\n",
      "      \"id\":\"i2iyr1m\",\n",
      "      \"permalink\":\"/r/BMWi3/comments/tqghan/my_reward_for_finally_finishing_my_bachelors/i2iyr1m/\",\n",
      "      \"score\":2,\n",
      "      \"subreddit_name\":[\"BMWi3\"],\n",
      "      \"type\":[\"comment\"],\n",
      "      \"post_id\":[\"t3_tqghan\"],\n",
      "      \"_version_\":1794344969466544132\n",
      "    },{\n",
      "      \"author\":\"admin557\",\n",
      "      \"text\":[\"Congrats! It looks like new!\"],\n",
      "      \"created_utc\":\"2022-03-29T04:47:24Z\",\n",
      "      \"id\":\"i2hfgvn\",\n",
      "      \"permalink\":\"/r/BMWi3/comments/tqghan/my_reward_for_finally_finishing_my_bachelors/i2hfgvn/\",\n",
      "      \"score\":2,\n",
      "      \"subreddit_name\":[\"BMWi3\"],\n",
      "      \"type\":[\"comment\"],\n",
      "      \"post_id\":[\"t3_tqghan\"],\n",
      "      \"_version_\":1794344969466544139\n",
      "    },{\n",
      "      \"author\":\"Tide865\",\n",
      "      \"text\":[\"Congrats!\"],\n",
      "      \"created_utc\":\"2024-02-23T08:29:36Z\",\n",
      "      \"id\":\"krowqok\",\n",
      "      \"permalink\":\"/r/BMWi3/comments/1axmm77/100k_miles/krowqok/\",\n",
      "      \"score\":3,\n",
      "      \"subreddit_name\":[\"BMWi3\"],\n",
      "      \"type\":[\"comment\"],\n",
      "      \"post_id\":[\"t3_1axmm77\"],\n",
      "      \"_version_\":1794344969467592716\n",
      "    },{\n",
      "      \"author\":\"Heretogetthingsdone\",\n",
      "      \"text\":[\" Congrats! My 2014 Rex is well on the way as I passed a milestone. https://imgur.com/1p6m4oU\"],\n",
      "      \"created_utc\":\"2024-02-24T07:05:22Z\",\n",
      "      \"id\":\"kru8xeb\",\n",
      "      \"permalink\":\"/r/BMWi3/comments/1axmm77/100k_miles/kru8xeb/\",\n",
      "      \"score\":2,\n",
      "      \"subreddit_name\":[\"BMWi3\"],\n",
      "      \"type\":[\"comment\"],\n",
      "      \"post_id\":[\"t3_1axmm77\"],\n",
      "      \"_version_\":1794344969468641281\n",
      "    },{\n",
      "      \"author\":\"Darenhayes1978\",\n",
      "      \"text\":[\"Congrats!\"],\n",
      "      \"created_utc\":\"2023-05-25T20:06:22Z\",\n",
      "      \"id\":\"jljyc47\",\n",
      "      \"permalink\":\"/r/BMWi3/comments/13rc663/picked_her_up_straight_from_the_source_in_munich/jljyc47/\",\n",
      "      \"score\":2,\n",
      "      \"subreddit_name\":[\"BMWi3\"],\n",
      "      \"type\":[\"comment\"],\n",
      "      \"post_id\":[\"t3_13rc663\"],\n",
      "      \"_version_\":1794344969469689871\n",
      "    },{\n",
      "      \"author\":\"Redi3s\",\n",
      "      \"text\":[\"Very nice color. There's a video there of that particular color combo that's been dropped...looks incredible! Congrats.\"],\n",
      "      \"created_utc\":\"2023-05-25T22:48:40Z\",\n",
      "      \"id\":\"jlkk8gn\",\n",
      "      \"permalink\":\"/r/BMWi3/comments/13rc663/picked_her_up_straight_from_the_source_in_munich/jlkk8gn/\",\n",
      "      \"score\":2,\n",
      "      \"subreddit_name\":[\"BMWi3\"],\n",
      "      \"type\":[\"comment\"],\n",
      "      \"post_id\":[\"t3_13rc663\"],\n",
      "      \"_version_\":1794344969469689872\n",
      "    },{\n",
      "      \"author\":\"Neither_Jedi_or_Sith\",\n",
      "      \"text\":[\"Absolutely one of my favorite color combinations- congrats! :star-struck:\"],\n",
      "      \"created_utc\":\"2023-05-25T23:41:09Z\",\n",
      "      \"id\":\"jlksbdo\",\n",
      "      \"permalink\":\"/r/BMWi3/comments/13rc663/picked_her_up_straight_from_the_source_in_munich/jlksbdo/\",\n",
      "      \"score\":1,\n",
      "      \"subreddit_name\":[\"BMWi3\"],\n",
      "      \"type\":[\"comment\"],\n",
      "      \"post_id\":[\"t3_13rc663\"],\n",
      "      \"_version_\":1794344969470738432\n",
      "    },{\n",
      "      \"author\":\"Ok_Competition_4810\",\n",
      "      \"text\":[\"Congrats! Looks like it has nice tint\"],\n",
      "      \"created_utc\":\"2023-05-22T01:35:05Z\",\n",
      "      \"id\":\"jl1wdu0\",\n",
      "      \"permalink\":\"/r/BMWi3/comments/13o1009/picked_up_this_little_gem_over_the_weekend/jl1wdu0/\",\n",
      "      \"score\":3,\n",
      "      \"subreddit_name\":[\"BMWi3\"],\n",
      "      \"type\":[\"comment\"],\n",
      "      \"post_id\":[\"t3_13o1009\"],\n",
      "      \"_version_\":1794344969470738441\n",
      "    }]\n",
      "  }\n",
      "}\n"
     ]
    },
    {
     "name": "stderr",
     "output_type": "stream",
     "text": [
      "  % Total    % Received % Xferd  Average Speed   Time    Time     Time  Current\n",
      "                                 Dload  Upload   Total   Spent    Left  Speed\n",
      "\n",
      "  0     0    0     0    0     0      0      0 --:--:-- --:--:-- --:--:--     0\n",
      "100  4519  100  4495  100    24  20340    108 --:--:-- --:--:-- --:--:-- 20540\n"
     ]
    }
   ],
   "source": [
    "!curl -X GET http://localhost:8983/solr/search_reddit/query -d \"q=text:congrats*&rows=10\""
   ],
   "metadata": {
    "collapsed": false,
    "ExecuteTime": {
     "end_time": "2024-03-23T19:05:20.092905Z",
     "start_time": "2024-03-23T19:05:19.833423Z"
    }
   },
   "id": "2a3ae0e55f5445ae",
   "execution_count": 131
  },
  {
   "cell_type": "markdown",
   "source": [
    "## Search with timeframe range filter"
   ],
   "metadata": {
    "collapsed": false
   },
   "id": "24cc3e08c5ae2a7d"
  },
  {
   "cell_type": "code",
   "outputs": [
    {
     "name": "stdout",
     "output_type": "stream",
     "text": [
      "{"
     ]
    },
    {
     "name": "stderr",
     "output_type": "stream",
     "text": [
      "  % Total    % Received % Xferd  Average Speed   Time    Time     Time  Current\n",
      "                                 Dload  Upload   Total   Spent    Left  Speed\n",
      "\n",
      "  0     0    0     0    0     0      0      0 --:--:-- --:--:-- --:--:--     0\n",
      "100  5243  100  5175  100    68  24484    321 --:--:-- --:--:-- --:--:-- 24848\n"
     ]
    },
    {
     "name": "stdout",
     "output_type": "stream",
     "text": [
      "\n",
      "  \"responseHeader\":{\n",
      "    \"status\":0,\n",
      "    \"QTime\":2,\n",
      "    \"params\":{\n",
      "      \"q\":\"created_utc:[2017-01-01T00:00:00Z TO 2018-01-31T23:59:59Z]\",\n",
      "      \"rows\":\"10\"\n",
      "    }\n",
      "  },\n",
      "  \"response\":{\n",
      "    \"numFound\":1923,\n",
      "    \"start\":0,\n",
      "    \"numFoundExact\":true,\n",
      "    \"docs\":[{\n",
      "      \"author\":\"billbucket\",\n",
      "      \"text\":[\"Tesla's Summon feature was very useful today...\"],\n",
      "      \"created_utc\":\"2018-01-25T07:13:35Z\",\n",
      "      \"id\":\"7srdiw\",\n",
      "      \"num_comments\":1050.0,\n",
      "      \"permalink\":\"/r/teslamotors/comments/7srdiw/teslas_summon_feature_was_very_useful_today/\",\n",
      "      \"score\":49182,\n",
      "      \"subreddit_name\":[\"teslamotors\"],\n",
      "      \"upvote_ratio\":0.9,\n",
      "      \"url\":\"https://gfycat.com/ReliableSecretJunebug\",\n",
      "      \"type\":[\"post\"],\n",
      "      \"_version_\":1794344969460252693\n",
      "    },{\n",
      "      \"author\":\"TheMightyCraken\",\n",
      "      \"text\":[\"Elon Musk confirms secret Tesla â€˜Carless Driverâ€™ project\"],\n",
      "      \"created_utc\":\"2018-01-30T05:20:51Z\",\n",
      "      \"id\":\"7tvnx6\",\n",
      "      \"num_comments\":394.0,\n",
      "      \"permalink\":\"/r/teslamotors/comments/7tvnx6/elon_musk_confirms_secret_tesla_carless_driver/\",\n",
      "      \"score\":45635,\n",
      "      \"subreddit_name\":[\"teslamotors\"],\n",
      "      \"upvote_ratio\":0.89,\n",
      "      \"url\":\"https://i.imgur.com/5tcF25Y.jpg\",\n",
      "      \"type\":[\"post\"],\n",
      "      \"_version_\":1794344969460252694\n",
      "    },{\n",
      "      \"author\":\"BasharK\",\n",
      "      \"text\":[\"Tesla vs Bugatti\"],\n",
      "      \"created_utc\":\"2017-11-20T03:53:56Z\",\n",
      "      \"id\":\"7e2ze2\",\n",
      "      \"num_comments\":2321.0,\n",
      "      \"permalink\":\"/r/teslamotors/comments/7e2ze2/tesla_vs_bugatti/\",\n",
      "      \"score\":44315,\n",
      "      \"subreddit_name\":[\"teslamotors\"],\n",
      "      \"upvote_ratio\":0.8,\n",
      "      \"url\":\"https://i.redd.it/a3ar6o7rlzyz.jpg\",\n",
      "      \"type\":[\"post\"],\n",
      "      \"_version_\":1794344969460252695\n",
      "    },{\n",
      "      \"author\":\"thehandsomebog\",\n",
      "      \"text\":[\"Update to the previous post\"],\n",
      "      \"created_utc\":\"2018-01-09T21:09:52Z\",\n",
      "      \"id\":\"7p6z9u\",\n",
      "      \"num_comments\":850.0,\n",
      "      \"permalink\":\"/r/teslamotors/comments/7p6z9u/update_to_the_previous_post/\",\n",
      "      \"score\":33437,\n",
      "      \"subreddit_name\":[\"teslamotors\"],\n",
      "      \"upvote_ratio\":0.92,\n",
      "      \"url\":\"https://i.redd.it/ob0dxon5k1901.jpg\",\n",
      "      \"type\":[\"post\"],\n",
      "      \"_version_\":1794344969461301248\n",
      "    },{\n",
      "      \"author\":\"Scourgiman\",\n",
      "      \"text\":[\"UPS Pre-Orders 125 Tesla Electric Trucks\"],\n",
      "      \"created_utc\":\"2017-12-19T22:06:58Z\",\n",
      "      \"id\":\"7ktg18\",\n",
      "      \"num_comments\":958.0,\n",
      "      \"permalink\":\"/r/teslamotors/comments/7ktg18/ups_preorders_125_tesla_electric_trucks/\",\n",
      "      \"score\":22822,\n",
      "      \"subreddit_name\":[\"teslamotors\"],\n",
      "      \"upvote_ratio\":0.91,\n",
      "      \"url\":\"https://pressroom.ups.com/pressroom/ContentDetailsViewer.page?ConceptType=PressReleases&id=1513688472411-396\",\n",
      "      \"type\":[\"post\"],\n",
      "      \"_version_\":1794344969461301261\n",
      "    },{\n",
      "      \"author\":\"deplorablecalifornia\",\n",
      "      \"text\":[\"This Elon Tweet Makes Way More Sense Now\"],\n",
      "      \"created_utc\":\"2017-11-18T02:26:14Z\",\n",
      "      \"id\":\"7dmwuk\",\n",
      "      \"num_comments\":836.0,\n",
      "      \"permalink\":\"/r/teslamotors/comments/7dmwuk/this_elon_tweet_makes_way_more_sense_now/\",\n",
      "      \"score\":22148,\n",
      "      \"subreddit_name\":[\"teslamotors\"],\n",
      "      \"upvote_ratio\":0.92,\n",
      "      \"url\":\"https://i.redd.it/v19xqn69wkyz.png\",\n",
      "      \"type\":[\"post\"],\n",
      "      \"_version_\":1794344969461301264\n",
      "    },{\n",
      "      \"author\":\"Geek4lyf\",\n",
      "      \"text\":[\"The Race is on!\"],\n",
      "      \"created_utc\":\"2017-12-24T17:07:12Z\",\n",
      "      \"id\":\"7luapl\",\n",
      "      \"num_comments\":292.0,\n",
      "      \"permalink\":\"/r/teslamotors/comments/7luapl/the_race_is_on/\",\n",
      "      \"score\":21996,\n",
      "      \"subreddit_name\":[\"teslamotors\"],\n",
      "      \"upvote_ratio\":0.92,\n",
      "      \"url\":\"https://i.redd.it/refw1hz96u501.jpg\",\n",
      "      \"type\":[\"post\"],\n",
      "      \"_version_\":1794344969461301265\n",
      "    },{\n",
      "      \"author\":\"beepboy\",\n",
      "      \"text\":[\"Elon's letter about factory working conditions - he cares a lot!\"],\n",
      "      \"created_utc\":\"2017-06-02T10:07:38Z\",\n",
      "      \"id\":\"6erjqi\",\n",
      "      \"num_comments\":946.0,\n",
      "      \"permalink\":\"/r/teslamotors/comments/6erjqi/elons_letter_about_factory_working_conditions_he/\",\n",
      "      \"score\":21199,\n",
      "      \"subreddit_name\":[\"teslamotors\"],\n",
      "      \"upvote_ratio\":0.82,\n",
      "      \"url\":\"http://imgur.com/F8HjUa0\",\n",
      "      \"type\":[\"post\"],\n",
      "      \"_version_\":1794344969461301267\n",
      "    },{\n",
      "      \"author\":\"Intro24\",\n",
      "      \"text\":[\"Tesla perks\"],\n",
      "      \"created_utc\":\"2017-08-07T04:34:41Z\",\n",
      "      \"id\":\"6s0rvf\",\n",
      "      \"num_comments\":457.0,\n",
      "      \"permalink\":\"/r/teslamotors/comments/6s0rvf/tesla_perks/\",\n",
      "      \"score\":20821,\n",
      "      \"subreddit_name\":[\"teslamotors\"],\n",
      "      \"upvote_ratio\":0.91,\n",
      "      \"url\":\"https://i.redd.it/rzy4nsjah6ez.jpg\",\n",
      "      \"type\":[\"post\"],\n",
      "      \"_version_\":1794344969461301269\n",
      "    },{\n",
      "      \"author\":\"2050project\",\n",
      "      \"text\":[\"PepsiCo makes biggest public pre-order of Tesla Semis: 100 trucks\"],\n",
      "      \"created_utc\":\"2017-12-12T20:08:03Z\",\n",
      "      \"id\":\"7jabhr\",\n",
      "      \"num_comments\":901.0,\n",
      "      \"permalink\":\"/r/teslamotors/comments/7jabhr/pepsico_makes_biggest_public_preorder_of_tesla/\",\n",
      "      \"score\":17810,\n",
      "      \"subreddit_name\":[\"teslamotors\"],\n",
      "      \"upvote_ratio\":0.93,\n",
      "      \"url\":\"https://www.reuters.com/article/pepsico-tesla-orders/pepsico-makes-biggest-public-pre-order-of-tesla-semis-100-trucks-idUSL1N1OB1YR\",\n",
      "      \"type\":[\"post\"],\n",
      "      \"_version_\":1794344969462349827\n",
      "    }]\n",
      "  }\n",
      "}\n"
     ]
    }
   ],
   "source": [
    "!curl -X GET http://localhost:8983/solr/search_reddit/query -d \"q=created_utc:[2017-01-01T00:00:00Z TO 2018-01-31T23:59:59Z]&rows=10\""
   ],
   "metadata": {
    "collapsed": false,
    "ExecuteTime": {
     "end_time": "2024-03-23T19:05:20.331047Z",
     "start_time": "2024-03-23T19:05:20.093902Z"
    }
   },
   "id": "d9ba2d9c16a35ef4",
   "execution_count": 132
  },
  {
   "cell_type": "markdown",
   "source": [
    "## Combination of conditions"
   ],
   "metadata": {
    "collapsed": false
   },
   "id": "dcd0dc68a7936cfc"
  },
  {
   "cell_type": "code",
   "outputs": [
    {
     "name": "stdout",
     "output_type": "stream",
     "text": [
      "{\n",
      "  \"responseHeader\":{\n",
      "    \"status\":0,\n",
      "    \"QTime\":3,\n",
      "    \"params\":{\n",
      "      \"q\":\"text:congrats* AND created_utc:[2017-01-01T00:00:00Z TO 2018-01-31T23:59:59Z]\",\n",
      "      \"rows\":\"10\"\n",
      "    }\n",
      "  },\n",
      "  \"response\":{\n",
      "    \"numFound\":4,\n",
      "    \"start\":0,\n",
      "    \"numFoundExact\":true,\n",
      "    \"docs\":[{\n",
      "      \"author\":\"the8king\",\n",
      "      \"text\":[\"Wow, congrats!! I wonder how much that was vs a gas roadtrip!\"],\n",
      "      \"created_utc\":\"2017-03-28T23:00:50Z\",\n",
      "      \"id\":\"dfijlrq\",\n",
      "      \"permalink\":\"/r/teslamotors/comments/61yrt5/we_just_drove_from_san_francisco_to_new_york_city/dfijlrq/\",\n",
      "      \"score\":2,\n",
      "      \"subreddit_name\":[\"teslamotors\"],\n",
      "      \"type\":[\"comment\"],\n",
      "      \"post_id\":[\"t3_61yrt5\"],\n",
      "      \"_version_\":1794344975046017033\n",
      "    },{\n",
      "      \"author\":\"Randomd0g\",\n",
      "      \"text\":[\"You made it! Congrats, friends. About what percentage of the total drive would you say was done with AP?\"],\n",
      "      \"created_utc\":\"2017-03-28T21:10:44Z\",\n",
      "      \"id\":\"dfiegxk\",\n",
      "      \"permalink\":\"/r/teslamotors/comments/61yrt5/we_just_drove_from_san_francisco_to_new_york_city/dfiegxk/\",\n",
      "      \"score\":3,\n",
      "      \"subreddit_name\":[\"teslamotors\"],\n",
      "      \"type\":[\"comment\"],\n",
      "      \"post_id\":[\"t3_61yrt5\"],\n",
      "      \"_version_\":1794344975047065609\n",
      "    },{\n",
      "      \"author\":\"[deleted]\",\n",
      "      \"text\":[\"Congrats! Sounds like you both had fun... best of luck to you all in the future! :) I met my wife 22 years ago on an internet MUD. It feels like a Tesla reddit is just the natural evolution of that idea. :)\"],\n",
      "      \"created_utc\":\"2017-08-20T04:46:08Z\",\n",
      "      \"id\":\"dlutgho\",\n",
      "      \"permalink\":\"/r/teslamotors/comments/6ulen7/so_this_happened_yesterday_my_date_with_ucdbz11/dlutgho/\",\n",
      "      \"score\":3,\n",
      "      \"subreddit_name\":[\"teslamotors\"],\n",
      "      \"type\":[\"comment\"],\n",
      "      \"post_id\":[\"t3_6ulen7\"],\n",
      "      \"_version_\":1794344975608053768\n",
      "    },{\n",
      "      \"author\":\"codeyh\",\n",
      "      \"text\":[\"I'm not usually a matte or a black rim fan... but that is a fantastic looking Model S. Congrats!\"],\n",
      "      \"created_utc\":\"2017-08-12T02:25:05Z\",\n",
      "      \"id\":\"dlhi9gz\",\n",
      "      \"permalink\":\"/r/teslamotors/comments/6svp7n/my_new_model_s_all_black_everything/dlhi9gz/\",\n",
      "      \"score\":1,\n",
      "      \"subreddit_name\":[\"teslamotors\"],\n",
      "      \"type\":[\"comment\"],\n",
      "      \"post_id\":[\"t3_6svp7n\"],\n",
      "      \"_version_\":1794344975691939841\n",
      "    }]\n",
      "  }\n",
      "}\n"
     ]
    },
    {
     "name": "stderr",
     "output_type": "stream",
     "text": [
      "  % Total    % Received % Xferd  Average Speed   Time    Time     Time  Current\n",
      "                                 Dload  Upload   Total   Spent    Left  Speed\n",
      "\n",
      "  0     0    0     0    0     0      0      0 --:--:-- --:--:-- --:--:--     0\n",
      "100  2351  100  2264  100    87  10275    394 --:--:-- --:--:-- --:--:-- 10686\n"
     ]
    }
   ],
   "source": [
    "!curl -X GET http://localhost:8983/solr/search_reddit/query -d \"q=text:congrats* AND created_utc:[2017-01-01T00:00:00Z TO 2018-01-31T23:59:59Z]&rows=10\""
   ],
   "metadata": {
    "collapsed": false,
    "ExecuteTime": {
     "end_time": "2024-03-23T19:05:20.580504Z",
     "start_time": "2024-03-23T19:05:20.332042Z"
    }
   },
   "id": "a860d4a9866df725",
   "execution_count": 133
  },
  {
   "cell_type": "markdown",
   "source": [
    "# Add spellcheck suggestions in response if query returns less results\n",
    "\n",
    "- https://solr.apache.org/guide/8_1/spell-checking.html\n",
    "\n",
    "DirectSolrSpellChecker\n",
    "```\n",
    "<searchComponent name=\"spellcheck\" class=\"solr.SpellCheckComponent\">\n",
    "  <lst name=\"spellchecker\">\n",
    "    <str name=\"name\">default</str>\n",
    "    <str name=\"field\">name</str>\n",
    "    <str name=\"classname\">solr.DirectSolrSpellChecker</str>\n",
    "    <str name=\"distanceMeasure\">internal</str>\n",
    "    <float name=\"accuracy\">0.5</float>\n",
    "    <int name=\"maxEdits\">2</int>\n",
    "    <int name=\"minPrefix\">1</int>\n",
    "    <int name=\"maxInspections\">5</int>\n",
    "    <int name=\"minQueryLength\">4</int>\n",
    "    <float name=\"maxQueryFrequency\">0.01</float>\n",
    "    <float name=\"thresholdTokenFrequency\">.01</float>\n",
    "  </lst>\n",
    "</searchComponent>\n",
    "```\n",
    "\n",
    "Add to request to use spellcheck\n",
    "```\n",
    "<str name=\"spellcheck\">true</str>\n",
    "```"
   ],
   "metadata": {
    "collapsed": false
   },
   "id": "edc4449b8bd8d8d3"
  },
  {
   "cell_type": "markdown",
   "source": [
    "Thus, our spellchecker will be\n",
    "\n",
    "```\n",
    "  <searchComponent name=\"spellcheck\" class=\"solr.SpellCheckComponent\">\n",
    "\n",
    "    <str name=\"queryAnalyzerFieldType\">text_reddit</str>\n",
    "\n",
    "    <!-- Multiple \"Spell Checkers\" can be declared and used by this\n",
    "         component\n",
    "      -->\n",
    "\n",
    "    <!-- a spellchecker built from a field of the main index -->\n",
    "    <lst name=\"spellchecker\">\n",
    "      <str name=\"name\">default</str>\n",
    "      <str name=\"field\">text</str>\n",
    "      <str name=\"classname\">solr.DirectSolrSpellChecker</str>\n",
    "      <!-- the spellcheck distance measure used, the default is the internal levenshtein -->\n",
    "      <str name=\"distanceMeasure\">internal</str>\n",
    "      <!-- minimum accuracy needed to be considered a valid spellcheck suggestion -->\n",
    "      <float name=\"accuracy\">0.5</float>\n",
    "      <!-- the maximum #edits we consider when enumerating terms: can be 1 or 2 -->\n",
    "      <int name=\"maxEdits\">2</int>\n",
    "      <!-- the minimum shared prefix when enumerating terms -->\n",
    "      <int name=\"minPrefix\">1</int>\n",
    "      <!-- maximum number of inspections per result. -->\n",
    "      <int name=\"maxInspections\">5</int>\n",
    "      <!-- minimum length of a query term to be considered for correction -->\n",
    "      <int name=\"minQueryLength\">4</int>\n",
    "      <!-- maximum threshold of documents a query term can appear to be considered for correction -->\n",
    "      <float name=\"maxQueryFrequency\">0.01</float>\n",
    "      <!-- uncomment this to require suggestions to occur in 1% of the documents\n",
    "        <float name=\"thresholdTokenFrequency\">.01</float>\n",
    "      -->\n",
    "    </lst>\n",
    "```"
   ],
   "metadata": {
    "collapsed": false
   },
   "id": "92fbc758621d4427"
  },
  {
   "cell_type": "markdown",
   "source": [
    "# Restart core to apply changes\n",
    "## Somehow http request for this dosent work, manually edit and refresh core"
   ],
   "metadata": {
    "collapsed": false
   },
   "id": "e6c6965f9ecc7390"
  },
  {
   "cell_type": "code",
   "outputs": [],
   "source": [
    "# # Edit spellchecker to work for text_reddit, the custom type we created\n",
    "# !curl -X POST -H \"Content-type: application/json\" --data-binary \"{\"add-searchcomponent\": {\"name\": \"spellcheck2\", \"class\": \"solr.SpellCheckComponent\", \"config\": {\"queryAnalyzerFieldType\": \"text_reddit\", \"spellchecker\": {\"name\": \"default\", \"field\": \"text\", \"classname\": \"solr.DirectSolrSpellChecker\", \"distanceMeasure\": \"internal\", \"accuracy\": 0.5, \"maxEdits\": 2, \"minPrefix\": 1, \"maxInspections\": 5, \"minQueryLength\": 4, \"maxQueryFrequency\": 0.01}}}}\" http://localhost:8983/api/cores/search_reddit/config"
   ],
   "metadata": {
    "collapsed": false,
    "ExecuteTime": {
     "end_time": "2024-03-23T19:05:20.584854Z",
     "start_time": "2024-03-23T19:05:20.581499Z"
    }
   },
   "id": "8978c2007d13be19",
   "execution_count": 134
  },
  {
   "cell_type": "markdown",
   "source": [
    "## Refresh core"
   ],
   "metadata": {
    "collapsed": false
   },
   "id": "add806722d6b4d"
  },
  {
   "cell_type": "code",
   "outputs": [
    {
     "name": "stdout",
     "output_type": "stream",
     "text": [
      "{\n",
      "  \"responseHeader\":{\n",
      "    \"status\":0,\n",
      "    \"QTime\":481\n",
      "  }\n",
      "}\n"
     ]
    },
    {
     "name": "stderr",
     "output_type": "stream",
     "text": [
      "  % Total    % Received % Xferd  Average Speed   Time    Time     Time  Current\n",
      "                                 Dload  Upload   Total   Spent    Left  Speed\n",
      "\n",
      "  0     0    0     0    0     0      0      0 --:--:-- --:--:-- --:--:--     0\n",
      "100    60  100    60    0     0     85      0 --:--:-- --:--:-- --:--:--    85\n",
      "100    60  100    60    0     0     85      0 --:--:-- --:--:-- --:--:--    85\n"
     ]
    }
   ],
   "source": [
    "!curl -X POST \"http://localhost:8983/solr/admin/cores?action=RELOAD&core=search_reddit&wt=json\""
   ],
   "metadata": {
    "collapsed": false,
    "ExecuteTime": {
     "end_time": "2024-03-23T19:05:43.305276Z",
     "start_time": "2024-03-23T19:05:42.576556Z"
    }
   },
   "id": "a5c1e99b61285bde",
   "execution_count": 135
  },
  {
   "cell_type": "markdown",
   "source": [
    "## Test spellchecker"
   ],
   "metadata": {
    "collapsed": false
   },
   "id": "dad930771847fe17"
  },
  {
   "cell_type": "code",
   "outputs": [
    {
     "name": "stdout",
     "output_type": "stream",
     "text": [
      "{\n",
      "  \"responseHeader\":{\n",
      "    \"status\":0,\n",
      "    \"QTime\":17\n",
      "  },\n",
      "  \"response\":{\n",
      "    \"numFound\":0,\n",
      "    \"start\":0,\n",
      "    \"numFoundExact\":true,\n",
      "    \"docs\":[ ]\n",
      "  },\n",
      "  \"spellcheck\":{\n",
      "    \"suggestions\":[\"graet\",{\n",
      "      \"numFound\":10,\n",
      "      \"startOffset\":0,\n",
      "      \"endOffset\":5,\n",
      "      \"origFreq\":0,\n",
      "      \"suggestion\":[{\n",
      "        \"word\":\"great\",\n",
      "        \"freq\":1379\n",
      "      },{\n",
      "        \"word\":\"grant\",\n",
      "        \"freq\":43\n",
      "      },{\n",
      "        \"word\":\"grate\",\n",
      "        \"freq\":18\n",
      "      },{\n",
      "        \"word\":\"garet\",\n",
      "        \"freq\":9\n",
      "      },{\n",
      "        \"word\":\"greet\",\n",
      "        \"freq\":4\n",
      "      },{\n",
      "        \"word\":\"grat\",\n",
      "        \"freq\":1200\n",
      "      },{\n",
      "        \"word\":\"gret\",\n",
      "        \"freq\":75\n",
      "      },{\n",
      "        \"word\":\"grade\",\n",
      "        \"freq\":117\n",
      "      },{\n",
      "        \"word\":\"giant\",\n",
      "        \"freq\":75\n",
      "      },{\n",
      "        \"word\":\"g&aut\",\n",
      "        \"freq\":59\n",
      "      }]\n",
      "    }],\n",
      "    \"correctlySpelled\":false,\n",
      "    \"collations\":[ ]\n",
      "  }\n",
      "}\n"
     ]
    },
    {
     "name": "stderr",
     "output_type": "stream",
     "text": [
      "  % Total    % Received % Xferd  Average Speed   Time    Time     Time  Current\n",
      "                                 Dload  Upload   Total   Spent    Left  Speed\n",
      "\n",
      "  0     0    0     0    0     0      0      0 --:--:-- --:--:-- --:--:--     0\n",
      "  0     0    0     0    0     0      0      0 --:--:-- --:--:-- --:--:--     0\n",
      "100   890  100   890    0     0   3744      0 --:--:-- --:--:-- --:--:--  3739\n"
     ]
    }
   ],
   "source": [
    "!curl \"http://localhost:8983/solr/search_reddit/spell?indent=true&spellcheck.q=graet&spellcheck=true&spellcheck.collate=true\""
   ],
   "metadata": {
    "collapsed": false,
    "ExecuteTime": {
     "end_time": "2024-03-23T19:05:44.233513Z",
     "start_time": "2024-03-23T19:05:43.964977Z"
    }
   },
   "id": "454662aa0e45d0e8",
   "execution_count": 136
  },
  {
   "cell_type": "code",
   "outputs": [],
   "source": [],
   "metadata": {
    "collapsed": false
   },
   "id": "46371dce96d471fb"
  }
 ],
 "metadata": {
  "kernelspec": {
   "display_name": "Python 3",
   "language": "python",
   "name": "python3"
  },
  "language_info": {
   "codemirror_mode": {
    "name": "ipython",
    "version": 2
   },
   "file_extension": ".py",
   "mimetype": "text/x-python",
   "name": "python",
   "nbconvert_exporter": "python",
   "pygments_lexer": "ipython2",
   "version": "2.7.6"
  }
 },
 "nbformat": 4,
 "nbformat_minor": 5
}
