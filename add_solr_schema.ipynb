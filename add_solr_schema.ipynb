{
 "cells": [
  {
   "cell_type": "markdown",
   "source": [
    "# Create Solr Core"
   ],
   "metadata": {
    "collapsed": false
   },
   "id": "89b03a361862001f"
  },
  {
   "cell_type": "code",
   "outputs": [
    {
     "name": "stdout",
     "output_type": "stream",
     "text": [
      "{\n",
      "  \"responseHeader\":{\n",
      "    \"status\":400,\n",
      "    \"QTime\":0\n",
      "  },\n",
      "  \"error\":{\n",
      "    \"metadata\":[\"error-class\",\"org.apache.solr.common.SolrException\",\"root-error-class\",\"org.apache.solr.common.SolrException\"],\n",
      "    \"msg\":\"Cannot unload non-existent core [search_reddit]\",\n",
      "    \"code\":400\n",
      "  }\n",
      "}\n"
     ]
    },
    {
     "name": "stderr",
     "output_type": "stream",
     "text": [
      "  % Total    % Received % Xferd  Average Speed   Time    Time     Time  Current\n",
      "                                 Dload  Upload   Total   Spent    Left  Speed\n",
      "\n",
      "  0     0    0     0    0     0      0      0 --:--:-- --:--:-- --:--:--     0\n",
      "  0     0    0     0    0     0      0      0 --:--:-- --:--:-- --:--:--     0\n",
      "100   282  100   282    0     0   1345      0 --:--:-- --:--:-- --:--:--  1342\n"
     ]
    }
   ],
   "source": [
    "# Delete any existing core\n",
    "!curl -X GET \"http://localhost:8983/solr/admin/cores?action=UNLOAD&core=search_reddit&deleteInstanceDir=true&deleteDataDir=true\""
   ],
   "metadata": {
    "collapsed": false,
    "ExecuteTime": {
     "end_time": "2024-04-05T10:36:22.045092Z",
     "start_time": "2024-04-05T10:36:21.807509Z"
    }
   },
   "id": "f076c3ba137ec58e",
   "execution_count": 93
  },
  {
   "cell_type": "code",
   "outputs": [
    {
     "data": {
      "text/plain": "'C:\\\\solr-9.5.0-slim\\\\server\\\\solr\\\\search_reddit'"
     },
     "execution_count": 94,
     "metadata": {},
     "output_type": "execute_result"
    }
   ],
   "source": [
    "import shutil\n",
    "\n",
    "# Create directory\n",
    "shutil.copytree(\"C:\\\\solr-9.5.0-slim\\\\server\\\\solr\\\\configsets\\\\_default\", \"C:\\\\solr-9.5.0-slim\\\\server\\\\solr\\\\search_reddit\")"
   ],
   "metadata": {
    "collapsed": false,
    "ExecuteTime": {
     "end_time": "2024-04-05T10:36:22.452800Z",
     "start_time": "2024-04-05T10:36:22.422052Z"
    }
   },
   "id": "d77a05ff87aff2e9",
   "execution_count": 94
  },
  {
   "cell_type": "code",
   "outputs": [
    {
     "name": "stdout",
     "output_type": "stream",
     "text": [
      "{\n",
      "  \"responseHeader\":{\n",
      "    \"status\":0,\n",
      "    \"QTime\":500\n",
      "  },\n",
      "  \"core\":\"search_reddit\"\n",
      "}\n"
     ]
    },
    {
     "name": "stderr",
     "output_type": "stream",
     "text": [
      "  % Total    % Received % Xferd  Average Speed   Time    Time     Time  Current\n",
      "                                 Dload  Upload   Total   Spent    Left  Speed\n",
      "\n",
      "  0     0    0     0    0     0      0      0 --:--:-- --:--:-- --:--:--     0\n",
      "100    86  100    86    0     0    121      0 --:--:-- --:--:-- --:--:--   121\n"
     ]
    }
   ],
   "source": [
    "# Create solr core with default settings\n",
    "!curl -X GET \"http://localhost:8983/solr/admin/cores?action=CREATE&name=search_reddit&instanceDir=search_reddit\""
   ],
   "metadata": {
    "collapsed": false,
    "ExecuteTime": {
     "end_time": "2024-04-05T10:36:24.917462Z",
     "start_time": "2024-04-05T10:36:24.172932Z"
    }
   },
   "id": "ea4be026708eee84",
   "execution_count": 95
  },
  {
   "cell_type": "markdown",
   "source": [
    "# Copy the default stopwords and synonyms into created core"
   ],
   "metadata": {
    "collapsed": false
   },
   "id": "c22120a59bc73690"
  },
  {
   "cell_type": "code",
   "outputs": [
    {
     "name": "stderr",
     "output_type": "stream",
     "text": [
      "[nltk_data] Downloading package stopwords to\n",
      "[nltk_data]     C:\\Users\\Aozy\\AppData\\Roaming\\nltk_data...\n",
      "[nltk_data]   Package stopwords is already up-to-date!\n"
     ]
    }
   ],
   "source": [
    "# Copy txt file and rename\n",
    "shutil.copy(\"C:\\\\solr-9.5.0-slim\\\\server\\\\solr\\\\search_reddit\\\\conf\\\\lang\\\\stopwords_en.txt\", \"C:\\\\solr-9.5.0-slim\\\\server\\\\solr\\\\search_reddit\\\\conf\\\\stopwords.txt\")\n",
    "\n",
    "\n",
    "# Get NLTK stopwords\n",
    "import nltk\n",
    "nltk.download('stopwords')\n",
    "from nltk.corpus import stopwords\n",
    "stopwords = set(stopwords.words('english'))\n",
    "\n",
    "# Read existing stopwords from file, skip lines starting with #\n",
    "existing_stopwords = []\n",
    "with open(\"C:\\\\solr-9.5.0-slim\\\\server\\\\solr\\\\search_reddit\\\\conf\\\\stopwords.txt\", \"r\") as f:\n",
    "    for line in f:\n",
    "        if not line.startswith(\"#\"):\n",
    "            existing_stopwords.append(line.strip())\n",
    "\n",
    "# Add NLTK stopwords to existing stopwords\n",
    "stopwords = set(stopwords).union(set(existing_stopwords))\n",
    "# Remove duplicates\n",
    "stopwords = list(set(stopwords))\n",
    "\n",
    "# Write back to file\n",
    "with open(\"C:\\\\solr-9.5.0-slim\\\\server\\\\solr\\\\search_reddit\\\\conf\\\\stopwords.txt\", \"w\") as f:\n",
    "    f.write(\"\\n\".join(stopwords))"
   ],
   "metadata": {
    "collapsed": false,
    "ExecuteTime": {
     "end_time": "2024-04-05T10:36:25.576397Z",
     "start_time": "2024-04-05T10:36:25.566148Z"
    }
   },
   "id": "abe9bdab74ec1822",
   "execution_count": 96
  },
  {
   "cell_type": "code",
   "outputs": [],
   "source": [
    "# Add custom synonyms into synonyms.txt\n",
    "# Replace model names with their full brand names as well, Electric car domain specific abbreviations & slangs\n",
    "mapping_dict = {\n",
    "    'BMW': 'BMW I3',\n",
    "    'I3': 'BMW I3',\n",
    "    \n",
    "    'leaf': 'Nissan Leaf',\n",
    "    'Nissan': 'Nissan Leaf',\n",
    "    \n",
    "    'Bolt': 'Chevrolet Bolt',\n",
    "    'Chevy': 'Chevrolet Bolt',\n",
    "    'BoltEV': 'Chevrolet Bolt',\n",
    "    \n",
    "    'F150Lightning': 'Ford F150Lightning',\n",
    "    'F150': 'Ford F150Lightning',\n",
    "    'Ford': 'Ford F150Lightning',\n",
    "    'Lightning': 'Ford F150Lightning',\n",
    "    \n",
    "    'Taycan': 'Porsche Taycan',\n",
    "    'Porsche': 'Porsche Taycan',\n",
    "    \n",
    "    'EV6': 'Kia EV6',\n",
    "    'Kia': 'Kia EV6',\n",
    "}\n",
    "\n",
    "# Append to synonyms.txt with this format\n",
    "# pixima => pixma\n",
    "\n",
    "with open(\"C:\\\\solr-9.5.0-slim\\\\server\\\\solr\\\\search_reddit\\\\conf\\\\synonyms.txt\", \"a\") as f:\n",
    "    for k, v in mapping_dict.items():\n",
    "        f.write(f\"{k} => {v}\\n\")"
   ],
   "metadata": {
    "collapsed": false,
    "ExecuteTime": {
     "end_time": "2024-04-05T10:36:26.001477Z",
     "start_time": "2024-04-05T10:36:25.995411Z"
    }
   },
   "id": "1ea5abd3d169f9a9",
   "execution_count": 97
  },
  {
   "cell_type": "code",
   "outputs": [
    {
     "name": "stdout",
     "output_type": "stream",
     "text": [
      "{"
     ]
    },
    {
     "name": "stderr",
     "output_type": "stream",
     "text": [
      "  % Total    % Received % Xferd  Average Speed   Time    Time     Time  Current\n",
      "                                 Dload  Upload   Total   Spent    Left  Speed\n",
      "\n",
      "  0     0    0     0    0     0      0      0 --:--:-- --:--:-- --:--:--     0\n",
      "100    60  100    60    0     0    132      0 --:--:-- --:--:-- --:--:--   131\n",
      "100    60  100    60    0     0    132      0 --:--:-- --:--:-- --:--:--   131\n"
     ]
    },
    {
     "name": "stdout",
     "output_type": "stream",
     "text": [
      "\n",
      "  \"responseHeader\":{\n",
      "    \"status\":0,\n",
      "    \"QTime\":238\n",
      "  }\n",
      "}\n"
     ]
    }
   ],
   "source": [
    "# Restart core to apply changes\n",
    "!curl -X POST \"http://localhost:8983/solr/admin/cores?action=RELOAD&core=search_reddit&wt=json\""
   ],
   "metadata": {
    "collapsed": false,
    "ExecuteTime": {
     "end_time": "2024-04-05T10:36:27.010957Z",
     "start_time": "2024-04-05T10:36:26.524216Z"
    }
   },
   "id": "780cf1275fec4568",
   "execution_count": 98
  },
  {
   "cell_type": "markdown",
   "source": [
    "# Solr recommends we use HTTP requests to edit schema. Because of data integrity issues"
   ],
   "metadata": {
    "collapsed": false
   },
   "id": "63a42fbef6fe8ed8"
  },
  {
   "cell_type": "code",
   "outputs": [
    {
     "name": "stdout",
     "output_type": "stream",
     "text": [
      "{\n",
      "  \"responseHeader\":{\n",
      "    \"status\":0,\n",
      "    \"QTime\":0\n",
      "  },\n",
      "  \"fields\":[{\n",
      "    \"name\":\"_nest_path_\",\n",
      "    \"type\":\"_nest_path_\"\n",
      "  },{\n",
      "    \"name\":\"_root_\",\n",
      "    \"type\":\"string\",\n",
      "    \"indexed\":true,\n",
      "    \"stored\":false,\n",
      "    \"docValues\":false\n",
      "  },{\n",
      "    \"name\":\"_text_\",\n",
      "    \"type\":\"text_general\",\n",
      "    \"multiValued\":true,\n",
      "    \"indexed\":true,\n",
      "    \"stored\":false\n",
      "  },{\n",
      "    \"name\":\"_version_\",\n",
      "    \"type\":\"plong\",\n",
      "    \"indexed\":false,\n",
      "    \"stored\":false\n",
      "  },{\n",
      "    \"name\":\"id\",\n",
      "    \"type\":\"string\",\n",
      "    \"multiValued\":false,\n",
      "    \"indexed\":true,\n",
      "    \"required\":true,\n",
      "    \"stored\":true\n",
      "  }]\n",
      "}\n"
     ]
    },
    {
     "name": "stderr",
     "output_type": "stream",
     "text": [
      "  % Total    % Received % Xferd  Average Speed   Time    Time     Time  Current\n",
      "                                 Dload  Upload   Total   Spent    Left  Speed\n",
      "\n",
      "  0     0    0     0    0     0      0      0 --:--:-- --:--:-- --:--:--     0\n",
      "  0     0    0     0    0     0      0      0 --:--:-- --:--:-- --:--:--     0\n",
      "100   574  100   574    0     0   2628      0 --:--:-- --:--:-- --:--:--  2621\n"
     ]
    }
   ],
   "source": [
    "# Get current schema, should be default/reserved fields\n",
    "!curl -X GET \"http://localhost:8983/solr/search_reddit/schema/fields\""
   ],
   "metadata": {
    "collapsed": false,
    "ExecuteTime": {
     "end_time": "2024-04-05T10:36:31.980968Z",
     "start_time": "2024-04-05T10:36:31.736607Z"
    }
   },
   "id": "b17e8c3257763d3",
   "execution_count": 99
  },
  {
   "cell_type": "markdown",
   "source": [
    "# Add custom schema & index\n",
    "\n",
    "https://solr.apache.org/guide/6_6/field-properties-by-use-case.html#field-properties-by-use-case\n",
    "https://solr.apache.org/guide/6_6/field-type-definitions-and-properties.html#field-type-definitions-and-properties"
   ],
   "metadata": {
    "collapsed": false
   },
   "id": "d4aeb952e90cba9d"
  },
  {
   "cell_type": "markdown",
   "source": [
    "## With only basic cleaning done beforehand, the rest have to be done in Solr. Therefore we define a custom field type for text\n",
    "\n",
    "- https://solr.apache.org/guide/6_6/filter-descriptions.html\n",
    "\n",
    "text_general for reference\n",
    "```\n",
    "</fieldType>\n",
    "  <fieldType name=\"text_general\" class=\"solr.TextField\" positionIncrementGap=\"100\" multiValued=\"true\">\n",
    "    <analyzer type=\"index\">\n",
    "      <tokenizer name=\"standard\"/>\n",
    "      <filter words=\"stopwords.txt\" name=\"stop\" ignoreCase=\"true\"/>\n",
    "      <filter name=\"lowercase\"/>\n",
    "    </analyzer>\n",
    "    <analyzer type=\"query\">\n",
    "      <tokenizer name=\"standard\"/>\n",
    "      <filter words=\"stopwords.txt\" name=\"stop\" ignoreCase=\"true\"/>\n",
    "      <filter ignoreCase=\"true\" synonyms=\"synonyms.txt\" name=\"synonymGraph\" expand=\"true\"/>\n",
    "      <filter name=\"lowercase\"/>\n",
    "    </analyzer>\n",
    "</fieldType>\n",
    "```\n",
    "\n",
    "text_reddit custom field type\n",
    "- Query and index filters do not need to be the same\n",
    "- Synonyms are used to expand search results for query terms only\n",
    "- NGram filter is used to create n-grams for index terms only\n",
    "- The rest can be the same as text_general\n",
    "```\n",
    "  <fieldType name=\"text_reddit\" class=\"solr.TextField\" positionIncrementGap=\"100\" multiValued=\"true\">\n",
    "    <analyzer type=\"index\">\n",
    "      <tokenizer class=\"solr.WhitespaceTokenizerFactory\"/>\n",
    "      <filter class=\"solr.StopFilterFactory\" words=\"stopwords.txt\" ignoreCase=\"true\"/>\n",
    "      <filter class=\"solr.LowerCaseFilterFactory\"/>\n",
    "      <filter class=\"solr.SnowballPorterFilterFactory\" language=\"English\"/>\n",
    "      <filter class=\"solr.NGramFilterFactory\" maxGramSize=\"20\" minGramSize=\"2\"/>\n",
    "    </analyzer>\n",
    "    <analyzer type=\"query\">\n",
    "      <tokenizer class=\"solr.WhitespaceTokenizerFactory\"/>\n",
    "      <filter class=\"solr.StopFilterFactory\" words=\"stopwords.txt\" ignoreCase=\"true\"/>\n",
    "      <filter class=\"solr.SynonymGraphFilterFactory\" ignoreCase=\"true\" synonyms=\"synonyms.txt\" expand=\"true\"/>\n",
    "      <filter class=\"solr.LowerCaseFilterFactory\"/>\n",
    "      <filter class=\"solr.SnowballPorterFilterFactory\" language=\"English\"/>\n",
    "    </analyzer>\n",
    "```"
   ],
   "metadata": {
    "collapsed": false
   },
   "id": "8f34e9690f25545d"
  },
  {
   "cell_type": "code",
   "outputs": [
    {
     "name": "stdout",
     "output_type": "stream",
     "text": [
      "{\n",
      "  \"responseHeader\":{\n",
      "    \"status\":0,\n",
      "    \"QTime\":155\n",
      "  }\n",
      "}\n"
     ]
    },
    {
     "name": "stderr",
     "output_type": "stream",
     "text": [
      "  % Total    % Received % Xferd  Average Speed   Time    Time     Time  Current\n",
      "                                 Dload  Upload   Total   Spent    Left  Speed\n",
      "\n",
      "  0     0    0     0    0     0      0      0 --:--:-- --:--:-- --:--:--     0\n",
      "100   782  100    60  100   722    158   1912 --:--:-- --:--:-- --:--:--  2074\n"
     ]
    }
   ],
   "source": [
    "# Tried with General tokenizer but didnt work\n",
    "# !curl -X POST -H \"Content-type:application/json\" --data-binary \"{\"add-field-type\":{\"name\":\"text_reddit\",\"class\":\"solr.TextField\",\"positionIncrementGap\":\"100\",\"multiValued\":true,\"indexAnalyzer\":{\"tokenizer\":{\"class\":\"solr.StandardTokenizerFactory\"},\"filters\":[{\"class\":\"solr.StopFilterFactory\",\"ignoreCase\":true,\"words\":\"stopwords.txt\"},{\"class\":\"solr.LowerCaseFilterFactory\"},{\"class\":\"solr.SnowballPorterFilterFactory\",\"language\":\"English\"},{\"class\":\"solr.NGramFilterFactory\",\"minGramSize\":2,\"maxGramSize\":20}]},\"queryAnalyzer\":{\"tokenizer\":{\"class\":\"solr.StandardTokenizerFactory\"},\"filters\":[{\"class\":\"solr.StopFilterFactory\",\"ignoreCase\":true,\"words\":\"stopwords.txt\"},{\"class\":\"solr.SynonymGraphFilterFactory\",\"ignoreCase\":true,\"synonyms\":\"synonyms.txt\",\"expand\":true},{\"class\":\"solr.LowerCaseFilterFactory\"},{\"class\":\"solr.SnowballPorterFilterFactory\",\"language\":\"English\"}]}}}\" http://localhost:8983/api/cores/search_reddit/schema\n",
    "\n",
    "# Try with Whitespace tokenizer\n",
    "!curl -X POST -H \"Content-type:application/json\" --data-binary \"{\"add-field-type\":{\"name\":\"text_reddit\",\"class\":\"solr.TextField\",\"positionIncrementGap\":\"100\",\"multiValued\":true,\"indexAnalyzer\":{\"tokenizer\":{\"class\":\"solr.WhitespaceTokenizerFactory\"},\"filters\":[{\"class\":\"solr.StopFilterFactory\",\"ignoreCase\":true,\"words\":\"stopwords.txt\"},{\"class\":\"solr.LowerCaseFilterFactory\"},{\"class\":\"solr.SnowballPorterFilterFactory\",\"language\":\"English\"},{\"class\":\"solr.NGramFilterFactory\",\"minGramSize\":2,\"maxGramSize\":20}]},\"queryAnalyzer\":{\"tokenizer\":{\"class\":\"solr.WhitespaceTokenizerFactory\"},\"filters\":[{\"class\":\"solr.StopFilterFactory\",\"ignoreCase\":true,\"words\":\"stopwords.txt\"},{\"class\":\"solr.SynonymGraphFilterFactory\",\"ignoreCase\":true,\"synonyms\":\"synonyms.txt\",\"expand\":true},{\"class\":\"solr.LowerCaseFilterFactory\"},{\"class\":\"solr.SnowballPorterFilterFactory\",\"language\":\"English\"}]}}}\" http://localhost:8983/api/cores/search_reddit/schema"
   ],
   "metadata": {
    "collapsed": false,
    "ExecuteTime": {
     "end_time": "2024-04-05T10:36:33.756301Z",
     "start_time": "2024-04-05T10:36:33.344893Z"
    }
   },
   "id": "cd611ba23e90e0b0",
   "execution_count": 100
  },
  {
   "cell_type": "markdown",
   "source": [
    "## Field types explained\n",
    "- indexed -> If true, the value of the field can be used in queries to retrieve matching documents.\n",
    "- stored -> If true, the actual value of the field can be retrieved by queries.\n",
    "\n",
    "Our search engine primarily searches by comment & post texts\n",
    "\n",
    "```\n",
    "<field name=\"author\" type=\"text_general\"/>\n",
    "<field name=\"created_utc\" type=\"pdates\"/>\n",
    "<field name=\"edited\" type=\"pdates\"/>\n",
    "<field name=\"id\" type=\"string\" multiValued=\"false\" indexed=\"true\" required=\"true\" stored=\"true\"/>\n",
    "<field name=\"num_comments\" type=\"pdoubles\"/>\n",
    "<field name=\"permalink\" type=\"text_general\"/>\n",
    "<field name=\"post_id\" type=\"text_general\"/>\n",
    "<field name=\"score\" type=\"plongs\"/>\n",
    "<field name=\"subreddit_name\" type=\"text_general\"/>\n",
    "<field name=\"text\" type=\"text_general\"/>\n",
    "<field name=\"type\" type=\"text_general\"/>\n",
    "<field name=\"upvote_ratio\" type=\"pdoubles\"/>\n",
    "<field name=\"url\" type=\"text_general\"/>\n",
    "```\n",
    "\n",
    "Our schema shall be:\n",
    "\n",
    "```\n",
    "<field name=\"author\" type=\"string\" multiValued=\"false\" indexed=\"true\" required=\"true\" stored=\"true\"/>\n",
    "<field name=\"created_utc\" type=\"pdates\" multiValued=\"false\" indexed=\"true\" stored=\"true\"/>\n",
    "<field name=\"edited\" type=\"pdates\" indexed=\"true\" stored=\"true\"/>\n",
    "<field name=\"id\" type=\"string\" multiValued=\"false\" indexed=\"true\" required=\"true\" stored=\"true\"/>\n",
    "<field name=\"num_comments\" type=\"pdoubles\" indexed=\"true\" stored=\"true\"/>\n",
    "<field name=\"permalink\" type=\"string\" stored=\"true\"/>\n",
    "<field name=\"post_id\" type=\"string\" stored=\"true\"/>\n",
    "<field name=\"score\" type=\"plongs\" indexed=\"true\" stored=\"true\"/>\n",
    "<field name=\"subreddit_name\" type=\"string\" required=\"true\" stored=\"true\"/>\n",
    "<field name=\"text\" type=\"text_reddit\" multiValued=\"true\" indexed=\"true\" required=\"true\" stored=\"true\"/>\n",
    "<field name=\"type\" type=\"string\" required=\"true\" stored=\"true\"/>\n",
    "<field name=\"upvote_ratio\" type=\"pdoubles\" indexed=\"true\" stored=\"true\"/>\n",
    "<field name=\"url\" type=\"string\" stored=\"true\"/>\n",
    "```"
   ],
   "metadata": {
    "collapsed": false
   },
   "id": "9e762b19e1b35c47"
  },
  {
   "cell_type": "code",
   "outputs": [
    {
     "name": "stdout",
     "output_type": "stream",
     "text": [
      "{\n",
      "  \"responseHeader\":{\n",
      "    \"status\":0,\n",
      "    \"QTime\":145\n",
      "  }\n",
      "}\n"
     ]
    },
    {
     "name": "stderr",
     "output_type": "stream",
     "text": [
      "  % Total    % Received % Xferd  Average Speed   Time    Time     Time  Current\n",
      "                                 Dload  Upload   Total   Spent    Left  Speed\n",
      "\n",
      "  0     0    0     0    0     0      0      0 --:--:-- --:--:-- --:--:--     0\n",
      "100   172  100    60  100   112    162    304 --:--:-- --:--:-- --:--:--   467\n"
     ]
    },
    {
     "name": "stdout",
     "output_type": "stream",
     "text": [
      "{\n",
      "  \"responseHeader\":{\n",
      "    \"status\":0,\n",
      "    \"QTime\":105\n",
      "  }\n",
      "}\n"
     ]
    },
    {
     "name": "stderr",
     "output_type": "stream",
     "text": [
      "  % Total    % Received % Xferd  Average Speed   Time    Time     Time  Current\n",
      "                                 Dload  Upload   Total   Spent    Left  Speed\n",
      "\n",
      "  0     0    0     0    0     0      0      0 --:--:-- --:--:-- --:--:--     0\n",
      "100   161  100    60  100   101    188    317 --:--:-- --:--:-- --:--:--   506\n"
     ]
    },
    {
     "name": "stdout",
     "output_type": "stream",
     "text": [
      "{\n",
      "  \"responseHeader\":{\n",
      "    \"status\":0,\n",
      "    \"QTime\":100\n",
      "  }\n",
      "}\n"
     ]
    },
    {
     "name": "stderr",
     "output_type": "stream",
     "text": [
      "  % Total    % Received % Xferd  Average Speed   Time    Time     Time  Current\n",
      "                                 Dload  Upload   Total   Spent    Left  Speed\n",
      "\n",
      "  0     0    0     0    0     0      0      0 --:--:-- --:--:-- --:--:--     0\n",
      "  0     0    0     0    0     0      0      0 --:--:-- --:--:-- --:--:--     0\n",
      "100   136  100    60  100    76    192    243 --:--:-- --:--:-- --:--:--   435\n"
     ]
    },
    {
     "name": "stdout",
     "output_type": "stream",
     "text": [
      "{\n",
      "  \"responseHeader\":{\n",
      "    \"status\":0,\n",
      "    \"QTime\":103\n",
      "  }\n",
      "}\n"
     ]
    },
    {
     "name": "stderr",
     "output_type": "stream",
     "text": [
      "  % Total    % Received % Xferd  Average Speed   Time    Time     Time  Current\n",
      "                                 Dload  Upload   Total   Spent    Left  Speed\n",
      "\n",
      "  0     0    0     0    0     0      0      0 --:--:-- --:--:-- --:--:--     0\n",
      "100   144  100    60  100    84    187    262 --:--:-- --:--:-- --:--:--   450\n"
     ]
    },
    {
     "name": "stdout",
     "output_type": "stream",
     "text": [
      "{\n",
      "  \"responseHeader\":{\n",
      "    \"status\":0,\n",
      "    \"QTime\":107\n",
      "  }\n",
      "}\n"
     ]
    },
    {
     "name": "stderr",
     "output_type": "stream",
     "text": [
      "  % Total    % Received % Xferd  Average Speed   Time    Time     Time  Current\n",
      "                                 Dload  Upload   Total   Spent    Left  Speed\n",
      "\n",
      "  0     0    0     0    0     0      0      0 --:--:-- --:--:-- --:--:--     0\n",
      "100   124  100    60  100    64    183    195 --:--:-- --:--:-- --:--:--   379\n"
     ]
    },
    {
     "name": "stdout",
     "output_type": "stream",
     "text": [
      "{\n",
      "  \"responseHeader\":{\n",
      "    \"status\":0,\n",
      "    \"QTime\":94\n",
      "  }\n",
      "}\n"
     ]
    },
    {
     "name": "stderr",
     "output_type": "stream",
     "text": [
      "  % Total    % Received % Xferd  Average Speed   Time    Time     Time  Current\n",
      "                                 Dload  Upload   Total   Spent    Left  Speed\n",
      "\n",
      "  0     0    0     0    0     0      0      0 --:--:-- --:--:-- --:--:--     0\n",
      "  0     0    0     0    0     0      0      0 --:--:-- --:--:-- --:--:--     0\n",
      "100   121  100    59  100    62    187    197 --:--:-- --:--:-- --:--:--   384\n"
     ]
    },
    {
     "name": "stdout",
     "output_type": "stream",
     "text": [
      "{\n",
      "  \"responseHeader\":{\n",
      "    \"status\":0,\n",
      "    \"QTime\":104\n",
      "  }\n",
      "}\n"
     ]
    },
    {
     "name": "stderr",
     "output_type": "stream",
     "text": [
      "  % Total    % Received % Xferd  Average Speed   Time    Time     Time  Current\n",
      "                                 Dload  Upload   Total   Spent    Left  Speed\n",
      "\n",
      "  0     0    0     0    0     0      0      0 --:--:-- --:--:-- --:--:--     0\n",
      "100   136  100    60  100    76    187    237 --:--:-- --:--:-- --:--:--   425\n"
     ]
    },
    {
     "name": "stdout",
     "output_type": "stream",
     "text": [
      "{\n",
      "  \"responseHeader\":{\n",
      "    \"status\":0,\n",
      "    \"QTime\":116\n",
      "  }\n",
      "}\n"
     ]
    },
    {
     "name": "stderr",
     "output_type": "stream",
     "text": [
      "  % Total    % Received % Xferd  Average Speed   Time    Time     Time  Current\n",
      "                                 Dload  Upload   Total   Spent    Left  Speed\n",
      "\n",
      "  0     0    0     0    0     0      0      0 --:--:-- --:--:-- --:--:--     0\n",
      "100   145  100    60  100    85    176    250 --:--:-- --:--:-- --:--:--   427\n"
     ]
    },
    {
     "name": "stdout",
     "output_type": "stream",
     "text": [
      "{\n",
      "  \"responseHeader\":{\n",
      "    \"status\":0,\n",
      "    \"QTime\":89\n",
      "  }\n",
      "}\n"
     ]
    },
    {
     "name": "stderr",
     "output_type": "stream",
     "text": [
      "  % Total    % Received % Xferd  Average Speed   Time    Time     Time  Current\n",
      "                                 Dload  Upload   Total   Spent    Left  Speed\n",
      "\n",
      "  0     0    0     0    0     0      0      0 --:--:-- --:--:-- --:--:--     0\n",
      "  0     0    0     0    0     0      0      0 --:--:-- --:--:-- --:--:--     0\n",
      "100   173  100    59  100   114    188    363 --:--:-- --:--:-- --:--:--   550\n"
     ]
    },
    {
     "name": "stdout",
     "output_type": "stream",
     "text": [
      "{\n",
      "  \"responseHeader\":{\n",
      "    \"status\":0,\n",
      "    \"QTime\":89\n",
      "  }\n",
      "}\n"
     ]
    },
    {
     "name": "stderr",
     "output_type": "stream",
     "text": [
      "  % Total    % Received % Xferd  Average Speed   Time    Time     Time  Current\n",
      "                                 Dload  Upload   Total   Spent    Left  Speed\n",
      "\n",
      "  0     0    0     0    0     0      0      0 --:--:-- --:--:-- --:--:--     0\n",
      "100   134  100    59  100    75    192    245 --:--:-- --:--:-- --:--:--   437\n"
     ]
    },
    {
     "name": "stdout",
     "output_type": "stream",
     "text": [
      "{\n",
      "  \"responseHeader\":{\n",
      "    \"status\":0,\n",
      "    \"QTime\":87\n",
      "  }\n",
      "}\n"
     ]
    },
    {
     "name": "stderr",
     "output_type": "stream",
     "text": [
      "  % Total    % Received % Xferd  Average Speed   Time    Time     Time  Current\n",
      "                                 Dload  Upload   Total   Spent    Left  Speed\n",
      "\n",
      "  0     0    0     0    0     0      0      0 --:--:-- --:--:-- --:--:--     0\n",
      "100   143  100    59  100    84    195    278 --:--:-- --:--:-- --:--:--   475\n"
     ]
    },
    {
     "name": "stdout",
     "output_type": "stream",
     "text": [
      "{\n",
      "  \"responseHeader\":{\n",
      "    \"status\":0,\n",
      "    \"QTime\":91\n",
      "  }\n",
      "}\n"
     ]
    },
    {
     "name": "stderr",
     "output_type": "stream",
     "text": [
      "  % Total    % Received % Xferd  Average Speed   Time    Time     Time  Current\n",
      "                                 Dload  Upload   Total   Spent    Left  Speed\n",
      "\n",
      "  0     0    0     0    0     0      0      0 --:--:-- --:--:-- --:--:--     0\n",
      "  0     0    0     0    0     0      0      0 --:--:-- --:--:-- --:--:--     0\n",
      "100   117  100    59  100    58    187    184 --:--:-- --:--:-- --:--:--   371\n"
     ]
    }
   ],
   "source": [
    "# author \n",
    "!curl -X POST -H \"Content-type:application/json\" --data-binary \"{\\\"add-field\\\":{\\\"name\\\":\\\"author\\\",\\\"type\\\":\\\"string\\\",\\\"stored\\\":true,\\\"indexed\\\":true,\\\"required\\\":true,\\\"multiValued\\\":false}}\" http://localhost:8983/api/cores/search_reddit/schema\n",
    "\n",
    "# created_utc\n",
    "!curl -X POST -H \"Content-type:application/json\" --data-binary \"{\\\"add-field\\\":{\\\"name\\\":\\\"created_utc\\\",\\\"type\\\":\\\"pdates\\\",\\\"stored\\\":true,\\\"indexed\\\":true,\\\"multiValued\\\":false}}\" http://localhost:8983/api/cores/search_reddit/schema\n",
    "\n",
    "# edited\n",
    "!curl -X POST -H \"Content-type:application/json\" --data-binary \"{\\\"add-field\\\":{\\\"name\\\":\\\"edited\\\",\\\"type\\\":\\\"pdates\\\",\\\"stored\\\":true,\\\"indexed\\\":true}}\" http://localhost:8983/api/cores/search_reddit/schema\n",
    "\n",
    "# id\n",
    "# !curl -X POST -H \"Content-type:application/json\" --data-binary \"{\\\"add-field\\\":{\\\"name\\\":\\\"id\\\",\\\"type\\\":\\\"string\\\",\\\"stored\\\":true,\\\"indexed\\\":true,\\\"required\\\":true,\\\"multiValued\\\":false}}\" http://localhost:8983/api/cores/search_reddit/schema\n",
    "\n",
    "# num_comments\n",
    "!curl -X POST -H \"Content-type:application/json\" --data-binary \"{\\\"add-field\\\":{\\\"name\\\":\\\"num_comments\\\",\\\"type\\\":\\\"pdoubles\\\",\\\"stored\\\":true,\\\"indexed\\\":true}}\" http://localhost:8983/api/cores/search_reddit/schema\n",
    "\n",
    "# permalink\n",
    "!curl -X POST -H \"Content-type:application/json\" --data-binary \"{\\\"add-field\\\":{\\\"name\\\":\\\"permalink\\\",\\\"type\\\":\\\"string\\\",\\\"stored\\\":true}}\" http://localhost:8983/api/cores/search_reddit/schema\n",
    "\n",
    "# post_id\n",
    "!curl -X POST -H \"Content-type:application/json\" --data-binary \"{\\\"add-field\\\":{\\\"name\\\":\\\"post_id\\\",\\\"type\\\":\\\"string\\\",\\\"stored\\\":true}}\" http://localhost:8983/api/cores/search_reddit/schema\n",
    "\n",
    "# score -> changed to upvote\n",
    "!curl -X POST -H \"Content-type:application/json\" --data-binary \"{\\\"add-field\\\":{\\\"name\\\":\\\"upvote\\\",\\\"type\\\":\\\"plongs\\\",\\\"stored\\\":true,\\\"indexed\\\":true}}\" http://localhost:8983/api/cores/search_reddit/schema\n",
    "\n",
    "# subreddit_name\n",
    "!curl -X POST -H \"Content-type:application/json\" --data-binary \"{\\\"add-field\\\":{\\\"name\\\":\\\"subreddit_name\\\",\\\"type\\\":\\\"string\\\",\\\"stored\\\":true,\\\"required\\\":true}}\" http://localhost:8983/api/cores/search_reddit/schema\n",
    "\n",
    "# text\n",
    "!curl -X POST -H \"Content-type:application/json\" --data-binary \"{\\\"add-field\\\":{\\\"name\\\":\\\"text\\\",\\\"type\\\":\\\"text_reddit\\\",\\\"stored\\\":true,\\\"indexed\\\":true,\\\"required\\\":true,\\\"multiValued\\\":true}}\" http://localhost:8983/api/cores/search_reddit/schema\n",
    "\n",
    "# type\n",
    "!curl -X POST -H \"Content-type:application/json\" --data-binary \"{\\\"add-field\\\":{\\\"name\\\":\\\"type\\\",\\\"type\\\":\\\"string\\\",\\\"stored\\\":true,\\\"required\\\":true}}\" http://localhost:8983/api/cores/search_reddit/schema\n",
    "\n",
    "# upvote_ratio\n",
    "!curl -X POST -H \"Content-type:application/json\" --data-binary \"{\\\"add-field\\\":{\\\"name\\\":\\\"upvote_ratio\\\",\\\"type\\\":\\\"pdoubles\\\",\\\"stored\\\":true,\\\"indexed\\\":true}}\" http://localhost:8983/api/cores/search_reddit/schema\n",
    "\n",
    "# url\n",
    "!curl -X POST -H \"Content-type:application/json\" --data-binary \"{\\\"add-field\\\":{\\\"name\\\":\\\"url\\\",\\\"type\\\":\\\"string\\\",\\\"stored\\\":true}}\" http://localhost:8983/api/cores/search_reddit/schema"
   ],
   "metadata": {
    "collapsed": false,
    "ExecuteTime": {
     "end_time": "2024-04-05T10:36:39.233137Z",
     "start_time": "2024-04-05T10:36:35.023699Z"
    }
   },
   "id": "7793b5eb8452d08a",
   "execution_count": 101
  },
  {
   "cell_type": "code",
   "outputs": [
    {
     "name": "stdout",
     "output_type": "stream",
     "text": [
      "{\n",
      "  \"responseHeader\":{\n",
      "    \"status\":0,\n",
      "    \"QTime\":0\n",
      "  },\n",
      "  \"fields\":[{\n",
      "    \"name\":\"_nest_path_\",\n",
      "    \"type\":\"_nest_path_\"\n",
      "  },{\n",
      "    \"name\":\"_root_\",\n",
      "    \"type\":\"string\",\n",
      "    \"indexed\":true,\n",
      "    \"stored\":false,\n",
      "    \"docValues\":false\n",
      "  },{\n",
      "    \"name\":\"_text_\",\n",
      "    \"type\":\"text_general\",\n",
      "    \"multiValued\":true,\n",
      "    \"indexed\":true,\n",
      "    \"stored\":false\n",
      "  },{\n",
      "    \"name\":\"_version_\",\n",
      "    \"type\":\"plong\",\n",
      "    \"indexed\":false,\n",
      "    \"stored\":false\n",
      "  },{\n",
      "    \"name\":\"author\",\n",
      "    \"type\":\"string\",\n",
      "    \"multiValued\":false,\n",
      "    \"indexed\":true,\n",
      "    \"required\":true,\n",
      "    \"stored\":true\n",
      "  },{\n",
      "    \"name\":\"created_utc\",\n",
      "    \"type\":\"pdates\",\n",
      "    \"multiValued\":false,\n",
      "    \"indexed\":true,\n",
      "    \"stored\":true\n",
      "  },{\n",
      "    \"name\":\"edited\",\n",
      "    \"type\":\"pdates\",\n",
      "    \"indexed\":true,\n",
      "    \"stored\":true\n",
      "  },{\n",
      "    \"name\":\"id\",\n",
      "    \"type\":\"string\",\n",
      "    \"multiValued\":false,\n",
      "    \"indexed\":true,\n",
      "    \"required\":true,\n",
      "    \"stored\":true\n",
      "  },{\n",
      "    \"name\":\"num_comments\",\n",
      "    \"type\":\"pdoubles\",\n",
      "    \"indexed\":true,\n",
      "    \"stored\":true\n",
      "  },{\n",
      "    \"name\":\"permalink\",\n",
      "    \"type\":\"string\",\n",
      "    \"stored\":true\n",
      "  },{\n",
      "    \"name\":\"post_id\",\n",
      "    \"type\":\"string\",\n",
      "    \"stored\":true\n",
      "  },{\n",
      "    \"name\":\"subreddit_name\",\n",
      "    \"type\":\"string\",\n",
      "    \"required\":true,\n",
      "    \"stored\":true\n",
      "  },{\n",
      "    \"name\":\"text\",\n",
      "    \"type\":\"text_reddit\",\n",
      "    \"multiValued\":true,\n",
      "    \"indexed\":true,\n",
      "    \"required\":true,\n",
      "    \"stored\":true\n",
      "  },{\n",
      "    \"name\":\"type\",\n",
      "    \"type\":\"string\",\n",
      "    \"required\":true,\n",
      "    \"stored\":true\n",
      "  },{\n",
      "    \"name\":\"upvote\",\n",
      "    \"type\":\"plongs\",\n",
      "    \"indexed\":true,\n",
      "    \"stored\":true\n",
      "  },{\n",
      "    \"name\":\"upvote_ratio\",\n",
      "    \"type\":\"pdoubles\",\n",
      "    \"indexed\":true,\n",
      "    \"stored\":true\n",
      "  },{\n",
      "    \"name\":\"url\",\n",
      "    \"type\":\"string\",\n",
      "    \"stored\":true\n",
      "  }]\n",
      "}\n"
     ]
    },
    {
     "name": "stderr",
     "output_type": "stream",
     "text": [
      "  % Total    % Received % Xferd  Average Speed   Time    Time     Time  Current\n",
      "                                 Dload  Upload   Total   Spent    Left  Speed\n",
      "\n",
      "  0     0    0     0    0     0      0      0 --:--:-- --:--:-- --:--:--     0\n",
      "100  1695  100  1695    0     0   8193      0 --:--:-- --:--:-- --:--:--  8228\n"
     ]
    }
   ],
   "source": [
    "# Get current schema, should be default/reserved fields\n",
    "!curl -X GET \"http://localhost:8983/solr/search_reddit/schema/fields\""
   ],
   "metadata": {
    "collapsed": false,
    "ExecuteTime": {
     "end_time": "2024-04-05T10:36:40.388604Z",
     "start_time": "2024-04-05T10:36:40.151403Z"
    }
   },
   "id": "68efd4c2712b4755",
   "execution_count": 102
  },
  {
   "cell_type": "markdown",
   "source": [
    "# Add spellcheck suggestions in response if query returns less results\n",
    "\n",
    "- https://solr.apache.org/guide/8_1/spell-checking.html\n",
    "\n",
    "DirectSolrSpellChecker\n",
    "```\n",
    "<searchComponent name=\"spellcheck\" class=\"solr.SpellCheckComponent\">\n",
    "  <lst name=\"spellchecker\">\n",
    "    <str name=\"name\">default</str>\n",
    "    <str name=\"field\">name</str>\n",
    "    <str name=\"classname\">solr.DirectSolrSpellChecker</str>\n",
    "    <str name=\"distanceMeasure\">internal</str>\n",
    "    <float name=\"accuracy\">0.5</float>\n",
    "    <int name=\"maxEdits\">2</int>\n",
    "    <int name=\"minPrefix\">1</int>\n",
    "    <int name=\"maxInspections\">5</int>\n",
    "    <int name=\"minQueryLength\">4</int>\n",
    "    <float name=\"maxQueryFrequency\">0.01</float>\n",
    "    <float name=\"thresholdTokenFrequency\">.01</float>\n",
    "  </lst>\n",
    "</searchComponent>\n",
    "```\n",
    "\n",
    "Add to request to use spellcheck\n",
    "```\n",
    "<str name=\"spellcheck\">true</str>\n",
    "```"
   ],
   "metadata": {
    "collapsed": false
   },
   "id": "edc4449b8bd8d8d3"
  },
  {
   "cell_type": "markdown",
   "source": [
    "## Add custom field type for spellcheck (So to not pollute the query results)\n",
    "```\n",
    "<fieldType name=\"text_spell\" class=\"solr.TextField\" positionIncrementGap=\"100\">\n",
    "  <analyzer>\n",
    "    <tokenizer class=\"solr.StandardTokenizerFactory\"/>\n",
    "    <charFilter class=\"solr.PatternReplaceCharFilterFactory\" pattern=\"[^a-zA-Z0-9]\" replacement=\"\" />\n",
    "    <filter class=\"solr.LowerCaseFilterFactory\"/>\n",
    "  </analyzer>\n",
    "</fieldType>\n",
    "```\n",
    "\n",
    "Add to schema\n",
    "```\n",
    "<field name=\"spell\" type=\"text_spell\" indexed=\"true\" stored=\"false\" multiValued=\"true\"/>\n",
    "```"
   ],
   "metadata": {
    "collapsed": false
   },
   "id": "1c4a10afd0f6845c"
  },
  {
   "cell_type": "code",
   "outputs": [
    {
     "name": "stdout",
     "output_type": "stream",
     "text": [
      "{\n",
      "  \"responseHeader\":{\n",
      "    \"status\":0,\n",
      "    \"QTime\":97\n",
      "  }\n",
      "}\n"
     ]
    },
    {
     "name": "stderr",
     "output_type": "stream",
     "text": [
      "  % Total    % Received % Xferd  Average Speed   Time    Time     Time  Current\n",
      "                                 Dload  Upload   Total   Spent    Left  Speed\n",
      "\n",
      "  0     0    0     0    0     0      0      0 --:--:-- --:--:-- --:--:--     0\n",
      "100   158  100    59  100    99    190    319 --:--:-- --:--:-- --:--:--   509\n",
      "100   158  100    59  100    99    190    319 --:--:-- --:--:-- --:--:--   509\n"
     ]
    }
   ],
   "source": [
    "# Add custom field type for spellcheck\n",
    "!curl -X POST -H \"Content-type:application/json\" --data-binary \"{\\\"add-field-type\\\":{\\\"name\\\":\\\"text_spell\\\",\\\"class\\\":\\\"solr.TextField\\\",\\\"positionIncrementGap\\\":100,\\\"analyzer\\\":{\\\"tokenizer\\\":{\\\"class\\\":\\\"solr.StandardTokenizerFactory\\\"},\\\"charFilters\\\":[{\\\"class\\\":\\\"solr.PatternReplaceCharFilterFactory\\\",\\\"pattern\\\":\\\"[^a-zA-Z0-9]\\\",\\\"replacement\\\":\\\"\\\"}],\\\"filters\\\":[{\\\"class\\\":\\\"solr.LowerCaseFilterFactory\\\"}]}}}\" http://localhost:8983/api/cores/search_reddit/schema\n",
    "\n",
    "\n",
    "# # Add to schema field\n",
    "!curl -X POST -H \"Content-type:application/json\" --data-binary \"{\\\"add-field\\\":{\\\"name\\\":\\\"spell\\\",\\\"type\\\":\\\"text_spell\\\",\\\"indexed\\\":true,\\\"stored\\\":false,\\\"multiValued\\\":true}}\" http://localhost:8983/api/cores/search_reddit/schema"
   ],
   "metadata": {
    "collapsed": false,
    "ExecuteTime": {
     "end_time": "2024-04-05T10:50:35.338786Z",
     "start_time": "2024-04-05T10:50:34.989030Z"
    }
   },
   "id": "c5bb0154939affc5",
   "execution_count": 114
  },
  {
   "cell_type": "markdown",
   "source": [
    "Thus, our spellchecker will be\n",
    "\n",
    "```\n",
    "  <searchComponent name=\"spellcheck\" class=\"solr.SpellCheckComponent\">\n",
    "\n",
    "    <str name=\"queryAnalyzerFieldType\">text_reddit</str>\n",
    "\n",
    "    <!-- Multiple \"Spell Checkers\" can be declared and used by this\n",
    "         component\n",
    "      -->\n",
    "\n",
    "    <!-- a spellchecker built from a field of the main index -->\n",
    "    <lst name=\"spellchecker\">\n",
    "      <str name=\"name\">default</str>\n",
    "      <str name=\"field\">text_spellcheck</str>\n",
    "      <str name=\"classname\">solr.DirectSolrSpellChecker</str>\n",
    "      <!-- the spellcheck distance measure used, the default is the internal levenshtein -->\n",
    "      <str name=\"distanceMeasure\">internal</str>\n",
    "      <!-- minimum accuracy needed to be considered a valid spellcheck suggestion -->\n",
    "      <float name=\"accuracy\">0.5</float>\n",
    "      <!-- the maximum #edits we consider when enumerating terms: can be 1 or 2 -->\n",
    "      <int name=\"maxEdits\">2</int>\n",
    "      <!-- the minimum shared prefix when enumerating terms -->\n",
    "      <int name=\"minPrefix\">1</int>\n",
    "      <!-- maximum number of inspections per result. -->\n",
    "      <int name=\"maxInspections\">5</int>\n",
    "      <!-- minimum length of a query term to be considered for correction -->\n",
    "      <int name=\"minQueryLength\">4</int>\n",
    "      <!-- maximum threshold of documents a query term can appear to be considered for correction -->\n",
    "      <float name=\"maxQueryFrequency\">0.01</float>\n",
    "      <!-- uncomment this to require suggestions to occur in 1% of the documents\n",
    "        <float name=\"thresholdTokenFrequency\">.01</float>\n",
    "      -->\n",
    "    </lst>\n",
    "```"
   ],
   "metadata": {
    "collapsed": false
   },
   "id": "92fbc758621d4427"
  },
  {
   "cell_type": "markdown",
   "source": [
    "# Restart core to apply changes\n",
    "## Somehow http request for this dosent work, manually edit solr-config.xml and refresh core"
   ],
   "metadata": {
    "collapsed": false
   },
   "id": "e6c6965f9ecc7390"
  },
  {
   "cell_type": "code",
   "outputs": [],
   "source": [
    "# # Edit spellchecker to work for text_reddit, the custom type we created\n",
    "# !curl -X POST -H \"Content-type: application/json\" --data-binary \"{\"add-searchcomponent\": {\"name\": \"spellcheck\", \"class\": \"solr.SpellCheckComponent\", \"config\": {\"queryAnalyzerFieldType\": \"text_reddit\", \"spellchecker\": {\"name\": \"default\", \"field\": \"text_spellcheck\", \"classname\": \"solr.DirectSolrSpellChecker\", \"distanceMeasure\": \"internal\", \"accuracy\": 0.5, \"maxEdits\": 2, \"minPrefix\": 1, \"maxInspections\": 5, \"minQueryLength\": 4, \"maxQueryFrequency\": 0.01}}}}\" http://localhost:8983/api/cores/search_reddit/config"
   ],
   "metadata": {
    "collapsed": false,
    "ExecuteTime": {
     "end_time": "2024-04-05T10:51:23.860373Z",
     "start_time": "2024-04-05T10:51:23.857713Z"
    }
   },
   "id": "8978c2007d13be19",
   "execution_count": 115
  },
  {
   "cell_type": "markdown",
   "source": [
    "## Refresh core"
   ],
   "metadata": {
    "collapsed": false
   },
   "id": "add806722d6b4d"
  },
  {
   "cell_type": "code",
   "outputs": [
    {
     "name": "stdout",
     "output_type": "stream",
     "text": [
      "{\n",
      "  \"responseHeader\":{\n",
      "    \"status\":0,\n",
      "    \"QTime\":331\n",
      "  }\n",
      "}\n"
     ]
    },
    {
     "name": "stderr",
     "output_type": "stream",
     "text": [
      "  % Total    % Received % Xferd  Average Speed   Time    Time     Time  Current\n",
      "                                 Dload  Upload   Total   Spent    Left  Speed\n",
      "\n",
      "  0     0    0     0    0     0      0      0 --:--:-- --:--:-- --:--:--     0\n",
      "100    60  100    60    0     0    109      0 --:--:-- --:--:-- --:--:--   109\n"
     ]
    }
   ],
   "source": [
    "!curl -X POST \"http://localhost:8983/solr/admin/cores?action=RELOAD&core=search_reddit&wt=json\""
   ],
   "metadata": {
    "collapsed": false,
    "ExecuteTime": {
     "end_time": "2024-04-05T10:52:17.058473Z",
     "start_time": "2024-04-05T10:52:16.474335Z"
    }
   },
   "id": "a5c1e99b61285bde",
   "execution_count": 124
  },
  {
   "cell_type": "markdown",
   "source": [
    "# Ingest data"
   ],
   "metadata": {
    "collapsed": false
   },
   "id": "2b76fbe89421d19"
  },
  {
   "cell_type": "code",
   "outputs": [
    {
     "name": "stdout",
     "output_type": "stream",
     "text": [
      "{\n",
      "  \"responseHeader\":{\n",
      "    \"status\":0,\n",
      "    \"QTime\":7818\n",
      "  }\n",
      "}\n"
     ]
    },
    {
     "name": "stderr",
     "output_type": "stream",
     "text": [
      "  % Total    % Received % Xferd  Average Speed   Time    Time     Time  Current\n",
      "                                 Dload  Upload   Total   Spent    Left  Speed\n",
      "\n",
      "  0     0    0     0    0     0      0      0 --:--:-- --:--:-- --:--:--     0\n",
      " 25 20.0M    0     0   25 5312k      0  5459k  0:00:03 --:--:--  0:00:03 5459k\n",
      " 40 20.0M    0     0   40 8320k      0  5100k  0:00:04  0:00:01  0:00:03 5098k\n",
      " 64 20.0M    0     0   64 12.8M      0  4193k  0:00:04  0:00:03  0:00:01 4194k\n",
      " 83 20.0M    0     0   83 16.8M      0  4396k  0:00:04  0:00:03  0:00:01 4396k\n",
      " 96 20.0M    0     0   96 19.2M      0  3989k  0:00:05  0:00:04  0:00:01 3989k\n",
      "100 20.0M    0     0  100 20.0M      0  3442k  0:00:05  0:00:05 --:--:-- 3048k\n",
      "100 20.0M    0     0  100 20.0M      0  2944k  0:00:06  0:00:06 --:--:-- 2284k\n",
      "100 20.0M    0     0  100 20.0M      0  2573k  0:00:07  0:00:07 --:--:-- 1516k\n",
      "100 20.0M  100    61  100 20.0M      7  2554k  0:00:08  0:00:08 --:--:--  798k\n"
     ]
    }
   ],
   "source": [
    "# add document to solr\n",
    "!curl \"http://localhost:8983/solr/search_reddit/update?commit=true\" --data-binary @data/cleaned_combined_data.csv -H \"Content-type:application/csv\""
   ],
   "metadata": {
    "collapsed": false,
    "ExecuteTime": {
     "end_time": "2024-04-05T10:51:34.734433Z",
     "start_time": "2024-04-05T10:51:26.651423Z"
    }
   },
   "id": "f475d8ff0be7ebec",
   "execution_count": 117
  },
  {
   "cell_type": "markdown",
   "source": [
    "# Test query data\n",
    "\n",
    "- https://solr.apache.org/guide/6_6/the-standard-query-parser.html"
   ],
   "metadata": {
    "collapsed": false
   },
   "id": "239e6c7a6bae26d6"
  },
  {
   "cell_type": "markdown",
   "source": [
    "## Select with keyword search"
   ],
   "metadata": {
    "collapsed": false
   },
   "id": "51f266ce47295f"
  },
  {
   "cell_type": "code",
   "outputs": [
    {
     "name": "stdout",
     "output_type": "stream",
     "text": [
      "{\n",
      "  \"responseHeader\":{\n",
      "    \"status\":0,\n",
      "    \"QTime\":3,\n",
      "    \"params\":{\n",
      "      \"q\":\"text:congrats*\",\n",
      "      \"rows\":\"10\"\n",
      "    }\n",
      "  },\n",
      "  \"response\":{\n",
      "    \"numFound\":561,\n",
      "    \"start\":0,\n",
      "    \"numFoundExact\":true,\n",
      "    \"docs\":[{\n",
      "      \"author\":\"pboksz\",\n",
      "      \"text\":[\"Congrats! That is one impressive reward! This is such a fun car and it will be great for hauling the two littles one!\"],\n",
      "      \"created_utc\":\"2022-03-29T03:02:07Z\",\n",
      "      \"id\":\"i2h052j\",\n",
      "      \"permalink\":\"/r/BMWi3/comments/tqghan/my_reward_for_finally_finishing_my_bachelors/i2h052j/\",\n",
      "      \"upvote\":[10],\n",
      "      \"subreddit_name\":\"BMWi3\",\n",
      "      \"type\":\"comment\",\n",
      "      \"post_id\":\"t3_tqghan\",\n",
      "      \"text_spellcheck\":[\"Congrats! That is one impressive reward! This is such a fun car and it will be great for hauling the two littles one!\"],\n",
      "      \"_version_\":1795491665914363905\n",
      "    },{\n",
      "      \"author\":\"jazzcat007\",\n",
      "      \"text\":[\"Youâ€™re gonna love it! Congrats!\"],\n",
      "      \"created_utc\":\"2022-03-29T07:48:17Z\",\n",
      "      \"id\":\"i2i2ebt\",\n",
      "      \"permalink\":\"/r/BMWi3/comments/tqghan/my_reward_for_finally_finishing_my_bachelors/i2i2ebt/\",\n",
      "      \"upvote\":[2],\n",
      "      \"subreddit_name\":\"BMWi3\",\n",
      "      \"type\":\"comment\",\n",
      "      \"post_id\":\"t3_tqghan\",\n",
      "      \"text_spellcheck\":[\"Youâ€™re gonna love it! Congrats!\"],\n",
      "      \"_version_\":1795491665915412483\n",
      "    },{\n",
      "      \"author\":\"[deleted]\",\n",
      "      \"text\":[\"Congrats! Beautiful family. Hereâ€™s wishing you many happy, healthy miles ahead. :sport_utility_vehicle:\"],\n",
      "      \"created_utc\":\"2022-03-29T12:26:04Z\",\n",
      "      \"id\":\"i2iyr1m\",\n",
      "      \"permalink\":\"/r/BMWi3/comments/tqghan/my_reward_for_finally_finishing_my_bachelors/i2iyr1m/\",\n",
      "      \"upvote\":[2],\n",
      "      \"subreddit_name\":\"BMWi3\",\n",
      "      \"type\":\"comment\",\n",
      "      \"post_id\":\"t3_tqghan\",\n",
      "      \"text_spellcheck\":[\"Congrats! Beautiful family. Hereâ€™s wishing you many happy, healthy miles ahead. :sport_utility_vehicle:\"],\n",
      "      \"_version_\":1795491665915412487\n",
      "    },{\n",
      "      \"author\":\"admin557\",\n",
      "      \"text\":[\"Congrats! It looks like new!\"],\n",
      "      \"created_utc\":\"2022-03-29T04:47:24Z\",\n",
      "      \"id\":\"i2hfgvn\",\n",
      "      \"permalink\":\"/r/BMWi3/comments/tqghan/my_reward_for_finally_finishing_my_bachelors/i2hfgvn/\",\n",
      "      \"upvote\":[2],\n",
      "      \"subreddit_name\":\"BMWi3\",\n",
      "      \"type\":\"comment\",\n",
      "      \"post_id\":\"t3_tqghan\",\n",
      "      \"text_spellcheck\":[\"Congrats! It looks like new!\"],\n",
      "      \"_version_\":1795491665916461062\n",
      "    },{\n",
      "      \"author\":\"Tide865\",\n",
      "      \"text\":[\"Congrats!\"],\n",
      "      \"created_utc\":\"2024-02-23T08:29:36Z\",\n",
      "      \"id\":\"krowqok\",\n",
      "      \"permalink\":\"/r/BMWi3/comments/1axmm77/100k_miles/krowqok/\",\n",
      "      \"upvote\":[3],\n",
      "      \"subreddit_name\":\"BMWi3\",\n",
      "      \"type\":\"comment\",\n",
      "      \"post_id\":\"t3_1axmm77\",\n",
      "      \"text_spellcheck\":[\"Congrats!\"],\n",
      "      \"_version_\":1795491665918558209\n",
      "    },{\n",
      "      \"author\":\"Heretogetthingsdone\",\n",
      "      \"text\":[\" Congrats! My 2014 Rex is well on the way as I passed a milestone. https://imgur.com/1p6m4oU\"],\n",
      "      \"created_utc\":\"2024-02-24T07:05:22Z\",\n",
      "      \"id\":\"kru8xeb\",\n",
      "      \"permalink\":\"/r/BMWi3/comments/1axmm77/100k_miles/kru8xeb/\",\n",
      "      \"upvote\":[2],\n",
      "      \"subreddit_name\":\"BMWi3\",\n",
      "      \"type\":\"comment\",\n",
      "      \"post_id\":\"t3_1axmm77\",\n",
      "      \"text_spellcheck\":[\" Congrats! My 2014 Rex is well on the way as I passed a milestone. https://imgur.com/1p6m4oU\"],\n",
      "      \"_version_\":1795491665918558216\n",
      "    },{\n",
      "      \"author\":\"Darenhayes1978\",\n",
      "      \"text\":[\"Congrats!\"],\n",
      "      \"created_utc\":\"2023-05-25T20:06:22Z\",\n",
      "      \"id\":\"jljyc47\",\n",
      "      \"permalink\":\"/r/BMWi3/comments/13rc663/picked_her_up_straight_from_the_source_in_munich/jljyc47/\",\n",
      "      \"upvote\":[2],\n",
      "      \"subreddit_name\":\"BMWi3\",\n",
      "      \"type\":\"comment\",\n",
      "      \"post_id\":\"t3_13rc663\",\n",
      "      \"text_spellcheck\":[\"Congrats!\"],\n",
      "      \"_version_\":1795491665921703942\n",
      "    },{\n",
      "      \"author\":\"Redi3s\",\n",
      "      \"text\":[\"Very nice color. There's a video there of that particular color combo that's been dropped...looks incredible! Congrats.\"],\n",
      "      \"created_utc\":\"2023-05-25T22:48:40Z\",\n",
      "      \"id\":\"jlkk8gn\",\n",
      "      \"permalink\":\"/r/BMWi3/comments/13rc663/picked_her_up_straight_from_the_source_in_munich/jlkk8gn/\",\n",
      "      \"upvote\":[2],\n",
      "      \"subreddit_name\":\"BMWi3\",\n",
      "      \"type\":\"comment\",\n",
      "      \"post_id\":\"t3_13rc663\",\n",
      "      \"text_spellcheck\":[\"Very nice color. There's a video there of that particular color combo that's been dropped...looks incredible! Congrats.\"],\n",
      "      \"_version_\":1795491665921703943\n",
      "    },{\n",
      "      \"author\":\"Neither_Jedi_or_Sith\",\n",
      "      \"text\":[\"Absolutely one of my favorite color combinations- congrats! :star-struck:\"],\n",
      "      \"created_utc\":\"2023-05-25T23:41:09Z\",\n",
      "      \"id\":\"jlksbdo\",\n",
      "      \"permalink\":\"/r/BMWi3/comments/13rc663/picked_her_up_straight_from_the_source_in_munich/jlksbdo/\",\n",
      "      \"upvote\":[1],\n",
      "      \"subreddit_name\":\"BMWi3\",\n",
      "      \"type\":\"comment\",\n",
      "      \"post_id\":\"t3_13rc663\",\n",
      "      \"text_spellcheck\":[\"Absolutely one of my favorite color combinations- congrats! :star-struck:\"],\n",
      "      \"_version_\":1795491665922752512\n",
      "    },{\n",
      "      \"author\":\"Ok_Competition_4810\",\n",
      "      \"text\":[\"Congrats! Looks like it has nice tint\"],\n",
      "      \"created_utc\":\"2023-05-22T01:35:05Z\",\n",
      "      \"id\":\"jl1wdu0\",\n",
      "      \"permalink\":\"/r/BMWi3/comments/13o1009/picked_up_this_little_gem_over_the_weekend/jl1wdu0/\",\n",
      "      \"upvote\":[3],\n",
      "      \"subreddit_name\":\"BMWi3\",\n",
      "      \"type\":\"comment\",\n",
      "      \"post_id\":\"t3_13o1009\",\n",
      "      \"text_spellcheck\":[\"Congrats! Looks like it has nice tint\"],\n",
      "      \"_version_\":1795491665923801090\n",
      "    }]\n",
      "  }\n",
      "}\n"
     ]
    },
    {
     "name": "stderr",
     "output_type": "stream",
     "text": [
      "  % Total    % Received % Xferd  Average Speed   Time    Time     Time  Current\n",
      "                                 Dload  Upload   Total   Spent    Left  Speed\n",
      "\n",
      "  0     0    0     0    0     0      0      0 --:--:-- --:--:-- --:--:--     0\n",
      "100  5411  100  5387  100    24  24040    107 --:--:-- --:--:-- --:--:-- 24156\n"
     ]
    }
   ],
   "source": [
    "!curl -X GET http://localhost:8983/solr/search_reddit/query -d \"q=text:congrats*&rows=10\""
   ],
   "metadata": {
    "collapsed": false,
    "ExecuteTime": {
     "end_time": "2024-04-05T10:51:38.069993Z",
     "start_time": "2024-04-05T10:51:37.812227Z"
    }
   },
   "id": "2a3ae0e55f5445ae",
   "execution_count": 118
  },
  {
   "cell_type": "markdown",
   "source": [
    "## Search with timeframe range filter"
   ],
   "metadata": {
    "collapsed": false
   },
   "id": "24cc3e08c5ae2a7d"
  },
  {
   "cell_type": "code",
   "outputs": [
    {
     "name": "stdout",
     "output_type": "stream",
     "text": [
      "{\n",
      "  \"responseHeader\":{\n",
      "    \"status\":0,\n",
      "    \"QTime\":2,\n",
      "    \"params\":{\n",
      "      \"q\":\"created_utc:[2017-01-01T00:00:00Z TO 2018-01-31T23:59:59Z]\",\n",
      "      \"rows\":\"10\"\n",
      "    }\n",
      "  },\n",
      "  \"response\":{\n",
      "    \"numFound\":1923,\n",
      "    \"start\":0,\n",
      "    \"numFoundExact\":true,\n",
      "    \"docs\":[{\n",
      "      \"author\":\"billbucket\",\n",
      "      \"text\":[\"Tesla's Summon feature was very useful today...\"],\n",
      "      \"created_utc\":\"2018-01-25T07:13:35Z\",\n",
      "      \"id\":\"7srdiw\",\n",
      "      \"num_comments\":[1050.0],\n",
      "      \"permalink\":\"/r/teslamotors/comments/7srdiw/teslas_summon_feature_was_very_useful_today/\",\n",
      "      \"upvote\":[49182],\n",
      "      \"subreddit_name\":\"teslamotors\",\n",
      "      \"upvote_ratio\":[0.9],\n",
      "      \"url\":\"https://gfycat.com/ReliableSecretJunebug\",\n",
      "      \"type\":\"post\",\n",
      "      \"text_spellcheck\":[\"Tesla's Summon feature was very useful today...\"],\n",
      "      \"_version_\":1795491665902829573\n",
      "    },{\n",
      "      \"author\":\"TheMightyCraken\",\n",
      "      \"text\":[\"Elon Musk confirms secret Tesla â€˜Carless Driverâ€™ project\"],\n",
      "      \"created_utc\":\"2018-01-30T05:20:51Z\",\n",
      "      \"id\":\"7tvnx6\",\n",
      "      \"num_comments\":[394.0],\n",
      "      \"permalink\":\"/r/teslamotors/comments/7tvnx6/elon_musk_confirms_secret_tesla_carless_driver/\",\n",
      "      \"upvote\":[45635],\n",
      "      \"subreddit_name\":\"teslamotors\",\n",
      "      \"upvote_ratio\":[0.89],\n",
      "      \"url\":\"https://i.imgur.com/5tcF25Y.jpg\",\n",
      "      \"type\":\"post\",\n",
      "      \"text_spellcheck\":[\"Elon Musk confirms secret Tesla â€˜Carless Driverâ€™ project\"],\n",
      "      \"_version_\":1795491665902829574\n",
      "    },{\n",
      "      \"author\":\"BasharK\",\n",
      "      \"text\":[\"Tesla vs Bugatti\"],\n",
      "      \"created_utc\":\"2017-11-20T03:53:56Z\",\n",
      "      \"id\":\"7e2ze2\",\n",
      "      \"num_comments\":[2321.0],\n",
      "      \"permalink\":\"/r/teslamotors/comments/7e2ze2/tesla_vs_bugatti/\",\n",
      "      \"upvote\":[44315],\n",
      "      \"subreddit_name\":\"teslamotors\",\n",
      "      \"upvote_ratio\":[0.8],\n",
      "      \"url\":\"https://i.redd.it/a3ar6o7rlzyz.jpg\",\n",
      "      \"type\":\"post\",\n",
      "      \"text_spellcheck\":[\"Tesla vs Bugatti\"],\n",
      "      \"_version_\":1795491665902829575\n",
      "    },{\n",
      "      \"author\":\"thehandsomebog\",\n",
      "      \"text\":[\"Update to the previous post\"],\n",
      "      \"created_utc\":\"2018-01-09T21:09:52Z\",\n",
      "      \"id\":\"7p6z9u\",\n",
      "      \"num_comments\":[850.0],\n",
      "      \"permalink\":\"/r/teslamotors/comments/7p6z9u/update_to_the_previous_post/\",\n",
      "      \"upvote\":[33437],\n",
      "      \"subreddit_name\":\"teslamotors\",\n",
      "      \"upvote_ratio\":[0.92],\n",
      "      \"url\":\"https://i.redd.it/ob0dxon5k1901.jpg\",\n",
      "      \"type\":\"post\",\n",
      "      \"text_spellcheck\":[\"Update to the previous post\"],\n",
      "      \"_version_\":1795491665903878145\n",
      "    },{\n",
      "      \"author\":\"Scourgiman\",\n",
      "      \"text\":[\"UPS Pre-Orders 125 Tesla Electric Trucks\"],\n",
      "      \"created_utc\":\"2017-12-19T22:06:58Z\",\n",
      "      \"id\":\"7ktg18\",\n",
      "      \"num_comments\":[958.0],\n",
      "      \"permalink\":\"/r/teslamotors/comments/7ktg18/ups_preorders_125_tesla_electric_trucks/\",\n",
      "      \"upvote\":[22822],\n",
      "      \"subreddit_name\":\"teslamotors\",\n",
      "      \"upvote_ratio\":[0.91],\n",
      "      \"url\":\"https://pressroom.ups.com/pressroom/ContentDetailsViewer.page?ConceptType=PressReleases&id=1513688472411-396\",\n",
      "      \"type\":\"post\",\n",
      "      \"text_spellcheck\":[\"UPS Pre-Orders 125 Tesla Electric Trucks\"],\n",
      "      \"_version_\":1795491665904926724\n",
      "    },{\n",
      "      \"author\":\"deplorablecalifornia\",\n",
      "      \"text\":[\"This Elon Tweet Makes Way More Sense Now\"],\n",
      "      \"created_utc\":\"2017-11-18T02:26:14Z\",\n",
      "      \"id\":\"7dmwuk\",\n",
      "      \"num_comments\":[836.0],\n",
      "      \"permalink\":\"/r/teslamotors/comments/7dmwuk/this_elon_tweet_makes_way_more_sense_now/\",\n",
      "      \"upvote\":[22148],\n",
      "      \"subreddit_name\":\"teslamotors\",\n",
      "      \"upvote_ratio\":[0.92],\n",
      "      \"url\":\"https://i.redd.it/v19xqn69wkyz.png\",\n",
      "      \"type\":\"post\",\n",
      "      \"text_spellcheck\":[\"This Elon Tweet Makes Way More Sense Now\"],\n",
      "      \"_version_\":1795491665904926727\n",
      "    },{\n",
      "      \"author\":\"Geek4lyf\",\n",
      "      \"text\":[\"The Race is on!\"],\n",
      "      \"created_utc\":\"2017-12-24T17:07:12Z\",\n",
      "      \"id\":\"7luapl\",\n",
      "      \"num_comments\":[292.0],\n",
      "      \"permalink\":\"/r/teslamotors/comments/7luapl/the_race_is_on/\",\n",
      "      \"upvote\":[21996],\n",
      "      \"subreddit_name\":\"teslamotors\",\n",
      "      \"upvote_ratio\":[0.92],\n",
      "      \"url\":\"https://i.redd.it/refw1hz96u501.jpg\",\n",
      "      \"type\":\"post\",\n",
      "      \"text_spellcheck\":[\"The Race is on!\"],\n",
      "      \"_version_\":1795491665904926728\n",
      "    },{\n",
      "      \"author\":\"beepboy\",\n",
      "      \"text\":[\"Elon's letter about factory working conditions - he cares a lot!\"],\n",
      "      \"created_utc\":\"2017-06-02T10:07:38Z\",\n",
      "      \"id\":\"6erjqi\",\n",
      "      \"num_comments\":[946.0],\n",
      "      \"permalink\":\"/r/teslamotors/comments/6erjqi/elons_letter_about_factory_working_conditions_he/\",\n",
      "      \"upvote\":[21199],\n",
      "      \"subreddit_name\":\"teslamotors\",\n",
      "      \"upvote_ratio\":[0.82],\n",
      "      \"url\":\"http://imgur.com/F8HjUa0\",\n",
      "      \"type\":\"post\",\n",
      "      \"text_spellcheck\":[\"Elon's letter about factory working conditions - he cares a lot!\"],\n",
      "      \"_version_\":1795491665905975296\n",
      "    },{\n",
      "      \"author\":\"Intro24\",\n",
      "      \"text\":[\"Tesla perks\"],\n",
      "      \"created_utc\":\"2017-08-07T04:34:41Z\",\n",
      "      \"id\":\"6s0rvf\",\n",
      "      \"num_comments\":[457.0],\n",
      "      \"permalink\":\"/r/teslamotors/comments/6s0rvf/tesla_perks/\",\n",
      "      \"upvote\":[20821],\n",
      "      \"subreddit_name\":\"teslamotors\",\n",
      "      \"upvote_ratio\":[0.91],\n",
      "      \"url\":\"https://i.redd.it/rzy4nsjah6ez.jpg\",\n",
      "      \"type\":\"post\",\n",
      "      \"text_spellcheck\":[\"Tesla perks\"],\n",
      "      \"_version_\":1795491665905975298\n",
      "    },{\n",
      "      \"author\":\"2050project\",\n",
      "      \"text\":[\"PepsiCo makes biggest public pre-order of Tesla Semis: 100 trucks\"],\n",
      "      \"created_utc\":\"2017-12-12T20:08:03Z\",\n",
      "      \"id\":\"7jabhr\",\n",
      "      \"num_comments\":[901.0],\n",
      "      \"permalink\":\"/r/teslamotors/comments/7jabhr/pepsico_makes_biggest_public_preorder_of_tesla/\",\n",
      "      \"upvote\":[17810],\n",
      "      \"subreddit_name\":\"teslamotors\",\n",
      "      \"upvote_ratio\":[0.93],\n",
      "      \"url\":\"https://www.reuters.com/article/pepsico-tesla-orders/pepsico-makes-biggest-public-pre-order-of-tesla-semis-100-trucks-idUSL1N1OB1YR\",\n",
      "      \"type\":\"post\",\n",
      "      \"text_spellcheck\":[\"PepsiCo makes biggest public pre-order of Tesla Semis: 100 trucks\"],\n",
      "      \"_version_\":1795491665905975306\n",
      "    }]\n",
      "  }\n",
      "}\n"
     ]
    },
    {
     "name": "stderr",
     "output_type": "stream",
     "text": [
      "  % Total    % Received % Xferd  Average Speed   Time    Time     Time  Current\n",
      "                                 Dload  Upload   Total   Spent    Left  Speed\n",
      "\n",
      "  0     0    0     0    0     0      0      0 --:--:-- --:--:-- --:--:--     0\n",
      "100  5958  100  5890  100    68  27446    316 --:--:-- --:--:-- --:--:-- 27841\n"
     ]
    }
   ],
   "source": [
    "!curl -X GET http://localhost:8983/solr/search_reddit/query -d \"q=created_utc:[2017-01-01T00:00:00Z TO 2018-01-31T23:59:59Z]&rows=10\""
   ],
   "metadata": {
    "collapsed": false,
    "ExecuteTime": {
     "end_time": "2024-04-05T10:51:38.535121Z",
     "start_time": "2024-04-05T10:51:38.286257Z"
    }
   },
   "id": "d9ba2d9c16a35ef4",
   "execution_count": 119
  },
  {
   "cell_type": "markdown",
   "source": [
    "## Combination of conditions"
   ],
   "metadata": {
    "collapsed": false
   },
   "id": "dcd0dc68a7936cfc"
  },
  {
   "cell_type": "code",
   "outputs": [
    {
     "name": "stdout",
     "output_type": "stream",
     "text": [
      "{\n",
      "  \"responseHeader\":{\n",
      "    \"status\":0,\n",
      "    \"QTime\":4,\n",
      "    \"params\":{\n",
      "      \"q\":\"text:congrats* AND created_utc:[2017-01-01T00:00:00Z TO 2018-01-31T23:59:59Z]\",\n",
      "      \"rows\":\"10\"\n",
      "    }\n",
      "  },\n",
      "  \"response\":{\n",
      "    \"numFound\":4,\n",
      "    \"start\":0,\n",
      "    \"numFoundExact\":true,\n",
      "    \"docs\":[{\n",
      "      \"author\":\"the8king\",\n",
      "      \"text\":[\"Wow, congrats!! I wonder how much that was vs a gas roadtrip!\"],\n",
      "      \"created_utc\":\"2017-03-28T23:00:50Z\",\n",
      "      \"id\":\"dfijlrq\",\n",
      "      \"permalink\":\"/r/teslamotors/comments/61yrt5/we_just_drove_from_san_francisco_to_new_york_city/dfijlrq/\",\n",
      "      \"upvote\":[2],\n",
      "      \"subreddit_name\":\"teslamotors\",\n",
      "      \"type\":\"comment\",\n",
      "      \"post_id\":\"t3_61yrt5\",\n",
      "      \"text_spellcheck\":[\"Wow, congrats!! I wonder how much that was vs a gas roadtrip!\"],\n",
      "      \"_version_\":1795491671741300746\n",
      "    },{\n",
      "      \"author\":\"Randomd0g\",\n",
      "      \"text\":[\"You made it! Congrats, friends. About what percentage of the total drive would you say was done with AP?\"],\n",
      "      \"created_utc\":\"2017-03-28T21:10:44Z\",\n",
      "      \"id\":\"dfiegxk\",\n",
      "      \"permalink\":\"/r/teslamotors/comments/61yrt5/we_just_drove_from_san_francisco_to_new_york_city/dfiegxk/\",\n",
      "      \"upvote\":[3],\n",
      "      \"subreddit_name\":\"teslamotors\",\n",
      "      \"type\":\"comment\",\n",
      "      \"post_id\":\"t3_61yrt5\",\n",
      "      \"text_spellcheck\":[\"You made it! Congrats, friends. About what percentage of the total drive would you say was done with AP?\"],\n",
      "      \"_version_\":1795491671742349323\n",
      "    },{\n",
      "      \"author\":\"[deleted]\",\n",
      "      \"text\":[\"Congrats! Sounds like you both had fun... best of luck to you all in the future! :) I met my wife 22 years ago on an internet MUD. It feels like a Tesla reddit is just the natural evolution of that idea. :)\"],\n",
      "      \"created_utc\":\"2017-08-20T04:46:08Z\",\n",
      "      \"id\":\"dlutgho\",\n",
      "      \"permalink\":\"/r/teslamotors/comments/6ulen7/so_this_happened_yesterday_my_date_with_ucdbz11/dlutgho/\",\n",
      "      \"upvote\":[3],\n",
      "      \"subreddit_name\":\"teslamotors\",\n",
      "      \"type\":\"comment\",\n",
      "      \"post_id\":\"t3_6ulen7\",\n",
      "      \"text_spellcheck\":[\"Congrats! Sounds like you both had fun... best of luck to you all in the future! :) I met my wife 22 years ago on an internet MUD. It feels like a Tesla reddit is just the natural evolution of that idea. :)\"],\n",
      "      \"_version_\":1795491672297046022\n",
      "    },{\n",
      "      \"author\":\"codeyh\",\n",
      "      \"text\":[\"I'm not usually a matte or a black rim fan... but that is a fantastic looking Model S. Congrats!\"],\n",
      "      \"created_utc\":\"2017-08-12T02:25:05Z\",\n",
      "      \"id\":\"dlhi9gz\",\n",
      "      \"permalink\":\"/r/teslamotors/comments/6svp7n/my_new_model_s_all_black_everything/dlhi9gz/\",\n",
      "      \"upvote\":[1],\n",
      "      \"subreddit_name\":\"teslamotors\",\n",
      "      \"type\":\"comment\",\n",
      "      \"post_id\":\"t3_6svp7n\",\n",
      "      \"text_spellcheck\":[\"I'm not usually a matte or a black rim fan... but that is a fantastic looking Model S. Congrats!\"],\n",
      "      \"_version_\":1795491672387223558\n",
      "    }]\n",
      "  }\n",
      "}\n"
     ]
    },
    {
     "name": "stderr",
     "output_type": "stream",
     "text": [
      "  % Total    % Received % Xferd  Average Speed   Time    Time     Time  Current\n",
      "                                 Dload  Upload   Total   Spent    Left  Speed\n",
      "\n",
      "  0     0    0     0    0     0      0      0 --:--:-- --:--:-- --:--:--     0\n",
      "100  2926  100  2839  100    87  13472    412 --:--:-- --:--:-- --:--:-- 13933\n"
     ]
    }
   ],
   "source": [
    "!curl -X GET http://localhost:8983/solr/search_reddit/query -d \"q=text:congrats* AND created_utc:[2017-01-01T00:00:00Z TO 2018-01-31T23:59:59Z]&rows=10\""
   ],
   "metadata": {
    "collapsed": false,
    "ExecuteTime": {
     "end_time": "2024-04-05T10:51:44.257944Z",
     "start_time": "2024-04-05T10:51:44.012556Z"
    }
   },
   "id": "a860d4a9866df725",
   "execution_count": 120
  },
  {
   "cell_type": "markdown",
   "source": [
    "## Test spellchecker"
   ],
   "metadata": {
    "collapsed": false
   },
   "id": "dad930771847fe17"
  },
  {
   "cell_type": "code",
   "outputs": [
    {
     "name": "stdout",
     "output_type": "stream",
     "text": [
      "{\n",
      "  \"responseHeader\":{\n",
      "    \"status\":0,\n",
      "    \"QTime\":143\n",
      "  }\n",
      "}\n"
     ]
    },
    {
     "name": "stderr",
     "output_type": "stream",
     "text": [
      "  % Total    % Received % Xferd  Average Speed   Time    Time     Time  Current\n",
      "                                 Dload  Upload   Total   Spent    Left  Speed\n",
      "\n",
      "  0     0    0     0    0     0      0      0 --:--:-- --:--:-- --:--:--     0\n",
      "100    60  100    60    0     0    167      0 --:--:-- --:--:-- --:--:--   168\n"
     ]
    }
   ],
   "source": [
    "!curl -X POST \"http://localhost:8983/solr/admin/cores?action=RELOAD&core=search_reddit&wt=json\""
   ],
   "metadata": {
    "collapsed": false,
    "ExecuteTime": {
     "end_time": "2024-04-05T10:52:21.157458Z",
     "start_time": "2024-04-05T10:52:20.771456Z"
    }
   },
   "id": "cee4585cdd4ff19f",
   "execution_count": 125
  },
  {
   "cell_type": "code",
   "outputs": [
    {
     "name": "stdout",
     "output_type": "stream",
     "text": [
      "{\n",
      "  \"responseHeader\":{\n",
      "    \"status\":0,\n",
      "    \"QTime\":4\n",
      "  },\n",
      "  \"response\":{\n",
      "    \"numFound\":0,\n",
      "    \"start\":0,\n",
      "    \"numFoundExact\":true,\n",
      "    \"docs\":[ ]\n",
      "  },\n",
      "  \"spellcheck\":{\n",
      "    \"suggestions\":[\"tesle\",{\n",
      "      \"numFound\":5,\n",
      "      \"startOffset\":0,\n",
      "      \"endOffset\":5,\n",
      "      \"origFreq\":1,\n",
      "      \"suggestion\":[{\n",
      "        \"word\":\"tesla\",\n",
      "        \"freq\":4719\n",
      "      },{\n",
      "        \"word\":\"tesls\",\n",
      "        \"freq\":2\n",
      "      },{\n",
      "        \"word\":\"teslÃ¥\",\n",
      "        \"freq\":1\n",
      "      },{\n",
      "        \"word\":\"teslas\",\n",
      "        \"freq\":465\n",
      "      },{\n",
      "        \"word\":\"title\",\n",
      "        \"freq\":74\n",
      "      }]\n",
      "    }],\n",
      "    \"correctlySpelled\":false,\n",
      "    \"collations\":[ ]\n",
      "  }\n",
      "}\n"
     ]
    },
    {
     "name": "stderr",
     "output_type": "stream",
     "text": [
      "  % Total    % Received % Xferd  Average Speed   Time    Time     Time  Current\n",
      "                                 Dload  Upload   Total   Spent    Left  Speed\n",
      "\n",
      "  0     0    0     0    0     0      0      0 --:--:-- --:--:-- --:--:--     0\n",
      "  0     0    0     0    0     0      0      0 --:--:-- --:--:-- --:--:--     0\n",
      "100   630  100   630    0     0   2855      0 --:--:-- --:--:-- --:--:--  2850\n"
     ]
    }
   ],
   "source": [
    "!curl \"http://localhost:8983/solr/search_reddit/spell?indent=true&spellcheck.q=Tesle&spellcheck=true&spellcheck.collate=true\""
   ],
   "metadata": {
    "collapsed": false,
    "ExecuteTime": {
     "end_time": "2024-04-05T10:52:21.416316Z",
     "start_time": "2024-04-05T10:52:21.159456Z"
    }
   },
   "id": "454662aa0e45d0e8",
   "execution_count": 126
  },
  {
   "cell_type": "code",
   "outputs": [],
   "source": [],
   "metadata": {
    "collapsed": false
   },
   "id": "d916ebdd7231719e"
  }
 ],
 "metadata": {
  "kernelspec": {
   "display_name": "Python 3",
   "language": "python",
   "name": "python3"
  },
  "language_info": {
   "codemirror_mode": {
    "name": "ipython",
    "version": 2
   },
   "file_extension": ".py",
   "mimetype": "text/x-python",
   "name": "python",
   "nbconvert_exporter": "python",
   "pygments_lexer": "ipython2",
   "version": "2.7.6"
  }
 },
 "nbformat": 4,
 "nbformat_minor": 5
}
