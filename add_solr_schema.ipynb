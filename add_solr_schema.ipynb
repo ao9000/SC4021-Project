{
 "cells": [
  {
   "cell_type": "markdown",
   "source": [
    "# Create Solr Core"
   ],
   "metadata": {
    "collapsed": false
   },
   "id": "89b03a361862001f"
  },
  {
   "cell_type": "code",
   "outputs": [
    {
     "name": "stdout",
     "output_type": "stream",
     "text": [
      "{\n",
      "  \"responseHeader\":{\n",
      "    \"status\":0,\n",
      "    \"QTime\":62\n",
      "  }\n",
      "}\n"
     ]
    },
    {
     "name": "stderr",
     "output_type": "stream",
     "text": [
      "  % Total    % Received % Xferd  Average Speed   Time    Time     Time  Current\n",
      "                                 Dload  Upload   Total   Spent    Left  Speed\n",
      "\n",
      "  0     0    0     0    0     0      0      0 --:--:-- --:--:-- --:--:--     0\n",
      "100    59  100    59    0     0    215      0 --:--:-- --:--:-- --:--:--   215\n"
     ]
    }
   ],
   "source": [
    "# Delete any existing core\n",
    "!curl -X GET \"http://localhost:8983/solr/admin/cores?action=UNLOAD&core=search_reddit&deleteInstanceDir=true&deleteDataDir=true\""
   ],
   "metadata": {
    "collapsed": false,
    "ExecuteTime": {
     "end_time": "2024-03-23T08:02:27.731686Z",
     "start_time": "2024-03-23T08:02:27.416036Z"
    }
   },
   "id": "f076c3ba137ec58e",
   "execution_count": 198
  },
  {
   "cell_type": "code",
   "outputs": [
    {
     "data": {
      "text/plain": "'C:\\\\solr-9.5.0-slim\\\\server\\\\solr\\\\search_reddit'"
     },
     "execution_count": 199,
     "metadata": {},
     "output_type": "execute_result"
    }
   ],
   "source": [
    "import shutil\n",
    "\n",
    "# Create directory\n",
    "shutil.copytree(\"C:\\\\solr-9.5.0-slim\\\\server\\\\solr\\\\configsets\\\\_default\", \"C:\\\\solr-9.5.0-slim\\\\server\\\\solr\\\\search_reddit\")"
   ],
   "metadata": {
    "collapsed": false,
    "ExecuteTime": {
     "end_time": "2024-03-23T08:02:27.762958Z",
     "start_time": "2024-03-23T08:02:27.732682Z"
    }
   },
   "id": "d77a05ff87aff2e9",
   "execution_count": 199
  },
  {
   "cell_type": "code",
   "outputs": [
    {
     "name": "stdout",
     "output_type": "stream",
     "text": [
      "{\n",
      "  \"responseHeader\":{\n",
      "    \"status\":0,\n",
      "    \"QTime\":151\n",
      "  },\n",
      "  \"core\":\"search_reddit\"\n",
      "}\n"
     ]
    },
    {
     "name": "stderr",
     "output_type": "stream",
     "text": [
      "  % Total    % Received % Xferd  Average Speed   Time    Time     Time  Current\n",
      "                                 Dload  Upload   Total   Spent    Left  Speed\n",
      "\n",
      "  0     0    0     0    0     0      0      0 --:--:-- --:--:-- --:--:--     0\n",
      "100    86  100    86    0     0    240      0 --:--:-- --:--:-- --:--:--   240\n"
     ]
    }
   ],
   "source": [
    "# Create solr core with default settings\n",
    "!curl -X GET \"http://localhost:8983/solr/admin/cores?action=CREATE&name=search_reddit&instanceDir=search_reddit\""
   ],
   "metadata": {
    "collapsed": false,
    "ExecuteTime": {
     "end_time": "2024-03-23T08:02:28.153779Z",
     "start_time": "2024-03-23T08:02:27.763960Z"
    }
   },
   "id": "ea4be026708eee84",
   "execution_count": 200
  },
  {
   "cell_type": "markdown",
   "source": [
    "# Solr recommends we use HTTP requests to edit schema. Because of data integrity issues"
   ],
   "metadata": {
    "collapsed": false
   },
   "id": "63a42fbef6fe8ed8"
  },
  {
   "cell_type": "code",
   "outputs": [
    {
     "name": "stdout",
     "output_type": "stream",
     "text": [
      "{\n",
      "  \"responseHeader\":{\n",
      "    \"status\":0,\n",
      "    \"QTime\":0\n",
      "  },\n",
      "  \"fields\":[{\n",
      "    \"name\":\"_nest_path_\",\n",
      "    \"type\":\"_nest_path_\"\n",
      "  },{\n",
      "    \"name\":\"_root_\",\n",
      "    \"type\":\"string\",\n",
      "    \"indexed\":true,\n",
      "    \"stored\":false,\n",
      "    \"docValues\":false\n",
      "  },{\n",
      "    \"name\":\"_text_\",\n",
      "    \"type\":\"text_general\",\n",
      "    \"multiValued\":true,\n",
      "    \"indexed\":true,\n",
      "    \"stored\":false\n",
      "  },{\n",
      "    \"name\":\"_version_\",\n",
      "    \"type\":\"plong\",\n",
      "    \"indexed\":false,\n",
      "    \"stored\":false\n",
      "  },{\n",
      "    \"name\":\"id\",\n",
      "    \"type\":\"string\",\n",
      "    \"multiValued\":false,\n",
      "    \"indexed\":true,\n",
      "    \"required\":true,\n",
      "    \"stored\":true\n",
      "  }]\n",
      "}\n"
     ]
    },
    {
     "name": "stderr",
     "output_type": "stream",
     "text": [
      "  % Total    % Received % Xferd  Average Speed   Time    Time     Time  Current\n",
      "                                 Dload  Upload   Total   Spent    Left  Speed\n",
      "\n",
      "  0     0    0     0    0     0      0      0 --:--:-- --:--:-- --:--:--     0\n",
      "  0     0    0     0    0     0      0      0 --:--:-- --:--:-- --:--:--     0\n",
      "100   574  100   574    0     0   2753      0 --:--:-- --:--:-- --:--:--  2746\n"
     ]
    }
   ],
   "source": [
    "# Get current schema, should be default/reserved fields\n",
    "!curl -X GET \"http://localhost:8983/solr/search_reddit/schema/fields\""
   ],
   "metadata": {
    "collapsed": false,
    "ExecuteTime": {
     "end_time": "2024-03-23T08:02:28.392382Z",
     "start_time": "2024-03-23T08:02:28.154782Z"
    }
   },
   "id": "b17e8c3257763d3",
   "execution_count": 201
  },
  {
   "cell_type": "markdown",
   "source": [
    "# Add custom schema & index\n",
    "\n",
    "https://solr.apache.org/guide/6_6/field-properties-by-use-case.html#field-properties-by-use-case\n",
    "https://solr.apache.org/guide/6_6/field-type-definitions-and-properties.html#field-type-definitions-and-properties"
   ],
   "metadata": {
    "collapsed": false
   },
   "id": "d4aeb952e90cba9d"
  },
  {
   "cell_type": "markdown",
   "source": [
    "## With only basic cleaning done beforehand, the rest have to be done in Solr. Therefore we define a custom field type for text\n",
    "\n",
    "- https://solr.apache.org/guide/6_6/filter-descriptions.html\n",
    "\n",
    "text_general for reference\n",
    "```\n",
    "</fieldType>\n",
    "  <fieldType name=\"text_general\" class=\"solr.TextField\" positionIncrementGap=\"100\" multiValued=\"true\">\n",
    "    <analyzer type=\"index\">\n",
    "      <tokenizer name=\"standard\"/>\n",
    "      <filter words=\"stopwords.txt\" name=\"stop\" ignoreCase=\"true\"/>\n",
    "      <filter name=\"lowercase\"/>\n",
    "    </analyzer>\n",
    "    <analyzer type=\"query\">\n",
    "      <tokenizer name=\"standard\"/>\n",
    "      <filter words=\"stopwords.txt\" name=\"stop\" ignoreCase=\"true\"/>\n",
    "      <filter ignoreCase=\"true\" synonyms=\"synonyms.txt\" name=\"synonymGraph\" expand=\"true\"/>\n",
    "      <filter name=\"lowercase\"/>\n",
    "    </analyzer>\n",
    "</fieldType>\n",
    "```\n",
    "\n",
    "text_reddit custom field type\n",
    "- Query and index filters do not need to be the same\n",
    "- Synonyms are used to expand search results for query terms only\n",
    "- NGram filter is used to create n-grams for index terms only\n",
    "- The rest can be the same as text_general\n",
    "```\n",
    "  <fieldType name=\"text_reddit\" class=\"solr.TextField\" positionIncrementGap=\"100\" multiValued=\"true\">\n",
    "    <analyzer type=\"index\">\n",
    "      <tokenizer class=\"solr.WhitespaceTokenizerFactory\"/>\n",
    "      <filter class=\"solr.StopFilterFactory\" words=\"stopwords.txt\" ignoreCase=\"true\"/>\n",
    "      <filter class=\"solr.LowerCaseFilterFactory\"/>\n",
    "      <filter class=\"solr.SnowballPorterFilterFactory\" language=\"English\"/>\n",
    "      <filter class=\"solr.NGramFilterFactory\" maxGramSize=\"20\" minGramSize=\"2\"/>\n",
    "    </analyzer>\n",
    "    <analyzer type=\"query\">\n",
    "      <tokenizer class=\"solr.WhitespaceTokenizerFactory\"/>\n",
    "      <filter class=\"solr.StopFilterFactory\" words=\"stopwords.txt\" ignoreCase=\"true\"/>\n",
    "      <filter class=\"solr.SynonymGraphFilterFactory\" ignoreCase=\"true\" synonyms=\"synonyms.txt\" expand=\"true\"/>\n",
    "      <filter class=\"solr.LowerCaseFilterFactory\"/>\n",
    "      <filter class=\"solr.SnowballPorterFilterFactory\" language=\"English\"/>\n",
    "    </analyzer>\n",
    "```"
   ],
   "metadata": {
    "collapsed": false
   },
   "id": "8f34e9690f25545d"
  },
  {
   "cell_type": "code",
   "outputs": [
    {
     "name": "stdout",
     "output_type": "stream",
     "text": [
      "{\n",
      "  \"responseHeader\":{\n",
      "    \"status\":0,\n",
      "    \"QTime\":97\n",
      "  }\n",
      "}\n"
     ]
    },
    {
     "name": "stderr",
     "output_type": "stream",
     "text": [
      "  % Total    % Received % Xferd  Average Speed   Time    Time     Time  Current\n",
      "                                 Dload  Upload   Total   Spent    Left  Speed\n",
      "\n",
      "  0     0    0     0    0     0      0      0 --:--:-- --:--:-- --:--:--     0\n",
      "100   781  100    59  100   722    190   2332 --:--:-- --:--:-- --:--:--  2527\n"
     ]
    }
   ],
   "source": [
    "# Tried with General tokenizer but didnt work\n",
    "# !curl -X POST -H \"Content-type:application/json\" --data-binary \"{\"add-field-type\":{\"name\":\"text_reddit\",\"class\":\"solr.TextField\",\"positionIncrementGap\":\"100\",\"multiValued\":true,\"indexAnalyzer\":{\"tokenizer\":{\"class\":\"solr.StandardTokenizerFactory\"},\"filters\":[{\"class\":\"solr.StopFilterFactory\",\"ignoreCase\":true,\"words\":\"stopwords.txt\"},{\"class\":\"solr.LowerCaseFilterFactory\"},{\"class\":\"solr.SnowballPorterFilterFactory\",\"language\":\"English\"},{\"class\":\"solr.NGramFilterFactory\",\"minGramSize\":2,\"maxGramSize\":20}]},\"queryAnalyzer\":{\"tokenizer\":{\"class\":\"solr.StandardTokenizerFactory\"},\"filters\":[{\"class\":\"solr.StopFilterFactory\",\"ignoreCase\":true,\"words\":\"stopwords.txt\"},{\"class\":\"solr.SynonymGraphFilterFactory\",\"ignoreCase\":true,\"synonyms\":\"synonyms.txt\",\"expand\":true},{\"class\":\"solr.LowerCaseFilterFactory\"},{\"class\":\"solr.SnowballPorterFilterFactory\",\"language\":\"English\"}]}}}\" http://localhost:8983/api/cores/search_reddit/schema\n",
    "\n",
    "# Try with Whitespace tokenizer\n",
    "!curl -X POST -H \"Content-type:application/json\" --data-binary \"{\"add-field-type\":{\"name\":\"text_reddit\",\"class\":\"solr.TextField\",\"positionIncrementGap\":\"100\",\"multiValued\":true,\"indexAnalyzer\":{\"tokenizer\":{\"class\":\"solr.WhitespaceTokenizerFactory\"},\"filters\":[{\"class\":\"solr.StopFilterFactory\",\"ignoreCase\":true,\"words\":\"stopwords.txt\"},{\"class\":\"solr.LowerCaseFilterFactory\"},{\"class\":\"solr.SnowballPorterFilterFactory\",\"language\":\"English\"},{\"class\":\"solr.NGramFilterFactory\",\"minGramSize\":2,\"maxGramSize\":20}]},\"queryAnalyzer\":{\"tokenizer\":{\"class\":\"solr.WhitespaceTokenizerFactory\"},\"filters\":[{\"class\":\"solr.StopFilterFactory\",\"ignoreCase\":true,\"words\":\"stopwords.txt\"},{\"class\":\"solr.SynonymGraphFilterFactory\",\"ignoreCase\":true,\"synonyms\":\"synonyms.txt\",\"expand\":true},{\"class\":\"solr.LowerCaseFilterFactory\"},{\"class\":\"solr.SnowballPorterFilterFactory\",\"language\":\"English\"}]}}}\" http://localhost:8983/api/cores/search_reddit/schema"
   ],
   "metadata": {
    "collapsed": false,
    "ExecuteTime": {
     "end_time": "2024-03-23T08:02:28.730999Z",
     "start_time": "2024-03-23T08:02:28.393384Z"
    }
   },
   "id": "cd611ba23e90e0b0",
   "execution_count": 202
  },
  {
   "cell_type": "markdown",
   "source": [
    "## Field types explained\n",
    "- indexed -> If true, the value of the field can be used in queries to retrieve matching documents.\n",
    "- stored -> If true, the actual value of the field can be retrieved by queries.\n",
    "\n",
    "Our search engine primarily searches by comment & post texts\n",
    "\n",
    "```\n",
    "<field name=\"_nest_path_\" type=\"_nest_path_\"/>\n",
    "<field name=\"_root_\" type=\"string\" indexed=\"true\" stored=\"false\" docValues=\"false\"/>\n",
    "<field name=\"_text_\" type=\"text_general\" multiValued=\"true\" indexed=\"true\" stored=\"false\"/>\n",
    "<field name=\"_version_\" type=\"plong\" indexed=\"false\" stored=\"false\"/>\n",
    "<field name=\"author\" type=\"text_general\"/>\n",
    "<field name=\"created_utc\" type=\"pdates\"/>\n",
    "<field name=\"edited\" type=\"pdates\"/>\n",
    "<field name=\"id\" type=\"string\" multiValued=\"false\" indexed=\"true\" required=\"true\" stored=\"true\"/>\n",
    "<field name=\"num_comments\" type=\"pdoubles\"/>\n",
    "<field name=\"permalink\" type=\"text_general\"/>\n",
    "<field name=\"post_id\" type=\"text_general\"/>\n",
    "<field name=\"score\" type=\"plongs\"/>\n",
    "<field name=\"subreddit_name\" type=\"text_general\"/>\n",
    "<field name=\"text\" type=\"text_general\"/>\n",
    "<field name=\"type\" type=\"text_general\"/>\n",
    "<field name=\"upvote_ratio\" type=\"pdoubles\"/>\n",
    "<field name=\"url\" type=\"text_general\"/>\n",
    "```"
   ],
   "metadata": {
    "collapsed": false
   },
   "id": "9e762b19e1b35c47"
  },
  {
   "cell_type": "code",
   "outputs": [
    {
     "name": "stdout",
     "output_type": "stream",
     "text": [
      "{\n",
      "  \"responseHeader\":{\n",
      "    \"status\":0,\n",
      "    \"QTime\":88\n",
      "  }\n",
      "}\n"
     ]
    },
    {
     "name": "stderr",
     "output_type": "stream",
     "text": [
      "  % Total    % Received % Xferd  Average Speed   Time    Time     Time  Current\n",
      "                                 Dload  Upload   Total   Spent    Left  Speed\n",
      "\n",
      "  0     0    0     0    0     0      0      0 --:--:-- --:--:-- --:--:--     0\n",
      "100   171  100    59  100   112    190    360 --:--:-- --:--:-- --:--:--   551\n"
     ]
    },
    {
     "name": "stdout",
     "output_type": "stream",
     "text": [
      "{\n",
      "  \"responseHeader\":{\n",
      "    \"status\":0,\n",
      "    \"QTime\":84\n",
      "  }\n",
      "}\n"
     ]
    },
    {
     "name": "stderr",
     "output_type": "stream",
     "text": [
      "  % Total    % Received % Xferd  Average Speed   Time    Time     Time  Current\n",
      "                                 Dload  Upload   Total   Spent    Left  Speed\n",
      "\n",
      "  0     0    0     0    0     0      0      0 --:--:-- --:--:-- --:--:--     0\n",
      "100   138  100    59  100    79    193    259 --:--:-- --:--:-- --:--:--   452\n",
      "100   138  100    59  100    79    193    259 --:--:-- --:--:-- --:--:--   452\n"
     ]
    },
    {
     "name": "stdout",
     "output_type": "stream",
     "text": [
      "{\n",
      "  \"responseHeader\":{\n",
      "    \"status\":0,\n",
      "    \"QTime\":89\n",
      "  }\n",
      "}\n"
     ]
    },
    {
     "name": "stderr",
     "output_type": "stream",
     "text": [
      "  % Total    % Received % Xferd  Average Speed   Time    Time     Time  Current\n",
      "                                 Dload  Upload   Total   Spent    Left  Speed\n",
      "\n",
      "  0     0    0     0    0     0      0      0 --:--:-- --:--:-- --:--:--     0\n",
      "100   176  100    59  100   117    192    381 --:--:-- --:--:-- --:--:--   575\n"
     ]
    },
    {
     "name": "stdout",
     "output_type": "stream",
     "text": [
      "{\n",
      "  \"responseHeader\":{\n",
      "    \"status\":0,\n",
      "    \"QTime\":86\n",
      "  }\n",
      "}\n"
     ]
    },
    {
     "name": "stderr",
     "output_type": "stream",
     "text": [
      "  % Total    % Received % Xferd  Average Speed   Time    Time     Time  Current\n",
      "                                 Dload  Upload   Total   Spent    Left  Speed\n",
      "\n",
      "  0     0    0     0    0     0      0      0 --:--:-- --:--:-- --:--:--     0\n",
      "100   121  100    59  100    62    192    202 --:--:-- --:--:-- --:--:--   396\n"
     ]
    },
    {
     "name": "stdout",
     "output_type": "stream",
     "text": [
      "{\n",
      "  \"responseHeader\":{\n",
      "    \"status\":400,\n",
      "    \"QTime\":0\n",
      "  },\n",
      "  \"error\":{\n",
      "    \"metadata\":[\"error-class\",\"org.apache.solr.api.ApiBag$ExceptionWithErrObject\",\"root-error-class\",\"org.apache.solr.api.ApiBag$ExceptionWithErrObject\"],\n",
      "    \"details\":[{\n",
      "      \"errorMessages\":[\"Field 'id' already exists.\\n\"],\n",
      "      \"add-field\":{\n",
      "        \"name\":\"id\",\n",
      "        \"type\":\"string\",\n",
      "        \"stored\":true,\n",
      "        \"indexed\":true,\n",
      "        \"multiValued\":false,\n",
      "        \"required\":true\n",
      "      }\n",
      "    }],\n",
      "    \"msg\":\"error processing commands, errors: [{errorMessages=[Field 'id' already exists.\\n], add-field={name=id, type=string, stored=true, indexed=true, multiValued=false, required=true}}], \",\n",
      "    \"code\":400\n",
      "  }\n",
      "}\n"
     ]
    },
    {
     "name": "stderr",
     "output_type": "stream",
     "text": [
      "  % Total    % Received % Xferd  Average Speed   Time    Time     Time  Current\n",
      "                                 Dload  Upload   Total   Spent    Left  Speed\n",
      "\n",
      "  0     0    0     0    0     0      0      0 --:--:-- --:--:-- --:--:--     0\n",
      "100   786  100   696  100    90   3247    419 --:--:-- --:--:-- --:--:--  3672\n"
     ]
    },
    {
     "name": "stdout",
     "output_type": "stream",
     "text": [
      "{\n",
      "  \"responseHeader\":{\n",
      "    \"status\":0,\n",
      "    \"QTime\":90\n",
      "  }\n",
      "}\n"
     ]
    },
    {
     "name": "stderr",
     "output_type": "stream",
     "text": [
      "  % Total    % Received % Xferd  Average Speed   Time    Time     Time  Current\n",
      "                                 Dload  Upload   Total   Spent    Left  Speed\n",
      "\n",
      "  0     0    0     0    0     0      0      0 --:--:-- --:--:-- --:--:--     0\n",
      "100   179  100    59  100   120    189    385 --:--:-- --:--:-- --:--:--   575\n"
     ]
    },
    {
     "name": "stdout",
     "output_type": "stream",
     "text": [
      "{\n",
      "  \"responseHeader\":{\n",
      "    \"status\":0,\n",
      "    \"QTime\":83\n",
      "  }\n",
      "}\n"
     ]
    },
    {
     "name": "stderr",
     "output_type": "stream",
     "text": [
      "  % Total    % Received % Xferd  Average Speed   Time    Time     Time  Current\n",
      "                                 Dload  Upload   Total   Spent    Left  Speed\n",
      "\n",
      "  0     0    0     0    0     0      0      0 --:--:-- --:--:-- --:--:--     0\n",
      "100   129  100    59  100    70    192    228 --:--:-- --:--:-- --:--:--   422\n"
     ]
    },
    {
     "name": "stdout",
     "output_type": "stream",
     "text": [
      "{\n",
      "  \"responseHeader\":{\n",
      "    \"status\":0,\n",
      "    \"QTime\":89\n",
      "  }\n",
      "}\n"
     ]
    },
    {
     "name": "stderr",
     "output_type": "stream",
     "text": [
      "  % Total    % Received % Xferd  Average Speed   Time    Time     Time  Current\n",
      "                                 Dload  Upload   Total   Spent    Left  Speed\n",
      "\n",
      "  0     0    0     0    0     0      0      0 --:--:-- --:--:-- --:--:--     0\n",
      "100   169  100    59  100   110    197    368 --:--:-- --:--:-- --:--:--   567\n"
     ]
    },
    {
     "name": "stdout",
     "output_type": "stream",
     "text": [
      "{\n",
      "  \"responseHeader\":{\n",
      "    \"status\":0,\n",
      "    \"QTime\":87\n",
      "  }\n",
      "}\n"
     ]
    },
    {
     "name": "stderr",
     "output_type": "stream",
     "text": [
      "  % Total    % Received % Xferd  Average Speed   Time    Time     Time  Current\n",
      "                                 Dload  Upload   Total   Spent    Left  Speed\n",
      "\n",
      "  0     0    0     0    0     0      0      0 --:--:-- --:--:-- --:--:--     0\n",
      "  0     0    0     0    0     0      0      0 --:--:-- --:--:-- --:--:--     0\n",
      "100   133  100    59  100    74    191    239 --:--:-- --:--:-- --:--:--   430\n"
     ]
    },
    {
     "name": "stdout",
     "output_type": "stream",
     "text": [
      "{\n",
      "  \"responseHeader\":{\n",
      "    \"status\":0,\n",
      "    \"QTime\":82\n",
      "  }\n",
      "}\n"
     ]
    },
    {
     "name": "stderr",
     "output_type": "stream",
     "text": [
      "  % Total    % Received % Xferd  Average Speed   Time    Time     Time  Current\n",
      "                                 Dload  Upload   Total   Spent    Left  Speed\n",
      "\n",
      "  0     0    0     0    0     0      0      0 --:--:-- --:--:-- --:--:--     0\n",
      "100   179  100    59  100   120    194    396 --:--:-- --:--:-- --:--:--   592\n"
     ]
    },
    {
     "name": "stdout",
     "output_type": "stream",
     "text": [
      "{\n",
      "  \"responseHeader\":{\n",
      "    \"status\":0,\n",
      "    \"QTime\":82\n",
      "  }\n",
      "}\n"
     ]
    },
    {
     "name": "stderr",
     "output_type": "stream",
     "text": [
      "  % Total    % Received % Xferd  Average Speed   Time    Time     Time  Current\n",
      "                                 Dload  Upload   Total   Spent    Left  Speed\n",
      "\n",
      "  0     0    0     0    0     0      0      0 --:--:-- --:--:-- --:--:--     0\n",
      "100   123  100    59  100    64    201    218 --:--:-- --:--:-- --:--:--   421\n"
     ]
    },
    {
     "name": "stdout",
     "output_type": "stream",
     "text": [
      "{\n",
      "  \"responseHeader\":{\n",
      "    \"status\":0,\n",
      "    \"QTime\":95\n",
      "  }\n",
      "}\n"
     ]
    },
    {
     "name": "stderr",
     "output_type": "stream",
     "text": [
      "  % Total    % Received % Xferd  Average Speed   Time    Time     Time  Current\n",
      "                                 Dload  Upload   Total   Spent    Left  Speed\n",
      "\n",
      "  0     0    0     0    0     0      0      0 --:--:-- --:--:-- --:--:--     0\n",
      "  0     0    0     0    0     0      0      0 --:--:-- --:--:-- --:--:--     0\n",
      "100   123  100    59  100    64    187    203 --:--:-- --:--:-- --:--:--   390\n"
     ]
    },
    {
     "name": "stdout",
     "output_type": "stream",
     "text": [
      "{\n",
      "  \"responseHeader\":{\n",
      "    \"status\":0,\n",
      "    \"QTime\":84\n",
      "  }\n",
      "}\n"
     ]
    },
    {
     "name": "stderr",
     "output_type": "stream",
     "text": [
      "  % Total    % Received % Xferd  Average Speed   Time    Time     Time  Current\n",
      "                                 Dload  Upload   Total   Spent    Left  Speed\n",
      "\n",
      "  0     0    0     0    0     0      0      0 --:--:-- --:--:-- --:--:--     0\n",
      "100   126  100    59  100    67    200    227 --:--:-- --:--:-- --:--:--   428\n"
     ]
    }
   ],
   "source": [
    "# Author, retrieved, sorted by\n",
    "!curl -X POST -H \"Content-type:application/json\" --data-binary \"{\"add-field\":{\"name\":\"author\",\"type\":\"string\",\"stored\":true,\"indexed\":true, \"multiValued\":false, \"omitNorms\":true,\"docValues\":true}}\" http://localhost:8983/api/cores/search_reddit/schema\n",
    "\n",
    "# Text, searched and retrieved\n",
    "!curl -X POST -H \"Content-type:application/json\" --data-binary \"{\"add-field\":{\"name\":\"text\",\"type\":\"text_reddit\",\"stored\":true,\"indexed\":true,\"required\":true}}\" http://localhost:8983/api/cores/search_reddit/schema\n",
    "\n",
    "# created_utc, retrieved, sorted by\n",
    "!curl -X POST -H \"Content-type:application/json\" --data-binary \"{\"add-field\":{\"name\":\"created_utc\",\"type\":\"pdates\",\"stored\":true,\"indexed\":true, \"multiValued\":false, \"omitNorms\":true,\"docValues\":true}}\" http://localhost:8983/api/cores/search_reddit/schema\n",
    "\n",
    "# edited, retrieved\n",
    "!curl -X POST -H \"Content-type:application/json\" --data-binary \"{\"add-field\":{\"name\":\"edited\",\"type\":\"pdates\",\"stored\":true,\"indexed\":true}}\" http://localhost:8983/api/cores/search_reddit/schema\n",
    "\n",
    "# id, retrieved, unique key\n",
    "!curl -X POST -H \"Content-type:application/json\" --data-binary \"{\"add-field\":{\"name\":\"id\",\"type\":\"string\",\"stored\":true,\"indexed\":true,\"multiValued\":false,\"required\":true}}\" http://localhost:8983/api/cores/search_reddit/schema\n",
    "\n",
    "# num_comments, retrieved, sorted by\n",
    "!curl -X POST -H \"Content-type:application/json\" --data-binary \"{\"add-field\":{\"name\":\"num_comments\",\"type\":\"pdoubles\",\"stored\":true,\"indexed\":true, \"multiValued\":false, \"omitNorms\":true,\"docValues\":true}}\" http://localhost:8983/api/cores/search_reddit/schema\n",
    "\n",
    "# permalink, retrieved\n",
    "!curl -X POST -H \"Content-type:application/json\" --data-binary \"{\"add-field\":{\"name\":\"permalink\",\"type\":\"string\",\"stored\":true,\"multiValued\":false}}\" http://localhost:8983/api/cores/search_reddit/schema\n",
    "\n",
    "# score, retrieved, sorted by\n",
    "!curl -X POST -H \"Content-type:application/json\" --data-binary \"{\"add-field\":{\"name\":\"score\",\"type\":\"plong\",\"stored\":true,\"indexed\":true, \"multiValued\":false, \"omitNorms\":true,\"docValues\":true}}\" http://localhost:8983/api/cores/search_reddit/schema\n",
    "\n",
    "# subreddit_name, retrieved\n",
    "!curl -X POST -H \"Content-type:application/json\" --data-binary \"{\"add-field\":{\"name\":\"subreddit_name\",\"type\":\"string\",\"stored\":true,\"multiValued\":true}}\" http://localhost:8983/api/cores/search_reddit/schema\n",
    "\n",
    "# upvote_ratio, retrieved, sorted by\n",
    "!curl -X POST -H \"Content-type:application/json\" --data-binary \"{\"add-field\":{\"name\":\"upvote_ratio\",\"type\":\"pdoubles\",\"stored\":true,\"indexed\":true, \"multiValued\":false, \"omitNorms\":true,\"docValues\":true}}\" http://localhost:8983/api/cores/search_reddit/schema\n",
    "\n",
    "# url, retrieved\n",
    "!curl -X POST -H \"Content-type:application/json\" --data-binary \"{\"add-field\":{\"name\":\"url\",\"type\":\"string\",\"stored\":true,\"multiValued\":false}}\" http://localhost:8983/api/cores/search_reddit/schema\n",
    "\n",
    "# type, retrieved, have duplicates\n",
    "!curl -X POST -H \"Content-type:application/json\" --data-binary \"{\"add-field\":{\"name\":\"type\",\"type\":\"string\",\"stored\":true,\"multiValued\":true}}\" http://localhost:8983/api/cores/search_reddit/schema\n",
    "\n",
    "# post_id, retrieved, have duplicates\n",
    "!curl -X POST -H \"Content-type:application/json\" --data-binary \"{\"add-field\":{\"name\":\"post_id\",\"type\":\"string\",\"stored\":true,\"multiValued\":true}}\" http://localhost:8983/api/cores/search_reddit/schema"
   ],
   "metadata": {
    "collapsed": false,
    "ExecuteTime": {
     "end_time": "2024-03-23T08:02:32.942941Z",
     "start_time": "2024-03-23T08:02:28.732002Z"
    }
   },
   "id": "4f506cf97ce563cc",
   "execution_count": 203
  },
  {
   "cell_type": "code",
   "outputs": [
    {
     "name": "stdout",
     "output_type": "stream",
     "text": [
      "{\n",
      "  \"responseHeader\":{\n",
      "    \"status\":0,\n",
      "    \"QTime\":0\n",
      "  },\n",
      "  \"fields\":[{\n",
      "    \"name\":\"_nest_path_\",\n",
      "    \"type\":\"_nest_path_\"\n",
      "  },{\n",
      "    \"name\":\"_root_\",\n",
      "    \"type\":\"string\",\n",
      "    \"indexed\":true,\n",
      "    \"stored\":false,\n",
      "    \"docValues\":false\n",
      "  },{\n",
      "    \"name\":\"_text_\",\n",
      "    \"type\":\"text_general\",\n",
      "    \"multiValued\":true,\n",
      "    \"indexed\":true,\n",
      "    \"stored\":false\n",
      "  },{\n",
      "    \"name\":\"_version_\",\n",
      "    \"type\":\"plong\",\n",
      "    \"indexed\":false,\n",
      "    \"stored\":false\n",
      "  },{\n",
      "    \"name\":\"author\",\n",
      "    \"type\":\"string\",\n",
      "    \"omitNorms\":true,\n",
      "    \"docValues\":true,\n",
      "    \"multiValued\":false,\n",
      "    \"indexed\":true,\n",
      "    \"stored\":true\n",
      "  },{\n",
      "    \"name\":\"created_utc\",\n",
      "    \"type\":\"pdates\",\n",
      "    \"omitNorms\":true,\n",
      "    \"docValues\":true,\n",
      "    \"multiValued\":false,\n",
      "    \"indexed\":true,\n",
      "    \"stored\":true\n",
      "  },{\n",
      "    \"name\":\"edited\",\n",
      "    \"type\":\"pdates\",\n",
      "    \"indexed\":true,\n",
      "    \"stored\":true\n",
      "  },{\n",
      "    \"name\":\"id\",\n",
      "    \"type\":\"string\",\n",
      "    \"multiValued\":false,\n",
      "    \"indexed\":true,\n",
      "    \"required\":true,\n",
      "    \"stored\":true\n",
      "  },{\n",
      "    \"name\":\"num_comments\",\n",
      "    \"type\":\"pdoubles\",\n",
      "    \"omitNorms\":true,\n",
      "    \"docValues\":true,\n",
      "    \"multiValued\":false,\n",
      "    \"indexed\":true,\n",
      "    \"stored\":true\n",
      "  },{\n",
      "    \"name\":\"permalink\",\n",
      "    \"type\":\"string\",\n",
      "    \"multiValued\":false,\n",
      "    \"stored\":true\n",
      "  },{\n",
      "    \"name\":\"post_id\",\n",
      "    \"type\":\"string\",\n",
      "    \"multiValued\":true,\n",
      "    \"stored\":true\n",
      "  },{\n",
      "    \"name\":\"score\",\n",
      "    \"type\":\"plong\",\n",
      "    \"omitNorms\":true,\n",
      "    \"docValues\":true,\n",
      "    \"multiValued\":false,\n",
      "    \"indexed\":true,\n",
      "    \"stored\":true\n",
      "  },{\n",
      "    \"name\":\"subreddit_name\",\n",
      "    \"type\":\"string\",\n",
      "    \"multiValued\":true,\n",
      "    \"stored\":true\n",
      "  },{\n",
      "    \"name\":\"text\",\n",
      "    \"type\":\"text_reddit\",\n",
      "    \"indexed\":true,\n",
      "    \"required\":true,\n",
      "    \"stored\":true\n",
      "  },{\n",
      "    \"name\":\"type\",\n",
      "    \"type\":\"string\",\n",
      "    \"multiValued\":true,\n",
      "    \"stored\":true\n",
      "  },{\n",
      "    \"name\":\"upvote_ratio\",\n",
      "    \"type\":\"pdoubles\",\n",
      "    \"omitNorms\":true,\n",
      "    \"docValues\":true,\n",
      "    \"multiValued\":false,\n",
      "    \"indexed\":true,\n",
      "    \"stored\":true\n",
      "  },{\n",
      "    \"name\":\"url\",\n",
      "    \"type\":\"string\",\n",
      "    \"multiValued\":false,\n",
      "    \"stored\":true\n",
      "  }]\n",
      "}\n"
     ]
    },
    {
     "name": "stderr",
     "output_type": "stream",
     "text": [
      "  % Total    % Received % Xferd  Average Speed   Time    Time     Time  Current\n",
      "                                 Dload  Upload   Total   Spent    Left  Speed\n",
      "\n",
      "  0     0    0     0    0     0      0      0 --:--:-- --:--:-- --:--:--     0\n",
      "100  2023  100  2023    0     0   9515      0 --:--:-- --:--:-- --:--:--  9542\n"
     ]
    }
   ],
   "source": [
    "# Get current schema, should be default/reserved fields\n",
    "!curl -X GET \"http://localhost:8983/solr/search_reddit/schema/fields\""
   ],
   "metadata": {
    "collapsed": false,
    "ExecuteTime": {
     "end_time": "2024-03-23T08:02:33.181606Z",
     "start_time": "2024-03-23T08:02:32.943942Z"
    }
   },
   "id": "68efd4c2712b4755",
   "execution_count": 204
  },
  {
   "cell_type": "markdown",
   "source": [
    "# Ingest data"
   ],
   "metadata": {
    "collapsed": false
   },
   "id": "2b76fbe89421d19"
  },
  {
   "cell_type": "code",
   "outputs": [],
   "source": [
    "# add document to solr\n",
    "!curl \"http://localhost:8983/solr/search_reddit/update?commit=true\" --data-binary @data/cleaned_combined_data.csv -H \"Content-type:application/csv\""
   ],
   "metadata": {
    "collapsed": false,
    "is_executing": true,
    "ExecuteTime": {
     "start_time": "2024-03-23T08:02:33.182108Z"
    }
   },
   "id": "f475d8ff0be7ebec",
   "execution_count": null
  },
  {
   "cell_type": "markdown",
   "source": [
    "# Test query data\n",
    "\n",
    "- https://solr.apache.org/guide/6_6/the-standard-query-parser.html"
   ],
   "metadata": {
    "collapsed": false
   },
   "id": "239e6c7a6bae26d6"
  },
  {
   "cell_type": "markdown",
   "source": [
    "## Select with keyword search"
   ],
   "metadata": {
    "collapsed": false
   },
   "id": "51f266ce47295f"
  },
  {
   "cell_type": "code",
   "outputs": [],
   "source": [
    "!curl -X GET http://localhost:8983/solr/search_reddit/query -d \"q=text:congrats*&rows=10\""
   ],
   "metadata": {
    "collapsed": false,
    "is_executing": true
   },
   "id": "2a3ae0e55f5445ae",
   "execution_count": null
  },
  {
   "cell_type": "markdown",
   "source": [
    "## Search with timeframe range filter"
   ],
   "metadata": {
    "collapsed": false
   },
   "id": "24cc3e08c5ae2a7d"
  },
  {
   "cell_type": "code",
   "outputs": [],
   "source": [
    "!curl -X GET http://localhost:8983/solr/search_reddit/query -d \"q=created_utc:[2017-01-01T00:00:00Z TO 2018-01-31T23:59:59Z]&rows=10\""
   ],
   "metadata": {
    "collapsed": false,
    "is_executing": true
   },
   "id": "d9ba2d9c16a35ef4",
   "execution_count": null
  },
  {
   "cell_type": "markdown",
   "source": [
    "## Combination of conditions"
   ],
   "metadata": {
    "collapsed": false
   },
   "id": "dcd0dc68a7936cfc"
  },
  {
   "cell_type": "code",
   "outputs": [],
   "source": [
    "!curl -X GET http://localhost:8983/solr/search_reddit/query -d \"q=text:congrats* AND created_utc:[2017-01-01T00:00:00Z TO 2018-01-31T23:59:59Z]&rows=10\""
   ],
   "metadata": {
    "collapsed": false,
    "is_executing": true
   },
   "id": "a860d4a9866df725",
   "execution_count": null
  },
  {
   "cell_type": "code",
   "outputs": [],
   "source": [],
   "metadata": {
    "collapsed": false,
    "is_executing": true
   },
   "id": "454662aa0e45d0e8"
  }
 ],
 "metadata": {
  "kernelspec": {
   "display_name": "Python 3",
   "language": "python",
   "name": "python3"
  },
  "language_info": {
   "codemirror_mode": {
    "name": "ipython",
    "version": 2
   },
   "file_extension": ".py",
   "mimetype": "text/x-python",
   "name": "python",
   "nbconvert_exporter": "python",
   "pygments_lexer": "ipython2",
   "version": "2.7.6"
  }
 },
 "nbformat": 4,
 "nbformat_minor": 5
}
