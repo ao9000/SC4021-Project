{
 "cells": [
  {
   "cell_type": "markdown",
   "source": [
    "# PART 1: Data Scraping\n",
    "## Connect to Reddit API"
   ],
   "metadata": {
    "collapsed": false
   },
   "id": "88d9141fc95057e2"
  },
  {
   "cell_type": "code",
   "outputs": [],
   "source": [
    "import praw\n",
    "\n",
    "reddit = praw.Reddit(\n",
    "    client_id=\"xn1EzLWHVbp2ZOuTiNYk-w\",\n",
    "    client_secret=\"rSRccp3N37yjKuQQWcPxW_SKSXe0SA\",\n",
    "    user_agent=\"<NanyangTechnologicalUniversity>-<information retrieval project>:<v1> (by /u/CitronResponsible811)\",\n",
    "    username=\"CitronResponsible811\",\n",
    "    password=\"Password123\"\n",
    ")"
   ],
   "metadata": {
    "ExecuteTime": {
     "end_time": "2024-03-21T04:20:23.067248Z",
     "start_time": "2024-03-21T04:20:22.094381Z"
    }
   },
   "id": "abf4df67-5dbe-4197-8716-63a80d0b3b8d",
   "execution_count": 1
  },
  {
   "cell_type": "code",
   "outputs": [
    {
     "data": {
      "text/plain": "Redditor(name='CitronResponsible811')"
     },
     "execution_count": 2,
     "metadata": {},
     "output_type": "execute_result"
    }
   ],
   "source": [
    "# Check if have read & write access\n",
    "# Read access -> for requesting post & comments information\n",
    "# Write access -> for requesting subreddit moderator list\n",
    "reddit.user.me()"
   ],
   "metadata": {
    "collapsed": false,
    "ExecuteTime": {
     "end_time": "2024-03-21T04:20:24.862825Z",
     "start_time": "2024-03-21T04:20:23.069245Z"
    }
   },
   "id": "800df2847bd509da",
   "execution_count": 2
  },
  {
   "cell_type": "markdown",
   "source": [
    "## Documentation about reddit API crawling library\n",
    "- Post docs: https://praw.readthedocs.io/en/stable/code_overview/models/submission.html#submission\n",
    "- Comments docs: https://praw.readthedocs.io/en/stable/code_overview/models/comment.html\n",
    "\n",
    "## Some errors encountered\n",
    "- instances of the MoreComments class, which represent \"load more comments\" links on the Reddit website."
   ],
   "metadata": {
    "collapsed": false
   },
   "id": "d073aa2ffe3d1b6d"
  },
  {
   "cell_type": "code",
   "outputs": [],
   "source": [
    "import csv\n",
    "import emoji\n",
    "import time\n",
    "import os\n",
    "from praw.models import MoreComments\n",
    "\n",
    "data_dir = 'data'\n",
    "\n",
    "def write_headers(subreddit_name):\n",
    "    # Write header first\n",
    "    with open(f'{os.path.join(data_dir, subreddit_name)}-posts.csv', 'w', newline='', encoding='utf-8') as f:\n",
    "        writer = csv.writer(f)\n",
    "        writer.writerow([\n",
    "            'author',\n",
    "            'author_flair_text',\n",
    "            'clicked',\n",
    "            'created_utc',\n",
    "            'distinguished',\n",
    "            'edited',\n",
    "            'id',\n",
    "            'is_original_content',\n",
    "            'is_self',\n",
    "            'link_flair_text',\n",
    "            'locked',\n",
    "            'name',\n",
    "            'num_comments',\n",
    "            'over_18',\n",
    "            'permalink',\n",
    "            'saved',\n",
    "            'score',\n",
    "            'selftext',\n",
    "            'spoiler',\n",
    "            'stickied',\n",
    "            'subreddit_name',\n",
    "            'title',\n",
    "            'upvote_ratio',\n",
    "            'url'\n",
    "        ])\n",
    "        \n",
    "    with open(f'{os.path.join(data_dir, subreddit_name)}-comments.csv', 'w', newline='', encoding='utf-8') as f:\n",
    "        writer = csv.writer(f)\n",
    "        writer.writerow([\n",
    "            'author',\n",
    "            'body',\n",
    "            'body_html',\n",
    "            'created_utc',\n",
    "            'distinguished',\n",
    "            'edited',\n",
    "            'id',\n",
    "            'is_submitter',\n",
    "            'link_id',\n",
    "            'parent_id',\n",
    "            'permalink',\n",
    "            'saved',\n",
    "            'score',\n",
    "            'stickied',\n",
    "            'subreddit_name',\n",
    "            'subreddit_id'\n",
    "        ])"
   ],
   "metadata": {
    "collapsed": false,
    "ExecuteTime": {
     "end_time": "2024-03-21T04:20:24.899900Z",
     "start_time": "2024-03-21T04:20:24.862825Z"
    }
   },
   "id": "f6cab9320c41daef",
   "execution_count": 3
  },
  {
   "cell_type": "code",
   "outputs": [],
   "source": [
    "def extract_all_post_comments_post_ids(mod_names, posts, subreddit_name, post_ids=[]):\n",
    "    # Prep headers first\n",
    "    write_headers(subreddit_name)\n",
    "    \n",
    "    for index, post in enumerate(posts, start=1):\n",
    "        time.sleep(60) # Sleep for 60 seconds to avoid rate limit\n",
    "        # Skip mod posts, usually about rules etc, not helpful at all\n",
    "        if post.author and post.author.name in mod_names:\n",
    "            print(f\"No: {index}, Skipped mod post...\")\n",
    "            continue\n",
    "        # Only write unique posts & comments\n",
    "        if post.id not in post_ids:\n",
    "            post_row = [\n",
    "                getattr(post, 'author', '[deleted]') or '[deleted]', # Some accounts are deleted\n",
    "                getattr(post, 'author_flair_text', 'None') or 'None',\n",
    "                getattr(post, 'clicked', None) or 'None',\n",
    "                # post.comments, # No need instance\n",
    "                getattr(post, 'created_utc', None) or 'None',\n",
    "                getattr(post, 'distinguished', None) or 'None',\n",
    "                getattr(post, 'edited', None) or 'None',\n",
    "                getattr(post, 'id', None) or 'None',\n",
    "                getattr(post, 'is_original_content', None) or 'None',\n",
    "                getattr(post, 'is_self', None) or 'None',\n",
    "                #post.link_flair_template_id,\n",
    "                getattr(post, 'link_flair_text', None) or 'None',\n",
    "                getattr(post, 'locked', None) or 'None',\n",
    "                getattr(post, 'name', None) or 'None',\n",
    "                getattr(post, 'num_comments', None) or 'None',\n",
    "                getattr(post, 'over_18', None) or 'None',\n",
    "                getattr(post, 'permalink', None) or 'None',\n",
    "                # post.poll_data,\n",
    "                getattr(post, 'saved', None) or 'None',\n",
    "                getattr(post, 'score', None) or 'None',\n",
    "                getattr(post, 'selftext', None) or 'None',\n",
    "                getattr(post, 'spoiler', None) or 'None',\n",
    "                getattr(post, 'stickied', None) or 'None',\n",
    "                getattr(post.subreddit, 'name', None) or 'None',\n",
    "                getattr(post, 'title', None) or 'None',\n",
    "                getattr(post, 'upvote_ratio', None) or 'None',\n",
    "                getattr(post, 'url', None) or 'None'\n",
    "            ]\n",
    "            print(f\"No: {index}, Title: {subreddit_name}:{post.title}, PostID: {post.id}\")\n",
    "            \n",
    "            with open(f'{os.path.join(data_dir, subreddit_name)}-posts.csv', 'a', newline='', encoding='utf-8') as f:\n",
    "                # Write to file\n",
    "                writer = csv.writer(f)\n",
    "                writer.writerow(post_row)\n",
    "    \n",
    "            # Write post comments too\n",
    "            post = reddit.submission(id=post_row[6]) # post.id\n",
    "            \n",
    "            # post.comments.replace_more(limit=None)  # Fetch all comments replies\n",
    "            # for comment in post.comments.list():\n",
    "            #     # Skip comments that are deleted\n",
    "            #     if comment.body == '[deleted]':\n",
    "            #         continue\n",
    "            # If you want to fetch all comments, comment out skipping of MoreComments\n",
    "            \n",
    "            for comment in post.comments:\n",
    "                if isinstance(comment, MoreComments):\n",
    "                    # Skip lower level comments\n",
    "                    continue\n",
    "                # Skip mod comments, usually about rules\n",
    "                if comment.author and comment.author.name in mod_names:\n",
    "                    continue\n",
    "                # Skip comments that are deleted\n",
    "                if comment.body == '[deleted]' or comment.body == '[removed]':\n",
    "                    continue\n",
    "\n",
    "                comment_row = [\n",
    "                    getattr(comment, 'author', '[deleted]') or '[deleted]', # Some accounts are deleted\n",
    "                    emoji.demojize(getattr(comment, 'body', 'None')),\n",
    "                    emoji.demojize(getattr(comment, 'body_html', 'None')),\n",
    "                    getattr(comment, 'created_utc', None) or 'None',\n",
    "                    getattr(comment, 'distinguished', None) or 'None',\n",
    "                    getattr(comment, 'edited', None) or 'None',\n",
    "                    getattr(comment, 'id', None) or 'None',\n",
    "                    getattr(comment, 'is_submitter', None) or 'None',\n",
    "                    getattr(comment, 'link_id', None) or 'None',\n",
    "                    getattr(comment, 'parent_id', None) or 'None',\n",
    "                    getattr(comment, 'permalink', None) or 'None',\n",
    "                    # comment.replies, # No need instance, dont need replies to top level comments anyways\n",
    "                    getattr(comment, 'saved', None) or 'None',\n",
    "                    getattr(comment, 'score', None), # Downvotes - Upvotes\n",
    "                    getattr(comment, 'stickied', None) or 'None',\n",
    "                    # comment.submission, # No need instance, no need instance of user's posts\n",
    "                    getattr(comment.subreddit, 'name', None) or None,\n",
    "                    getattr(comment, 'subreddit_id', None) or None\n",
    "                ]\n",
    "    \n",
    "                with open(f'{os.path.join(data_dir, subreddit_name)}-comments.csv', 'a', newline='', encoding='utf-8') as f:\n",
    "                    writer = csv.writer(f)\n",
    "                    writer.writerow(comment_row)\n",
    "                    \n",
    "            post_ids.append(post.id)\n",
    "    return post_ids\n",
    "\n",
    "# Get subreddit mod ids\n",
    "def get_mod_list(subreddit_name):\n",
    "    mod_names = []\n",
    "    for moderator in reddit.subreddit(subreddit_name).moderator():\n",
    "        mod_names.append(moderator.name)\n",
    "        \n",
    "    return mod_names"
   ],
   "metadata": {
    "collapsed": false,
    "ExecuteTime": {
     "end_time": "2024-03-21T05:23:50.472417Z",
     "start_time": "2024-03-21T05:23:50.460737Z"
    }
   },
   "id": "484ba5be01a0bf1",
   "execution_count": 6
  },
  {
   "cell_type": "code",
   "outputs": [],
   "source": [
    "# Start extracting\n",
    "## Specialized subreddits\n",
    "specialized_subreddits = [\n",
    "    # General electric car subreddits\n",
    "    # \"electricvehicles\",\n",
    "    # \"electriccars\",\n",
    "    # \"nzev\",\n",
    "    # \"ElectricCarUK\",\n",
    "    # \"evcharging\",\n",
    "    \n",
    "    # Electric Car brands subreddits\n",
    "    \"teslamotors\", # Tesla 100% electric car brand\n",
    "    \"RealTesla\",\n",
    "    \"BMWi3\", # BMW I3 car model electric\n",
    "    \"leaf\", # Nissan LEAF EV car model\n",
    "    \"BoltEV\", # Chevrolet Bolt EV car model\n",
    "    \"F150Lightning\", # Ford F150 Lightning EV car model\n",
    "    \"Taycan\", # Porsche Taycan EV car model\n",
    "    \"KiaEV6\", # Kia EV6 car model\n",
    "]\n",
    "\n",
    "for subreddit_name in specialized_subreddits:\n",
    "    subreddit = reddit.subreddit(subreddit_name)\n",
    "    posts = subreddit.top(limit=100, time_filter='all')\n",
    "    extract_all_post_comments_post_ids(get_mod_list(subreddit_name), posts, subreddit_name)"
   ],
   "metadata": {
    "collapsed": false,
    "is_executing": true,
    "ExecuteTime": {
     "start_time": "2024-03-21T05:23:51.249412Z"
    }
   },
   "id": "989e35c73c5aeecd",
   "execution_count": null
  },
  {
   "cell_type": "markdown",
   "source": [
    "## General subreddits with search filters"
   ],
   "metadata": {
    "collapsed": false
   },
   "id": "d12aa32ccd45bf40"
  },
  {
   "cell_type": "code",
   "outputs": [],
   "source": [
    "general_subreddits = [\n",
    "    \"cars\",\n",
    "]\n",
    "\n",
    "search_terms = [\n",
    "    'ev',\n",
    "]\n",
    "\n",
    "for subreddit_name in general_subreddits:\n",
    "    post_ids = []\n",
    "    for search_term in search_terms:\n",
    "        subreddit = reddit.subreddit(subreddit_name)\n",
    "        search_results = subreddit.search(search_term, sort='relevance', limit=100)\n",
    "        post_ids.extend(extract_all_post_comments_post_ids(get_mod_list(subreddit_name), search_results, f'{subreddit_name}-{search_term}', post_ids))\n",
    "        post_ids = list(set(post_ids))"
   ],
   "metadata": {
    "collapsed": false,
    "ExecuteTime": {
     "start_time": "2024-03-18T16:27:45.214863Z"
    }
   },
   "id": "a128188cd6a38a2",
   "execution_count": null
  },
  {
   "cell_type": "markdown",
   "source": [
    "# PART 2: Get dataset summaries\n",
    "## Summary of all different subreddit posts & comments"
   ],
   "metadata": {
    "collapsed": false
   },
   "id": "c54dd80ffcd1a8c7"
  },
  {
   "cell_type": "code",
   "outputs": [
    {
     "name": "stdout",
     "output_type": "stream",
     "text": [
      "File: BMWi3-comments.csv, Rows: 1259\n",
      "File: BMWi3-posts.csv, Rows: 100\n",
      "File: cars-diesel-comments.csv, Rows: 2578\n",
      "File: cars-diesel-posts.csv, Rows: 94\n",
      "File: cars-electric-comments.csv, Rows: 5579\n",
      "File: cars-electric-posts.csv, Rows: 98\n",
      "File: cars-gasoline-comments.csv, Rows: 2326\n",
      "File: cars-gasoline-posts.csv, Rows: 99\n",
      "File: cars-petrol-comments.csv, Rows: 2211\n",
      "File: cars-petrol-posts.csv, Rows: 100\n",
      "File: electriccars-comments.csv, Rows: 2337\n",
      "File: electriccars-posts.csv, Rows: 100\n",
      "File: ElectricCarUK-comments.csv, Rows: 99\n",
      "File: ElectricCarUK-posts.csv, Rows: 100\n",
      "File: electricvehicles-comments.csv, Rows: 6901\n",
      "File: electricvehicles-posts.csv, Rows: 100\n",
      "File: evcharging-comments.csv, Rows: 1432\n",
      "File: evcharging-posts.csv, Rows: 100\n",
      "File: nzev-comments.csv, Rows: 1565\n",
      "File: nzev-posts.csv, Rows: 100\n",
      "File: RealTesla-comments.csv, Rows: 10784\n",
      "File: RealTesla-posts.csv, Rows: 100\n",
      "File: TeslaModel3-comments.csv, Rows: 16375\n",
      "File: TeslaModel3-posts.csv, Rows: 100\n",
      "File: teslamotors-comments.csv, Rows: 11810\n",
      "File: teslamotors-posts.csv, Rows: 100\n"
     ]
    }
   ],
   "source": [
    "# Load all comments file, check unique word count\n",
    "import os\n",
    "import pandas as pd\n",
    "\n",
    "data_dir = 'data2'\n",
    "\n",
    "# Since same format, combine all comments csv into a massive df\n",
    "comment_main_df = pd.DataFrame()\n",
    "post_main_df = pd.DataFrame()\n",
    "for file in os.listdir(data_dir):\n",
    "    df = pd.read_csv(f'{data_dir}/{file}')\n",
    "    print(f\"File: {file}, Rows: {len(df)}\")\n",
    "    if file.endswith(\"comments.csv\"):\n",
    "        comment_main_df = pd.concat([comment_main_df, df])\n",
    "    elif file.endswith(\"posts.csv\"):\n",
    "        post_main_df = pd.concat([post_main_df, df])"
   ],
   "metadata": {
    "collapsed": false,
    "ExecuteTime": {
     "end_time": "2024-03-19T08:49:33.127077Z",
     "start_time": "2024-03-19T08:49:31.946527Z"
    }
   },
   "id": "a3c9ee16e9249116",
   "execution_count": 1
  },
  {
   "cell_type": "markdown",
   "source": [
    "## Combined size"
   ],
   "metadata": {
    "collapsed": false
   },
   "id": "6bcc67360fa2a33"
  },
  {
   "cell_type": "code",
   "outputs": [
    {
     "data": {
      "text/plain": "(1291, 23)"
     },
     "execution_count": 2,
     "metadata": {},
     "output_type": "execute_result"
    }
   ],
   "source": [
    "post_main_df.shape"
   ],
   "metadata": {
    "collapsed": false,
    "ExecuteTime": {
     "end_time": "2024-03-19T08:49:33.134479Z",
     "start_time": "2024-03-19T08:49:33.128078Z"
    }
   },
   "id": "1268cbdf99e9249",
   "execution_count": 2
  },
  {
   "cell_type": "code",
   "outputs": [
    {
     "data": {
      "text/plain": "(65256, 14)"
     },
     "execution_count": 3,
     "metadata": {},
     "output_type": "execute_result"
    }
   ],
   "source": [
    "comment_main_df.shape"
   ],
   "metadata": {
    "collapsed": false,
    "ExecuteTime": {
     "end_time": "2024-03-19T08:49:33.139576Z",
     "start_time": "2024-03-19T08:49:33.135483Z"
    }
   },
   "id": "98fc2600d534195c",
   "execution_count": 3
  },
  {
   "cell_type": "markdown",
   "source": [
    "## Checking for duplicated id & remove them"
   ],
   "metadata": {
    "collapsed": false
   },
   "id": "6a72be952e32a825"
  },
  {
   "cell_type": "code",
   "outputs": [
    {
     "data": {
      "text/plain": "Empty DataFrame\nColumns: [body, body_html, created_utc, distinguished, edited, id, is_submitter, link_id, parent_id, permalink, saved, score, stickied, subreddit_id]\nIndex: []",
      "text/html": "<div>\n<style scoped>\n    .dataframe tbody tr th:only-of-type {\n        vertical-align: middle;\n    }\n\n    .dataframe tbody tr th {\n        vertical-align: top;\n    }\n\n    .dataframe thead th {\n        text-align: right;\n    }\n</style>\n<table border=\"1\" class=\"dataframe\">\n  <thead>\n    <tr style=\"text-align: right;\">\n      <th></th>\n      <th>body</th>\n      <th>body_html</th>\n      <th>created_utc</th>\n      <th>distinguished</th>\n      <th>edited</th>\n      <th>id</th>\n      <th>is_submitter</th>\n      <th>link_id</th>\n      <th>parent_id</th>\n      <th>permalink</th>\n      <th>saved</th>\n      <th>score</th>\n      <th>stickied</th>\n      <th>subreddit_id</th>\n    </tr>\n  </thead>\n  <tbody>\n  </tbody>\n</table>\n</div>"
     },
     "execution_count": 4,
     "metadata": {},
     "output_type": "execute_result"
    }
   ],
   "source": [
    "# Check for duplicates using id\n",
    "post_main_df[post_main_df.duplicated(subset=['id'], keep='first')]"
   ],
   "metadata": {
    "collapsed": false,
    "ExecuteTime": {
     "end_time": "2024-03-19T08:49:33.161780Z",
     "start_time": "2024-03-19T08:49:33.140579Z"
    }
   },
   "id": "8e6f235dad6692e2",
   "execution_count": 4
  },
  {
   "cell_type": "code",
   "outputs": [
    {
     "data": {
      "text/plain": "Empty DataFrame\nColumns: [body, body_html, created_utc, distinguished, edited, id, is_submitter, link_id, parent_id, permalink, saved, score, stickied, subreddit_id]\nIndex: []",
      "text/html": "<div>\n<style scoped>\n    .dataframe tbody tr th:only-of-type {\n        vertical-align: middle;\n    }\n\n    .dataframe tbody tr th {\n        vertical-align: top;\n    }\n\n    .dataframe thead th {\n        text-align: right;\n    }\n</style>\n<table border=\"1\" class=\"dataframe\">\n  <thead>\n    <tr style=\"text-align: right;\">\n      <th></th>\n      <th>body</th>\n      <th>body_html</th>\n      <th>created_utc</th>\n      <th>distinguished</th>\n      <th>edited</th>\n      <th>id</th>\n      <th>is_submitter</th>\n      <th>link_id</th>\n      <th>parent_id</th>\n      <th>permalink</th>\n      <th>saved</th>\n      <th>score</th>\n      <th>stickied</th>\n      <th>subreddit_id</th>\n    </tr>\n  </thead>\n  <tbody>\n  </tbody>\n</table>\n</div>"
     },
     "execution_count": 6,
     "metadata": {},
     "output_type": "execute_result"
    }
   ],
   "source": [
    "comment_main_df[comment_main_df.duplicated(subset=['id'], keep='first')]"
   ],
   "metadata": {
    "collapsed": false,
    "ExecuteTime": {
     "end_time": "2024-03-19T08:50:36.059802Z",
     "start_time": "2024-03-19T08:50:36.044285Z"
    }
   },
   "id": "ee1ef82965aa2385",
   "execution_count": 6
  },
  {
   "cell_type": "code",
   "outputs": [],
   "source": [
    "# Remove any duplicates detected\n",
    "post_main_df.drop_duplicates(subset=['id'], keep='first')\n",
    "comment_main_df.drop_duplicates(subset=['id'], keep='first')"
   ],
   "metadata": {
    "collapsed": false
   },
   "id": "43531840dac74a17"
  },
  {
   "cell_type": "markdown",
   "source": [
    "## Checking for duplicated comments & post (Some might be crossposted, different id but same title but different comments)\n",
    "- We decided to keep them as they are same post contents but different comments"
   ],
   "metadata": {
    "collapsed": false
   },
   "id": "44b6373a781c78a0"
  },
  {
   "cell_type": "code",
   "outputs": [
    {
     "data": {
      "text/plain": "                 author author_flair_text  clicked   created_utc  \\\n21             wewewawa               NaN      NaN  1.699695e+09   \n58  ElectricVehicleNick               NaN      NaN  1.551115e+09   \n98  ElectricVehicleNick               NaN      NaN  1.551218e+09   \n34        manual_tranny               NaN      NaN  1.691671e+09   \n5              gman1023               NaN      NaN  1.690573e+09   \n75            TiltedWit               NaN      NaN  1.699650e+09   \n\n   distinguished  edited       id  is_original_content is_self  \\\n21           NaN     NaN  17sr2l7                  NaN     NaN   \n58           NaN     NaN   auno60                  NaN     NaN   \n98           NaN     NaN   av545a                  NaN     NaN   \n34           NaN     NaN  15nbggi                  NaN     NaN   \n5            NaN     NaN  15c6xk9                  NaN     NaN   \n75           NaN     NaN  17sdqni                  NaN     NaN   \n\n   link_flair_text  ... over_18  \\\n21             NaN  ...     NaN   \n58             NaN  ...     NaN   \n98             NaN  ...     NaN   \n34            News  ...     NaN   \n5      HELP NEEDED  ...     NaN   \n75             NaN  ...     NaN   \n\n                                            permalink  saved   score selftext  \\\n21  /r/electriccars/comments/17sr2l7/if_you_bought...    NaN   126.0      NaN   \n58  /r/ElectricCarUK/comments/auno60/nissan_leaf_p...    NaN     2.0      NaN   \n98  /r/ElectricCarUK/comments/av545a/nissan_leaf_p...    NaN     1.0      NaN   \n34  /r/electricvehicles/comments/15nbggi/disapprov...    NaN  2028.0      NaN   \n5   /r/RealTesla/comments/15c6xk9/disapproval_of_e...    NaN  5039.0      NaN   \n75  /r/RealTesla/comments/17sdqni/if_you_bought_a_...    NaN  1397.0      NaN   \n\n    spoiler  stickied                                              title  \\\n21      NaN       NaN  If You Bought A Tesla One Year Ago It Has Lost...   \n58      NaN       NaN  Nissan LEAF Plus first drive review: more of a...   \n98      NaN       NaN  Nissan LEAF Plus first drive review: more of a...   \n34      NaN       NaN  Disapproval of Elon Musk is top reason Tesla o...   \n5       NaN       NaN  Disapproval of Elon Musk is top reason Tesla o...   \n75      NaN       NaN  If You Bought A Tesla One Year Ago It Has Lost...   \n\n    upvote_ratio                                                url  \n21          0.82  https://jalopnik.com/if-you-bought-a-tesla-one...  \n58          1.00  https://electrek.co/2019/02/25/nissan-leaf-plu...  \n98          1.00  https://electrek.co/2019/02/25/nissan-leaf-plu...  \n34          0.91  https://electrek.co/2023/07/27/disapproval-elo...  \n5           0.95  https://electrek.co/2023/07/27/disapproval-elo...  \n75          0.94  https://jalopnik.com/if-you-bought-a-tesla-one...  \n\n[6 rows x 23 columns]",
      "text/html": "<div>\n<style scoped>\n    .dataframe tbody tr th:only-of-type {\n        vertical-align: middle;\n    }\n\n    .dataframe tbody tr th {\n        vertical-align: top;\n    }\n\n    .dataframe thead th {\n        text-align: right;\n    }\n</style>\n<table border=\"1\" class=\"dataframe\">\n  <thead>\n    <tr style=\"text-align: right;\">\n      <th></th>\n      <th>author</th>\n      <th>author_flair_text</th>\n      <th>clicked</th>\n      <th>created_utc</th>\n      <th>distinguished</th>\n      <th>edited</th>\n      <th>id</th>\n      <th>is_original_content</th>\n      <th>is_self</th>\n      <th>link_flair_text</th>\n      <th>...</th>\n      <th>over_18</th>\n      <th>permalink</th>\n      <th>saved</th>\n      <th>score</th>\n      <th>selftext</th>\n      <th>spoiler</th>\n      <th>stickied</th>\n      <th>title</th>\n      <th>upvote_ratio</th>\n      <th>url</th>\n    </tr>\n  </thead>\n  <tbody>\n    <tr>\n      <th>21</th>\n      <td>wewewawa</td>\n      <td>NaN</td>\n      <td>NaN</td>\n      <td>1.699695e+09</td>\n      <td>NaN</td>\n      <td>NaN</td>\n      <td>17sr2l7</td>\n      <td>NaN</td>\n      <td>NaN</td>\n      <td>NaN</td>\n      <td>...</td>\n      <td>NaN</td>\n      <td>/r/electriccars/comments/17sr2l7/if_you_bought...</td>\n      <td>NaN</td>\n      <td>126.0</td>\n      <td>NaN</td>\n      <td>NaN</td>\n      <td>NaN</td>\n      <td>If You Bought A Tesla One Year Ago It Has Lost...</td>\n      <td>0.82</td>\n      <td>https://jalopnik.com/if-you-bought-a-tesla-one...</td>\n    </tr>\n    <tr>\n      <th>58</th>\n      <td>ElectricVehicleNick</td>\n      <td>NaN</td>\n      <td>NaN</td>\n      <td>1.551115e+09</td>\n      <td>NaN</td>\n      <td>NaN</td>\n      <td>auno60</td>\n      <td>NaN</td>\n      <td>NaN</td>\n      <td>NaN</td>\n      <td>...</td>\n      <td>NaN</td>\n      <td>/r/ElectricCarUK/comments/auno60/nissan_leaf_p...</td>\n      <td>NaN</td>\n      <td>2.0</td>\n      <td>NaN</td>\n      <td>NaN</td>\n      <td>NaN</td>\n      <td>Nissan LEAF Plus first drive review: more of a...</td>\n      <td>1.00</td>\n      <td>https://electrek.co/2019/02/25/nissan-leaf-plu...</td>\n    </tr>\n    <tr>\n      <th>98</th>\n      <td>ElectricVehicleNick</td>\n      <td>NaN</td>\n      <td>NaN</td>\n      <td>1.551218e+09</td>\n      <td>NaN</td>\n      <td>NaN</td>\n      <td>av545a</td>\n      <td>NaN</td>\n      <td>NaN</td>\n      <td>NaN</td>\n      <td>...</td>\n      <td>NaN</td>\n      <td>/r/ElectricCarUK/comments/av545a/nissan_leaf_p...</td>\n      <td>NaN</td>\n      <td>1.0</td>\n      <td>NaN</td>\n      <td>NaN</td>\n      <td>NaN</td>\n      <td>Nissan LEAF Plus first drive review: more of a...</td>\n      <td>1.00</td>\n      <td>https://electrek.co/2019/02/25/nissan-leaf-plu...</td>\n    </tr>\n    <tr>\n      <th>34</th>\n      <td>manual_tranny</td>\n      <td>NaN</td>\n      <td>NaN</td>\n      <td>1.691671e+09</td>\n      <td>NaN</td>\n      <td>NaN</td>\n      <td>15nbggi</td>\n      <td>NaN</td>\n      <td>NaN</td>\n      <td>News</td>\n      <td>...</td>\n      <td>NaN</td>\n      <td>/r/electricvehicles/comments/15nbggi/disapprov...</td>\n      <td>NaN</td>\n      <td>2028.0</td>\n      <td>NaN</td>\n      <td>NaN</td>\n      <td>NaN</td>\n      <td>Disapproval of Elon Musk is top reason Tesla o...</td>\n      <td>0.91</td>\n      <td>https://electrek.co/2023/07/27/disapproval-elo...</td>\n    </tr>\n    <tr>\n      <th>5</th>\n      <td>gman1023</td>\n      <td>NaN</td>\n      <td>NaN</td>\n      <td>1.690573e+09</td>\n      <td>NaN</td>\n      <td>NaN</td>\n      <td>15c6xk9</td>\n      <td>NaN</td>\n      <td>NaN</td>\n      <td>HELP NEEDED</td>\n      <td>...</td>\n      <td>NaN</td>\n      <td>/r/RealTesla/comments/15c6xk9/disapproval_of_e...</td>\n      <td>NaN</td>\n      <td>5039.0</td>\n      <td>NaN</td>\n      <td>NaN</td>\n      <td>NaN</td>\n      <td>Disapproval of Elon Musk is top reason Tesla o...</td>\n      <td>0.95</td>\n      <td>https://electrek.co/2023/07/27/disapproval-elo...</td>\n    </tr>\n    <tr>\n      <th>75</th>\n      <td>TiltedWit</td>\n      <td>NaN</td>\n      <td>NaN</td>\n      <td>1.699650e+09</td>\n      <td>NaN</td>\n      <td>NaN</td>\n      <td>17sdqni</td>\n      <td>NaN</td>\n      <td>NaN</td>\n      <td>NaN</td>\n      <td>...</td>\n      <td>NaN</td>\n      <td>/r/RealTesla/comments/17sdqni/if_you_bought_a_...</td>\n      <td>NaN</td>\n      <td>1397.0</td>\n      <td>NaN</td>\n      <td>NaN</td>\n      <td>NaN</td>\n      <td>If You Bought A Tesla One Year Ago It Has Lost...</td>\n      <td>0.94</td>\n      <td>https://jalopnik.com/if-you-bought-a-tesla-one...</td>\n    </tr>\n  </tbody>\n</table>\n<p>6 rows × 23 columns</p>\n</div>"
     },
     "execution_count": 15,
     "metadata": {},
     "output_type": "execute_result"
    }
   ],
   "source": [
    "post_main_df[post_main_df.duplicated(subset=['title'], keep=False)]"
   ],
   "metadata": {
    "collapsed": false,
    "ExecuteTime": {
     "end_time": "2024-03-19T09:29:19.324693Z",
     "start_time": "2024-03-19T09:29:19.308612Z"
    }
   },
   "id": "d08f81ec9b60808b",
   "execution_count": 15
  },
  {
   "cell_type": "code",
   "outputs": [
    {
     "data": {
      "text/plain": "                    body                                         body_html  \\\n6               Congrats           <div class=\"md\"><p>Congrats</p>\\n</div>   \n34             Congrats!          <div class=\"md\"><p>Congrats!</p>\\n</div>   \n70             Congrats!          <div class=\"md\"><p>Congrats!</p>\\n</div>   \n92            Beautiful!         <div class=\"md\"><p>Beautiful!</p>\\n</div>   \n105         Looks great!       <div class=\"md\"><p>Looks great!</p>\\n</div>   \n...                  ...                                               ...   \n11657           HAHAHAHA           <div class=\"md\"><p>HAHAHAHA</p>\\n</div>   \n11677            Amazing            <div class=\"md\"><p>Amazing</p>\\n</div>   \n11703  This is hilarious  <div class=\"md\"><p>This is hilarious</p>\\n</div>   \n11713                Lel                <div class=\"md\"><p>Lel</p>\\n</div>   \n11733          Excellent          <div class=\"md\"><p>Excellent</p>\\n</div>   \n\n        created_utc distinguished  edited       id is_submitter     link_id  \\\n6      1.648558e+09           NaN     NaN  i2k2yt1          NaN   t3_tqghan   \n34     1.708648e+09           NaN     NaN  krowqok          NaN  t3_1axmm77   \n70     1.685016e+09           NaN     NaN  jljyc47          NaN  t3_13rc663   \n92     1.684768e+09           NaN     NaN  jl5xmy6          NaN  t3_13o1009   \n105    1.696521e+09           NaN     NaN  k3l86qm          NaN  t3_170lc98   \n...             ...           ...     ...      ...          ...         ...   \n11657  1.565487e+09           NaN     NaN  ewkkc38          NaN   t3_cntie5   \n11677  1.569808e+09           NaN     NaN  f1y1r70          NaN   t3_db1ttt   \n11703  1.569819e+09           NaN     NaN  f1ylkcu          NaN   t3_db1ttt   \n11713  1.569838e+09           NaN     NaN  f1z7te8          NaN   t3_db1ttt   \n11733  1.569798e+09           NaN     NaN  f1xfaja          NaN   t3_db1ttt   \n\n        parent_id                                          permalink  saved  \\\n6       t3_tqghan  /r/BMWi3/comments/tqghan/my_reward_for_finally...    NaN   \n34     t3_1axmm77      /r/BMWi3/comments/1axmm77/100k_miles/krowqok/    NaN   \n70     t3_13rc663  /r/BMWi3/comments/13rc663/picked_her_up_straig...    NaN   \n92     t3_13o1009  /r/BMWi3/comments/13o1009/picked_up_this_littl...    NaN   \n105    t3_170lc98  /r/BMWi3/comments/170lc98/pulled_the_ev_trigge...    NaN   \n...           ...                                                ...    ...   \n11657   t3_cntie5  /r/teslamotors/comments/cntie5/when_youre_turn...    NaN   \n11677   t3_db1ttt  /r/teslamotors/comments/db1ttt/getting_ready_f...    NaN   \n11703   t3_db1ttt  /r/teslamotors/comments/db1ttt/getting_ready_f...    NaN   \n11713   t3_db1ttt  /r/teslamotors/comments/db1ttt/getting_ready_f...    NaN   \n11733   t3_db1ttt  /r/teslamotors/comments/db1ttt/getting_ready_f...    NaN   \n\n       score stickied subreddit_id  \n6          3      NaN     t5_2y1ho  \n34         3      NaN     t5_2y1ho  \n70         2      NaN     t5_2y1ho  \n92         2      NaN     t5_2y1ho  \n105        3      NaN     t5_2y1ho  \n...      ...      ...          ...  \n11657      1      NaN     t5_2s3j5  \n11677      3      NaN     t5_2s3j5  \n11703      1      NaN     t5_2s3j5  \n11713      1      NaN     t5_2s3j5  \n11733      1      NaN     t5_2s3j5  \n\n[1532 rows x 14 columns]",
      "text/html": "<div>\n<style scoped>\n    .dataframe tbody tr th:only-of-type {\n        vertical-align: middle;\n    }\n\n    .dataframe tbody tr th {\n        vertical-align: top;\n    }\n\n    .dataframe thead th {\n        text-align: right;\n    }\n</style>\n<table border=\"1\" class=\"dataframe\">\n  <thead>\n    <tr style=\"text-align: right;\">\n      <th></th>\n      <th>body</th>\n      <th>body_html</th>\n      <th>created_utc</th>\n      <th>distinguished</th>\n      <th>edited</th>\n      <th>id</th>\n      <th>is_submitter</th>\n      <th>link_id</th>\n      <th>parent_id</th>\n      <th>permalink</th>\n      <th>saved</th>\n      <th>score</th>\n      <th>stickied</th>\n      <th>subreddit_id</th>\n    </tr>\n  </thead>\n  <tbody>\n    <tr>\n      <th>6</th>\n      <td>Congrats</td>\n      <td>&lt;div class=\"md\"&gt;&lt;p&gt;Congrats&lt;/p&gt;\\n&lt;/div&gt;</td>\n      <td>1.648558e+09</td>\n      <td>NaN</td>\n      <td>NaN</td>\n      <td>i2k2yt1</td>\n      <td>NaN</td>\n      <td>t3_tqghan</td>\n      <td>t3_tqghan</td>\n      <td>/r/BMWi3/comments/tqghan/my_reward_for_finally...</td>\n      <td>NaN</td>\n      <td>3</td>\n      <td>NaN</td>\n      <td>t5_2y1ho</td>\n    </tr>\n    <tr>\n      <th>34</th>\n      <td>Congrats!</td>\n      <td>&lt;div class=\"md\"&gt;&lt;p&gt;Congrats!&lt;/p&gt;\\n&lt;/div&gt;</td>\n      <td>1.708648e+09</td>\n      <td>NaN</td>\n      <td>NaN</td>\n      <td>krowqok</td>\n      <td>NaN</td>\n      <td>t3_1axmm77</td>\n      <td>t3_1axmm77</td>\n      <td>/r/BMWi3/comments/1axmm77/100k_miles/krowqok/</td>\n      <td>NaN</td>\n      <td>3</td>\n      <td>NaN</td>\n      <td>t5_2y1ho</td>\n    </tr>\n    <tr>\n      <th>70</th>\n      <td>Congrats!</td>\n      <td>&lt;div class=\"md\"&gt;&lt;p&gt;Congrats!&lt;/p&gt;\\n&lt;/div&gt;</td>\n      <td>1.685016e+09</td>\n      <td>NaN</td>\n      <td>NaN</td>\n      <td>jljyc47</td>\n      <td>NaN</td>\n      <td>t3_13rc663</td>\n      <td>t3_13rc663</td>\n      <td>/r/BMWi3/comments/13rc663/picked_her_up_straig...</td>\n      <td>NaN</td>\n      <td>2</td>\n      <td>NaN</td>\n      <td>t5_2y1ho</td>\n    </tr>\n    <tr>\n      <th>92</th>\n      <td>Beautiful!</td>\n      <td>&lt;div class=\"md\"&gt;&lt;p&gt;Beautiful!&lt;/p&gt;\\n&lt;/div&gt;</td>\n      <td>1.684768e+09</td>\n      <td>NaN</td>\n      <td>NaN</td>\n      <td>jl5xmy6</td>\n      <td>NaN</td>\n      <td>t3_13o1009</td>\n      <td>t3_13o1009</td>\n      <td>/r/BMWi3/comments/13o1009/picked_up_this_littl...</td>\n      <td>NaN</td>\n      <td>2</td>\n      <td>NaN</td>\n      <td>t5_2y1ho</td>\n    </tr>\n    <tr>\n      <th>105</th>\n      <td>Looks great!</td>\n      <td>&lt;div class=\"md\"&gt;&lt;p&gt;Looks great!&lt;/p&gt;\\n&lt;/div&gt;</td>\n      <td>1.696521e+09</td>\n      <td>NaN</td>\n      <td>NaN</td>\n      <td>k3l86qm</td>\n      <td>NaN</td>\n      <td>t3_170lc98</td>\n      <td>t3_170lc98</td>\n      <td>/r/BMWi3/comments/170lc98/pulled_the_ev_trigge...</td>\n      <td>NaN</td>\n      <td>3</td>\n      <td>NaN</td>\n      <td>t5_2y1ho</td>\n    </tr>\n    <tr>\n      <th>...</th>\n      <td>...</td>\n      <td>...</td>\n      <td>...</td>\n      <td>...</td>\n      <td>...</td>\n      <td>...</td>\n      <td>...</td>\n      <td>...</td>\n      <td>...</td>\n      <td>...</td>\n      <td>...</td>\n      <td>...</td>\n      <td>...</td>\n      <td>...</td>\n    </tr>\n    <tr>\n      <th>11657</th>\n      <td>HAHAHAHA</td>\n      <td>&lt;div class=\"md\"&gt;&lt;p&gt;HAHAHAHA&lt;/p&gt;\\n&lt;/div&gt;</td>\n      <td>1.565487e+09</td>\n      <td>NaN</td>\n      <td>NaN</td>\n      <td>ewkkc38</td>\n      <td>NaN</td>\n      <td>t3_cntie5</td>\n      <td>t3_cntie5</td>\n      <td>/r/teslamotors/comments/cntie5/when_youre_turn...</td>\n      <td>NaN</td>\n      <td>1</td>\n      <td>NaN</td>\n      <td>t5_2s3j5</td>\n    </tr>\n    <tr>\n      <th>11677</th>\n      <td>Amazing</td>\n      <td>&lt;div class=\"md\"&gt;&lt;p&gt;Amazing&lt;/p&gt;\\n&lt;/div&gt;</td>\n      <td>1.569808e+09</td>\n      <td>NaN</td>\n      <td>NaN</td>\n      <td>f1y1r70</td>\n      <td>NaN</td>\n      <td>t3_db1ttt</td>\n      <td>t3_db1ttt</td>\n      <td>/r/teslamotors/comments/db1ttt/getting_ready_f...</td>\n      <td>NaN</td>\n      <td>3</td>\n      <td>NaN</td>\n      <td>t5_2s3j5</td>\n    </tr>\n    <tr>\n      <th>11703</th>\n      <td>This is hilarious</td>\n      <td>&lt;div class=\"md\"&gt;&lt;p&gt;This is hilarious&lt;/p&gt;\\n&lt;/div&gt;</td>\n      <td>1.569819e+09</td>\n      <td>NaN</td>\n      <td>NaN</td>\n      <td>f1ylkcu</td>\n      <td>NaN</td>\n      <td>t3_db1ttt</td>\n      <td>t3_db1ttt</td>\n      <td>/r/teslamotors/comments/db1ttt/getting_ready_f...</td>\n      <td>NaN</td>\n      <td>1</td>\n      <td>NaN</td>\n      <td>t5_2s3j5</td>\n    </tr>\n    <tr>\n      <th>11713</th>\n      <td>Lel</td>\n      <td>&lt;div class=\"md\"&gt;&lt;p&gt;Lel&lt;/p&gt;\\n&lt;/div&gt;</td>\n      <td>1.569838e+09</td>\n      <td>NaN</td>\n      <td>NaN</td>\n      <td>f1z7te8</td>\n      <td>NaN</td>\n      <td>t3_db1ttt</td>\n      <td>t3_db1ttt</td>\n      <td>/r/teslamotors/comments/db1ttt/getting_ready_f...</td>\n      <td>NaN</td>\n      <td>1</td>\n      <td>NaN</td>\n      <td>t5_2s3j5</td>\n    </tr>\n    <tr>\n      <th>11733</th>\n      <td>Excellent</td>\n      <td>&lt;div class=\"md\"&gt;&lt;p&gt;Excellent&lt;/p&gt;\\n&lt;/div&gt;</td>\n      <td>1.569798e+09</td>\n      <td>NaN</td>\n      <td>NaN</td>\n      <td>f1xfaja</td>\n      <td>NaN</td>\n      <td>t3_db1ttt</td>\n      <td>t3_db1ttt</td>\n      <td>/r/teslamotors/comments/db1ttt/getting_ready_f...</td>\n      <td>NaN</td>\n      <td>1</td>\n      <td>NaN</td>\n      <td>t5_2s3j5</td>\n    </tr>\n  </tbody>\n</table>\n<p>1532 rows × 14 columns</p>\n</div>"
     },
     "execution_count": 16,
     "metadata": {},
     "output_type": "execute_result"
    }
   ],
   "source": [
    "comment_main_df[comment_main_df.duplicated(subset=['body'], keep=False)]"
   ],
   "metadata": {
    "collapsed": false,
    "ExecuteTime": {
     "end_time": "2024-03-19T09:52:56.125165Z",
     "start_time": "2024-03-19T09:52:56.099852Z"
    }
   },
   "id": "39714e4056c06180",
   "execution_count": 16
  },
  {
   "cell_type": "markdown",
   "source": [
    "## Save corpus to csv"
   ],
   "metadata": {
    "collapsed": false
   },
   "id": "3a5d8a55d1c20319"
  },
  {
   "cell_type": "code",
   "outputs": [],
   "source": [
    "with open(f'{os.path.join(data_dir, \"all-posts.csv\")}', 'w', newline='', encoding='utf-8') as f:\n",
    "    post_main_df.to_csv(f, index=False)\n",
    "    \n",
    "with open(f'{os.path.join(data_dir, \"all-comments.csv\")}', 'w', newline='', encoding='utf-8') as f:\n",
    "    comment_main_df.to_csv(f, index=False)"
   ],
   "metadata": {
    "collapsed": false,
    "ExecuteTime": {
     "end_time": "2024-03-19T09:02:34.404042Z",
     "start_time": "2024-03-19T09:02:33.699211Z"
    }
   },
   "id": "a43feaaeafff96a0",
   "execution_count": 11
  }
 ],
 "metadata": {
  "kernelspec": {
   "display_name": "Python 3 (ipykernel)",
   "language": "python",
   "name": "python3"
  },
  "language_info": {
   "codemirror_mode": {
    "name": "ipython",
    "version": 3
   },
   "file_extension": ".py",
   "mimetype": "text/x-python",
   "name": "python",
   "nbconvert_exporter": "python",
   "pygments_lexer": "ipython3",
   "version": "3.12.2"
  }
 },
 "nbformat": 4,
 "nbformat_minor": 5
}
