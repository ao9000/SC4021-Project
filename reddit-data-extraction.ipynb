{
 "cells": [
  {
   "cell_type": "markdown",
   "source": [
    "# PART 1: Data Scraping\n",
    "## Connect to Reddit API"
   ],
   "metadata": {
    "collapsed": false
   },
   "id": "88d9141fc95057e2"
  },
  {
   "cell_type": "code",
   "outputs": [],
   "source": [
    "import praw\n",
    "\n",
    "reddit = praw.Reddit(\n",
    "    client_id=\"xn1EzLWHVbp2ZOuTiNYk-w\",\n",
    "    client_secret=\"rSRccp3N37yjKuQQWcPxW_SKSXe0SA\",\n",
    "    user_agent=\"<NanyangTechnologicalUniversity>-<information retrieval project>:<v1> (by /u/CitronResponsible811)\",\n",
    "    username=\"CitronResponsible811\",\n",
    "    password=\"Password123\"\n",
    ")"
   ],
   "metadata": {
    "ExecuteTime": {
     "end_time": "2024-03-21T07:31:13.988153Z",
     "start_time": "2024-03-21T07:31:13.740328Z"
    }
   },
   "id": "abf4df67-5dbe-4197-8716-63a80d0b3b8d",
   "execution_count": 1
  },
  {
   "cell_type": "code",
   "outputs": [
    {
     "data": {
      "text/plain": "Redditor(name='CitronResponsible811')"
     },
     "execution_count": 2,
     "metadata": {},
     "output_type": "execute_result"
    }
   ],
   "source": [
    "# Check if have read & write access\n",
    "# Read access -> for requesting post & comments information\n",
    "# Write access -> for requesting subreddit moderator list\n",
    "reddit.user.me()"
   ],
   "metadata": {
    "collapsed": false,
    "ExecuteTime": {
     "end_time": "2024-03-21T07:31:15.937115Z",
     "start_time": "2024-03-21T07:31:14.068819Z"
    }
   },
   "id": "800df2847bd509da",
   "execution_count": 2
  },
  {
   "cell_type": "markdown",
   "source": [
    "## Documentation about reddit API crawling library\n",
    "- Post docs: https://praw.readthedocs.io/en/stable/code_overview/models/submission.html#submission\n",
    "- Comments docs: https://praw.readthedocs.io/en/stable/code_overview/models/comment.html\n",
    "\n",
    "## Some errors encountered\n",
    "- instances of the MoreComments class, which represent \"load more comments\" links on the Reddit website."
   ],
   "metadata": {
    "collapsed": false
   },
   "id": "d073aa2ffe3d1b6d"
  },
  {
   "cell_type": "code",
   "outputs": [],
   "source": [
    "import csv\n",
    "import emoji\n",
    "import time\n",
    "import os\n",
    "from praw.models import MoreComments\n",
    "\n",
    "data_dir = 'data'\n",
    "\n",
    "def write_headers(subreddit_name):\n",
    "    # Write header first\n",
    "    with open(f'{os.path.join(data_dir, subreddit_name)}-posts.csv', 'w', newline='', encoding='utf-8') as f:\n",
    "        writer = csv.writer(f)\n",
    "        writer.writerow([\n",
    "            'author',\n",
    "            'author_flair_text',\n",
    "            'clicked',\n",
    "            'created_utc',\n",
    "            'distinguished',\n",
    "            'edited',\n",
    "            'id',\n",
    "            'is_original_content',\n",
    "            'is_self',\n",
    "            'link_flair_text',\n",
    "            'locked',\n",
    "            'name',\n",
    "            'num_comments',\n",
    "            'over_18',\n",
    "            'permalink',\n",
    "            'saved',\n",
    "            'score',\n",
    "            'selftext',\n",
    "            'spoiler',\n",
    "            'stickied',\n",
    "            'subreddit_name',\n",
    "            'title',\n",
    "            'upvote_ratio',\n",
    "            'url'\n",
    "        ])\n",
    "        \n",
    "    with open(f'{os.path.join(data_dir, subreddit_name)}-comments.csv', 'w', newline='', encoding='utf-8') as f:\n",
    "        writer = csv.writer(f)\n",
    "        writer.writerow([\n",
    "            'author',\n",
    "            'body',\n",
    "            'body_html',\n",
    "            'created_utc',\n",
    "            'distinguished',\n",
    "            'edited',\n",
    "            'id',\n",
    "            'is_submitter',\n",
    "            'link_id',\n",
    "            'parent_id',\n",
    "            'permalink',\n",
    "            'saved',\n",
    "            'score',\n",
    "            'stickied',\n",
    "            'subreddit_name',\n",
    "            'subreddit_id'\n",
    "        ])"
   ],
   "metadata": {
    "collapsed": false,
    "ExecuteTime": {
     "end_time": "2024-03-21T07:31:15.968996Z",
     "start_time": "2024-03-21T07:31:15.938117Z"
    }
   },
   "id": "f6cab9320c41daef",
   "execution_count": 3
  },
  {
   "cell_type": "code",
   "outputs": [],
   "source": [
    "def extract_all_post_comments_post_ids(mod_names, posts, subreddit_name, post_ids=[]):\n",
    "    # Prep headers first\n",
    "    write_headers(subreddit_name)\n",
    "    \n",
    "    for index, post in enumerate(posts, start=1):\n",
    "        # Skip mod posts, usually about rules etc, not helpful at all\n",
    "        if post.author and post.author.name in mod_names:\n",
    "            print(f\"No: {index}, Skipped mod post...\")\n",
    "            time.sleep(60) # Sleep for 60 seconds to avoid rate limit\n",
    "            continue\n",
    "        # Only write unique posts & comments\n",
    "        if post.id not in post_ids:\n",
    "            post_row = [\n",
    "                getattr(post, 'author', '[deleted]') or '[deleted]', # Some accounts are deleted\n",
    "                getattr(post, 'author_flair_text', 'None') or 'None',\n",
    "                getattr(post, 'clicked', None) or 'None',\n",
    "                # post.comments, # No need instance\n",
    "                getattr(post, 'created_utc', None) or 'None',\n",
    "                getattr(post, 'distinguished', None) or 'None',\n",
    "                getattr(post, 'edited', None) or 'None',\n",
    "                getattr(post, 'id', None) or 'None',\n",
    "                getattr(post, 'is_original_content', None) or 'None',\n",
    "                getattr(post, 'is_self', None) or 'None',\n",
    "                #post.link_flair_template_id,\n",
    "                getattr(post, 'link_flair_text', None) or 'None',\n",
    "                getattr(post, 'locked', None) or 'None',\n",
    "                getattr(post, 'name', None) or 'None',\n",
    "                getattr(post, 'num_comments', None) or 'None',\n",
    "                getattr(post, 'over_18', None) or 'None',\n",
    "                getattr(post, 'permalink', None) or 'None',\n",
    "                # post.poll_data,\n",
    "                getattr(post, 'saved', None) or 'None',\n",
    "                getattr(post, 'score', None) or 'None',\n",
    "                getattr(post, 'selftext', None) or 'None',\n",
    "                getattr(post, 'spoiler', None) or 'None',\n",
    "                getattr(post, 'stickied', None) or 'None',\n",
    "                subreddit_name,\n",
    "                getattr(post, 'title', None) or 'None',\n",
    "                getattr(post, 'upvote_ratio', None) or 'None',\n",
    "                getattr(post, 'url', None) or 'None'\n",
    "            ]\n",
    "            print(f\"No: {index}, Title: {subreddit_name}:{post.title}, PostID: {post.id}\")\n",
    "            \n",
    "            with open(f'{os.path.join(data_dir, subreddit_name)}-posts.csv', 'a', newline='', encoding='utf-8') as f:\n",
    "                # Write to file\n",
    "                writer = csv.writer(f)\n",
    "                writer.writerow(post_row)\n",
    "                \n",
    "            time.sleep(60) # Sleep for 60 seconds to avoid rate limit\n",
    "    \n",
    "            # Write post comments too\n",
    "            post = reddit.submission(id=post_row[6]) # post.id\n",
    "            \n",
    "            # post.comments.replace_more(limit=None)  # Fetch all comments replies\n",
    "            # for comment in post.comments.list():\n",
    "            #     # Skip comments that are deleted\n",
    "            #     if comment.body == '[deleted]':\n",
    "            #         continue\n",
    "            # If you want to fetch all comments, comment out skipping of MoreComments\n",
    "            \n",
    "            for comment in post.comments:\n",
    "                if isinstance(comment, MoreComments):\n",
    "                    # Skip lower level comments\n",
    "                    continue\n",
    "                # Skip mod comments, usually about rules\n",
    "                if comment.author and comment.author.name in mod_names:\n",
    "                    continue\n",
    "                # Skip comments that are deleted\n",
    "                if comment.body == '[deleted]' or comment.body == '[removed]':\n",
    "                    continue\n",
    "\n",
    "                comment_row = [\n",
    "                    getattr(comment, 'author', '[deleted]') or '[deleted]', # Some accounts are deleted\n",
    "                    emoji.demojize(getattr(comment, 'body', 'None')),\n",
    "                    emoji.demojize(getattr(comment, 'body_html', 'None')),\n",
    "                    getattr(comment, 'created_utc', None) or 'None',\n",
    "                    getattr(comment, 'distinguished', None) or 'None',\n",
    "                    getattr(comment, 'edited', None) or 'None',\n",
    "                    getattr(comment, 'id', None) or 'None',\n",
    "                    getattr(comment, 'is_submitter', None) or 'None',\n",
    "                    getattr(comment, 'link_id', None) or 'None',\n",
    "                    getattr(comment, 'parent_id', None) or 'None',\n",
    "                    getattr(comment, 'permalink', None) or 'None',\n",
    "                    # comment.replies, # No need instance, dont need replies to top level comments anyways\n",
    "                    getattr(comment, 'saved', None) or 'None',\n",
    "                    getattr(comment, 'score', None), # Downvotes - Upvotes\n",
    "                    getattr(comment, 'stickied', None) or 'None',\n",
    "                    # comment.submission, # No need instance, no need instance of user's posts\n",
    "                    subreddit_name,\n",
    "                    getattr(comment, 'subreddit_id', None) or None\n",
    "                ]\n",
    "    \n",
    "                with open(f'{os.path.join(data_dir, subreddit_name)}-comments.csv', 'a', newline='', encoding='utf-8') as f:\n",
    "                    writer = csv.writer(f)\n",
    "                    writer.writerow(comment_row)\n",
    "                    \n",
    "            post_ids.append(post.id)\n",
    "    return post_ids\n",
    "\n",
    "# Get subreddit mod ids\n",
    "def get_mod_list(subreddit_name):\n",
    "    mod_names = []\n",
    "    for moderator in reddit.subreddit(subreddit_name).moderator():\n",
    "        mod_names.append(moderator.name)\n",
    "        \n",
    "    return mod_names"
   ],
   "metadata": {
    "collapsed": false,
    "ExecuteTime": {
     "end_time": "2024-03-21T07:31:15.980137Z",
     "start_time": "2024-03-21T07:31:15.969998Z"
    }
   },
   "id": "484ba5be01a0bf1",
   "execution_count": 4
  },
  {
   "cell_type": "code",
   "outputs": [
    {
     "name": "stdout",
     "output_type": "stream",
     "text": [
      "No: 1, Title: teslamotors:Tesla's Summon feature was very useful today..., PostID: 7srdiw\n",
      "No: 2, Title: teslamotors:Elon Musk confirms secret Tesla ‘Carless Driver’ project, PostID: 7tvnx6\n",
      "No: 3, Title: teslamotors:Tesla vs Bugatti, PostID: 7e2ze2\n",
      "No: 4, Title: teslamotors:My grandpa just turned 91. This is his birthday present to himself., PostID: ma79ze\n",
      "No: 5, Title: teslamotors:Autopilot saves my model 3 from an accident!, PostID: andk8y\n",
      "No: 6, Title: teslamotors:Update to the previous post, PostID: 7p6z9u\n",
      "No: 7, Title: teslamotors:DAY ONE WITH MY TESLA!, PostID: 7yjrqa\n",
      "No: 8, Title: teslamotors:Saw this beaut in a parking lot today. Didn’t realize the owner was in it until after I walked past because of the tinted windows., PostID: 8iq8u9\n",
      "No: 9, Title: teslamotors:Elon Burn Ouch 🤕, PostID: l7fw2f\n",
      "No: 10, Title: teslamotors:All black everything 😎, PostID: 9ezo6i\n",
      "No: 11, Title: teslamotors:We have a visitor at work today, PostID: 7xrqyn\n",
      "No: 12, Title: teslamotors:Bill Nye flexing with his new Tesla battery grid., PostID: 8ydndo\n",
      "No: 13, Title: teslamotors:Doggo mode. Moose approved., PostID: aunr1m\n",
      "No: 14, Title: teslamotors:Tesla Model X bossing through that flooded area., PostID: d3e42b\n",
      "No: 15, Title: teslamotors:One Hundred Years of American innovation, PostID: b5cwym\n",
      "No: 16, Title: teslamotors:Elon being sassy to Jalopnik, when they deserved it after trying to call out Elon Musk on Autopilot., PostID: d0ioua\n",
      "No: 17, Title: teslamotors:In NYC today: Photos of the new F150 Lightning in the wild. I know this isn't a Tesla, so mods - feel free to take down if not appropriate., PostID: nlk5ii\n",
      "No: 18, Title: teslamotors:Stormtrooper roadster, PostID: 9ikx81\n",
      "No: 19, Title: teslamotors:UPS Pre-Orders 125 Tesla Electric Trucks, PostID: 7ktg18\n",
      "No: 20, Title: teslamotors:Autopawlit, PostID: hp36j7\n",
      "No: 21, Title: teslamotors:Tesla delivers N95 masks to UCLA Health, PostID: fn5gw1\n",
      "No: 22, Title: teslamotors:This Elon Tweet Makes Way More Sense Now, PostID: 7dmwuk\n",
      "No: 23, Title: teslamotors:The Race is on!, PostID: 7luapl\n",
      "No: 24, Title: teslamotors:Using Tesla app to melt snow & ice off before leaving the house, PostID: lvg29g\n",
      "No: 25, Title: teslamotors:Elon's letter about factory working conditions - he cares a lot!, PostID: 6erjqi\n",
      "No: 26, Title: teslamotors:When everyone says you will fail but you make 500k cars in 10 years from nothing, PostID: b1a45v\n",
      "No: 27, Title: teslamotors:Tesla perks, PostID: 6s0rvf\n",
      "No: 28, Title: teslamotors:The Brand New Tesla Model S, PostID: l6egn1\n",
      "No: 29, Title: teslamotors:Tesla enabling free supercharging for anyone in Hurricane Florence’s path, PostID: 9f7g4b\n",
      "No: 30, Title: teslamotors:Semi cockpit., PostID: cvj5ay\n",
      "No: 31, Title: teslamotors:Coming 2050, PostID: e0yw3t\n",
      "No: 32, Title: teslamotors:I’ve never had a supercharging experience like this one. These trucks blocked all the chargers, chanted “F” Tesla, and were kicked out by a Sheetz employee. Who do you report activity like this to? It was really uncomfortable., PostID: a8rl0a\n",
      "No: 33, Title: teslamotors:My daughter and I walked away, PostID: i6wf14\n",
      "No: 34, Title: teslamotors:1:30AM UPDATE - Still Trapped at a Supercharger, PostID: m8ac8v\n",
      "No: 35, Title: teslamotors:PepsiCo makes biggest public pre-order of Tesla Semis: 100 trucks, PostID: 7jabhr\n",
      "No: 36, Title: teslamotors:Ordered my model 3 on 9/21. Today a front fender randomly showed up at my house., PostID: d926d9\n",
      "No: 37, Title: teslamotors:Happy Thanksgiving r/TeslaMotors!, PostID: e37iky\n",
      "No: 38, Title: teslamotors:Saw this on a Tesla!, PostID: 5j29yf\n",
      "No: 39, Title: teslamotors:Elon Musk: If somebody comes and makes a better electric car than Tesla, so much better than ours that we can’t sell our cars and we go bankrupt, I still think that’s a good thing for the world., PostID: a45eax\n",
      "No: 40, Title: teslamotors:Size comparison between Model 3 and Cybertruck, PostID: e199jk\n",
      "No: 41, Title: teslamotors:We just drove from San Francisco to New York City in a Tesla Model X without using a single drop of gas!, PostID: 61yrt5\n",
      "No: 42, Title: teslamotors:To the Tesla owner who accidentally unplugged my car. We cool., PostID: de7jtv\n",
      "No: 43, Title: teslamotors:Tesla Identifies Model 3 Production Bottlenecks, PostID: 7bdvdq\n",
      "No: 44, Title: teslamotors:Normal day at the port of Norway, PostID: 7j2z6i\n",
      "No: 45, Title: teslamotors:I’m just wait..., PostID: lnio6i\n",
      "No: 46, Title: teslamotors:Cybertruck at Texas (from Tiktok), PostID: msjjy3\n",
      "No: 47, Title: teslamotors:Tesla. The new Apple., PostID: 7q6gsw\n",
      "No: 48, Title: teslamotors:Tesla store at my local mall has a prettt good sense of humor for April Fool’s, PostID: b841nl\n",
      "No: 49, Title: teslamotors:Tesla Model 3 gets perfect 5-star safety rating in every category from NHTSA, PostID: 9hf1ne\n",
      "No: 50, Title: teslamotors:Tron Tesla, PostID: k2g3aq\n",
      "No: 51, Title: teslamotors:You think ice cream truck stop signs are a problem?!, PostID: nrs8kf\n",
      "No: 52, Title: teslamotors:I bought myself an \"I beat cancer\" present. 2013 Model S and I love it!, PostID: jrt1c7\n",
      "No: 53, Title: teslamotors:@ElonMusk: “Gonna put an old school drive-in, roller skates & rock restaurant at one of the new Tesla Supercharger locations in LA”, PostID: 7onxro\n",
      "No: 54, Title: teslamotors:I will, everytime..., PostID: 5s3ts2\n",
      "No: 55, Title: teslamotors:Elon Musk Gets $2.1 Billion Richer This Week As Tesla Becomes America’s Most Valuable Car Company Ever, PostID: enaem0\n",
      "No: 56, Title: teslamotors:Roadster, PostID: 9e4t92\n",
      "No: 57, Title: teslamotors:Vintage style charger at ice cream shop, PostID: blytd4\n",
      "No: 58, Title: teslamotors:Tesla Semi spotted in Palo Alto!, PostID: 7vzpoz\n",
      "No: 59, Title: teslamotors:Model 3 $35k Standard confirmed, PostID: avwg8p\n",
      "No: 60, Title: teslamotors:Elon Musk deletes own, SpaceX and Tesla Facebook pages, PostID: 86m301\n",
      "No: 61, Title: teslamotors:The real reason for the cybertruck shape: Making it easier to ship., PostID: e0hvxq\n",
      "No: 62, Title: teslamotors:In response to the fake news. 3 roles, double ply...we're just fine 🤗, PostID: bt0d5z\n",
      "No: 63, Title: teslamotors:Don't lie to the cops when a Model 3 is directly behind you (especially when you hit another Model 3)..., PostID: c4wu67\n",
      "No: 64, Title: teslamotors:Please help our Turkish Tesla community reach Tesla! Entire country's time is wrong for the past 2 years! Turkey opted out of daylight savings 2 years ago but Tesla didn't update this on their servers so every winter our cars are an hour behind, not possible to fix. No e-mails are replied., PostID: ag6r2f\n",
      "No: 65, Title: teslamotors:My wife wanted a yellow model 3, PostID: 7wbd00\n",
      "No: 66, Title: teslamotors:Flat Black Model S, PostID: 6ku5qc\n",
      "No: 67, Title: teslamotors:Tesla mobile technician left me a Tesla Hot Wheels on my console after fixing my car, PostID: lqnvia\n",
      "No: 68, Title: teslamotors:That moment you mistake a Model 3 for your Hyundai, PostID: d4owlj\n",
      "No: 69, Title: teslamotors:Model S price changes to $69,420 tonight!, PostID: jb74tf\n",
      "No: 70, Title: teslamotors:My Wife Thinks She's Hilarious, PostID: 7vtfvz\n",
      "No: 71, Title: teslamotors:“One day I’m buying one!” ☝🏽, PostID: cph9bt\n",
      "No: 72, Title: teslamotors:My Two Babies: Delivered 1 Week Apart, PostID: 89tbhd\n",
      "No: 73, Title: teslamotors:Are you ready, world? We're coming for you., PostID: 6qo4kl\n",
      "No: 74, Title: teslamotors:Sentry mode FTW. I caught this fine citizen keying my M3 so bad you can see bare metal. Got video and the stills., PostID: dao5nt\n",
      "No: 75, Title: teslamotors:Tesla owners are not that stupid, they just sometimes encounter unusual situations, PostID: apxx8x\n",
      "No: 76, Title: teslamotors:Tesla Semi truck unveil set for September. Team has done an amazing job. Seriously next level., PostID: 65738r\n",
      "No: 77, Title: teslamotors:Elon Musk replied to me on Twitter with the cold hard truth., PostID: bio7zf\n",
      "No: 78, Title: teslamotors:Cybertruck Update: it floats!, PostID: l4g41e\n",
      "No: 79, Title: teslamotors:2020 LR - honestly, should I have kept it stock or does it look better now?, PostID: m4b5ca\n",
      "No: 80, Title: teslamotors:My Tesla kept my family from freezing last night., PostID: ll4ffe\n",
      "No: 81, Title: teslamotors:Acceleration Boost Upgrade Live!, PostID: ecm6m8\n",
      "No: 82, Title: teslamotors:Tesla Business Cards React with Augmented Reality Apps, PostID: 8yuxbw\n",
      "No: 83, Title: teslamotors:Tesla no longer accepts Bitcoin according to Musk, PostID: nb0tsh\n",
      "No: 84, Title: teslamotors:Only Tesla taxis in Amsterdam, PostID: 81xi87\n",
      "No: 85, Title: teslamotors:Parking your Tesla in the wrong spot, PostID: 7y69q2\n",
      "No: 86, Title: teslamotors:Volvo credits Tesla for creating EV demand, says they will stop developing diesel engines to focus on EVs, PostID: 6brs1o\n",
      "No: 87, Title: teslamotors:Saw a green Roadster today 😍, PostID: 800aih\n",
      "No: 88, Title: teslamotors:Tesla keeps the bragging rights, PostID: lgdnqj\n",
      "No: 89, Title: teslamotors:So this happened yesterday, my date with u/cdbz11 and our babies, PostID: 6ulen7\n",
      "No: 90, Title: teslamotors:Buys a Tesla ONCE., PostID: i0s0s1\n",
      "No: 91, Title: teslamotors:Major Tesla Investor Calls for New CEO, Says Musk Has Abandoned EV Maker, PostID: zprb09\n",
      "No: 92, Title: teslamotors:Big Hero S3XY, PostID: jgdj1w\n",
      "No: 93, Title: teslamotors:Papaya!, PostID: m0oc5i\n",
      "No: 94, Title: teslamotors:The double standards that are applied to electric cars are really annoying. If an ICE car caught on fire in China, would it be world news?, PostID: bgmnus\n",
      "No: 95, Title: teslamotors:I’m currently in Lake Tahoe at a Super Charger and a man just pulled into the charger in his truck and ran into the charger port, then went in to a grocery store. It now has a slight lean. I have his license plate as well. Not sure who I should call or if I should do anything. Thoughts?, PostID: k10qe6\n",
      "No: 96, Title: teslamotors:My new Model S! All black everything, PostID: 6svp7n\n",
      "No: 97, Title: teslamotors:Shoutout to Sentry mode for capturing this jerk throwing a rock at my front and rear windshield, PostID: k5olsj\n",
      "No: 98, Title: teslamotors:When you‘re turning the corner on the on-ramp and the highway is quiet and you have a choice between conserving Kwh or seeing how fast you can hit 110, PostID: cntie5\n",
      "No: 99, Title: teslamotors:Getting ready for Halloween, PostID: db1ttt\n",
      "No: 100, Title: teslamotors:Tesla is no longer allowing remote work [@samnissim], PostID: v25ee0\n",
      "No: 1, Title: RealTesla:Cybertruck prototype vs production, PostID: 167h9d8\n",
      "No: 2, Title: RealTesla:US Billionaire Drowns in Tesla After Rescuers Struggle With Car's Strengthened Glass, PostID: 1bc2tnr\n",
      "No: 3, Title: RealTesla:Tesla is now the second most unpopular car brand in the US., PostID: 13v971j\n",
      "No: 4, Title: RealTesla:r/cybertruck Got very upset with me, PostID: 16e9lxs\n",
      "No: 5, Title: RealTesla:My reserved cybertruck now free for the taking, PostID: 16djuzf\n",
      "No: 6, Title: RealTesla:Disapproval of Elon Musk is top reason Tesla owners are selling, survey says, PostID: 15c6xk9\n",
      "No: 7, Title: RealTesla:Tesla starts shipping $3,000 Cybertruck tent, looks nothing like what was unveiled, PostID: 1b9qyn3\n",
      "No: 8, Title: RealTesla:Tesla repossessed my car due to an extreme oversight on their end, PostID: 15u8wuv\n",
      "No: 9, Title: RealTesla:We know stainless., PostID: 1atasez\n",
      "No: 10, Title: RealTesla:Tesla owners thinking they invented car meets..., PostID: 15f61tq\n",
      "No: 11, Title: RealTesla:Elon Musk acted like a 'little baby' and was 'almost in tears' on Tesla's 'terrible' earnings call, analyst says, PostID: 17dywuz\n",
      "No: 12, Title: RealTesla:Sorry - what was that about HEPA filters, Elon?, PostID: 145wnxk\n",
      "No: 13, Title: RealTesla:Hundreds of business execs just ranked Elon Musk America's most overrated CEO, PostID: 1agag4l\n",
      "No: 14, Title: RealTesla:Yoke steering wheel after 8 months of use, PostID: 16fazq9\n",
      "No: 15, Title: RealTesla:Elon Musk Stormed Into the Tesla Office Furious That Autopilot Tried to Kill Him, PostID: 16kfdds\n",
      "No: 16, Title: RealTesla:Elon Musk Has Used Illegal Drugs, Worrying Leaders at Tesla and SpaceX - Some executives and board members fear the billionaire’s use of drugs—including LSD, cocaine, ecstasy, mushrooms and ketamine—could harm his companies, PostID: 190hnyi\n",
      "No: 17, Title: RealTesla:Tesla owners are angry about buying their vehicles right before the latest big price cuts—and are letting Elon Musk know: ‘I feel completely duped’, PostID: 168ko1y\n",
      "No: 18, Title: RealTesla:Average Tesla driver, PostID: 15luxv2\n",
      "No: 19, Title: RealTesla:Elon and Jared Kushner at the World Cup Final, PostID: zp6bmz\n",
      "No: 20, Title: RealTesla:Mods are asleep, upvote the real Tesla, PostID: i5wfjf\n",
      "No: 21, Title: RealTesla:Tesla discounts Model S by $30,000, and Model X by $41,000, PostID: 167am8c\n",
      "No: 22, Title: RealTesla:Based on a true story., PostID: 168auwz\n",
      "No: 23, Title: RealTesla:Ross Gerber Says Elon Musk Should Buy Tesla Stock 'Like Rest Of Us' If He Wants 25% Voting Rights, PostID: 198uv5b\n",
      "No: 24, Title: RealTesla:Musk Secretly Used Starlink to Foil Ukrainian Drone Attack on Russian Ships: Report, PostID: 16ci4ft\n",
      "No: 25, Title: RealTesla:AOC says she's looking to trade in her Tesla for a union-made EV after clash with Elon Musk, PostID: 16rde7x\n",
      "No: 26, Title: RealTesla:Elon Musk complains about his smaller stake in Tesla after wasting it on buying Twitter, PostID: 197oru9\n",
      "No: 27, Title: RealTesla:$100k Car., PostID: ry6tll\n",
      "No: 28, Title: RealTesla:Elon Musk’s $55 Billion Tesla Pay Package Voided by Judge, PostID: 1af0hot\n",
      "No: 29, Title: RealTesla:Whistleblower Drops 100 Gigabytes Of Tesla Secrets To German News Site: Report, PostID: 13rsii1\n",
      "No: 30, Title: RealTesla:Dirty cyber trucks out for delivery., PostID: 168b77b\n",
      "No: 31, Title: RealTesla:So my tesla model y just crashed into a curb due to FSD., PostID: 13qtxdb\n",
      "No: 32, Title: RealTesla:Elon Musk shot himself in the foot when he said LiDAR is useless; his cars can’t reliably see anything around them. Meanwhile, everyone is turning to LiDAR and he is too stubborn to admit he was wrong., PostID: 17p6lgt\n",
      "No: 33, Title: RealTesla:They keep showing it from the side, PostID: 16rup69\n",
      "No: 34, Title: RealTesla:Tesla CEO Elon Musk is hurting demand every day: Investor, PostID: 1beuxw4\n",
      "No: 35, Title: RealTesla:Can anyone explain how these A pillars are legal?, PostID: 13ssdok\n",
      "No: 36, Title: RealTesla:OEM engineer talks about stripping down a Tesla, PostID: 16me508\n",
      "No: 37, Title: RealTesla:Elon Musk Wasn't A Superstar Genius Student As A Kid — The Principal Thought He Was Intellectually Disabled, Mom Says: 'Once He Started Going To School, He Became So Lonely And Sad', PostID: 172kh99\n",
      "No: 38, Title: RealTesla:Musk is appearing to lose his grip on reality. The world’s richest man — a person with a security clearance and government contracts — is threatening to hunt down a rival CEO at his house and challenge him to a duel., PostID: 15rm6od\n",
      "No: 39, Title: RealTesla:Cybertruck bed expectations vs reality, PostID: 16rwcwx\n",
      "No: 40, Title: RealTesla:one of the richest companies in the world, folks…, PostID: 163a1zl\n",
      "No: 41, Title: RealTesla:Another pic from that Cybertruck crash posted earlier - Credit to Whole Mars Catalogue on twit., PostID: 18tllt0\n",
      "No: 42, Title: RealTesla:Terrified Elon Musk Suggests \"Debate\" With Zuckerberg Instead of Cage Fight, PostID: 15o2z6c\n",
      "No: 43, Title: RealTesla:Elon Musk's X will go to court after failing to pay staff millions in annual bonuses., PostID: 18roqnp\n",
      "No: 44, Title: RealTesla:\"Elon Musk is for free speech, so naturally he would team up with Ron DeSantis who bans books and words in Florida.\", PostID: 13st3wj\n",
      "No: 45, Title: RealTesla:\"brand new\" Tesla catches fire in home garage, burns other Tesla too. Tesla insurance and warranty claims denied, PostID: 195zq5s\n",
      "No: 46, Title: RealTesla:\"According to Elon Musk’s own math, the company formerly known as Twitter has lost 90% of its value and could be worth just $4 billion\", PostID: 16bylr6\n"
     ]
    }
   ],
   "source": [
    "# Start extracting\n",
    "## Specialized subreddits\n",
    "specialized_subreddits = [\n",
    "    # General electric car subreddits\n",
    "    # \"electricvehicles\",\n",
    "    # \"electriccars\",\n",
    "    # \"nzev\",\n",
    "    # \"ElectricCarUK\",\n",
    "    # \"evcharging\",\n",
    "    \n",
    "    # Electric Car brands subreddits\n",
    "    # \"teslamotors\", # Tesla 100% electric car brand\n",
    "    \"RealTesla\",\n",
    "    \"BMWi3\", # BMW I3 car model electric\n",
    "    \"leaf\", # Nissan LEAF EV car model\n",
    "    \"BoltEV\", # Chevrolet Bolt EV car model\n",
    "    \"F150Lightning\", # Ford F150 Lightning EV car model\n",
    "    \"Taycan\", # Porsche Taycan EV car model\n",
    "    \"KiaEV6\", # Kia EV6 car model\n",
    "]\n",
    "\n",
    "for subreddit_name in specialized_subreddits:\n",
    "    subreddit = reddit.subreddit(subreddit_name)\n",
    "    posts = subreddit.top(limit=100, time_filter='all')\n",
    "    extract_all_post_comments_post_ids(get_mod_list(subreddit_name), posts, subreddit_name)"
   ],
   "metadata": {
    "collapsed": false,
    "ExecuteTime": {
     "start_time": "2024-03-21T07:31:16.416944Z"
    }
   },
   "id": "989e35c73c5aeecd",
   "execution_count": null
  },
  {
   "cell_type": "markdown",
   "source": [
    "## General subreddits with search filters"
   ],
   "metadata": {
    "collapsed": false
   },
   "id": "d12aa32ccd45bf40"
  },
  {
   "cell_type": "code",
   "outputs": [],
   "source": [
    "general_subreddits = [\n",
    "    \"cars\",\n",
    "]\n",
    "\n",
    "search_terms = [\n",
    "    'ev',\n",
    "]\n",
    "\n",
    "for subreddit_name in general_subreddits:\n",
    "    post_ids = []\n",
    "    for search_term in search_terms:\n",
    "        subreddit = reddit.subreddit(subreddit_name)\n",
    "        search_results = subreddit.search(search_term, sort='relevance', limit=100)\n",
    "        post_ids.extend(extract_all_post_comments_post_ids(get_mod_list(subreddit_name), search_results, f'{subreddit_name}-{search_term}', post_ids))\n",
    "        post_ids = list(set(post_ids))"
   ],
   "metadata": {
    "collapsed": false,
    "ExecuteTime": {
     "start_time": "2024-03-18T16:27:45.214863Z"
    }
   },
   "id": "a128188cd6a38a2",
   "execution_count": null
  },
  {
   "cell_type": "markdown",
   "source": [
    "# PART 2: Get dataset summaries\n",
    "## Summary of all different subreddit posts & comments"
   ],
   "metadata": {
    "collapsed": false
   },
   "id": "c54dd80ffcd1a8c7"
  },
  {
   "cell_type": "code",
   "outputs": [
    {
     "name": "stdout",
     "output_type": "stream",
     "text": [
      "File: BMWi3-comments.csv, Rows: 1259\n",
      "File: BMWi3-posts.csv, Rows: 100\n",
      "File: cars-diesel-comments.csv, Rows: 2578\n",
      "File: cars-diesel-posts.csv, Rows: 94\n",
      "File: cars-electric-comments.csv, Rows: 5579\n",
      "File: cars-electric-posts.csv, Rows: 98\n",
      "File: cars-gasoline-comments.csv, Rows: 2326\n",
      "File: cars-gasoline-posts.csv, Rows: 99\n",
      "File: cars-petrol-comments.csv, Rows: 2211\n",
      "File: cars-petrol-posts.csv, Rows: 100\n",
      "File: electriccars-comments.csv, Rows: 2337\n",
      "File: electriccars-posts.csv, Rows: 100\n",
      "File: ElectricCarUK-comments.csv, Rows: 99\n",
      "File: ElectricCarUK-posts.csv, Rows: 100\n",
      "File: electricvehicles-comments.csv, Rows: 6901\n",
      "File: electricvehicles-posts.csv, Rows: 100\n",
      "File: evcharging-comments.csv, Rows: 1432\n",
      "File: evcharging-posts.csv, Rows: 100\n",
      "File: nzev-comments.csv, Rows: 1565\n",
      "File: nzev-posts.csv, Rows: 100\n",
      "File: RealTesla-comments.csv, Rows: 10784\n",
      "File: RealTesla-posts.csv, Rows: 100\n",
      "File: TeslaModel3-comments.csv, Rows: 16375\n",
      "File: TeslaModel3-posts.csv, Rows: 100\n",
      "File: teslamotors-comments.csv, Rows: 11810\n",
      "File: teslamotors-posts.csv, Rows: 100\n"
     ]
    }
   ],
   "source": [
    "# Load all comments file, check unique word count\n",
    "import os\n",
    "import pandas as pd\n",
    "\n",
    "data_dir = 'data2'\n",
    "\n",
    "# Since same format, combine all comments csv into a massive df\n",
    "comment_main_df = pd.DataFrame()\n",
    "post_main_df = pd.DataFrame()\n",
    "for file in os.listdir(data_dir):\n",
    "    df = pd.read_csv(f'{data_dir}/{file}')\n",
    "    print(f\"File: {file}, Rows: {len(df)}\")\n",
    "    if file.endswith(\"comments.csv\"):\n",
    "        comment_main_df = pd.concat([comment_main_df, df])\n",
    "    elif file.endswith(\"posts.csv\"):\n",
    "        post_main_df = pd.concat([post_main_df, df])"
   ],
   "metadata": {
    "collapsed": false,
    "ExecuteTime": {
     "end_time": "2024-03-19T08:49:33.127077Z",
     "start_time": "2024-03-19T08:49:31.946527Z"
    }
   },
   "id": "a3c9ee16e9249116",
   "execution_count": 1
  },
  {
   "cell_type": "markdown",
   "source": [
    "## Combined size"
   ],
   "metadata": {
    "collapsed": false
   },
   "id": "6bcc67360fa2a33"
  },
  {
   "cell_type": "code",
   "outputs": [
    {
     "data": {
      "text/plain": "(1291, 23)"
     },
     "execution_count": 2,
     "metadata": {},
     "output_type": "execute_result"
    }
   ],
   "source": [
    "post_main_df.shape"
   ],
   "metadata": {
    "collapsed": false,
    "ExecuteTime": {
     "end_time": "2024-03-19T08:49:33.134479Z",
     "start_time": "2024-03-19T08:49:33.128078Z"
    }
   },
   "id": "1268cbdf99e9249",
   "execution_count": 2
  },
  {
   "cell_type": "code",
   "outputs": [
    {
     "data": {
      "text/plain": "(65256, 14)"
     },
     "execution_count": 3,
     "metadata": {},
     "output_type": "execute_result"
    }
   ],
   "source": [
    "comment_main_df.shape"
   ],
   "metadata": {
    "collapsed": false,
    "ExecuteTime": {
     "end_time": "2024-03-19T08:49:33.139576Z",
     "start_time": "2024-03-19T08:49:33.135483Z"
    }
   },
   "id": "98fc2600d534195c",
   "execution_count": 3
  },
  {
   "cell_type": "markdown",
   "source": [
    "## Checking for duplicated id & remove them"
   ],
   "metadata": {
    "collapsed": false
   },
   "id": "6a72be952e32a825"
  },
  {
   "cell_type": "code",
   "outputs": [
    {
     "data": {
      "text/plain": "Empty DataFrame\nColumns: [body, body_html, created_utc, distinguished, edited, id, is_submitter, link_id, parent_id, permalink, saved, score, stickied, subreddit_id]\nIndex: []",
      "text/html": "<div>\n<style scoped>\n    .dataframe tbody tr th:only-of-type {\n        vertical-align: middle;\n    }\n\n    .dataframe tbody tr th {\n        vertical-align: top;\n    }\n\n    .dataframe thead th {\n        text-align: right;\n    }\n</style>\n<table border=\"1\" class=\"dataframe\">\n  <thead>\n    <tr style=\"text-align: right;\">\n      <th></th>\n      <th>body</th>\n      <th>body_html</th>\n      <th>created_utc</th>\n      <th>distinguished</th>\n      <th>edited</th>\n      <th>id</th>\n      <th>is_submitter</th>\n      <th>link_id</th>\n      <th>parent_id</th>\n      <th>permalink</th>\n      <th>saved</th>\n      <th>score</th>\n      <th>stickied</th>\n      <th>subreddit_id</th>\n    </tr>\n  </thead>\n  <tbody>\n  </tbody>\n</table>\n</div>"
     },
     "execution_count": 4,
     "metadata": {},
     "output_type": "execute_result"
    }
   ],
   "source": [
    "# Check for duplicates using id\n",
    "post_main_df[post_main_df.duplicated(subset=['id'], keep='first')]"
   ],
   "metadata": {
    "collapsed": false,
    "ExecuteTime": {
     "end_time": "2024-03-19T08:49:33.161780Z",
     "start_time": "2024-03-19T08:49:33.140579Z"
    }
   },
   "id": "8e6f235dad6692e2",
   "execution_count": 4
  },
  {
   "cell_type": "code",
   "outputs": [
    {
     "data": {
      "text/plain": "Empty DataFrame\nColumns: [body, body_html, created_utc, distinguished, edited, id, is_submitter, link_id, parent_id, permalink, saved, score, stickied, subreddit_id]\nIndex: []",
      "text/html": "<div>\n<style scoped>\n    .dataframe tbody tr th:only-of-type {\n        vertical-align: middle;\n    }\n\n    .dataframe tbody tr th {\n        vertical-align: top;\n    }\n\n    .dataframe thead th {\n        text-align: right;\n    }\n</style>\n<table border=\"1\" class=\"dataframe\">\n  <thead>\n    <tr style=\"text-align: right;\">\n      <th></th>\n      <th>body</th>\n      <th>body_html</th>\n      <th>created_utc</th>\n      <th>distinguished</th>\n      <th>edited</th>\n      <th>id</th>\n      <th>is_submitter</th>\n      <th>link_id</th>\n      <th>parent_id</th>\n      <th>permalink</th>\n      <th>saved</th>\n      <th>score</th>\n      <th>stickied</th>\n      <th>subreddit_id</th>\n    </tr>\n  </thead>\n  <tbody>\n  </tbody>\n</table>\n</div>"
     },
     "execution_count": 6,
     "metadata": {},
     "output_type": "execute_result"
    }
   ],
   "source": [
    "comment_main_df[comment_main_df.duplicated(subset=['id'], keep='first')]"
   ],
   "metadata": {
    "collapsed": false,
    "ExecuteTime": {
     "end_time": "2024-03-19T08:50:36.059802Z",
     "start_time": "2024-03-19T08:50:36.044285Z"
    }
   },
   "id": "ee1ef82965aa2385",
   "execution_count": 6
  },
  {
   "cell_type": "code",
   "outputs": [],
   "source": [
    "# Remove any duplicates detected\n",
    "post_main_df.drop_duplicates(subset=['id'], keep='first')\n",
    "comment_main_df.drop_duplicates(subset=['id'], keep='first')"
   ],
   "metadata": {
    "collapsed": false
   },
   "id": "43531840dac74a17"
  },
  {
   "cell_type": "markdown",
   "source": [
    "## Checking for duplicated comments & post (Some might be crossposted, different id but same title but different comments)\n",
    "- We decided to keep them as they are same post contents but different comments"
   ],
   "metadata": {
    "collapsed": false
   },
   "id": "44b6373a781c78a0"
  },
  {
   "cell_type": "code",
   "outputs": [
    {
     "data": {
      "text/plain": "                 author author_flair_text  clicked   created_utc  \\\n21             wewewawa               NaN      NaN  1.699695e+09   \n58  ElectricVehicleNick               NaN      NaN  1.551115e+09   \n98  ElectricVehicleNick               NaN      NaN  1.551218e+09   \n34        manual_tranny               NaN      NaN  1.691671e+09   \n5              gman1023               NaN      NaN  1.690573e+09   \n75            TiltedWit               NaN      NaN  1.699650e+09   \n\n   distinguished  edited       id  is_original_content is_self  \\\n21           NaN     NaN  17sr2l7                  NaN     NaN   \n58           NaN     NaN   auno60                  NaN     NaN   \n98           NaN     NaN   av545a                  NaN     NaN   \n34           NaN     NaN  15nbggi                  NaN     NaN   \n5            NaN     NaN  15c6xk9                  NaN     NaN   \n75           NaN     NaN  17sdqni                  NaN     NaN   \n\n   link_flair_text  ... over_18  \\\n21             NaN  ...     NaN   \n58             NaN  ...     NaN   \n98             NaN  ...     NaN   \n34            News  ...     NaN   \n5      HELP NEEDED  ...     NaN   \n75             NaN  ...     NaN   \n\n                                            permalink  saved   score selftext  \\\n21  /r/electriccars/comments/17sr2l7/if_you_bought...    NaN   126.0      NaN   \n58  /r/ElectricCarUK/comments/auno60/nissan_leaf_p...    NaN     2.0      NaN   \n98  /r/ElectricCarUK/comments/av545a/nissan_leaf_p...    NaN     1.0      NaN   \n34  /r/electricvehicles/comments/15nbggi/disapprov...    NaN  2028.0      NaN   \n5   /r/RealTesla/comments/15c6xk9/disapproval_of_e...    NaN  5039.0      NaN   \n75  /r/RealTesla/comments/17sdqni/if_you_bought_a_...    NaN  1397.0      NaN   \n\n    spoiler  stickied                                              title  \\\n21      NaN       NaN  If You Bought A Tesla One Year Ago It Has Lost...   \n58      NaN       NaN  Nissan LEAF Plus first drive review: more of a...   \n98      NaN       NaN  Nissan LEAF Plus first drive review: more of a...   \n34      NaN       NaN  Disapproval of Elon Musk is top reason Tesla o...   \n5       NaN       NaN  Disapproval of Elon Musk is top reason Tesla o...   \n75      NaN       NaN  If You Bought A Tesla One Year Ago It Has Lost...   \n\n    upvote_ratio                                                url  \n21          0.82  https://jalopnik.com/if-you-bought-a-tesla-one...  \n58          1.00  https://electrek.co/2019/02/25/nissan-leaf-plu...  \n98          1.00  https://electrek.co/2019/02/25/nissan-leaf-plu...  \n34          0.91  https://electrek.co/2023/07/27/disapproval-elo...  \n5           0.95  https://electrek.co/2023/07/27/disapproval-elo...  \n75          0.94  https://jalopnik.com/if-you-bought-a-tesla-one...  \n\n[6 rows x 23 columns]",
      "text/html": "<div>\n<style scoped>\n    .dataframe tbody tr th:only-of-type {\n        vertical-align: middle;\n    }\n\n    .dataframe tbody tr th {\n        vertical-align: top;\n    }\n\n    .dataframe thead th {\n        text-align: right;\n    }\n</style>\n<table border=\"1\" class=\"dataframe\">\n  <thead>\n    <tr style=\"text-align: right;\">\n      <th></th>\n      <th>author</th>\n      <th>author_flair_text</th>\n      <th>clicked</th>\n      <th>created_utc</th>\n      <th>distinguished</th>\n      <th>edited</th>\n      <th>id</th>\n      <th>is_original_content</th>\n      <th>is_self</th>\n      <th>link_flair_text</th>\n      <th>...</th>\n      <th>over_18</th>\n      <th>permalink</th>\n      <th>saved</th>\n      <th>score</th>\n      <th>selftext</th>\n      <th>spoiler</th>\n      <th>stickied</th>\n      <th>title</th>\n      <th>upvote_ratio</th>\n      <th>url</th>\n    </tr>\n  </thead>\n  <tbody>\n    <tr>\n      <th>21</th>\n      <td>wewewawa</td>\n      <td>NaN</td>\n      <td>NaN</td>\n      <td>1.699695e+09</td>\n      <td>NaN</td>\n      <td>NaN</td>\n      <td>17sr2l7</td>\n      <td>NaN</td>\n      <td>NaN</td>\n      <td>NaN</td>\n      <td>...</td>\n      <td>NaN</td>\n      <td>/r/electriccars/comments/17sr2l7/if_you_bought...</td>\n      <td>NaN</td>\n      <td>126.0</td>\n      <td>NaN</td>\n      <td>NaN</td>\n      <td>NaN</td>\n      <td>If You Bought A Tesla One Year Ago It Has Lost...</td>\n      <td>0.82</td>\n      <td>https://jalopnik.com/if-you-bought-a-tesla-one...</td>\n    </tr>\n    <tr>\n      <th>58</th>\n      <td>ElectricVehicleNick</td>\n      <td>NaN</td>\n      <td>NaN</td>\n      <td>1.551115e+09</td>\n      <td>NaN</td>\n      <td>NaN</td>\n      <td>auno60</td>\n      <td>NaN</td>\n      <td>NaN</td>\n      <td>NaN</td>\n      <td>...</td>\n      <td>NaN</td>\n      <td>/r/ElectricCarUK/comments/auno60/nissan_leaf_p...</td>\n      <td>NaN</td>\n      <td>2.0</td>\n      <td>NaN</td>\n      <td>NaN</td>\n      <td>NaN</td>\n      <td>Nissan LEAF Plus first drive review: more of a...</td>\n      <td>1.00</td>\n      <td>https://electrek.co/2019/02/25/nissan-leaf-plu...</td>\n    </tr>\n    <tr>\n      <th>98</th>\n      <td>ElectricVehicleNick</td>\n      <td>NaN</td>\n      <td>NaN</td>\n      <td>1.551218e+09</td>\n      <td>NaN</td>\n      <td>NaN</td>\n      <td>av545a</td>\n      <td>NaN</td>\n      <td>NaN</td>\n      <td>NaN</td>\n      <td>...</td>\n      <td>NaN</td>\n      <td>/r/ElectricCarUK/comments/av545a/nissan_leaf_p...</td>\n      <td>NaN</td>\n      <td>1.0</td>\n      <td>NaN</td>\n      <td>NaN</td>\n      <td>NaN</td>\n      <td>Nissan LEAF Plus first drive review: more of a...</td>\n      <td>1.00</td>\n      <td>https://electrek.co/2019/02/25/nissan-leaf-plu...</td>\n    </tr>\n    <tr>\n      <th>34</th>\n      <td>manual_tranny</td>\n      <td>NaN</td>\n      <td>NaN</td>\n      <td>1.691671e+09</td>\n      <td>NaN</td>\n      <td>NaN</td>\n      <td>15nbggi</td>\n      <td>NaN</td>\n      <td>NaN</td>\n      <td>News</td>\n      <td>...</td>\n      <td>NaN</td>\n      <td>/r/electricvehicles/comments/15nbggi/disapprov...</td>\n      <td>NaN</td>\n      <td>2028.0</td>\n      <td>NaN</td>\n      <td>NaN</td>\n      <td>NaN</td>\n      <td>Disapproval of Elon Musk is top reason Tesla o...</td>\n      <td>0.91</td>\n      <td>https://electrek.co/2023/07/27/disapproval-elo...</td>\n    </tr>\n    <tr>\n      <th>5</th>\n      <td>gman1023</td>\n      <td>NaN</td>\n      <td>NaN</td>\n      <td>1.690573e+09</td>\n      <td>NaN</td>\n      <td>NaN</td>\n      <td>15c6xk9</td>\n      <td>NaN</td>\n      <td>NaN</td>\n      <td>HELP NEEDED</td>\n      <td>...</td>\n      <td>NaN</td>\n      <td>/r/RealTesla/comments/15c6xk9/disapproval_of_e...</td>\n      <td>NaN</td>\n      <td>5039.0</td>\n      <td>NaN</td>\n      <td>NaN</td>\n      <td>NaN</td>\n      <td>Disapproval of Elon Musk is top reason Tesla o...</td>\n      <td>0.95</td>\n      <td>https://electrek.co/2023/07/27/disapproval-elo...</td>\n    </tr>\n    <tr>\n      <th>75</th>\n      <td>TiltedWit</td>\n      <td>NaN</td>\n      <td>NaN</td>\n      <td>1.699650e+09</td>\n      <td>NaN</td>\n      <td>NaN</td>\n      <td>17sdqni</td>\n      <td>NaN</td>\n      <td>NaN</td>\n      <td>NaN</td>\n      <td>...</td>\n      <td>NaN</td>\n      <td>/r/RealTesla/comments/17sdqni/if_you_bought_a_...</td>\n      <td>NaN</td>\n      <td>1397.0</td>\n      <td>NaN</td>\n      <td>NaN</td>\n      <td>NaN</td>\n      <td>If You Bought A Tesla One Year Ago It Has Lost...</td>\n      <td>0.94</td>\n      <td>https://jalopnik.com/if-you-bought-a-tesla-one...</td>\n    </tr>\n  </tbody>\n</table>\n<p>6 rows × 23 columns</p>\n</div>"
     },
     "execution_count": 15,
     "metadata": {},
     "output_type": "execute_result"
    }
   ],
   "source": [
    "post_main_df[post_main_df.duplicated(subset=['title'], keep=False)]"
   ],
   "metadata": {
    "collapsed": false,
    "ExecuteTime": {
     "end_time": "2024-03-19T09:29:19.324693Z",
     "start_time": "2024-03-19T09:29:19.308612Z"
    }
   },
   "id": "d08f81ec9b60808b",
   "execution_count": 15
  },
  {
   "cell_type": "code",
   "outputs": [
    {
     "data": {
      "text/plain": "                    body                                         body_html  \\\n6               Congrats           <div class=\"md\"><p>Congrats</p>\\n</div>   \n34             Congrats!          <div class=\"md\"><p>Congrats!</p>\\n</div>   \n70             Congrats!          <div class=\"md\"><p>Congrats!</p>\\n</div>   \n92            Beautiful!         <div class=\"md\"><p>Beautiful!</p>\\n</div>   \n105         Looks great!       <div class=\"md\"><p>Looks great!</p>\\n</div>   \n...                  ...                                               ...   \n11657           HAHAHAHA           <div class=\"md\"><p>HAHAHAHA</p>\\n</div>   \n11677            Amazing            <div class=\"md\"><p>Amazing</p>\\n</div>   \n11703  This is hilarious  <div class=\"md\"><p>This is hilarious</p>\\n</div>   \n11713                Lel                <div class=\"md\"><p>Lel</p>\\n</div>   \n11733          Excellent          <div class=\"md\"><p>Excellent</p>\\n</div>   \n\n        created_utc distinguished  edited       id is_submitter     link_id  \\\n6      1.648558e+09           NaN     NaN  i2k2yt1          NaN   t3_tqghan   \n34     1.708648e+09           NaN     NaN  krowqok          NaN  t3_1axmm77   \n70     1.685016e+09           NaN     NaN  jljyc47          NaN  t3_13rc663   \n92     1.684768e+09           NaN     NaN  jl5xmy6          NaN  t3_13o1009   \n105    1.696521e+09           NaN     NaN  k3l86qm          NaN  t3_170lc98   \n...             ...           ...     ...      ...          ...         ...   \n11657  1.565487e+09           NaN     NaN  ewkkc38          NaN   t3_cntie5   \n11677  1.569808e+09           NaN     NaN  f1y1r70          NaN   t3_db1ttt   \n11703  1.569819e+09           NaN     NaN  f1ylkcu          NaN   t3_db1ttt   \n11713  1.569838e+09           NaN     NaN  f1z7te8          NaN   t3_db1ttt   \n11733  1.569798e+09           NaN     NaN  f1xfaja          NaN   t3_db1ttt   \n\n        parent_id                                          permalink  saved  \\\n6       t3_tqghan  /r/BMWi3/comments/tqghan/my_reward_for_finally...    NaN   \n34     t3_1axmm77      /r/BMWi3/comments/1axmm77/100k_miles/krowqok/    NaN   \n70     t3_13rc663  /r/BMWi3/comments/13rc663/picked_her_up_straig...    NaN   \n92     t3_13o1009  /r/BMWi3/comments/13o1009/picked_up_this_littl...    NaN   \n105    t3_170lc98  /r/BMWi3/comments/170lc98/pulled_the_ev_trigge...    NaN   \n...           ...                                                ...    ...   \n11657   t3_cntie5  /r/teslamotors/comments/cntie5/when_youre_turn...    NaN   \n11677   t3_db1ttt  /r/teslamotors/comments/db1ttt/getting_ready_f...    NaN   \n11703   t3_db1ttt  /r/teslamotors/comments/db1ttt/getting_ready_f...    NaN   \n11713   t3_db1ttt  /r/teslamotors/comments/db1ttt/getting_ready_f...    NaN   \n11733   t3_db1ttt  /r/teslamotors/comments/db1ttt/getting_ready_f...    NaN   \n\n       score stickied subreddit_id  \n6          3      NaN     t5_2y1ho  \n34         3      NaN     t5_2y1ho  \n70         2      NaN     t5_2y1ho  \n92         2      NaN     t5_2y1ho  \n105        3      NaN     t5_2y1ho  \n...      ...      ...          ...  \n11657      1      NaN     t5_2s3j5  \n11677      3      NaN     t5_2s3j5  \n11703      1      NaN     t5_2s3j5  \n11713      1      NaN     t5_2s3j5  \n11733      1      NaN     t5_2s3j5  \n\n[1532 rows x 14 columns]",
      "text/html": "<div>\n<style scoped>\n    .dataframe tbody tr th:only-of-type {\n        vertical-align: middle;\n    }\n\n    .dataframe tbody tr th {\n        vertical-align: top;\n    }\n\n    .dataframe thead th {\n        text-align: right;\n    }\n</style>\n<table border=\"1\" class=\"dataframe\">\n  <thead>\n    <tr style=\"text-align: right;\">\n      <th></th>\n      <th>body</th>\n      <th>body_html</th>\n      <th>created_utc</th>\n      <th>distinguished</th>\n      <th>edited</th>\n      <th>id</th>\n      <th>is_submitter</th>\n      <th>link_id</th>\n      <th>parent_id</th>\n      <th>permalink</th>\n      <th>saved</th>\n      <th>score</th>\n      <th>stickied</th>\n      <th>subreddit_id</th>\n    </tr>\n  </thead>\n  <tbody>\n    <tr>\n      <th>6</th>\n      <td>Congrats</td>\n      <td>&lt;div class=\"md\"&gt;&lt;p&gt;Congrats&lt;/p&gt;\\n&lt;/div&gt;</td>\n      <td>1.648558e+09</td>\n      <td>NaN</td>\n      <td>NaN</td>\n      <td>i2k2yt1</td>\n      <td>NaN</td>\n      <td>t3_tqghan</td>\n      <td>t3_tqghan</td>\n      <td>/r/BMWi3/comments/tqghan/my_reward_for_finally...</td>\n      <td>NaN</td>\n      <td>3</td>\n      <td>NaN</td>\n      <td>t5_2y1ho</td>\n    </tr>\n    <tr>\n      <th>34</th>\n      <td>Congrats!</td>\n      <td>&lt;div class=\"md\"&gt;&lt;p&gt;Congrats!&lt;/p&gt;\\n&lt;/div&gt;</td>\n      <td>1.708648e+09</td>\n      <td>NaN</td>\n      <td>NaN</td>\n      <td>krowqok</td>\n      <td>NaN</td>\n      <td>t3_1axmm77</td>\n      <td>t3_1axmm77</td>\n      <td>/r/BMWi3/comments/1axmm77/100k_miles/krowqok/</td>\n      <td>NaN</td>\n      <td>3</td>\n      <td>NaN</td>\n      <td>t5_2y1ho</td>\n    </tr>\n    <tr>\n      <th>70</th>\n      <td>Congrats!</td>\n      <td>&lt;div class=\"md\"&gt;&lt;p&gt;Congrats!&lt;/p&gt;\\n&lt;/div&gt;</td>\n      <td>1.685016e+09</td>\n      <td>NaN</td>\n      <td>NaN</td>\n      <td>jljyc47</td>\n      <td>NaN</td>\n      <td>t3_13rc663</td>\n      <td>t3_13rc663</td>\n      <td>/r/BMWi3/comments/13rc663/picked_her_up_straig...</td>\n      <td>NaN</td>\n      <td>2</td>\n      <td>NaN</td>\n      <td>t5_2y1ho</td>\n    </tr>\n    <tr>\n      <th>92</th>\n      <td>Beautiful!</td>\n      <td>&lt;div class=\"md\"&gt;&lt;p&gt;Beautiful!&lt;/p&gt;\\n&lt;/div&gt;</td>\n      <td>1.684768e+09</td>\n      <td>NaN</td>\n      <td>NaN</td>\n      <td>jl5xmy6</td>\n      <td>NaN</td>\n      <td>t3_13o1009</td>\n      <td>t3_13o1009</td>\n      <td>/r/BMWi3/comments/13o1009/picked_up_this_littl...</td>\n      <td>NaN</td>\n      <td>2</td>\n      <td>NaN</td>\n      <td>t5_2y1ho</td>\n    </tr>\n    <tr>\n      <th>105</th>\n      <td>Looks great!</td>\n      <td>&lt;div class=\"md\"&gt;&lt;p&gt;Looks great!&lt;/p&gt;\\n&lt;/div&gt;</td>\n      <td>1.696521e+09</td>\n      <td>NaN</td>\n      <td>NaN</td>\n      <td>k3l86qm</td>\n      <td>NaN</td>\n      <td>t3_170lc98</td>\n      <td>t3_170lc98</td>\n      <td>/r/BMWi3/comments/170lc98/pulled_the_ev_trigge...</td>\n      <td>NaN</td>\n      <td>3</td>\n      <td>NaN</td>\n      <td>t5_2y1ho</td>\n    </tr>\n    <tr>\n      <th>...</th>\n      <td>...</td>\n      <td>...</td>\n      <td>...</td>\n      <td>...</td>\n      <td>...</td>\n      <td>...</td>\n      <td>...</td>\n      <td>...</td>\n      <td>...</td>\n      <td>...</td>\n      <td>...</td>\n      <td>...</td>\n      <td>...</td>\n      <td>...</td>\n    </tr>\n    <tr>\n      <th>11657</th>\n      <td>HAHAHAHA</td>\n      <td>&lt;div class=\"md\"&gt;&lt;p&gt;HAHAHAHA&lt;/p&gt;\\n&lt;/div&gt;</td>\n      <td>1.565487e+09</td>\n      <td>NaN</td>\n      <td>NaN</td>\n      <td>ewkkc38</td>\n      <td>NaN</td>\n      <td>t3_cntie5</td>\n      <td>t3_cntie5</td>\n      <td>/r/teslamotors/comments/cntie5/when_youre_turn...</td>\n      <td>NaN</td>\n      <td>1</td>\n      <td>NaN</td>\n      <td>t5_2s3j5</td>\n    </tr>\n    <tr>\n      <th>11677</th>\n      <td>Amazing</td>\n      <td>&lt;div class=\"md\"&gt;&lt;p&gt;Amazing&lt;/p&gt;\\n&lt;/div&gt;</td>\n      <td>1.569808e+09</td>\n      <td>NaN</td>\n      <td>NaN</td>\n      <td>f1y1r70</td>\n      <td>NaN</td>\n      <td>t3_db1ttt</td>\n      <td>t3_db1ttt</td>\n      <td>/r/teslamotors/comments/db1ttt/getting_ready_f...</td>\n      <td>NaN</td>\n      <td>3</td>\n      <td>NaN</td>\n      <td>t5_2s3j5</td>\n    </tr>\n    <tr>\n      <th>11703</th>\n      <td>This is hilarious</td>\n      <td>&lt;div class=\"md\"&gt;&lt;p&gt;This is hilarious&lt;/p&gt;\\n&lt;/div&gt;</td>\n      <td>1.569819e+09</td>\n      <td>NaN</td>\n      <td>NaN</td>\n      <td>f1ylkcu</td>\n      <td>NaN</td>\n      <td>t3_db1ttt</td>\n      <td>t3_db1ttt</td>\n      <td>/r/teslamotors/comments/db1ttt/getting_ready_f...</td>\n      <td>NaN</td>\n      <td>1</td>\n      <td>NaN</td>\n      <td>t5_2s3j5</td>\n    </tr>\n    <tr>\n      <th>11713</th>\n      <td>Lel</td>\n      <td>&lt;div class=\"md\"&gt;&lt;p&gt;Lel&lt;/p&gt;\\n&lt;/div&gt;</td>\n      <td>1.569838e+09</td>\n      <td>NaN</td>\n      <td>NaN</td>\n      <td>f1z7te8</td>\n      <td>NaN</td>\n      <td>t3_db1ttt</td>\n      <td>t3_db1ttt</td>\n      <td>/r/teslamotors/comments/db1ttt/getting_ready_f...</td>\n      <td>NaN</td>\n      <td>1</td>\n      <td>NaN</td>\n      <td>t5_2s3j5</td>\n    </tr>\n    <tr>\n      <th>11733</th>\n      <td>Excellent</td>\n      <td>&lt;div class=\"md\"&gt;&lt;p&gt;Excellent&lt;/p&gt;\\n&lt;/div&gt;</td>\n      <td>1.569798e+09</td>\n      <td>NaN</td>\n      <td>NaN</td>\n      <td>f1xfaja</td>\n      <td>NaN</td>\n      <td>t3_db1ttt</td>\n      <td>t3_db1ttt</td>\n      <td>/r/teslamotors/comments/db1ttt/getting_ready_f...</td>\n      <td>NaN</td>\n      <td>1</td>\n      <td>NaN</td>\n      <td>t5_2s3j5</td>\n    </tr>\n  </tbody>\n</table>\n<p>1532 rows × 14 columns</p>\n</div>"
     },
     "execution_count": 16,
     "metadata": {},
     "output_type": "execute_result"
    }
   ],
   "source": [
    "comment_main_df[comment_main_df.duplicated(subset=['body'], keep=False)]"
   ],
   "metadata": {
    "collapsed": false,
    "ExecuteTime": {
     "end_time": "2024-03-19T09:52:56.125165Z",
     "start_time": "2024-03-19T09:52:56.099852Z"
    }
   },
   "id": "39714e4056c06180",
   "execution_count": 16
  },
  {
   "cell_type": "markdown",
   "source": [
    "## Save corpus to csv"
   ],
   "metadata": {
    "collapsed": false
   },
   "id": "3a5d8a55d1c20319"
  },
  {
   "cell_type": "code",
   "outputs": [],
   "source": [
    "with open(f'{os.path.join(data_dir, \"all-posts.csv\")}', 'w', newline='', encoding='utf-8') as f:\n",
    "    post_main_df.to_csv(f, index=False)\n",
    "    \n",
    "with open(f'{os.path.join(data_dir, \"all-comments.csv\")}', 'w', newline='', encoding='utf-8') as f:\n",
    "    comment_main_df.to_csv(f, index=False)"
   ],
   "metadata": {
    "collapsed": false,
    "ExecuteTime": {
     "end_time": "2024-03-19T09:02:34.404042Z",
     "start_time": "2024-03-19T09:02:33.699211Z"
    }
   },
   "id": "a43feaaeafff96a0",
   "execution_count": 11
  }
 ],
 "metadata": {
  "kernelspec": {
   "display_name": "Python 3 (ipykernel)",
   "language": "python",
   "name": "python3"
  },
  "language_info": {
   "codemirror_mode": {
    "name": "ipython",
    "version": 3
   },
   "file_extension": ".py",
   "mimetype": "text/x-python",
   "name": "python",
   "nbconvert_exporter": "python",
   "pygments_lexer": "ipython3",
   "version": "3.12.2"
  }
 },
 "nbformat": 4,
 "nbformat_minor": 5
}
